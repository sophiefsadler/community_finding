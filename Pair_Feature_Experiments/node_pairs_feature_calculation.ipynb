{
 "cells": [
  {
   "cell_type": "code",
   "execution_count": 2,
   "metadata": {},
   "outputs": [],
   "source": [
    "import numpy as np\n",
    "import networkx as nx\n",
    "import yaml\n",
    "import pandas as pd"
   ]
  },
  {
   "cell_type": "code",
   "execution_count": 7,
   "metadata": {},
   "outputs": [],
   "source": [
    "'''\n",
    "Load pandas dataframes of individual node metrics\n",
    "'''\n",
    "\n",
    "train_nodes = pd.read_csv('../node_x_train.csv', index_col=0)\n",
    "test_nodes = pd.read_csv('../node_x_test.csv', index_col=0)\n",
    "\n",
    "nodes = pd.concat([train_nodes, test_nodes])"
   ]
  },
  {
   "cell_type": "code",
   "execution_count": 23,
   "metadata": {},
   "outputs": [],
   "source": [
    "'''\n",
    "Create dictionary of node pairs with metrics from both individual nodes\n",
    "'''\n",
    "metrics_list = [metric + '_A' for metric in list(nodes.columns)] + [metric + '_B' for metric in list(nodes.columns)]\n",
    "\n",
    "node_pair_metrics = {metric: {} for metric in metrics_list}\n",
    "\n",
    "for mu in [1,2,3,4]:\n",
    "    for g_num in [1,2,3,4,5]:\n",
    "        for node1 in range(200):\n",
    "            for node2 in range(node1 + 1, 200):\n",
    "                node_1_values = np.array(nodes.loc['graph_{0}_{1}_node_{2}'.format(mu, g_num, node1)])\n",
    "                node_2_values = np.array(nodes.loc['graph_{0}_{1}_node_{2}'.format(mu, g_num, node2)])\n",
    "                pair_values = np.concatenate([node_1_values, node_2_values])\n",
    "                pair_name = 'graph_{0}_{1}_nodes_{2}_{3}'.format(mu, g_num, node1, node2)\n",
    "                for i, metric in enumerate(metrics_list):\n",
    "                    node_pair_metrics[metric][pair_name] = pair_values[i]"
   ]
  },
  {
   "cell_type": "code",
   "execution_count": 35,
   "metadata": {},
   "outputs": [],
   "source": [
    "'''\n",
    "Convert the dictionary to our new node pairs dataframe\n",
    "'''\n",
    "\n",
    "node_pairs = pd.DataFrame(node_pair_metrics)"
   ]
  },
  {
   "cell_type": "code",
   "execution_count": 84,
   "metadata": {},
   "outputs": [],
   "source": [
    "def calc_path_deg_metrics(G, shortest_path, pair_name, new_metrics):\n",
    "    degrees_on_shortest_path = list(dict(G.degree(shortest_path)).values())\n",
    "    new_metrics['Mean Deg. on Path'][pair_name] = np.mean(degrees_on_shortest_path)\n",
    "    new_metrics['Median Deg. on Path'][pair_name] = np.median(degrees_on_shortest_path)\n",
    "    new_metrics['Max Deg. on Path'][pair_name] = np.max(degrees_on_shortest_path)\n",
    "    new_metrics['Min Deg. on Path'][pair_name] = np.min(degrees_on_shortest_path)\n",
    "    new_metrics['Var of Deg. on Path'][pair_name] = np.var(degrees_on_shortest_path)\n",
    "    return new_metrics"
   ]
  },
  {
   "cell_type": "code",
   "execution_count": 86,
   "metadata": {},
   "outputs": [],
   "source": [
    "'''\n",
    "Calculate new metrics that relate to pairs of nodes\n",
    "'''\n",
    "\n",
    "new_metrics = {'Shortest Path Length': {}, 'Triadic Closure': {}, 'Mean Deg. on Path': {}, 'Median Deg. on Path': {}, \n",
    "              'Max Deg. on Path': {}, 'Min Deg. on Path': {}, 'Var of Deg. on Path': {}}\n",
    "\n",
    "for mu in [1,2,3,4]:\n",
    "    for g_num in [1,2,3,4,5]:\n",
    "        graph_yml = '../lfr_graphs/mu_0_{0}/graph_0{1}/graph_0{1}_mu_0_{0}.yml'.format(mu, g_num)\n",
    "        with open(graph_yml) as f:\n",
    "            graph_info = yaml.load(f, Loader=yaml.Loader)\n",
    "        G = graph_info['G']\n",
    "        paths = nx.shortest_path(G)\n",
    "        for node1 in range(200):\n",
    "            for node2 in range(node1 + 1, 200):\n",
    "                pair_name = 'graph_{0}_{1}_nodes_{2}_{3}'.format(mu, g_num, node1, node2)\n",
    "                shortest_path = paths[node1][node2]\n",
    "                path_len = len(shortest_path) - 1\n",
    "                new_metrics['Shortest Path Length'][pair_name] = path_len\n",
    "                if path_len == 1:\n",
    "                    new_metrics['Triadic Closure'][pair_name] = len(sorted(nx.common_neighbors(G, node1, node2)))\n",
    "                else:\n",
    "                    new_metrics['Triadic Closure'][pair_name] = 0\n",
    "                new_metrics = calc_path_deg_metrics(G, shortest_path, pair_name, new_metrics)"
   ]
  },
  {
   "cell_type": "code",
   "execution_count": 88,
   "metadata": {},
   "outputs": [],
   "source": [
    "pair_metrics = pd.DataFrame(new_metrics)"
   ]
  },
  {
   "cell_type": "code",
   "execution_count": 96,
   "metadata": {},
   "outputs": [],
   "source": [
    "'''\n",
    "Combine the individual metrics with the pair metrics\n",
    "'''\n",
    "\n",
    "node_pairs_df = pd.concat([node_pairs, pair_metrics], axis=1)"
   ]
  },
  {
   "cell_type": "code",
   "execution_count": 98,
   "metadata": {},
   "outputs": [],
   "source": [
    "'''\n",
    "Temporarily save the whole dataframe as we do not yet have classification labels\n",
    "'''\n",
    "\n",
    "node_pairs_df.to_csv('../node_pairs_x.csv')"
   ]
  }
 ],
 "metadata": {
  "kernelspec": {
   "display_name": "Python 3",
   "language": "python",
   "name": "python3"
  },
  "language_info": {
   "codemirror_mode": {
    "name": "ipython",
    "version": 3
   },
   "file_extension": ".py",
   "mimetype": "text/x-python",
   "name": "python",
   "nbconvert_exporter": "python",
   "pygments_lexer": "ipython3",
   "version": "3.6.9"
  }
 },
 "nbformat": 4,
 "nbformat_minor": 2
}
