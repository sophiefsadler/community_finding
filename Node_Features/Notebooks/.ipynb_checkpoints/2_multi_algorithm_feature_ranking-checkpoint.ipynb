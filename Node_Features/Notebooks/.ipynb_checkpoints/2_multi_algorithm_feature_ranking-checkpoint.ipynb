{
 "cells": [
  {
   "cell_type": "markdown",
   "metadata": {},
   "source": [
    "# Node Feature Ranking\n",
    "\n",
    "Taking all nodes from all graphs (across all mu levels), we split nodes into \"stable\" (entropy < 0.0195) and \"unstable\" (entropy >= 0.0195) and use a random forest to determine which node features are most important in the associated binary classification task. For this v3 notebook, we do this for multiple community finding algorithms."
   ]
  },
  {
   "cell_type": "code",
   "execution_count": 30,
   "metadata": {},
   "outputs": [],
   "source": [
    "import os\n",
    "import yaml\n",
    "import numpy as np\n",
    "import matplotlib.pyplot as plt\n",
    "import pandas as pd\n",
    "%matplotlib inline"
   ]
  },
  {
   "cell_type": "markdown",
   "metadata": {},
   "source": [
    "### Louvain Experiment\n",
    "\n",
    "First, we will run the same experiment we've run before with Louvain data. The only difference is the addition of the eigenvector centrality."
   ]
  },
  {
   "cell_type": "code",
   "execution_count": 40,
   "metadata": {},
   "outputs": [],
   "source": [
    "X_train = pd.read_csv('../Louvain_Data/node_x_train.csv', index_col=0)\n",
    "y_train = pd.read_csv('../Louvain_Data/node_y_train.csv', index_col=0)"
   ]
  },
  {
   "cell_type": "markdown",
   "metadata": {},
   "source": [
    "### Feature ranking with random forest\n",
    "\n",
    "Now we're going to perform the node feature ranking using a random forest. During training, we will use a stratified k-fold cross-validation scheme."
   ]
  },
  {
   "cell_type": "code",
   "execution_count": 33,
   "metadata": {},
   "outputs": [],
   "source": [
    "runs = 100"
   ]
  },
  {
   "cell_type": "code",
   "execution_count": 41,
   "metadata": {},
   "outputs": [],
   "source": [
    "feature_list = list(X_train.columns)\n",
    "data = np.array(X_train)\n",
    "labels = np.squeeze(np.array(y_train))"
   ]
  },
  {
   "cell_type": "code",
   "execution_count": 42,
   "metadata": {},
   "outputs": [],
   "source": [
    "from sklearn.model_selection import StratifiedKFold\n",
    "from sklearn.ensemble import RandomForestClassifier\n",
    "from sklearn import metrics\n",
    "\n",
    "accuracy_scores = []\n",
    "feature_importances = {}\n",
    "for f in feature_list:\n",
    "    feature_importances[f] = []\n",
    "rows = []\n",
    "\n",
    "skf = StratifiedKFold(n_splits=5)\n",
    "rf = RandomForestClassifier()\n",
    "\n",
    "fold_count = 0\n",
    "\n",
    "for run in range(1, runs+1):\n",
    "    \n",
    "    for i in range(5):\n",
    "        \n",
    "        fold_count += 1\n",
    "        \n",
    "        folds = next(skf.split(data, labels), None)\n",
    "        \n",
    "        X_train_fold = data[folds[0], :]\n",
    "        X_val_fold = data[folds[1], :]\n",
    "        y_train_fold = labels[folds[0]]\n",
    "        y_val_fold = labels[folds[1]]\n",
    "        \n",
    "        model = rf.fit(X_train_fold, y_train_fold)\n",
    "        predictions = rf.predict(X_val_fold)\n",
    "    \n",
    "        accuracy_scores.append(metrics.accuracy_score(y_val_fold, predictions))\n",
    "\n",
    "        row = { \"run\" : fold_count }\n",
    "        for j, feature in enumerate(feature_list):\n",
    "            row[feature] = rf.feature_importances_[j]\n",
    "        rows.append(row)"
   ]
  },
  {
   "cell_type": "markdown",
   "metadata": {},
   "source": [
    "### Check accuracy scores\n",
    "\n",
    "Let's have a look at the accuracy scores to make sure the model is working."
   ]
  },
  {
   "cell_type": "code",
   "execution_count": 43,
   "metadata": {},
   "outputs": [
    {
     "name": "stdout",
     "output_type": "stream",
     "text": [
      "[0.9046875, 0.9109375, 0.903125, 0.9078125, 0.90625, 0.9125, 0.9140625, 0.9078125, 0.9140625, 0.9109375, 0.909375, 0.90625, 0.9109375, 0.9140625, 0.915625, 0.909375, 0.9140625, 0.90625, 0.909375, 0.9078125, 0.903125, 0.903125, 0.90625, 0.9125, 0.9109375, 0.90625, 0.909375, 0.909375, 0.9015625, 0.9046875, 0.909375, 0.9078125, 0.9046875, 0.9140625, 0.909375, 0.9078125, 0.903125, 0.909375, 0.9015625, 0.9046875, 0.9078125, 0.9078125, 0.9140625, 0.9046875, 0.9125, 0.90625, 0.903125, 0.9109375, 0.90625, 0.9125, 0.9140625, 0.90625, 0.9109375, 0.903125, 0.909375, 0.90625, 0.9078125, 0.90625, 0.915625, 0.9046875, 0.9109375, 0.9078125, 0.9140625, 0.9109375, 0.9078125, 0.90625, 0.909375, 0.9078125, 0.90625, 0.9125, 0.9078125, 0.9109375, 0.9078125, 0.9109375, 0.9140625, 0.9078125, 0.9109375, 0.9078125, 0.915625, 0.9109375, 0.9078125, 0.909375, 0.9046875, 0.9125, 0.90625, 0.9046875, 0.915625, 0.9109375, 0.915625, 0.915625, 0.9109375, 0.9078125, 0.9046875, 0.9046875, 0.909375, 0.90625, 0.9140625, 0.9140625, 0.909375, 0.90625, 0.909375, 0.915625, 0.903125, 0.90625, 0.9078125, 0.9125, 0.9109375, 0.909375, 0.9078125, 0.909375, 0.90625, 0.9078125, 0.9125, 0.9078125, 0.9109375, 0.903125, 0.903125, 0.909375, 0.903125, 0.9109375, 0.903125, 0.9046875, 0.9015625, 0.9125, 0.909375, 0.9078125, 0.8984375, 0.9, 0.9109375, 0.8984375, 0.9125, 0.9125, 0.90625, 0.9109375, 0.9140625, 0.90625, 0.9046875, 0.909375, 0.909375, 0.9046875, 0.9140625, 0.903125, 0.9109375, 0.9109375, 0.903125, 0.9109375, 0.90625, 0.90625, 0.9078125, 0.9046875, 0.9078125, 0.9046875, 0.9046875, 0.903125, 0.9046875, 0.909375, 0.90625, 0.9078125, 0.90625, 0.90625, 0.9109375, 0.909375, 0.915625, 0.90625, 0.9109375, 0.909375, 0.9015625, 0.909375, 0.90625, 0.9046875, 0.90625, 0.909375, 0.903125, 0.90625, 0.9078125, 0.903125, 0.903125, 0.90625, 0.909375, 0.9125, 0.9109375, 0.9, 0.915625, 0.9078125, 0.903125, 0.9140625, 0.909375, 0.9078125, 0.909375, 0.9, 0.9109375, 0.9125, 0.903125, 0.9078125, 0.909375, 0.90625, 0.915625, 0.903125, 0.9140625, 0.90625, 0.909375, 0.903125, 0.9078125, 0.9109375, 0.9140625, 0.9171875, 0.909375, 0.9109375, 0.90625, 0.9, 0.9125, 0.9140625, 0.9078125, 0.9140625, 0.909375, 0.903125, 0.90625, 0.90625, 0.9046875, 0.9109375, 0.9078125, 0.90625, 0.9078125, 0.909375, 0.909375, 0.90625, 0.8984375, 0.909375, 0.90625, 0.90625, 0.909375, 0.9109375, 0.9015625, 0.9015625, 0.909375, 0.9109375, 0.909375, 0.909375, 0.9078125, 0.9046875, 0.909375, 0.909375, 0.909375, 0.90625, 0.90625, 0.9015625, 0.9109375, 0.9078125, 0.9109375, 0.9078125, 0.909375, 0.9078125, 0.9140625, 0.90625, 0.9109375, 0.9125, 0.9078125, 0.909375, 0.90625, 0.903125, 0.9078125, 0.9109375, 0.9078125, 0.909375, 0.9015625, 0.9109375, 0.909375, 0.9078125, 0.9125, 0.915625, 0.9078125, 0.9140625, 0.903125, 0.9046875, 0.90625, 0.9015625, 0.9078125, 0.9109375, 0.915625, 0.9109375, 0.909375, 0.9015625, 0.90625, 0.9078125, 0.909375, 0.909375, 0.9046875, 0.909375, 0.9171875, 0.90625, 0.9078125, 0.9109375, 0.9109375, 0.9140625, 0.9109375, 0.9125, 0.9078125, 0.9078125, 0.9078125, 0.915625, 0.9109375, 0.909375, 0.909375, 0.9015625, 0.9125, 0.9109375, 0.9078125, 0.9046875, 0.909375, 0.903125, 0.9046875, 0.9109375, 0.909375, 0.9046875, 0.90625, 0.9109375, 0.90625, 0.9171875, 0.9078125, 0.9046875, 0.9046875, 0.9125, 0.9125, 0.9109375, 0.903125, 0.903125, 0.909375, 0.9140625, 0.9140625, 0.903125, 0.9078125, 0.909375, 0.909375, 0.9046875, 0.9, 0.90625, 0.9078125, 0.90625, 0.903125, 0.9078125, 0.9140625, 0.9125, 0.9015625, 0.90625, 0.90625, 0.8984375, 0.909375, 0.9125, 0.9078125, 0.903125, 0.90625, 0.909375, 0.9125, 0.9, 0.909375, 0.90625, 0.9078125, 0.90625, 0.9125, 0.90625, 0.9125, 0.909375, 0.915625, 0.9109375, 0.9125, 0.9078125, 0.9046875, 0.9140625, 0.90625, 0.9015625, 0.9015625, 0.9203125, 0.909375, 0.90625, 0.9125, 0.9078125, 0.9140625, 0.9109375, 0.9109375, 0.9015625, 0.909375, 0.9078125, 0.9109375, 0.9109375, 0.9015625, 0.9203125, 0.9109375, 0.90625, 0.9046875, 0.9078125, 0.90625, 0.9046875, 0.9140625, 0.909375, 0.9078125, 0.896875, 0.9125, 0.909375, 0.9046875, 0.90625, 0.90625, 0.9078125, 0.8984375, 0.9078125, 0.9046875, 0.9046875, 0.90625, 0.9140625, 0.9078125, 0.9171875, 0.90625, 0.9046875, 0.90625, 0.9125, 0.903125, 0.9125, 0.9078125, 0.9140625, 0.909375, 0.909375, 0.9046875, 0.9046875, 0.9015625, 0.8984375, 0.9078125, 0.9015625, 0.9078125, 0.9046875, 0.9078125, 0.90625, 0.90625, 0.9109375, 0.909375, 0.9109375, 0.9046875, 0.9109375, 0.90625, 0.90625, 0.9140625, 0.90625, 0.9109375, 0.9125, 0.909375, 0.9109375, 0.90625, 0.9046875, 0.90625, 0.909375, 0.9140625, 0.9078125, 0.9078125, 0.909375, 0.909375, 0.9109375, 0.9109375, 0.903125, 0.9109375, 0.90625, 0.9046875, 0.9046875, 0.9125, 0.90625, 0.9140625, 0.909375, 0.9140625, 0.909375, 0.90625, 0.9046875, 0.9046875, 0.915625, 0.903125, 0.909375, 0.896875, 0.909375, 0.90625, 0.9046875, 0.90625, 0.9140625, 0.909375, 0.9015625, 0.9078125, 0.90625, 0.9125, 0.9046875, 0.909375, 0.9140625, 0.9078125, 0.9125, 0.915625, 0.9078125, 0.9015625, 0.90625, 0.90625, 0.9109375, 0.903125, 0.9125, 0.9078125, 0.915625, 0.9078125, 0.9046875]\n",
      "~~~~~~~~~~~~~~~~~~~~~\n",
      "0.908234375\n"
     ]
    }
   ],
   "source": [
    "print(accuracy_scores)\n",
    "print('~~~~~~~~~~~~~~~~~~~~~')\n",
    "print(np.mean(accuracy_scores))"
   ]
  },
  {
   "cell_type": "markdown",
   "metadata": {},
   "source": [
    "### Feature ranking\n",
    "\n",
    "From the accuracy scores, we can see that the model is definitely learning something, so now let's rank the features."
   ]
  },
  {
   "cell_type": "code",
   "execution_count": 44,
   "metadata": {},
   "outputs": [],
   "source": [
    "df_importances = pd.DataFrame(rows).set_index(\"run\")"
   ]
  },
  {
   "cell_type": "code",
   "execution_count": 45,
   "metadata": {},
   "outputs": [],
   "source": [
    "feature_ranking = df_importances.mean().sort_values(ascending=False)"
   ]
  },
  {
   "cell_type": "code",
   "execution_count": 46,
   "metadata": {},
   "outputs": [
    {
     "data": {
      "image/png": "[encoded data removed]",
      "text/plain": [
       "<Figure size 648x432 with 1 Axes>"
      ]
     },
     "metadata": {
      "needs_background": "light"
     },
     "output_type": "display_data"
    }
   ],
   "source": [
    "ax = feature_ranking[::-1].plot.barh( fontsize=13, figsize=(9,6), color=\"pink\", zorder=3 );\n",
    "ax.set_xlabel(\"Mean Feature Importance\", fontsize=13);\n",
    "ax.xaxis.grid();"
   ]
  },
  {
   "cell_type": "markdown",
   "metadata": {},
   "source": [
    "### Infomap data\n",
    "\n",
    "Now we run the same experiment using Infomap data, which has not been done before."
   ]
  },
  {
   "cell_type": "code",
   "execution_count": 10,
   "metadata": {},
   "outputs": [],
   "source": [
    "X_train = pd.read_csv('../Infomap_Data/node_x_train.csv', index_col=0)\n",
    "y_train = pd.read_csv('../Infomap_Data/node_y_train.csv', index_col=0)"
   ]
  },
  {
   "cell_type": "markdown",
   "metadata": {},
   "source": [
    "### Feature ranking with random forest\n",
    "\n",
    "Now we're going to perform the node feature ranking using a random forest. During training, we will use a stratified k-fold cross-validation scheme."
   ]
  },
  {
   "cell_type": "code",
   "execution_count": 11,
   "metadata": {},
   "outputs": [],
   "source": [
    "runs = 100"
   ]
  },
  {
   "cell_type": "code",
   "execution_count": 12,
   "metadata": {},
   "outputs": [],
   "source": [
    "feature_list = list(X_train.columns)\n",
    "data = np.array(X_train)\n",
    "labels = np.squeeze(np.array(y_train))"
   ]
  },
  {
   "cell_type": "code",
   "execution_count": 13,
   "metadata": {},
   "outputs": [],
   "source": [
    "from sklearn.model_selection import StratifiedKFold\n",
    "from sklearn.ensemble import RandomForestClassifier\n",
    "from sklearn import metrics\n",
    "\n",
    "accuracy_scores = []\n",
    "feature_importances = {}\n",
    "for f in feature_list:\n",
    "    feature_importances[f] = []\n",
    "rows = []\n",
    "\n",
    "skf = StratifiedKFold(n_splits=5)\n",
    "rf = RandomForestClassifier()\n",
    "\n",
    "fold_count = 0\n",
    "\n",
    "for run in range(1, runs+1):\n",
    "    \n",
    "    for i in range(5):\n",
    "        \n",
    "        fold_count += 1\n",
    "        \n",
    "        folds = next(skf.split(data, labels), None)\n",
    "        \n",
    "        X_train_fold = data[folds[0], :]\n",
    "        X_val_fold = data[folds[1], :]\n",
    "        y_train_fold = labels[folds[0]]\n",
    "        y_val_fold = labels[folds[1]]\n",
    "        \n",
    "        model = rf.fit(X_train_fold, y_train_fold)\n",
    "        predictions = rf.predict(X_val_fold)\n",
    "    \n",
    "        accuracy_scores.append(metrics.accuracy_score(y_val_fold, predictions))\n",
    "\n",
    "        row = { \"run\" : fold_count }\n",
    "        for j, feature in enumerate(feature_list):\n",
    "            row[feature] = rf.feature_importances_[j]\n",
    "        rows.append(row)"
   ]
  },
  {
   "cell_type": "markdown",
   "metadata": {},
   "source": [
    "### Check accuracy scores\n",
    "\n",
    "Let's have a look at the accuracy scores to make sure the model is working."
   ]
  },
  {
   "cell_type": "code",
   "execution_count": 14,
   "metadata": {},
   "outputs": [
    {
     "name": "stdout",
     "output_type": "stream",
     "text": [
      "[0.9984375, 0.9984375, 0.996875, 0.996875, 0.9984375, 0.9984375, 0.9984375, 0.996875, 0.9984375, 0.9984375, 0.9984375, 0.996875, 0.9984375, 0.9984375, 0.996875, 0.9984375, 0.9984375, 0.9984375, 0.9984375, 0.9984375, 0.9984375, 0.996875, 0.996875, 0.9984375, 0.9984375, 0.9984375, 0.9984375, 0.9984375, 0.9984375, 0.9984375, 0.996875, 0.9984375, 0.996875, 0.9984375, 0.9984375, 0.9984375, 0.9984375, 0.9984375, 0.9984375, 0.9984375, 0.9984375, 0.996875, 0.9984375, 0.996875, 0.9984375, 0.9984375, 0.9984375, 0.9984375, 0.9984375, 0.9984375, 0.9984375, 0.9984375, 0.9984375, 0.9984375, 0.9984375, 0.9984375, 0.9984375, 0.9984375, 0.9984375, 0.996875, 0.9984375, 0.9984375, 0.9984375, 0.9984375, 0.9984375, 0.9984375, 0.9984375, 0.9984375, 0.9984375, 0.9984375, 0.9984375, 0.9984375, 0.9984375, 0.9984375, 0.996875, 0.9984375, 0.9984375, 0.9984375, 0.9984375, 0.996875, 0.9984375, 0.996875, 0.9984375, 0.9984375, 0.996875, 0.9984375, 0.9984375, 0.9984375, 0.9984375, 0.996875, 0.9984375, 0.996875, 0.9984375, 0.9984375, 0.9984375, 0.9984375, 0.9984375, 0.9984375, 0.9984375, 0.9984375, 0.996875, 0.9984375, 0.9984375, 0.9984375, 0.9984375, 0.9984375, 0.996875, 0.9984375, 0.996875, 0.9984375, 0.996875, 0.9984375, 0.9984375, 0.996875, 0.9984375, 0.9984375, 0.9984375, 0.996875, 0.9984375, 0.9984375, 0.9984375, 0.9984375, 0.996875, 0.9984375, 0.9984375, 0.9984375, 0.9984375, 0.9984375, 0.9984375, 0.9984375, 0.996875, 0.9984375, 0.9984375, 0.9984375, 0.9984375, 0.996875, 0.9984375, 0.9984375, 0.9984375, 0.996875, 0.9984375, 0.9984375, 0.9984375, 0.9984375, 0.9984375, 0.9984375, 0.9984375, 0.9984375, 0.9984375, 0.9984375, 0.9984375, 0.9984375, 0.9984375, 0.996875, 0.9984375, 0.9984375, 0.9984375, 0.996875, 0.9984375, 0.9984375, 0.9984375, 0.9984375, 0.9984375, 0.9984375, 0.9984375, 0.9984375, 0.9984375, 0.9984375, 0.9984375, 0.996875, 0.9984375, 0.9984375, 0.9984375, 0.9984375, 0.9984375, 0.9984375, 0.9984375, 0.9984375, 0.9984375, 0.996875, 0.9984375, 0.9984375, 0.9984375, 0.996875, 0.9984375, 0.9984375, 0.9984375, 0.9984375, 0.996875, 0.996875, 0.9984375, 0.9984375, 0.9984375, 0.9984375, 0.996875, 0.9984375, 0.9984375, 0.9984375, 0.9984375, 0.9984375, 0.9984375, 0.996875, 0.9984375, 0.9984375, 0.9984375, 0.9984375, 0.9984375, 0.9984375, 0.9984375, 0.9984375, 0.9984375, 0.9984375, 0.9984375, 0.9984375, 0.9984375, 0.9984375, 0.9984375, 0.9984375, 0.9984375, 0.9984375, 0.9984375, 0.9984375, 0.996875, 0.9984375, 0.9984375, 0.9984375, 0.996875, 0.9984375, 0.9984375, 0.9984375, 0.9984375, 0.9984375, 0.9984375, 0.9984375, 0.9984375, 0.9984375, 0.9984375, 0.9984375, 0.9984375, 0.9984375, 0.9984375, 0.9984375, 0.9984375, 0.9984375, 0.9984375, 0.9984375, 0.9984375, 0.9984375, 0.9984375, 0.9984375, 0.996875, 0.9984375, 0.9984375, 0.996875, 0.996875, 0.9984375, 0.9984375, 0.9984375, 0.9984375, 0.996875, 0.9984375, 0.9984375, 0.9984375, 0.9984375, 0.9984375, 0.996875, 0.996875, 0.9984375, 0.9984375, 0.9984375, 0.9984375, 0.9984375, 0.9984375, 0.9984375, 0.9984375, 0.9984375, 0.9984375, 0.9984375, 0.9984375, 0.9984375, 0.9984375, 0.996875, 0.996875, 0.9984375, 0.9984375, 0.9984375, 0.9984375, 0.9984375, 0.9984375, 0.9984375, 0.9984375, 0.9984375, 0.9984375, 0.9984375, 0.9984375, 0.9984375, 0.9984375, 0.9984375, 0.9984375, 0.9984375, 0.9984375, 0.9984375, 0.9984375, 0.9984375, 0.9984375, 0.9984375, 0.9984375, 0.9984375, 0.9984375, 0.9984375, 0.996875, 0.996875, 0.996875, 0.996875, 0.9984375, 0.9984375, 0.9984375, 0.9984375, 0.9984375, 0.9984375, 0.996875, 0.996875, 0.9984375, 0.9984375, 0.996875, 0.9984375, 0.9984375, 0.9984375, 0.9984375, 0.996875, 0.9984375, 0.9984375, 0.9984375, 0.9984375, 0.9984375, 0.9984375, 0.9984375, 0.9984375, 0.9984375, 0.9984375, 0.9984375, 0.9984375, 0.9984375, 0.9984375, 0.996875, 0.996875, 0.996875, 0.9984375, 0.9984375, 0.9984375, 0.996875, 0.9984375, 0.996875, 0.9984375, 0.9984375, 0.9984375, 0.9984375, 0.9984375, 0.9984375, 0.9984375, 0.9984375, 0.9984375, 0.9984375, 0.9984375, 0.9984375, 0.9984375, 0.9984375, 0.9984375, 0.9984375, 0.9984375, 0.9984375, 0.9984375, 0.9984375, 0.9984375, 0.9984375, 0.9984375, 0.9984375, 0.996875, 0.996875, 0.9984375, 0.9984375, 0.9984375, 0.996875, 0.9984375, 0.9984375, 0.9984375, 0.9984375, 0.9984375, 0.9984375, 0.9984375, 0.996875, 0.9984375, 0.9984375, 0.9984375, 0.9984375, 0.9984375, 0.9984375, 0.9984375, 0.9984375, 0.996875, 0.996875, 0.9984375, 0.9984375, 0.9984375, 0.9984375, 0.9984375, 0.9984375, 0.9984375, 0.9984375, 0.9984375, 0.9984375, 0.996875, 0.996875, 0.9984375, 0.9984375, 0.9984375, 0.9984375, 0.9984375, 0.996875, 0.996875, 0.9984375, 0.9984375, 0.9984375, 0.9984375, 0.9984375, 0.9984375, 0.9984375, 0.9984375, 0.9984375, 0.9984375, 0.996875, 0.9984375, 0.9984375, 0.9984375, 0.9984375, 0.9984375, 0.9984375, 0.9984375, 0.996875, 0.9984375, 0.9984375, 0.9984375, 0.996875, 0.9984375, 0.9984375, 0.9984375, 0.9984375, 0.9984375, 0.9984375, 0.9984375, 0.9984375, 0.9984375, 0.9984375, 0.9984375, 0.9984375, 0.9984375, 0.9984375, 0.9984375, 0.9984375, 0.9984375, 0.9984375, 0.9984375, 0.9984375, 0.996875, 0.996875, 0.9984375, 0.996875, 0.9984375, 0.9984375, 0.996875, 0.9984375, 0.9984375, 0.9984375, 0.9984375, 0.996875, 0.9984375, 0.9984375, 0.9984375, 0.9984375, 0.9984375, 0.9984375, 0.9984375, 0.9984375, 0.9984375, 0.9984375, 0.9984375, 0.996875, 0.9984375, 0.996875, 0.9984375, 0.9984375, 0.9984375, 0.9984375, 0.9984375, 0.996875, 0.9984375, 0.9984375, 0.9984375, 0.996875, 0.9984375]\n",
      "~~~~~~~~~~~~~~~~~~~~~\n",
      "0.9981812499999998\n"
     ]
    }
   ],
   "source": [
    "print(accuracy_scores)\n",
    "print('~~~~~~~~~~~~~~~~~~~~~')\n",
    "print(np.mean(accuracy_scores))"
   ]
  },
  {
   "cell_type": "markdown",
   "metadata": {},
   "source": [
    "### Feature ranking\n",
    "\n",
    "From the accuracy scores, we can see that the model is definitely learning something, so now let's rank the features."
   ]
  },
  {
   "cell_type": "code",
   "execution_count": 15,
   "metadata": {},
   "outputs": [],
   "source": [
    "df_importances = pd.DataFrame(rows).set_index(\"run\")"
   ]
  },
  {
   "cell_type": "code",
   "execution_count": 16,
   "metadata": {},
   "outputs": [],
   "source": [
    "feature_ranking = df_importances.mean().sort_values(ascending=False)"
   ]
  },
  {
   "cell_type": "code",
   "execution_count": 18,
   "metadata": {
    "scrolled": true
   },
   "outputs": [
    {
     "data": {
      "image/png": "[encoded data removed]",
      "text/plain": [
       "<Figure size 648x432 with 1 Axes>"
      ]
     },
     "metadata": {
      "needs_background": "light"
     },
     "output_type": "display_data"
    }
   ],
   "source": [
    "ax = feature_ranking[::-1].plot.barh( fontsize=13, figsize=(9,6), color=\"purple\", zorder=3 );\n",
    "ax.set_xlabel(\"Mean Feature Importance\", fontsize=13);\n",
    "ax.xaxis.grid();"
   ]
  },
  {
   "cell_type": "markdown",
   "metadata": {},
   "source": [
    "### Girvan-Newman data\n",
    "\n",
    "Now we run the same experiment using Girvan-Newman data, which has not been done before."
   ]
  },
  {
   "cell_type": "code",
   "execution_count": 19,
   "metadata": {},
   "outputs": [],
   "source": [
    "X_train = pd.read_csv('../GN_Data/node_x_train.csv', index_col=0)\n",
    "y_train = pd.read_csv('../GN_Data/node_y_train.csv', index_col=0)"
   ]
  },
  {
   "cell_type": "markdown",
   "metadata": {},
   "source": [
    "### Feature ranking with random forest\n",
    "\n",
    "Now we're going to perform the node feature ranking using a random forest. During training, we will use a stratified k-fold cross-validation scheme."
   ]
  },
  {
   "cell_type": "code",
   "execution_count": 20,
   "metadata": {},
   "outputs": [],
   "source": [
    "runs = 100"
   ]
  },
  {
   "cell_type": "code",
   "execution_count": 21,
   "metadata": {},
   "outputs": [],
   "source": [
    "feature_list = list(X_train.columns)\n",
    "data = np.array(X_train)\n",
    "labels = np.squeeze(np.array(y_train))"
   ]
  },
  {
   "cell_type": "code",
   "execution_count": 22,
   "metadata": {},
   "outputs": [],
   "source": [
    "from sklearn.model_selection import StratifiedKFold\n",
    "from sklearn.ensemble import RandomForestClassifier\n",
    "from sklearn import metrics\n",
    "\n",
    "accuracy_scores = []\n",
    "feature_importances = {}\n",
    "for f in feature_list:\n",
    "    feature_importances[f] = []\n",
    "rows = []\n",
    "\n",
    "skf = StratifiedKFold(n_splits=5)\n",
    "rf = RandomForestClassifier()\n",
    "\n",
    "fold_count = 0\n",
    "\n",
    "for run in range(1, runs+1):\n",
    "    \n",
    "    for i in range(5):\n",
    "        \n",
    "        fold_count += 1\n",
    "        \n",
    "        folds = next(skf.split(data, labels), None)\n",
    "        \n",
    "        X_train_fold = data[folds[0], :]\n",
    "        X_val_fold = data[folds[1], :]\n",
    "        y_train_fold = labels[folds[0]]\n",
    "        y_val_fold = labels[folds[1]]\n",
    "        \n",
    "        model = rf.fit(X_train_fold, y_train_fold)\n",
    "        predictions = rf.predict(X_val_fold)\n",
    "    \n",
    "        accuracy_scores.append(metrics.accuracy_score(y_val_fold, predictions))\n",
    "\n",
    "        row = { \"run\" : fold_count }\n",
    "        for j, feature in enumerate(feature_list):\n",
    "            row[feature] = rf.feature_importances_[j]\n",
    "        rows.append(row)"
   ]
  },
  {
   "cell_type": "markdown",
   "metadata": {},
   "source": [
    "### Check accuracy scores\n",
    "\n",
    "Let's have a look at the accuracy scores to make sure the model is working."
   ]
  },
  {
   "cell_type": "code",
   "execution_count": 23,
   "metadata": {},
   "outputs": [
    {
     "name": "stdout",
     "output_type": "stream",
     "text": [
      "[0.996875, 0.996875, 0.996875, 0.9953125, 0.996875, 0.996875, 0.996875, 0.996875, 0.996875, 0.996875, 0.996875, 0.996875, 0.996875, 0.996875, 0.996875, 0.996875, 0.996875, 0.996875, 0.9953125, 0.9953125, 0.996875, 0.996875, 0.9953125, 0.99375, 0.996875, 0.996875, 0.996875, 0.9953125, 0.996875, 0.996875, 0.996875, 0.9953125, 0.9953125, 0.996875, 0.996875, 0.996875, 0.996875, 0.996875, 0.996875, 0.996875, 0.996875, 0.996875, 0.996875, 0.996875, 0.996875, 0.996875, 0.996875, 0.996875, 0.996875, 0.996875, 0.9953125, 0.996875, 0.996875, 0.996875, 0.996875, 0.996875, 0.996875, 0.996875, 0.9953125, 0.996875, 0.996875, 0.996875, 0.996875, 0.996875, 0.9953125, 0.996875, 0.996875, 0.996875, 0.996875, 0.996875, 0.996875, 0.996875, 0.9953125, 0.996875, 0.9953125, 0.996875, 0.996875, 0.996875, 0.996875, 0.996875, 0.9953125, 0.996875, 0.996875, 0.996875, 0.996875, 0.996875, 0.996875, 0.996875, 0.996875, 0.996875, 0.996875, 0.996875, 0.996875, 0.996875, 0.996875, 0.9953125, 0.996875, 0.9953125, 0.996875, 0.99375, 0.996875, 0.996875, 0.9953125, 0.996875, 0.9953125, 0.996875, 0.996875, 0.99375, 0.996875, 0.996875, 0.996875, 0.996875, 0.9953125, 0.996875, 0.9953125, 0.996875, 0.996875, 0.9953125, 0.996875, 0.996875, 0.996875, 0.996875, 0.996875, 0.996875, 0.9953125, 0.996875, 0.9953125, 0.996875, 0.996875, 0.996875, 0.996875, 0.996875, 0.996875, 0.996875, 0.996875, 0.996875, 0.996875, 0.996875, 0.996875, 0.99375, 0.996875, 0.996875, 0.996875, 0.996875, 0.996875, 0.996875, 0.9953125, 0.996875, 0.996875, 0.996875, 0.996875, 0.996875, 0.996875, 0.996875, 0.996875, 0.996875, 0.996875, 0.996875, 0.996875, 0.996875, 0.9953125, 0.996875, 0.996875, 0.9953125, 0.9953125, 0.9953125, 0.9953125, 0.9953125, 0.996875, 0.9953125, 0.996875, 0.996875, 0.9953125, 0.9953125, 0.996875, 0.996875, 0.99375, 0.9953125, 0.9953125, 0.9953125, 0.9953125, 0.9953125, 0.996875, 0.9953125, 0.9953125, 0.996875, 0.996875, 0.996875, 0.99375, 0.9953125, 0.9953125, 0.996875, 0.996875, 0.99375, 0.996875, 0.996875, 0.996875, 0.996875, 0.996875, 0.996875, 0.996875, 0.9953125, 0.9953125, 0.996875, 0.996875, 0.996875, 0.996875, 0.9953125, 0.996875, 0.996875, 0.996875, 0.996875, 0.996875, 0.9953125, 0.996875, 0.996875, 0.9953125, 0.996875, 0.996875, 0.996875, 0.996875, 0.9953125, 0.996875, 0.996875, 0.996875, 0.996875, 0.9953125, 0.996875, 0.996875, 0.996875, 0.996875, 0.996875, 0.996875, 0.996875, 0.996875, 0.996875, 0.996875, 0.996875, 0.996875, 0.9953125, 0.996875, 0.9953125, 0.9953125, 0.996875, 0.996875, 0.996875, 0.996875, 0.996875, 0.996875, 0.996875, 0.996875, 0.996875, 0.996875, 0.996875, 0.996875, 0.996875, 0.996875, 0.996875, 0.996875, 0.996875, 0.9953125, 0.996875, 0.996875, 0.996875, 0.996875, 0.996875, 0.996875, 0.996875, 0.9953125, 0.996875, 0.996875, 0.9953125, 0.9953125, 0.996875, 0.9953125, 0.996875, 0.996875, 0.996875, 0.996875, 0.996875, 0.9984375, 0.996875, 0.9953125, 0.996875, 0.996875, 0.996875, 0.996875, 0.996875, 0.9953125, 0.996875, 0.996875, 0.996875, 0.996875, 0.9953125, 0.996875, 0.996875, 0.9953125, 0.9953125, 0.996875, 0.996875, 0.996875, 0.996875, 0.996875, 0.996875, 0.996875, 0.996875, 0.996875, 0.996875, 0.9953125, 0.996875, 0.996875, 0.996875, 0.996875, 0.9953125, 0.996875, 0.996875, 0.9953125, 0.996875, 0.996875, 0.9953125, 0.996875, 0.996875, 0.996875, 0.996875, 0.996875, 0.996875, 0.996875, 0.996875, 0.996875, 0.996875, 0.996875, 0.996875, 0.996875, 0.996875, 0.996875, 0.9953125, 0.996875, 0.996875, 0.996875, 0.996875, 0.996875, 0.996875, 0.996875, 0.996875, 0.99375, 0.996875, 0.996875, 0.996875, 0.996875, 0.996875, 0.996875, 0.996875, 0.996875, 0.9953125, 0.996875, 0.996875, 0.996875, 0.9953125, 0.996875, 0.996875, 0.996875, 0.996875, 0.996875, 0.996875, 0.996875, 0.996875, 0.9953125, 0.9953125, 0.996875, 0.996875, 0.9953125, 0.996875, 0.996875, 0.996875, 0.996875, 0.996875, 0.996875, 0.996875, 0.996875, 0.996875, 0.996875, 0.996875, 0.996875, 0.996875, 0.9953125, 0.996875, 0.996875, 0.9953125, 0.996875, 0.996875, 0.996875, 0.9953125, 0.9953125, 0.996875, 0.996875, 0.996875, 0.9953125, 0.996875, 0.9953125, 0.996875, 0.996875, 0.996875, 0.9953125, 0.996875, 0.9953125, 0.996875, 0.996875, 0.996875, 0.9953125, 0.9953125, 0.9953125, 0.996875, 0.996875, 0.9953125, 0.996875, 0.996875, 0.996875, 0.996875, 0.996875, 0.9953125, 0.9953125, 0.996875, 0.9953125, 0.996875, 0.996875, 0.9953125, 0.996875, 0.996875, 0.996875, 0.996875, 0.9953125, 0.996875, 0.9953125, 0.9953125, 0.9953125, 0.996875, 0.996875, 0.996875, 0.9953125, 0.996875, 0.99375, 0.996875, 0.996875, 0.996875, 0.996875, 0.996875, 0.9953125, 0.996875, 0.9953125, 0.9953125, 0.996875, 0.9953125, 0.9953125, 0.996875, 0.996875, 0.996875, 0.9953125, 0.996875, 0.996875, 0.996875, 0.996875, 0.996875, 0.9953125, 0.99375, 0.996875, 0.996875, 0.996875, 0.9953125, 0.996875, 0.9953125, 0.996875, 0.996875, 0.996875, 0.996875, 0.996875, 0.996875, 0.9953125, 0.996875, 0.996875, 0.996875, 0.996875, 0.996875, 0.996875, 0.996875, 0.996875, 0.996875, 0.9953125, 0.996875, 0.996875, 0.996875, 0.996875, 0.996875, 0.996875, 0.996875, 0.996875, 0.996875, 0.9953125, 0.996875, 0.996875, 0.9953125]\n",
      "~~~~~~~~~~~~~~~~~~~~~\n",
      "0.9964875\n"
     ]
    }
   ],
   "source": [
    "print(accuracy_scores)\n",
    "print('~~~~~~~~~~~~~~~~~~~~~')\n",
    "print(np.mean(accuracy_scores))"
   ]
  },
  {
   "cell_type": "markdown",
   "metadata": {},
   "source": [
    "### Feature ranking\n",
    "\n",
    "From the accuracy scores, we can see that the model is definitely learning something, so now let's rank the features."
   ]
  },
  {
   "cell_type": "code",
   "execution_count": 24,
   "metadata": {},
   "outputs": [],
   "source": [
    "df_importances = pd.DataFrame(rows).set_index(\"run\")"
   ]
  },
  {
   "cell_type": "code",
   "execution_count": 25,
   "metadata": {},
   "outputs": [],
   "source": [
    "feature_ranking = df_importances.mean().sort_values(ascending=False)"
   ]
  },
  {
   "cell_type": "code",
   "execution_count": 29,
   "metadata": {
    "scrolled": true
   },
   "outputs": [
    {
     "data": {
      "image/png": "[encoded data removed]",
      "text/plain": [
       "<Figure size 648x432 with 1 Axes>"
      ]
     },
     "metadata": {
      "needs_background": "light"
     },
     "output_type": "display_data"
    }
   ],
   "source": [
    "ax = feature_ranking[::-1].plot.barh( fontsize=13, figsize=(9,6), zorder=3 );\n",
    "ax.set_xlabel(\"Mean Feature Importance\", fontsize=13);\n",
    "ax.xaxis.grid();"
   ]
  }
 ],
 "metadata": {
  "kernelspec": {
   "display_name": "Python 3",
   "language": "python",
   "name": "python3"
  },
  "language_info": {
   "codemirror_mode": {
    "name": "ipython",
    "version": 3
   },
   "file_extension": ".py",
   "mimetype": "text/x-python",
   "name": "python",
   "nbconvert_exporter": "python",
   "pygments_lexer": "ipython3",
   "version": "3.6.9"
  }
 },
 "nbformat": 4,
 "nbformat_minor": 2
}
