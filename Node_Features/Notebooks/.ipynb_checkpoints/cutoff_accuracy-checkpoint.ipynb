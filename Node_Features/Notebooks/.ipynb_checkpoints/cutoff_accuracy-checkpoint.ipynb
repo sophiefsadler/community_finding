{
 "cells": [
  {
   "cell_type": "markdown",
   "metadata": {},
   "source": [
    "# Cutoff Accuracy\n",
    "\n",
    "In this notebook, I ran the random forest many times with different entropy cutoffs for \"stable\" and \"unstable\" nodes. At the end, I plotted the mean accuracy for each cutoff point. The plot at the bottom shows the results; it appears that the cutoff entropy chosen has little to no effect on the accuracy of the random forest."
   ]
  },
  {
   "cell_type": "code",
   "execution_count": 3,
   "metadata": {},
   "outputs": [],
   "source": [
    "import os\n",
    "import yaml\n",
    "import numpy as np\n",
    "import matplotlib.pyplot as plt\n",
    "import pandas as pd\n",
    "from tqdm import tqdm\n",
    "%matplotlib inline\n",
    "\n",
    "from sklearn.model_selection import StratifiedKFold\n",
    "from sklearn.ensemble import RandomForestClassifier\n",
    "from sklearn import metrics"
   ]
  },
  {
   "cell_type": "code",
   "execution_count": 4,
   "metadata": {},
   "outputs": [],
   "source": [
    "runs = 100"
   ]
  },
  {
   "cell_type": "code",
   "execution_count": 5,
   "metadata": {},
   "outputs": [],
   "source": [
    "def assign_data(X, y):\n",
    "    feature_list = list(X.columns)\n",
    "    data = np.array(X)\n",
    "    labels = np.squeeze(np.array(y))\n",
    "    return feature_list, data, labels"
   ]
  },
  {
   "cell_type": "code",
   "execution_count": 6,
   "metadata": {},
   "outputs": [],
   "source": [
    "def train(feature_list, data, labels):\n",
    "    accuracy_scores = []\n",
    "\n",
    "    skf = StratifiedKFold(n_splits=5)\n",
    "    rf = RandomForestClassifier()\n",
    "\n",
    "    for run in range(1, runs+1):\n",
    "\n",
    "        for i in range(5):\n",
    "            folds = next(skf.split(data, labels), None)\n",
    "\n",
    "            X_train_fold = data[folds[0], :]\n",
    "            X_val_fold = data[folds[1], :]\n",
    "            y_train_fold = labels[folds[0]]\n",
    "            y_val_fold = labels[folds[1]]\n",
    "\n",
    "            model = rf.fit(X_train_fold, y_train_fold)\n",
    "            predictions = rf.predict(X_val_fold)\n",
    "\n",
    "            accuracy_scores.append(metrics.accuracy_score(y_val_fold, predictions))\n",
    "\n",
    "    return accuracy_scores"
   ]
  },
  {
   "cell_type": "code",
   "execution_count": 7,
   "metadata": {},
   "outputs": [],
   "source": [
    "cutoff_values = [0.015, 0.016, 0.017, 0.0175, 0.018, 0.0185, 0.019, 0.0195, 0.020, 0.021, 0.022]"
   ]
  },
  {
   "cell_type": "code",
   "execution_count": 8,
   "metadata": {},
   "outputs": [],
   "source": [
    "mean_accuracies = []"
   ]
  },
  {
   "cell_type": "code",
   "execution_count": 10,
   "metadata": {},
   "outputs": [
    {
     "name": "stderr",
     "output_type": "stream",
     "text": [
      "100%|██████████| 11/11 [31:54<00:00, 174.02s/it]\n"
     ]
    }
   ],
   "source": [
    "for cut in tqdm(cutoff_values):\n",
    "    X = pd.read_csv('../Louvain_Data/node_x_train.csv', index_col=0)\n",
    "    y = pd.read_csv('../Louvain_Data/node_y_train.csv', index_col=0)\n",
    "    feature_list, data, labels = assign_data(X, y)\n",
    "    accuracy_scores = train(feature_list, data, labels)\n",
    "    y_acc = np.mean(accuracy_scores)\n",
    "    mean_accuracies.append(y_acc)"
   ]
  },
  {
   "cell_type": "code",
   "execution_count": 11,
   "metadata": {},
   "outputs": [
    {
     "data": {
      "text/plain": [
       "Text(0, 0.5, 'Mean accuracy')"
      ]
     },
     "execution_count": 11,
     "metadata": {},
     "output_type": "execute_result"
    },
    {
     "data": {
      "image/png": "[encoded data removed]",
      "text/plain": [
       "<Figure size 432x288 with 1 Axes>"
      ]
     },
     "metadata": {
      "needs_background": "light"
     },
     "output_type": "display_data"
    }
   ],
   "source": [
    "plt.scatter(cutoff_values[1:], mean_accuracies[1:], marker='x', c='green')\n",
    "plt.title('Mean accuracy for different cutoff values for node stability')\n",
    "plt.xlim(0.015, 0.023)\n",
    "plt.xlabel('Stability cutoff value')\n",
    "plt.ylabel('Mean accuracy')"
   ]
  }
 ],
 "metadata": {
  "kernelspec": {
   "display_name": "Python 3",
   "language": "python",
   "name": "python3"
  },
  "language_info": {
   "codemirror_mode": {
    "name": "ipython",
    "version": 3
   },
   "file_extension": ".py",
   "mimetype": "text/x-python",
   "name": "python",
   "nbconvert_exporter": "python",
   "pygments_lexer": "ipython3",
   "version": "3.6.9"
  }
 },
 "nbformat": 4,
 "nbformat_minor": 2
}
