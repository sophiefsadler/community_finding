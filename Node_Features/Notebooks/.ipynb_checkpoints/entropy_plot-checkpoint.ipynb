{
 "cells": [
  {
   "cell_type": "markdown",
   "metadata": {},
   "source": [
    "# Entropy Plot\n",
    "\n",
    "In this notebook, I plotted histograms showing the entropies of every node. This was done before choosing a cutoff point of entropy with which to classify nodes into \"stable\" or \"unstable\"."
   ]
  },
  {
   "cell_type": "code",
   "execution_count": 1,
   "metadata": {},
   "outputs": [],
   "source": [
    "import os\n",
    "import yaml\n",
    "import numpy as np\n",
    "import matplotlib.pyplot as plt\n",
    "from scipy.stats import entropy\n",
    "%matplotlib inline"
   ]
  },
  {
   "cell_type": "code",
   "execution_count": 2,
   "metadata": {},
   "outputs": [],
   "source": [
    "'''\n",
    "Obtain all the co-association matrices from the npy files.\n",
    "'''\n",
    "coassociation_matrices = []\n",
    "for i in [1, 2, 3, 4]:\n",
    "    for j in [1, 2, 3, 4, 5]:\n",
    "        coassociation_fil = '../../Community_Data/Louvain/Coassociation/graph_0{1}_mu_0_{0}_coassociation.npy'.format(i, j)\n",
    "        x = np.load(coassociation_fil)\n",
    "        coassociation_matrices.append(x)"
   ]
  },
  {
   "cell_type": "code",
   "execution_count": 3,
   "metadata": {},
   "outputs": [],
   "source": [
    "'''\n",
    "Calculate entropies of each node in each matrix\n",
    "'''\n",
    "entropies = [entropy(C) / C.shape[0] for C in coassociation_matrices]"
   ]
  },
  {
   "cell_type": "code",
   "execution_count": 4,
   "metadata": {},
   "outputs": [],
   "source": [
    "'''\n",
    "Concatenate entropies of all nodes from all matrices into a single array\n",
    "'''\n",
    "x = np.concatenate(entropies)"
   ]
  },
  {
   "cell_type": "code",
   "execution_count": 5,
   "metadata": {},
   "outputs": [
    {
     "data": {
      "text/plain": [
       "(array([ 801., 1096.,  594.,  257.,  163.,  251.,  266.,  252.,  247.,\n",
       "          73.]),\n",
       " array([0.01495875, 0.016009  , 0.01705926, 0.01810951, 0.01915976,\n",
       "        0.02021002, 0.02126027, 0.02231053, 0.02336078, 0.02441104,\n",
       "        0.02546129]),\n",
       " <a list of 10 Patch objects>)"
      ]
     },
     "execution_count": 5,
     "metadata": {},
     "output_type": "execute_result"
    },
    {
     "data": {
      "image/png": "[encoded data removed]",
      "text/plain": [
       "<Figure size 432x288 with 1 Axes>"
      ]
     },
     "metadata": {
      "needs_background": "light"
     },
     "output_type": "display_data"
    }
   ],
   "source": [
    "'''\n",
    "Plot a histogram of node entropies\n",
    "'''\n",
    "plt.hist(x, bins=10)"
   ]
  },
  {
   "cell_type": "code",
   "execution_count": 6,
   "metadata": {},
   "outputs": [
    {
     "data": {
      "text/plain": [
       "(array([178., 374., 400., 436., 509., 338., 150., 213.,  71.,  79.,  68.,\n",
       "         45.,  91., 108., 102., 122., 105.,  77., 110., 104., 114.,  90.,\n",
       "         76.,  33.,   7.]),\n",
       " array([0.01495875, 0.01537885, 0.01579895, 0.01621905, 0.01663915,\n",
       "        0.01705926, 0.01747936, 0.01789946, 0.01831956, 0.01873966,\n",
       "        0.01915976, 0.01957987, 0.01999997, 0.02042007, 0.02084017,\n",
       "        0.02126027, 0.02168037, 0.02210048, 0.02252058, 0.02294068,\n",
       "        0.02336078, 0.02378088, 0.02420098, 0.02462109, 0.02504119,\n",
       "        0.02546129]),\n",
       " <a list of 25 Patch objects>)"
      ]
     },
     "execution_count": 6,
     "metadata": {},
     "output_type": "execute_result"
    },
    {
     "data": {
      "image/png": "[encoded data removed]",
      "text/plain": [
       "<Figure size 432x288 with 1 Axes>"
      ]
     },
     "metadata": {
      "needs_background": "light"
     },
     "output_type": "display_data"
    }
   ],
   "source": [
    "plt.hist(x, bins=25)"
   ]
  }
 ],
 "metadata": {
  "kernelspec": {
   "display_name": "Python 3",
   "language": "python",
   "name": "python3"
  },
  "language_info": {
   "codemirror_mode": {
    "name": "ipython",
    "version": 3
   },
   "file_extension": ".py",
   "mimetype": "text/x-python",
   "name": "python",
   "nbconvert_exporter": "python",
   "pygments_lexer": "ipython3",
   "version": "3.6.9"
  }
 },
 "nbformat": 4,
 "nbformat_minor": 2
}
