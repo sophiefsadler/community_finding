{
 "cells": [
  {
   "cell_type": "code",
   "execution_count": 5,
   "metadata": {},
   "outputs": [],
   "source": [
    "import pickle\n",
    "import matplotlib.pyplot as plt\n",
    "import pandas as pd\n",
    "import numpy as np\n",
    "import altair as alt\n",
    "\n",
    "import statsmodels.stats.api as sms\n",
    "from scipy.stats import shapiro\n",
    "\n",
    "import warnings\n",
    "warnings.filterwarnings('ignore')"
   ]
  },
  {
   "cell_type": "code",
   "execution_count": 3,
   "metadata": {},
   "outputs": [],
   "source": [
    "feature_names = ['Jaccard', 'Common Neighbours', 'Cosine Similarity', 'Shortest Path', 'Max Edge Centrality']"
   ]
  },
  {
   "cell_type": "markdown",
   "metadata": {},
   "source": [
    "## Infomap Final Test\n",
    "\n",
    "Here we explore the results from the final test of the methodology before the real experiments. First, we look at plots of the entropies and the stability cutoff for each graph.\n",
    "\n",
    "Then, we look at the permutation importances for each node feature."
   ]
  },
  {
   "cell_type": "code",
   "execution_count": 11,
   "metadata": {
    "scrolled": false
   },
   "outputs": [
    {
     "data": {
      "text/html": [
       "\n",
       "<div id=\"altair-viz-a871de1e7d6242b78d8b8d94589330b2\"></div>\n",
       "<script type=\"text/javascript\">\n",
       "  (function(spec, embedOpt){\n",
       "    const outputDiv = document.getElementById(\"altair-viz-a871de1e7d6242b78d8b8d94589330b2\");\n",
       "    const paths = {\n",
       "      \"vega\": \"https://cdn.jsdelivr.net/npm//vega@5?noext\",\n",
       "      \"vega-lib\": \"https://cdn.jsdelivr.net/npm//vega-lib?noext\",\n",
       "      \"vega-lite\": \"https://cdn.jsdelivr.net/npm//vega-lite@4.0.2?noext\",\n",
       "      \"vega-embed\": \"https://cdn.jsdelivr.net/npm//vega-embed@6?noext\",\n",
       "    };\n",
       "\n",
       "    function loadScript(lib) {\n",
       "      return new Promise(function(resolve, reject) {\n",
       "        var s = document.createElement('script');\n",
       "        s.src = paths[lib];\n",
       "        s.async = true;\n",
       "        s.onload = () => resolve(paths[lib]);\n",
       "        s.onerror = () => reject(`Error loading script: ${paths[lib]}`);\n",
       "        document.getElementsByTagName(\"head\")[0].appendChild(s);\n",
       "      });\n",
       "    }\n",
       "\n",
       "    function showError(err) {\n",
       "      outputDiv.innerHTML = `<div class=\"error\" style=\"color:red;\">${err}</div>`;\n",
       "      throw err;\n",
       "    }\n",
       "\n",
       "    function displayChart(vegaEmbed) {\n",
       "      vegaEmbed(outputDiv, spec, embedOpt)\n",
       "        .catch(err => showError(`Javascript Error: ${err.message}<br>This usually means there's a typo in your chart specification. See the javascript console for the full traceback.`));\n",
       "    }\n",
       "\n",
       "    if(typeof define === \"function\" && define.amd) {\n",
       "      requirejs.config({paths});\n",
       "      require([\"vega-embed\"], displayChart, err => showError(`Error loading script: ${err.message}`));\n",
       "    } else if (typeof vegaEmbed === \"function\") {\n",
       "      displayChart(vegaEmbed);\n",
       "    } else {\n",
       "      loadScript(\"vega\")\n",
       "        .then(() => loadScript(\"vega-lite\"))\n",
       "        .then(() => loadScript(\"vega-embed\"))\n",
       "        .catch(showError)\n",
       "        .then(() => displayChart(vegaEmbed));\n",
       "    }\n",
       "  })({\"config\": {\"view\": {\"continuousWidth\": 400, \"continuousHeight\": 300}}, \"layer\": [{\"mark\": {\"type\": \"errorbar\", \"extent\": \"ci\"}, \"encoding\": {\"x\": {\"type\": \"quantitative\", \"field\": \"Value\", \"scale\": {\"zero\": false}}, \"y\": {\"type\": \"nominal\", \"field\": \"Metric\"}}}, {\"mark\": {\"type\": \"point\", \"color\": \"black\", \"filled\": true}, \"encoding\": {\"x\": {\"type\": \"quantitative\", \"aggregate\": \"mean\", \"field\": \"Value\"}, \"y\": {\"type\": \"nominal\", \"field\": \"Metric\"}}}, {\"mark\": {\"type\": \"point\", \"color\": \"red\", \"filled\": true}, \"encoding\": {\"x\": {\"type\": \"quantitative\", \"aggregate\": \"median\", \"field\": \"Value\"}, \"y\": {\"type\": \"nominal\", \"field\": \"Metric\"}}}], \"data\": {\"name\": \"data-ee0eb0006d4b2d32649edfbfd0c18077\"}, \"title\": \"Mu 0.2\", \"$schema\": \"https://vega.github.io/schema/vega-lite/v4.0.2.json\", \"datasets\": {\"data-ee0eb0006d4b2d32649edfbfd0c18077\": [{\"Metric\": \"Common Neighbours\", \"Value\": 4.8886886886888256e-05}, {\"Metric\": \"Jaccard\", \"Value\": 0.013070668668668677}, {\"Metric\": \"Cosine Similarity\", \"Value\": 0.0027664364364364405}, {\"Metric\": \"Shortest Path\", \"Value\": -5.8884884884890345e-05}, {\"Metric\": \"Max Edge Centrality\", \"Value\": -0.00019244844844844644}, {\"Metric\": \"Common Neighbours\", \"Value\": 2.720920920921456e-05}, {\"Metric\": \"Jaccard\", \"Value\": 0.0027012612612612613}, {\"Metric\": \"Cosine Similarity\", \"Value\": 0.021790230230230252}, {\"Metric\": \"Shortest Path\", \"Value\": -4.4644644644518136e-07}, {\"Metric\": \"Max Edge Centrality\", \"Value\": -5.271671671672032e-05}, {\"Metric\": \"Common Neighbours\", \"Value\": 0.0005568608608608564}, {\"Metric\": \"Jaccard\", \"Value\": 0.01658030030030029}, {\"Metric\": \"Cosine Similarity\", \"Value\": 0.006939723723723722}, {\"Metric\": \"Shortest Path\", \"Value\": -2.203603603603582e-05}, {\"Metric\": \"Max Edge Centrality\", \"Value\": -0.00020807207207207342}, {\"Metric\": \"Common Neighbours\", \"Value\": 0.0001846866866866894}, {\"Metric\": \"Jaccard\", \"Value\": 0.01754011411411413}, {\"Metric\": \"Cosine Similarity\", \"Value\": 0.0016140280280280256}, {\"Metric\": \"Shortest Path\", \"Value\": 1.1859859859859846e-05}, {\"Metric\": \"Max Edge Centrality\", \"Value\": -3.327527527527949e-05}, {\"Metric\": \"Common Neighbours\", \"Value\": 0.0030088248248248224}, {\"Metric\": \"Jaccard\", \"Value\": 0.028438048048048056}, {\"Metric\": \"Cosine Similarity\", \"Value\": 0.007115309309309305}, {\"Metric\": \"Shortest Path\", \"Value\": -3.482282282283177e-05}, {\"Metric\": \"Max Edge Centrality\", \"Value\": -8.075475475476215e-05}]}}, {\"mode\": \"vega-lite\"});\n",
       "</script>"
      ],
      "text/plain": [
       "alt.LayerChart(...)"
      ]
     },
     "metadata": {},
     "output_type": "display_data"
    },
    {
     "name": "stdout",
     "output_type": "stream",
     "text": [
      "Random forest accuracy for each graph: [0.9992799625468165, 0.9990218360071301, 0.9986760070052542, 0.999282196969697, 0.9986202938475669]\n",
      "Random forest balanced accuracy for each graph: [0.9992799625468165, 0.9990218360071301, 0.9986760070052542, 0.999282196969697, 0.9986202938475669]\n"
     ]
    }
   ],
   "source": [
    "for mu in [2]:\n",
    "    accuracy = []\n",
    "    balanced_accuracy = []\n",
    "    mu_feature_importances = {'Metric': [], 'Value': []}\n",
    "    for graph in [1, 2, 3, 4, 5]:\n",
    "        with open('Community_Data/Infomap/Results/mu_0_{0}/graph_0{1}_pair/results'.format(mu, graph), 'rb') as f:\n",
    "            results = pickle.load(f)\n",
    "        perm_importances = results['Feature Importances']\n",
    "        accuracy.append(np.mean(results['Accuracy Scores']))\n",
    "        balanced_accuracy.append(np.mean(results['Balanced Accuracy Scores']))\n",
    "        for feat, val in perm_importances.items():\n",
    "            mu_feature_importances['Metric'].append(feat)\n",
    "            mu_feature_importances['Value'].append(val)\n",
    "    mu_feature_importances = pd.DataFrame(data=mu_feature_importances)\n",
    "    error_bars = alt.Chart(mu_feature_importances).mark_errorbar(extent='ci').encode(\n",
    "      x=alt.X('Value:Q', scale=alt.Scale(zero=False)),\n",
    "      y=alt.Y('Metric:N')\n",
    "    )\n",
    "\n",
    "\n",
    "    mean_points = alt.Chart(mu_feature_importances).mark_point(filled=True, color='black').encode(\n",
    "      x=alt.X('Value:Q', aggregate='mean'),\n",
    "      y=alt.Y('Metric:N'),\n",
    "    )\n",
    "    \n",
    "    median_points = alt.Chart(mu_feature_importances).mark_point(filled=True, color='red').encode(\n",
    "      x=alt.X('Value:Q', aggregate='median'),\n",
    "      y=alt.Y('Metric:N'),\n",
    "    )\n",
    "\n",
    "    final_plot = (error_bars + mean_points + median_points).properties(\n",
    "        title='Mu 0.{0}'.format(mu)\n",
    "    )\n",
    "\n",
    "    final_plot.display()\n",
    "    \n",
    "    print('Random forest accuracy for each graph:', accuracy)\n",
    "    print('Random forest balanced accuracy for each graph:', balanced_accuracy)"
   ]
  },
  {
   "cell_type": "code",
   "execution_count": 6,
   "metadata": {},
   "outputs": [
    {
     "name": "stdout",
     "output_type": "stream",
     "text": [
      "Common Neighbours: Statistic = 0.6841937303543091  P_Value = 0.006496739108115435\n",
      "\n",
      "Jaccard: Statistic = 0.9660515785217285  P_Value = 0.8493583798408508\n",
      "\n",
      "Cosine Similarity: Statistic = 0.8034121990203857  P_Value = 0.0863676369190216\n",
      "\n",
      "Shortest Path: Statistic = 0.9777641892433167  P_Value = 0.9223194122314453\n",
      "\n",
      "Max Edge Centrality: Statistic = 0.8518232703208923  P_Value = 0.2003505975008011\n",
      "\n"
     ]
    }
   ],
   "source": [
    "shapiro_test = {}\n",
    "for i, met in enumerate(mu_feature_importances['Metric']):\n",
    "    if met in shapiro_test.keys():\n",
    "        shapiro_test[met].append(mu_feature_importances['Value'][i])\n",
    "    else:\n",
    "        shapiro_test[met] = [mu_feature_importances['Value'][i]]\n",
    "for met, val_list in shapiro_test.items():\n",
    "    test_result = shapiro(val_list)\n",
    "    print(met + ': Statistic =', test_result.statistic, ' P_Value =', test_result.pvalue)\n",
    "    print('')"
   ]
  },
  {
   "cell_type": "code",
   "execution_count": 9,
   "metadata": {},
   "outputs": [],
   "source": [
    "dataset_sizes = []\n",
    "for graph in [1, 2, 3, 4, 5]:\n",
    "    with open('Community_Data/Infomap/Results/mu_0_2/graph_0{1}_pair/results'.format(mu, graph), 'rb') as f:\n",
    "        results = pickle.load(f)\n",
    "    dataset_sizes.append(results['Same Communities'] + results['Different Communities'])"
   ]
  },
  {
   "cell_type": "code",
   "execution_count": 10,
   "metadata": {},
   "outputs": [
    {
     "data": {
      "text/plain": [
       "[21356, 22438, 22836, 21116, 21780]"
      ]
     },
     "execution_count": 10,
     "metadata": {},
     "output_type": "execute_result"
    }
   ],
   "source": [
    "dataset_sizes"
   ]
  }
 ],
 "metadata": {
  "kernelspec": {
   "display_name": "Python 3",
   "language": "python",
   "name": "python3"
  },
  "language_info": {
   "codemirror_mode": {
    "name": "ipython",
    "version": 3
   },
   "file_extension": ".py",
   "mimetype": "text/x-python",
   "name": "python",
   "nbconvert_exporter": "python",
   "pygments_lexer": "ipython3",
   "version": "3.6.9"
  }
 },
 "nbformat": 4,
 "nbformat_minor": 4
}
