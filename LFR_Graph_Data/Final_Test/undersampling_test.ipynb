{
 "cells": [
  {
   "cell_type": "code",
   "execution_count": 1,
   "metadata": {},
   "outputs": [],
   "source": [
    "import warnings\n",
    "warnings.filterwarnings('ignore')\n",
    "\n",
    "import pickle\n",
    "import matplotlib.pyplot as plt\n",
    "import pandas as pd\n",
    "import numpy as np\n",
    "import altair as alt\n",
    "\n",
    "import statsmodels.stats.api as sms"
   ]
  },
  {
   "cell_type": "markdown",
   "metadata": {},
   "source": [
    "I'm going to show results from randomly undersampling the majority class at 3 different levels, as well as the original results (i.e. no undersampling). \n",
    "\n",
    "At this point, I just chose one set of experiments to rerun at different undersampling levels - the Infomap algorithm on mu 0.2 graphs (since there was a significant class imbalance for these experiments). There are 5 mu 0.2 graphs, corresponding to 5 experiments. I then show the plots of mean (black), median (red) and confidence intervals for each feature based on these 5 experiments.\n",
    "\n",
    "The plot titles indicate the proportion of the data which are stable nodes (corresponding to the amount of undersampling). I also printed the mean train accuracy for each of the 5 experiments under each plot."
   ]
  },
  {
   "cell_type": "code",
   "execution_count": 38,
   "metadata": {},
   "outputs": [
    {
     "data": {
      "text/html": [
       "\n",
       "<div id=\"altair-viz-032287b99f284b86ab173d05e8b5cc60\"></div>\n",
       "<script type=\"text/javascript\">\n",
       "  (function(spec, embedOpt){\n",
       "    const outputDiv = document.getElementById(\"altair-viz-032287b99f284b86ab173d05e8b5cc60\");\n",
       "    const paths = {\n",
       "      \"vega\": \"https://cdn.jsdelivr.net/npm//vega@5?noext\",\n",
       "      \"vega-lib\": \"https://cdn.jsdelivr.net/npm//vega-lib?noext\",\n",
       "      \"vega-lite\": \"https://cdn.jsdelivr.net/npm//vega-lite@4.0.2?noext\",\n",
       "      \"vega-embed\": \"https://cdn.jsdelivr.net/npm//vega-embed@6?noext\",\n",
       "    };\n",
       "\n",
       "    function loadScript(lib) {\n",
       "      return new Promise(function(resolve, reject) {\n",
       "        var s = document.createElement('script');\n",
       "        s.src = paths[lib];\n",
       "        s.async = true;\n",
       "        s.onload = () => resolve(paths[lib]);\n",
       "        s.onerror = () => reject(`Error loading script: ${paths[lib]}`);\n",
       "        document.getElementsByTagName(\"head\")[0].appendChild(s);\n",
       "      });\n",
       "    }\n",
       "\n",
       "    function showError(err) {\n",
       "      outputDiv.innerHTML = `<div class=\"error\" style=\"color:red;\">${err}</div>`;\n",
       "      throw err;\n",
       "    }\n",
       "\n",
       "    function displayChart(vegaEmbed) {\n",
       "      vegaEmbed(outputDiv, spec, embedOpt)\n",
       "        .catch(err => showError(`Javascript Error: ${err.message}<br>This usually means there's a typo in your chart specification. See the javascript console for the full traceback.`));\n",
       "    }\n",
       "\n",
       "    if(typeof define === \"function\" && define.amd) {\n",
       "      requirejs.config({paths});\n",
       "      require([\"vega-embed\"], displayChart, err => showError(`Error loading script: ${err.message}`));\n",
       "    } else if (typeof vegaEmbed === \"function\") {\n",
       "      displayChart(vegaEmbed);\n",
       "    } else {\n",
       "      loadScript(\"vega\")\n",
       "        .then(() => loadScript(\"vega-lite\"))\n",
       "        .then(() => loadScript(\"vega-embed\"))\n",
       "        .catch(showError)\n",
       "        .then(() => displayChart(vegaEmbed));\n",
       "    }\n",
       "  })({\"config\": {\"view\": {\"continuousWidth\": 400, \"continuousHeight\": 300}}, \"layer\": [{\"mark\": {\"type\": \"errorbar\", \"extent\": \"ci\"}, \"encoding\": {\"x\": {\"type\": \"quantitative\", \"field\": \"Value\", \"scale\": {\"zero\": false}}, \"y\": {\"type\": \"nominal\", \"field\": \"Metric\"}}}, {\"mark\": {\"type\": \"point\", \"color\": \"black\", \"filled\": true}, \"encoding\": {\"x\": {\"type\": \"quantitative\", \"aggregate\": \"mean\", \"field\": \"Value\"}, \"y\": {\"type\": \"nominal\", \"field\": \"Metric\"}}}, {\"mark\": {\"type\": \"point\", \"color\": \"red\", \"filled\": true}, \"encoding\": {\"x\": {\"type\": \"quantitative\", \"aggregate\": \"median\", \"field\": \"Value\"}, \"y\": {\"type\": \"nominal\", \"field\": \"Metric\"}}}], \"data\": {\"name\": \"data-06ded53544a1d216f036aebc51fbbb7c\"}, \"title\": \"Proportion Stable: Original (Varies by Graph)\", \"$schema\": \"https://vega.github.io/schema/vega-lite/v4.0.2.json\", \"datasets\": {\"data-06ded53544a1d216f036aebc51fbbb7c\": [{\"Metric\": \"Degree\", \"Value\": -0.0053699999999999885}, {\"Metric\": \"Clustering Coefficient\", \"Value\": -0.00010800000000000009}, {\"Metric\": \"Betweenness\", \"Value\": 0.0037369999999999986}, {\"Metric\": \"Closeness\", \"Value\": -0.0053289999999999935}, {\"Metric\": \"Shortest Path\", \"Value\": -0.0051059999999999925}, {\"Metric\": \"Eigenvector\", \"Value\": -0.006205000000000004}, {\"Metric\": \"E In\", \"Value\": -0.003099000000000001}, {\"Metric\": \"E Out\", \"Value\": -0.0027910000000000066}, {\"Metric\": \"E In Over E Out\", \"Value\": -0.0011580000000000008}, {\"Metric\": \"ODF\", \"Value\": -0.0011100000000000003}, {\"Metric\": \"Expansion\", \"Value\": -0.003214000000000001}, {\"Metric\": \"Cut Ratio\", \"Value\": -0.003029000000000006}, {\"Metric\": \"Conductance\", \"Value\": -0.0010930000000000009}, {\"Metric\": \"Normalised Cut\", \"Value\": -0.0009010000000000008}, {\"Metric\": \"Triangle Participation\", \"Value\": -0.00024200000000000022}, {\"Metric\": \"Degree\", \"Value\": 0.002053000000000001}, {\"Metric\": \"Clustering Coefficient\", \"Value\": 0.0007350000000000036}, {\"Metric\": \"Betweenness\", \"Value\": 0.0005430000000000005}, {\"Metric\": \"Closeness\", \"Value\": -0.002796999999999995}, {\"Metric\": \"Shortest Path\", \"Value\": -0.002545999999999995}, {\"Metric\": \"Eigenvector\", \"Value\": -0.0033499999999999836}, {\"Metric\": \"E In\", \"Value\": 0.0006719999999999997}, {\"Metric\": \"E Out\", \"Value\": 7.200000000000149e-05}, {\"Metric\": \"E In Over E Out\", \"Value\": -0.0008369999999999996}, {\"Metric\": \"ODF\", \"Value\": -0.00034700000000000025}, {\"Metric\": \"Expansion\", \"Value\": -0.0009089999999999979}, {\"Metric\": \"Cut Ratio\", \"Value\": -0.0016099999999999947}, {\"Metric\": \"Conductance\", \"Value\": -0.0002190000000000003}, {\"Metric\": \"Normalised Cut\", \"Value\": -0.00027800000000000025}, {\"Metric\": \"Triangle Participation\", \"Value\": -0.004627999999999993}, {\"Metric\": \"Degree\", \"Value\": 0.0012710000000000022}, {\"Metric\": \"Clustering Coefficient\", \"Value\": 0.0016340000000000005}, {\"Metric\": \"Betweenness\", \"Value\": 0.00018400000000000016}, {\"Metric\": \"Closeness\", \"Value\": 0.0022510000000000034}, {\"Metric\": \"Shortest Path\", \"Value\": 0.002264000000000004}, {\"Metric\": \"Eigenvector\", \"Value\": 0.010087000000000018}, {\"Metric\": \"E In\", \"Value\": 0.0009780000000000008}, {\"Metric\": \"E Out\", \"Value\": 0.00024800000000000023}, {\"Metric\": \"E In Over E Out\", \"Value\": -0.0002100000000000002}, {\"Metric\": \"ODF\", \"Value\": -0.0002300000000000002}, {\"Metric\": \"Expansion\", \"Value\": 0.0046660000000000095}, {\"Metric\": \"Cut Ratio\", \"Value\": 1.4000000000000012e-05}, {\"Metric\": \"Conductance\", \"Value\": -0.00019700000000000018}, {\"Metric\": \"Normalised Cut\", \"Value\": -0.00018200000000000017}, {\"Metric\": \"Triangle Participation\", \"Value\": 0.001994000000000003}, {\"Metric\": \"Degree\", \"Value\": 0.0014240000000000019}, {\"Metric\": \"Clustering Coefficient\", \"Value\": 0.0006100000000000005}, {\"Metric\": \"Betweenness\", \"Value\": 0.0005100000000000005}, {\"Metric\": \"Closeness\", \"Value\": 0.0018670000000000013}, {\"Metric\": \"Shortest Path\", \"Value\": 0.0019170000000000003}, {\"Metric\": \"Eigenvector\", \"Value\": 0.0004220000000000004}, {\"Metric\": \"E In\", \"Value\": 0.0013660000000000011}, {\"Metric\": \"E Out\", \"Value\": 0.0036399999999999987}, {\"Metric\": \"E In Over E Out\", \"Value\": 0.0006400000000000006}, {\"Metric\": \"ODF\", \"Value\": 0.0008140000000000007}, {\"Metric\": \"Expansion\", \"Value\": 0.0005370000000000005}, {\"Metric\": \"Cut Ratio\", \"Value\": 0.003290000000000001}, {\"Metric\": \"Conductance\", \"Value\": 0.0005920000000000005}, {\"Metric\": \"Normalised Cut\", \"Value\": 0.0005890000000000005}, {\"Metric\": \"Triangle Participation\", \"Value\": -0.0004520000000000004}, {\"Metric\": \"Degree\", \"Value\": 0.004655000000000009}, {\"Metric\": \"Clustering Coefficient\", \"Value\": 0.01175800000000001}, {\"Metric\": \"Betweenness\", \"Value\": -0.00015500000000000014}, {\"Metric\": \"Closeness\", \"Value\": 0.0028820000000000013}, {\"Metric\": \"Shortest Path\", \"Value\": 0.002966000000000002}, {\"Metric\": \"Eigenvector\", \"Value\": -0.00019400000000000016}, {\"Metric\": \"E In\", \"Value\": 0.006916000000000006}, {\"Metric\": \"E Out\", \"Value\": 0.0065039999999999985}, {\"Metric\": \"E In Over E Out\", \"Value\": -0.0003680000000000003}, {\"Metric\": \"ODF\", \"Value\": -0.0004060000000000004}, {\"Metric\": \"Expansion\", \"Value\": 0.01943899999999999}, {\"Metric\": \"Cut Ratio\", \"Value\": 0.004264000000000006}, {\"Metric\": \"Conductance\", \"Value\": -0.0004380000000000004}, {\"Metric\": \"Normalised Cut\", \"Value\": -0.00027700000000000023}, {\"Metric\": \"Triangle Participation\", \"Value\": 0.0013540000000000015}]}}, {\"mode\": \"vega-lite\"});\n",
       "</script>"
      ],
      "text/plain": [
       "alt.LayerChart(...)"
      ]
     },
     "metadata": {},
     "output_type": "display_data"
    },
    {
     "name": "stdout",
     "output_type": "stream",
     "text": [
      "Random forest accuracy for each graph: [0.9800374999999999, 0.9553625000000001, 0.9639000000000001, 0.9812374999999999, 0.9596375000000003]\n",
      "Random forest balanced accuracy for each graph: [0.6243782051282052, 0.7415472972972973, 0.6560952380952381, 0.6249935897435898, 0.8259097222222225]\n"
     ]
    },
    {
     "data": {
      "text/html": [
       "\n",
       "<div id=\"altair-viz-f976999b2b6d492e99747fbd7c1003a5\"></div>\n",
       "<script type=\"text/javascript\">\n",
       "  (function(spec, embedOpt){\n",
       "    const outputDiv = document.getElementById(\"altair-viz-f976999b2b6d492e99747fbd7c1003a5\");\n",
       "    const paths = {\n",
       "      \"vega\": \"https://cdn.jsdelivr.net/npm//vega@5?noext\",\n",
       "      \"vega-lib\": \"https://cdn.jsdelivr.net/npm//vega-lib?noext\",\n",
       "      \"vega-lite\": \"https://cdn.jsdelivr.net/npm//vega-lite@4.0.2?noext\",\n",
       "      \"vega-embed\": \"https://cdn.jsdelivr.net/npm//vega-embed@6?noext\",\n",
       "    };\n",
       "\n",
       "    function loadScript(lib) {\n",
       "      return new Promise(function(resolve, reject) {\n",
       "        var s = document.createElement('script');\n",
       "        s.src = paths[lib];\n",
       "        s.async = true;\n",
       "        s.onload = () => resolve(paths[lib]);\n",
       "        s.onerror = () => reject(`Error loading script: ${paths[lib]}`);\n",
       "        document.getElementsByTagName(\"head\")[0].appendChild(s);\n",
       "      });\n",
       "    }\n",
       "\n",
       "    function showError(err) {\n",
       "      outputDiv.innerHTML = `<div class=\"error\" style=\"color:red;\">${err}</div>`;\n",
       "      throw err;\n",
       "    }\n",
       "\n",
       "    function displayChart(vegaEmbed) {\n",
       "      vegaEmbed(outputDiv, spec, embedOpt)\n",
       "        .catch(err => showError(`Javascript Error: ${err.message}<br>This usually means there's a typo in your chart specification. See the javascript console for the full traceback.`));\n",
       "    }\n",
       "\n",
       "    if(typeof define === \"function\" && define.amd) {\n",
       "      requirejs.config({paths});\n",
       "      require([\"vega-embed\"], displayChart, err => showError(`Error loading script: ${err.message}`));\n",
       "    } else if (typeof vegaEmbed === \"function\") {\n",
       "      displayChart(vegaEmbed);\n",
       "    } else {\n",
       "      loadScript(\"vega\")\n",
       "        .then(() => loadScript(\"vega-lite\"))\n",
       "        .then(() => loadScript(\"vega-embed\"))\n",
       "        .catch(showError)\n",
       "        .then(() => displayChart(vegaEmbed));\n",
       "    }\n",
       "  })({\"config\": {\"view\": {\"continuousWidth\": 400, \"continuousHeight\": 300}}, \"layer\": [{\"mark\": {\"type\": \"errorbar\", \"extent\": \"ci\"}, \"encoding\": {\"x\": {\"type\": \"quantitative\", \"field\": \"Value\", \"scale\": {\"zero\": false}}, \"y\": {\"type\": \"nominal\", \"field\": \"Metric\"}}}, {\"mark\": {\"type\": \"point\", \"color\": \"black\", \"filled\": true}, \"encoding\": {\"x\": {\"type\": \"quantitative\", \"aggregate\": \"mean\", \"field\": \"Value\"}, \"y\": {\"type\": \"nominal\", \"field\": \"Metric\"}}}, {\"mark\": {\"type\": \"point\", \"color\": \"red\", \"filled\": true}, \"encoding\": {\"x\": {\"type\": \"quantitative\", \"aggregate\": \"median\", \"field\": \"Value\"}, \"y\": {\"type\": \"nominal\", \"field\": \"Metric\"}}}], \"data\": {\"name\": \"data-59ff15a2495244872e9f95c62497f786\"}, \"title\": \"Proportion Stable: 83.33%\", \"$schema\": \"https://vega.github.io/schema/vega-lite/v4.0.2.json\", \"datasets\": {\"data-59ff15a2495244872e9f95c62497f786\": [{\"Metric\": \"Degree\", \"Value\": -0.014473999999999942}, {\"Metric\": \"Clustering Coefficient\", \"Value\": 0.0012319999999999985}, {\"Metric\": \"Betweenness\", \"Value\": 0.0011909999999999965}, {\"Metric\": \"Closeness\", \"Value\": -0.010262999999999921}, {\"Metric\": \"Shortest Path\", \"Value\": -0.01001299999999995}, {\"Metric\": \"Eigenvector\", \"Value\": -0.011724999999999947}, {\"Metric\": \"E In\", \"Value\": -0.003987999999999977}, {\"Metric\": \"E Out\", \"Value\": -0.0019759999999999886}, {\"Metric\": \"E In Over E Out\", \"Value\": 0.0022489999999999928}, {\"Metric\": \"ODF\", \"Value\": 0.0024849999999999924}, {\"Metric\": \"Expansion\", \"Value\": 0.0066469999999999915}, {\"Metric\": \"Cut Ratio\", \"Value\": -0.0047779999999999654}, {\"Metric\": \"Conductance\", \"Value\": 0.0022759999999999933}, {\"Metric\": \"Normalised Cut\", \"Value\": 0.002406999999999993}, {\"Metric\": \"Triangle Participation\", \"Value\": 0.0017879999999999945}, {\"Metric\": \"Degree\", \"Value\": -0.0012199999999999997}, {\"Metric\": \"Clustering Coefficient\", \"Value\": 0.014352999999999996}, {\"Metric\": \"Betweenness\", \"Value\": 0.004508999999999997}, {\"Metric\": \"Closeness\", \"Value\": -0.007421999999999983}, {\"Metric\": \"Shortest Path\", \"Value\": -0.00741699999999999}, {\"Metric\": \"Eigenvector\", \"Value\": -0.009610999999999974}, {\"Metric\": \"E In\", \"Value\": 0.00029099999999999943}, {\"Metric\": \"E Out\", \"Value\": 0.0059080000000000035}, {\"Metric\": \"E In Over E Out\", \"Value\": -0.000610999999999999}, {\"Metric\": \"ODF\", \"Value\": -0.0007819999999999993}, {\"Metric\": \"Expansion\", \"Value\": 0.003070999999999998}, {\"Metric\": \"Cut Ratio\", \"Value\": 0.002218999999999999}, {\"Metric\": \"Conductance\", \"Value\": -0.0008039999999999997}, {\"Metric\": \"Normalised Cut\", \"Value\": -0.0006819999999999993}, {\"Metric\": \"Triangle Participation\", \"Value\": -0.0008390000000000014}, {\"Metric\": \"Degree\", \"Value\": -0.003973000000000006}, {\"Metric\": \"Clustering Coefficient\", \"Value\": -0.006264000000000003}, {\"Metric\": \"Betweenness\", \"Value\": 0.00021500000000000018}, {\"Metric\": \"Closeness\", \"Value\": -0.00802300000000001}, {\"Metric\": \"Shortest Path\", \"Value\": -0.007875000000000005}, {\"Metric\": \"Eigenvector\", \"Value\": -0.016238000000000034}, {\"Metric\": \"E In\", \"Value\": -0.010589000000000005}, {\"Metric\": \"E Out\", \"Value\": -0.00023300000000000022}, {\"Metric\": \"E In Over E Out\", \"Value\": -0.0008910000000000008}, {\"Metric\": \"ODF\", \"Value\": -0.0009910000000000008}, {\"Metric\": \"Expansion\", \"Value\": -0.001113000000000002}, {\"Metric\": \"Cut Ratio\", \"Value\": 0.0010420000000000006}, {\"Metric\": \"Conductance\", \"Value\": -0.0010470000000000015}, {\"Metric\": \"Normalised Cut\", \"Value\": -0.0012110000000000003}, {\"Metric\": \"Triangle Participation\", \"Value\": 0.0007350000000000006}, {\"Metric\": \"Degree\", \"Value\": -0.015258000000000037}, {\"Metric\": \"Clustering Coefficient\", \"Value\": -0.0060840000000000095}, {\"Metric\": \"Betweenness\", \"Value\": -0.0028189999999999977}, {\"Metric\": \"Closeness\", \"Value\": -0.006431000000000009}, {\"Metric\": \"Shortest Path\", \"Value\": -0.006451000000000007}, {\"Metric\": \"Eigenvector\", \"Value\": -0.0025389999999999996}, {\"Metric\": \"E In\", \"Value\": -0.011301000000000018}, {\"Metric\": \"E Out\", \"Value\": -0.0016270000000000006}, {\"Metric\": \"E In Over E Out\", \"Value\": -0.0016130000000000018}, {\"Metric\": \"ODF\", \"Value\": -0.0015340000000000013}, {\"Metric\": \"Expansion\", \"Value\": -0.007597000000000002}, {\"Metric\": \"Cut Ratio\", \"Value\": -0.0018790000000000005}, {\"Metric\": \"Conductance\", \"Value\": -0.0012340000000000016}, {\"Metric\": \"Normalised Cut\", \"Value\": -0.0014640000000000015}, {\"Metric\": \"Triangle Participation\", \"Value\": -0.0002190000000000002}, {\"Metric\": \"Degree\", \"Value\": 0.0014190000000000008}, {\"Metric\": \"Clustering Coefficient\", \"Value\": 0.0044199999999999995}, {\"Metric\": \"Betweenness\", \"Value\": -0.002805000000000001}, {\"Metric\": \"Closeness\", \"Value\": -0.002469000000000001}, {\"Metric\": \"Shortest Path\", \"Value\": -0.0027260000000000027}, {\"Metric\": \"Eigenvector\", \"Value\": -0.0011990000000000017}, {\"Metric\": \"E In\", \"Value\": 0.003461000000000003}, {\"Metric\": \"E Out\", \"Value\": 0.003363000000000002}, {\"Metric\": \"E In Over E Out\", \"Value\": -0.0018400000000000016}, {\"Metric\": \"ODF\", \"Value\": -0.0018170000000000016}, {\"Metric\": \"Expansion\", \"Value\": 0.009434999999999987}, {\"Metric\": \"Cut Ratio\", \"Value\": 0.003854000000000001}, {\"Metric\": \"Conductance\", \"Value\": -0.0017040000000000004}, {\"Metric\": \"Normalised Cut\", \"Value\": -0.0018510000000000041}, {\"Metric\": \"Triangle Participation\", \"Value\": 0.002933000000000005}]}}, {\"mode\": \"vega-lite\"});\n",
       "</script>"
      ],
      "text/plain": [
       "alt.LayerChart(...)"
      ]
     },
     "metadata": {},
     "output_type": "display_data"
    },
    {
     "name": "stdout",
     "output_type": "stream",
     "text": [
      "Random forest accuracy for each graph: [0.8879259259259261, 0.8623157894736841, 0.8691707317073172, 0.9991111111111111, 0.9417291666666667]\n",
      "Random forest balanced accuracy for each graph: [0.7820909090909093, 0.6857557997557997, 0.6789117647058824, 0.9994545454545454, 0.8975374999999999]\n"
     ]
    },
    {
     "data": {
      "text/html": [
       "\n",
       "<div id=\"altair-viz-ce0b506ee20449ebbf8c3f63d96485a2\"></div>\n",
       "<script type=\"text/javascript\">\n",
       "  (function(spec, embedOpt){\n",
       "    const outputDiv = document.getElementById(\"altair-viz-ce0b506ee20449ebbf8c3f63d96485a2\");\n",
       "    const paths = {\n",
       "      \"vega\": \"https://cdn.jsdelivr.net/npm//vega@5?noext\",\n",
       "      \"vega-lib\": \"https://cdn.jsdelivr.net/npm//vega-lib?noext\",\n",
       "      \"vega-lite\": \"https://cdn.jsdelivr.net/npm//vega-lite@4.0.2?noext\",\n",
       "      \"vega-embed\": \"https://cdn.jsdelivr.net/npm//vega-embed@6?noext\",\n",
       "    };\n",
       "\n",
       "    function loadScript(lib) {\n",
       "      return new Promise(function(resolve, reject) {\n",
       "        var s = document.createElement('script');\n",
       "        s.src = paths[lib];\n",
       "        s.async = true;\n",
       "        s.onload = () => resolve(paths[lib]);\n",
       "        s.onerror = () => reject(`Error loading script: ${paths[lib]}`);\n",
       "        document.getElementsByTagName(\"head\")[0].appendChild(s);\n",
       "      });\n",
       "    }\n",
       "\n",
       "    function showError(err) {\n",
       "      outputDiv.innerHTML = `<div class=\"error\" style=\"color:red;\">${err}</div>`;\n",
       "      throw err;\n",
       "    }\n",
       "\n",
       "    function displayChart(vegaEmbed) {\n",
       "      vegaEmbed(outputDiv, spec, embedOpt)\n",
       "        .catch(err => showError(`Javascript Error: ${err.message}<br>This usually means there's a typo in your chart specification. See the javascript console for the full traceback.`));\n",
       "    }\n",
       "\n",
       "    if(typeof define === \"function\" && define.amd) {\n",
       "      requirejs.config({paths});\n",
       "      require([\"vega-embed\"], displayChart, err => showError(`Error loading script: ${err.message}`));\n",
       "    } else if (typeof vegaEmbed === \"function\") {\n",
       "      displayChart(vegaEmbed);\n",
       "    } else {\n",
       "      loadScript(\"vega\")\n",
       "        .then(() => loadScript(\"vega-lite\"))\n",
       "        .then(() => loadScript(\"vega-embed\"))\n",
       "        .catch(showError)\n",
       "        .then(() => displayChart(vegaEmbed));\n",
       "    }\n",
       "  })({\"config\": {\"view\": {\"continuousWidth\": 400, \"continuousHeight\": 300}}, \"layer\": [{\"mark\": {\"type\": \"errorbar\", \"extent\": \"ci\"}, \"encoding\": {\"x\": {\"type\": \"quantitative\", \"field\": \"Value\", \"scale\": {\"zero\": false}}, \"y\": {\"type\": \"nominal\", \"field\": \"Metric\"}}}, {\"mark\": {\"type\": \"point\", \"color\": \"black\", \"filled\": true}, \"encoding\": {\"x\": {\"type\": \"quantitative\", \"aggregate\": \"mean\", \"field\": \"Value\"}, \"y\": {\"type\": \"nominal\", \"field\": \"Metric\"}}}, {\"mark\": {\"type\": \"point\", \"color\": \"red\", \"filled\": true}, \"encoding\": {\"x\": {\"type\": \"quantitative\", \"aggregate\": \"median\", \"field\": \"Value\"}, \"y\": {\"type\": \"nominal\", \"field\": \"Metric\"}}}], \"data\": {\"name\": \"data-f9b39aa04a6e67ef0ec739d7f68fa5aa\"}, \"title\": \"Proportion Stable: 71.43%\", \"$schema\": \"https://vega.github.io/schema/vega-lite/v4.0.2.json\", \"datasets\": {\"data-f9b39aa04a6e67ef0ec739d7f68fa5aa\": [{\"Metric\": \"Degree\", \"Value\": -0.00813}, {\"Metric\": \"Clustering Coefficient\", \"Value\": -0.005524000000000011}, {\"Metric\": \"Betweenness\", \"Value\": 0.004121000000000007}, {\"Metric\": \"Closeness\", \"Value\": -0.026164000000000034}, {\"Metric\": \"Shortest Path\", \"Value\": -0.025603000000000035}, {\"Metric\": \"Eigenvector\", \"Value\": -0.04145500000000002}, {\"Metric\": \"E In\", \"Value\": -0.01014500000000002}, {\"Metric\": \"E Out\", \"Value\": -0.005306000000000001}, {\"Metric\": \"E In Over E Out\", \"Value\": -0.004353999999999999}, {\"Metric\": \"ODF\", \"Value\": -0.004205000000000006}, {\"Metric\": \"Expansion\", \"Value\": 0.0046130000000000025}, {\"Metric\": \"Cut Ratio\", \"Value\": -0.005670000000000007}, {\"Metric\": \"Conductance\", \"Value\": -0.004000000000000006}, {\"Metric\": \"Normalised Cut\", \"Value\": -0.003713000000000003}, {\"Metric\": \"Triangle Participation\", \"Value\": 0.015363000000000002}, {\"Metric\": \"Degree\", \"Value\": -0.01633900000000001}, {\"Metric\": \"Clustering Coefficient\", \"Value\": 0.02101400000000002}, {\"Metric\": \"Betweenness\", \"Value\": -0.0036590000000000047}, {\"Metric\": \"Closeness\", \"Value\": -0.008297000000000004}, {\"Metric\": \"Shortest Path\", \"Value\": -0.008746999999999998}, {\"Metric\": \"Eigenvector\", \"Value\": -0.006821000000000009}, {\"Metric\": \"E In\", \"Value\": -0.01591899999999999}, {\"Metric\": \"E Out\", \"Value\": -0.004065000000000002}, {\"Metric\": \"E In Over E Out\", \"Value\": -0.005249000000000006}, {\"Metric\": \"ODF\", \"Value\": -0.005776000000000008}, {\"Metric\": \"Expansion\", \"Value\": -0.007017000000000004}, {\"Metric\": \"Cut Ratio\", \"Value\": -0.004599000000000005}, {\"Metric\": \"Conductance\", \"Value\": -0.005713000000000001}, {\"Metric\": \"Normalised Cut\", \"Value\": -0.006444000000000006}, {\"Metric\": \"Triangle Participation\", \"Value\": -0.005873000000000002}, {\"Metric\": \"Degree\", \"Value\": -0.01833500000000001}, {\"Metric\": \"Clustering Coefficient\", \"Value\": -0.0015220000000000003}, {\"Metric\": \"Betweenness\", \"Value\": 0.012788000000000008}, {\"Metric\": \"Closeness\", \"Value\": -0.018223000000000017}, {\"Metric\": \"Shortest Path\", \"Value\": -0.018238000000000015}, {\"Metric\": \"Eigenvector\", \"Value\": -0.02937900000000003}, {\"Metric\": \"E In\", \"Value\": -0.02188800000000002}, {\"Metric\": \"E Out\", \"Value\": -0.0052050000000000065}, {\"Metric\": \"E In Over E Out\", \"Value\": -0.0011620000000000018}, {\"Metric\": \"ODF\", \"Value\": -0.0009430000000000008}, {\"Metric\": \"Expansion\", \"Value\": 0.0024160000000000045}, {\"Metric\": \"Cut Ratio\", \"Value\": -0.004900000000000005}, {\"Metric\": \"Conductance\", \"Value\": -0.0005300000000000005}, {\"Metric\": \"Normalised Cut\", \"Value\": -0.0005970000000000005}, {\"Metric\": \"Triangle Participation\", \"Value\": 0.00025300000000000024}, {\"Metric\": \"Degree\", \"Value\": -0.013874000000000015}, {\"Metric\": \"Clustering Coefficient\", \"Value\": -0.006451000000000001}, {\"Metric\": \"Betweenness\", \"Value\": -0.002186999999999998}, {\"Metric\": \"Closeness\", \"Value\": -0.0061419999999999956}, {\"Metric\": \"Shortest Path\", \"Value\": -0.006191999999999993}, {\"Metric\": \"Eigenvector\", \"Value\": -0.0047039999999999955}, {\"Metric\": \"E In\", \"Value\": -0.016904000000000013}, {\"Metric\": \"E Out\", \"Value\": -0.0002489999999999993}, {\"Metric\": \"E In Over E Out\", \"Value\": -0.0005120000000000017}, {\"Metric\": \"ODF\", \"Value\": -0.0010270000000000001}, {\"Metric\": \"Expansion\", \"Value\": -0.0012450000000000004}, {\"Metric\": \"Cut Ratio\", \"Value\": -0.0003100000000000002}, {\"Metric\": \"Conductance\", \"Value\": -0.0012710000000000009}, {\"Metric\": \"Normalised Cut\", \"Value\": -0.0012520000000000007}, {\"Metric\": \"Triangle Participation\", \"Value\": -0.00012799999999999877}, {\"Metric\": \"Degree\", \"Value\": -0.007942000000000013}, {\"Metric\": \"Clustering Coefficient\", \"Value\": 0.007804}, {\"Metric\": \"Betweenness\", \"Value\": -0.0031790000000000017}, {\"Metric\": \"Closeness\", \"Value\": -0.004822000000000004}, {\"Metric\": \"Shortest Path\", \"Value\": -0.004641000000000001}, {\"Metric\": \"Eigenvector\", \"Value\": -0.0031020000000000062}, {\"Metric\": \"E In\", \"Value\": -0.005165000000000012}, {\"Metric\": \"E Out\", \"Value\": -0.0013150000000000013}, {\"Metric\": \"E In Over E Out\", \"Value\": -0.0027299999999999994}, {\"Metric\": \"ODF\", \"Value\": -0.0026900000000000014}, {\"Metric\": \"Expansion\", \"Value\": 0.012921999999999998}, {\"Metric\": \"Cut Ratio\", \"Value\": -0.0027290000000000027}, {\"Metric\": \"Conductance\", \"Value\": -0.002669000000000001}, {\"Metric\": \"Normalised Cut\", \"Value\": -0.002834000000000003}, {\"Metric\": \"Triangle Participation\", \"Value\": 0.0016770000000000023}]}}, {\"mode\": \"vega-lite\"});\n",
       "</script>"
      ],
      "text/plain": [
       "alt.LayerChart(...)"
      ]
     },
     "metadata": {},
     "output_type": "display_data"
    },
    {
     "name": "stdout",
     "output_type": "stream",
     "text": [
      "Random forest accuracy for each graph: [0.939875, 0.8658181818181817, 0.9818333333333333, 0.87925, 0.9171071428571431]\n",
      "Random forest balanced accuracy for each graph: [0.9345636363636364, 0.8137916666666667, 0.9688571428571429, 0.8616727272727274, 0.9058624999999999]\n"
     ]
    },
    {
     "data": {
      "text/html": [
       "\n",
       "<div id=\"altair-viz-67e9ac3d0169460b893d9f93db358e8d\"></div>\n",
       "<script type=\"text/javascript\">\n",
       "  (function(spec, embedOpt){\n",
       "    const outputDiv = document.getElementById(\"altair-viz-67e9ac3d0169460b893d9f93db358e8d\");\n",
       "    const paths = {\n",
       "      \"vega\": \"https://cdn.jsdelivr.net/npm//vega@5?noext\",\n",
       "      \"vega-lib\": \"https://cdn.jsdelivr.net/npm//vega-lib?noext\",\n",
       "      \"vega-lite\": \"https://cdn.jsdelivr.net/npm//vega-lite@4.0.2?noext\",\n",
       "      \"vega-embed\": \"https://cdn.jsdelivr.net/npm//vega-embed@6?noext\",\n",
       "    };\n",
       "\n",
       "    function loadScript(lib) {\n",
       "      return new Promise(function(resolve, reject) {\n",
       "        var s = document.createElement('script');\n",
       "        s.src = paths[lib];\n",
       "        s.async = true;\n",
       "        s.onload = () => resolve(paths[lib]);\n",
       "        s.onerror = () => reject(`Error loading script: ${paths[lib]}`);\n",
       "        document.getElementsByTagName(\"head\")[0].appendChild(s);\n",
       "      });\n",
       "    }\n",
       "\n",
       "    function showError(err) {\n",
       "      outputDiv.innerHTML = `<div class=\"error\" style=\"color:red;\">${err}</div>`;\n",
       "      throw err;\n",
       "    }\n",
       "\n",
       "    function displayChart(vegaEmbed) {\n",
       "      vegaEmbed(outputDiv, spec, embedOpt)\n",
       "        .catch(err => showError(`Javascript Error: ${err.message}<br>This usually means there's a typo in your chart specification. See the javascript console for the full traceback.`));\n",
       "    }\n",
       "\n",
       "    if(typeof define === \"function\" && define.amd) {\n",
       "      requirejs.config({paths});\n",
       "      require([\"vega-embed\"], displayChart, err => showError(`Error loading script: ${err.message}`));\n",
       "    } else if (typeof vegaEmbed === \"function\") {\n",
       "      displayChart(vegaEmbed);\n",
       "    } else {\n",
       "      loadScript(\"vega\")\n",
       "        .then(() => loadScript(\"vega-lite\"))\n",
       "        .then(() => loadScript(\"vega-embed\"))\n",
       "        .catch(showError)\n",
       "        .then(() => displayChart(vegaEmbed));\n",
       "    }\n",
       "  })({\"config\": {\"view\": {\"continuousWidth\": 400, \"continuousHeight\": 300}}, \"layer\": [{\"mark\": {\"type\": \"errorbar\", \"extent\": \"ci\"}, \"encoding\": {\"x\": {\"type\": \"quantitative\", \"field\": \"Value\", \"scale\": {\"zero\": false}}, \"y\": {\"type\": \"nominal\", \"field\": \"Metric\"}}}, {\"mark\": {\"type\": \"point\", \"color\": \"black\", \"filled\": true}, \"encoding\": {\"x\": {\"type\": \"quantitative\", \"aggregate\": \"mean\", \"field\": \"Value\"}, \"y\": {\"type\": \"nominal\", \"field\": \"Metric\"}}}, {\"mark\": {\"type\": \"point\", \"color\": \"red\", \"filled\": true}, \"encoding\": {\"x\": {\"type\": \"quantitative\", \"aggregate\": \"median\", \"field\": \"Value\"}, \"y\": {\"type\": \"nominal\", \"field\": \"Metric\"}}}], \"data\": {\"name\": \"data-b592ba9f3e715bee696f6d55acabfd15\"}, \"title\": \"Proportion Stable: 50.00%\", \"$schema\": \"https://vega.github.io/schema/vega-lite/v4.0.2.json\", \"datasets\": {\"data-b592ba9f3e715bee696f6d55acabfd15\": [{\"Metric\": \"Degree\", \"Value\": -0.04152100000000001}, {\"Metric\": \"Clustering Coefficient\", \"Value\": -0.00033000000000000054}, {\"Metric\": \"Betweenness\", \"Value\": -0.012334000000000001}, {\"Metric\": \"Closeness\", \"Value\": -0.01536299999999998}, {\"Metric\": \"Shortest Path\", \"Value\": -0.013550999999999992}, {\"Metric\": \"Eigenvector\", \"Value\": 3.700000000000444e-05}, {\"Metric\": \"E In\", \"Value\": -0.03202799999999995}, {\"Metric\": \"E Out\", \"Value\": -0.0017709999999999955}, {\"Metric\": \"E In Over E Out\", \"Value\": 0.000329999999999999}, {\"Metric\": \"ODF\", \"Value\": 0.00016099999999999925}, {\"Metric\": \"Expansion\", \"Value\": -0.0035320000000000004}, {\"Metric\": \"Cut Ratio\", \"Value\": -0.002521}, {\"Metric\": \"Conductance\", \"Value\": 0.00034299999999999863}, {\"Metric\": \"Normalised Cut\", \"Value\": 0.00010899999999999907}, {\"Metric\": \"Triangle Participation\", \"Value\": 0.0031769999999999993}, {\"Metric\": \"Degree\", \"Value\": -0.003475999999999991}, {\"Metric\": \"Clustering Coefficient\", \"Value\": 0.06380300000000003}, {\"Metric\": \"Betweenness\", \"Value\": 0.0011159999999999987}, {\"Metric\": \"Closeness\", \"Value\": 0.003192999999999992}, {\"Metric\": \"Shortest Path\", \"Value\": 0.003499999999999995}, {\"Metric\": \"Eigenvector\", \"Value\": 0.01430699999999997}, {\"Metric\": \"E In\", \"Value\": -0.005220999999999995}, {\"Metric\": \"E Out\", \"Value\": 0.004344999999999994}, {\"Metric\": \"E In Over E Out\", \"Value\": 0.0002800000000000007}, {\"Metric\": \"ODF\", \"Value\": 0.0004979999999999983}, {\"Metric\": \"Expansion\", \"Value\": 0.001332999999999998}, {\"Metric\": \"Cut Ratio\", \"Value\": 0.0036829999999999953}, {\"Metric\": \"Conductance\", \"Value\": 0.00024899999999999917}, {\"Metric\": \"Normalised Cut\", \"Value\": 0.0008779999999999984}, {\"Metric\": \"Triangle Participation\", \"Value\": -0.00045899999999999804}, {\"Metric\": \"Degree\", \"Value\": -0.03970399999999994}, {\"Metric\": \"Clustering Coefficient\", \"Value\": 0.0007219999999999985}, {\"Metric\": \"Betweenness\", \"Value\": -0.00400399999999999}, {\"Metric\": \"Closeness\", \"Value\": -0.025029999999999965}, {\"Metric\": \"Shortest Path\", \"Value\": -0.025068999999999942}, {\"Metric\": \"Eigenvector\", \"Value\": -0.03351999999999995}, {\"Metric\": \"E In\", \"Value\": -0.049179000000000014}, {\"Metric\": \"E Out\", \"Value\": -0.0013839999999999996}, {\"Metric\": \"E In Over E Out\", \"Value\": -0.0024759999999999947}, {\"Metric\": \"ODF\", \"Value\": -0.0023739999999999976}, {\"Metric\": \"Expansion\", \"Value\": -0.03432499999999996}, {\"Metric\": \"Cut Ratio\", \"Value\": -0.004177999999999996}, {\"Metric\": \"Conductance\", \"Value\": -0.002721999999999995}, {\"Metric\": \"Normalised Cut\", \"Value\": -0.0024939999999999945}, {\"Metric\": \"Triangle Participation\", \"Value\": -0.0005540000000000007}, {\"Metric\": \"Degree\", \"Value\": -0.01308000000000002}, {\"Metric\": \"Clustering Coefficient\", \"Value\": -0.02344199999999999}, {\"Metric\": \"Betweenness\", \"Value\": -0.002510000000000002}, {\"Metric\": \"Closeness\", \"Value\": -0.01067800000000001}, {\"Metric\": \"Shortest Path\", \"Value\": -0.01047100000000001}, {\"Metric\": \"Eigenvector\", \"Value\": -0.008270000000000012}, {\"Metric\": \"E In\", \"Value\": -0.034989999999999986}, {\"Metric\": \"E Out\", \"Value\": -0.002001000000000001}, {\"Metric\": \"E In Over E Out\", \"Value\": -0.007623000000000009}, {\"Metric\": \"ODF\", \"Value\": -0.007456000000000002}, {\"Metric\": \"Expansion\", \"Value\": -0.016642000000000014}, {\"Metric\": \"Cut Ratio\", \"Value\": -0.0011790000000000019}, {\"Metric\": \"Conductance\", \"Value\": -0.007907999999999998}, {\"Metric\": \"Normalised Cut\", \"Value\": -0.00809100000000001}, {\"Metric\": \"Triangle Participation\", \"Value\": -0.0016160000000000013}, {\"Metric\": \"Degree\", \"Value\": -0.02491899999999997}, {\"Metric\": \"Clustering Coefficient\", \"Value\": 0.0022280000000000025}, {\"Metric\": \"Betweenness\", \"Value\": -0.004514999999999999}, {\"Metric\": \"Closeness\", \"Value\": -0.020701999999999995}, {\"Metric\": \"Shortest Path\", \"Value\": -0.02070999999999997}, {\"Metric\": \"Eigenvector\", \"Value\": -0.012842000000000004}, {\"Metric\": \"E In\", \"Value\": -0.008514999999999997}, {\"Metric\": \"E Out\", \"Value\": 0.00028400000000000024}, {\"Metric\": \"E In Over E Out\", \"Value\": -0.0056629999999999936}, {\"Metric\": \"ODF\", \"Value\": -0.005639000000000008}, {\"Metric\": \"Expansion\", \"Value\": -0.0021369999999999996}, {\"Metric\": \"Cut Ratio\", \"Value\": -0.0041040000000000035}, {\"Metric\": \"Conductance\", \"Value\": -0.007102000000000001}, {\"Metric\": \"Normalised Cut\", \"Value\": -0.006780000000000002}, {\"Metric\": \"Triangle Participation\", \"Value\": 0.0013200000000000004}]}}, {\"mode\": \"vega-lite\"});\n",
       "</script>"
      ],
      "text/plain": [
       "alt.LayerChart(...)"
      ]
     },
     "metadata": {},
     "output_type": "display_data"
    },
    {
     "name": "stdout",
     "output_type": "stream",
     "text": [
      "Random forest accuracy for each graph: [0.6775555555555555, 0.644, 0.7710000000000001, 0.8888888888888892, 0.9426875]\n",
      "Random forest balanced accuracy for each graph: [0.6850000000000002, 0.644, 0.7710000000000001, 0.875, 0.9426875]\n"
     ]
    }
   ],
   "source": [
    "for us in ['', '_undersample_0_2', '_undersample_0_4', '_undersample_1_0']:\n",
    "    mu_feature_importances = {'Metric': [], 'Value': []}\n",
    "    props = []\n",
    "    accuracy = []\n",
    "    balanced_accuracy = []\n",
    "    for graph in [1, 2, 3, 4, 5]:\n",
    "        with open('Community_Data/Infomap/Results/mu_0_2/graph_0{0}{1}/results'.format(graph, us), 'rb') as f:\n",
    "            results = pickle.load(f)\n",
    "        props.append(results['Stable Nodes']*100/(results['Stable Nodes'] + results['Unstable Nodes']))\n",
    "        accuracy.append(np.mean(results['Accuracy Scores']))\n",
    "        balanced_accuracy.append(np.mean(results['Balanced Accuracy Scores']))\n",
    "        perm_importances = results['Feature Importances']\n",
    "        for feat, val in perm_importances.items():\n",
    "            mu_feature_importances['Metric'].append(feat)\n",
    "            mu_feature_importances['Value'].append(val)\n",
    "    mu_feature_importances = pd.DataFrame(data=mu_feature_importances)\n",
    "    error_bars = alt.Chart(mu_feature_importances).mark_errorbar(extent='ci').encode(\n",
    "      x=alt.X('Value:Q', scale=alt.Scale(zero=False)),\n",
    "      y=alt.Y('Metric:N')\n",
    "    )\n",
    "\n",
    "\n",
    "    mean_points = alt.Chart(mu_feature_importances).mark_point(filled=True, color='black').encode(\n",
    "      x=alt.X('Value:Q', aggregate='mean'),\n",
    "      y=alt.Y('Metric:N'),\n",
    "    )\n",
    "\n",
    "    median_points = alt.Chart(mu_feature_importances).mark_point(filled=True, color='red').encode(\n",
    "      x=alt.X('Value:Q', aggregate='median'),\n",
    "      y=alt.Y('Metric:N'),\n",
    "    )\n",
    "\n",
    "    if us == '':\n",
    "        stab = 'Original (Varies by Graph)'\n",
    "    else:\n",
    "        stab = '{0:.2f}%'.format(props[0])\n",
    "    \n",
    "    final_plot = (error_bars + mean_points + median_points).properties(\n",
    "        title=('Proportion Stable: ' + stab)\n",
    "    )\n",
    "\n",
    "    final_plot.display()\n",
    "    \n",
    "    print('Random forest accuracy for each graph:', accuracy)\n",
    "    print('Random forest balanced accuracy for each graph:', balanced_accuracy)"
   ]
  }
 ],
 "metadata": {
  "kernelspec": {
   "display_name": "Python 3",
   "language": "python",
   "name": "python3"
  },
  "language_info": {
   "codemirror_mode": {
    "name": "ipython",
    "version": 3
   },
   "file_extension": ".py",
   "mimetype": "text/x-python",
   "name": "python",
   "nbconvert_exporter": "python",
   "pygments_lexer": "ipython3",
   "version": "3.6.9"
  }
 },
 "nbformat": 4,
 "nbformat_minor": 4
}
