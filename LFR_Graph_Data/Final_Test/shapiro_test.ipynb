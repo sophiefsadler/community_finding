{
 "cells": [
  {
   "cell_type": "code",
   "execution_count": 3,
   "metadata": {},
   "outputs": [],
   "source": [
    "from scipy.stats import shapiro\n",
    "import pickle\n",
    "import numpy as np"
   ]
  },
  {
   "cell_type": "code",
   "execution_count": 29,
   "metadata": {},
   "outputs": [],
   "source": [
    "feature_names = ['Common Neighbours', 'Jaccard', 'Cosine Similarity', 'Shortest Path', 'Max Edge Centrality']"
   ]
  },
  {
   "cell_type": "code",
   "execution_count": 46,
   "metadata": {},
   "outputs": [],
   "source": [
    "mu = 3\n",
    "mu_feature_importances = {'Metric': [], 'Value': []}\n",
    "for graph in [1, 2, 3, 4, 5]:\n",
    "    with open('Community_Data/LPA/Results/mu_0_{0}/graph_0{1}_pair/results'.format(mu, graph), 'rb') as f:\n",
    "        results = pickle.load(f)\n",
    "    perm_importances = results['Feature Importances']\n",
    "    for feat, val in perm_importances.items():\n",
    "        mu_feature_importances['Metric'].append(feat)\n",
    "        mu_feature_importances['Value'].append(val)\n",
    "for graph in [1, 2, 3, 4, 5, 6, 7, 8, 9, 10, 11, 12, 13, 14, 15]:\n",
    "    with open('Community_Data/LPA/Results_Additional/mu_0_{0}/graph_0{1}_pair/results'.format(mu, graph), 'rb') as f:\n",
    "        results = pickle.load(f)\n",
    "    perm_importances = results['Feature Importances']\n",
    "    for feat, val in perm_importances.items():\n",
    "        mu_feature_importances['Metric'].append(feat)\n",
    "        mu_feature_importances['Value'].append(val)"
   ]
  },
  {
   "cell_type": "code",
   "execution_count": 47,
   "metadata": {},
   "outputs": [
    {
     "name": "stdout",
     "output_type": "stream",
     "text": [
      "Common Neighbours\n",
      "The Shapiro statistic was: 0.9204057455062866 with p-value: 0.10088320076465607\n",
      "\n",
      "Jaccard\n",
      "The Shapiro statistic was: 0.7907946109771729 with p-value: 0.0006318581872619689\n",
      "\n",
      "Cosine Similarity\n",
      "The Shapiro statistic was: 0.840277910232544 with p-value: 0.0036789500154554844\n",
      "\n",
      "Shortest Path\n",
      "The Shapiro statistic was: 0.559550940990448 with p-value: 1.1536346846696688e-06\n",
      "\n",
      "Max Edge Centrality\n",
      "The Shapiro statistic was: 0.45895761251449585 with p-value: 1.3808788423830265e-07\n",
      "\n"
     ]
    }
   ],
   "source": [
    "for feat in feature_names:\n",
    "    feat_vals = []\n",
    "    for i, current_feat in enumerate(mu_feature_importances['Metric']):\n",
    "        if current_feat == feat:\n",
    "            feat_vals.append(mu_feature_importances['Value'][i])\n",
    "    shapiro_test = shapiro(feat_vals)\n",
    "    print('{0}'.format(feat))\n",
    "    print('The Shapiro statistic was: {0} with p-value: {1}'.format(shapiro_test.statistic, shapiro_test.pvalue))\n",
    "    print('')"
   ]
  },
  {
   "cell_type": "code",
   "execution_count": null,
   "metadata": {},
   "outputs": [],
   "source": []
  }
 ],
 "metadata": {
  "kernelspec": {
   "display_name": "Python 3",
   "language": "python",
   "name": "python3"
  },
  "language_info": {
   "codemirror_mode": {
    "name": "ipython",
    "version": 3
   },
   "file_extension": ".py",
   "mimetype": "text/x-python",
   "name": "python",
   "nbconvert_exporter": "python",
   "pygments_lexer": "ipython3",
   "version": "3.6.9"
  }
 },
 "nbformat": 4,
 "nbformat_minor": 4
}
