{
 "cells": [
  {
   "cell_type": "code",
   "execution_count": 4,
   "metadata": {},
   "outputs": [],
   "source": [
    "import numpy as np\n",
    "import networkx as nx\n",
    "import community\n",
    "import yaml"
   ]
  },
  {
   "cell_type": "code",
   "execution_count": 5,
   "metadata": {},
   "outputs": [],
   "source": [
    "def mean_modularity(graph_path, runs_path):\n",
    "    modularities = []\n",
    "    runs = np.load(runs_path)\n",
    "    with open(graph_path) as f:\n",
    "        graph_info = yaml.load(f, Loader=yaml.Loader)\n",
    "    G = graph_info['G']\n",
    "    for i in range(1000):\n",
    "        part = runs[i, :]\n",
    "        part_dict = {node: comm for node, comm in enumerate(part)}\n",
    "        modularity = community.modularity(part_dict, G)\n",
    "        modularities.append(modularity)\n",
    "    mean_modularity = np.mean(modularities)\n",
    "    return mean_modularity"
   ]
  }
 ],
 "metadata": {
  "kernelspec": {
   "display_name": "Python 3",
   "language": "python",
   "name": "python3"
  },
  "language_info": {
   "codemirror_mode": {
    "name": "ipython",
    "version": 3
   },
   "file_extension": ".py",
   "mimetype": "text/x-python",
   "name": "python",
   "nbconvert_exporter": "python",
   "pygments_lexer": "ipython3",
   "version": "3.6.9"
  }
 },
 "nbformat": 4,
 "nbformat_minor": 4
}
