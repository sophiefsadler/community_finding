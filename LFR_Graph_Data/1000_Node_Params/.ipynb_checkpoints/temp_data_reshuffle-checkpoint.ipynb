{
 "cells": [
  {
   "cell_type": "code",
   "execution_count": 41,
   "metadata": {},
   "outputs": [],
   "source": [
    "import pandas as pd\n",
    "import numpy as np\n",
    "import math\n",
    "from sklearn.cluster import KMeans\n",
    "from sklearn.model_selection import train_test_split"
   ]
  },
  {
   "cell_type": "code",
   "execution_count": 58,
   "metadata": {},
   "outputs": [],
   "source": [
    "def element_entropy(C):\n",
    "    E = np.empty_like(C)\n",
    "    rows, cols = E.shape\n",
    "    for row in range(rows):\n",
    "        for col in range(cols):\n",
    "            p = C[row,col]\n",
    "            if p > 0:\n",
    "                E[row,col] = -p * math.log(p, 2)\n",
    "            else:\n",
    "                E[row,col] = 0\n",
    "    entrop = np.mean(E, axis=1)\n",
    "    return entrop"
   ]
  },
  {
   "cell_type": "code",
   "execution_count": 59,
   "metadata": {},
   "outputs": [],
   "source": [
    "root_folder = 'LPA_Data/by_mu/'\n",
    "x = pd.DataFrame()"
   ]
  },
  {
   "cell_type": "code",
   "execution_count": 60,
   "metadata": {},
   "outputs": [],
   "source": [
    "for mu in [2, 3, 4]:\n",
    "    test = pd.read_csv(root_folder + 'node_x_test_mu_{0}.csv'.format(mu), index_col=0)\n",
    "    train = pd.read_csv(root_folder + 'node_x_train_mu_{0}.csv'.format(mu), index_col=0)\n",
    "    x = pd.concat([x, test, train])"
   ]
  },
  {
   "cell_type": "code",
   "execution_count": 61,
   "metadata": {},
   "outputs": [],
   "source": [
    "co_mat = []\n",
    "for mu in [2, 3, 4]:\n",
    "    for graph in [1, 2, 3, 4, 5]:\n",
    "        co_mat_file = 'Community_Data/LPA/Coassociation/graph_0{0}_mu_0_{1}_coassociation.npy'.format(graph, mu)\n",
    "        co_mat.append(np.load(co_mat_file))"
   ]
  },
  {
   "cell_type": "code",
   "execution_count": 62,
   "metadata": {},
   "outputs": [],
   "source": [
    "node_entropies = []\n",
    "for mat in co_mat:\n",
    "    entropies = element_entropy(mat)\n",
    "    node_entropies += list(entropies)"
   ]
  },
  {
   "cell_type": "code",
   "execution_count": 63,
   "metadata": {},
   "outputs": [],
   "source": [
    "median_cutoff = np.median(node_entropies)"
   ]
  },
  {
   "cell_type": "code",
   "execution_count": 64,
   "metadata": {},
   "outputs": [],
   "source": [
    "kmeans = KMeans(n_clusters=2).fit(np.array(node_entropies).reshape(-1,1))\n",
    "kmeans_cutoff = np.mean(kmeans.cluster_centers_)"
   ]
  },
  {
   "cell_type": "code",
   "execution_count": 65,
   "metadata": {},
   "outputs": [],
   "source": [
    "median_y = np.where(node_entropies <= median_cutoff, 0, 1)\n",
    "kmeans_y = np.where(node_entropies <= kmeans_cutoff, 0, 1)"
   ]
  },
  {
   "cell_type": "code",
   "execution_count": 66,
   "metadata": {},
   "outputs": [],
   "source": [
    "indices = []\n",
    "for mu in [2, 3, 4]:\n",
    "    for graph in [1, 2, 3, 4, 5]:\n",
    "        gr_indices = ['graph_{0}_{1}_node_{2}'.format(mu, graph, i) for i in range(1000)]\n",
    "        indices += gr_indices"
   ]
  },
  {
   "cell_type": "code",
   "execution_count": 67,
   "metadata": {},
   "outputs": [],
   "source": [
    "median_y_df = pd.DataFrame(median_y, index=indices, columns=['Stability'])\n",
    "kmeans_y_df = pd.DataFrame(kmeans_y, index=indices, columns=['Stability'])"
   ]
  },
  {
   "cell_type": "code",
   "execution_count": 68,
   "metadata": {},
   "outputs": [],
   "source": [
    "X_train, X_test, y_train, y_test = train_test_split(x, kmeans_y_df, stratify=kmeans_y_df, test_size=0.2)\n",
    "final_folder = 'LPA_Data/all/'\n",
    "X_train.to_csv(final_folder + 'node_x_train_kmeans.csv')\n",
    "X_test.to_csv(final_folder + 'node_x_test_kmeans.csv')\n",
    "y_train.to_csv(final_folder + 'node_y_train_kmeans.csv')\n",
    "y_test.to_csv(final_folder + 'node_y_test_kmeans.csv')"
   ]
  },
  {
   "cell_type": "code",
   "execution_count": 69,
   "metadata": {},
   "outputs": [],
   "source": [
    "X_train, X_test, y_train, y_test = train_test_split(x, median_y_df, stratify=median_y_df, test_size=0.2)\n",
    "final_folder = 'LPA_Data/all/'\n",
    "X_train.to_csv(final_folder + 'node_x_train.csv')\n",
    "X_test.to_csv(final_folder + 'node_x_test.csv')\n",
    "y_train.to_csv(final_folder + 'node_y_train.csv')\n",
    "y_test.to_csv(final_folder + 'node_y_test.csv')"
   ]
  },
  {
   "cell_type": "code",
   "execution_count": 78,
   "metadata": {},
   "outputs": [],
   "source": [
    "root_folder = 'Infomap_Data/by_mu/'\n",
    "x = pd.DataFrame()\n",
    "for mu in [2, 3, 4]:\n",
    "    test = pd.read_csv(root_folder + 'node_x_test_mu_{0}.csv'.format(mu), index_col=0)\n",
    "    train = pd.read_csv(root_folder + 'node_x_train_mu_{0}.csv'.format(mu), index_col=0)\n",
    "    x = pd.concat([x, test, train])"
   ]
  },
  {
   "cell_type": "code",
   "execution_count": 79,
   "metadata": {},
   "outputs": [],
   "source": [
    "for mu in [2, 3, 4]:\n",
    "    for graph in [1, 2, 3, 4, 5]:\n",
    "        co_mat_file = 'Community_Data/Infomap/Coassociation/graph_0{0}_mu_0_{1}_coassociation.npy'.format(graph, mu)\n",
    "        co_mat.append(np.load(co_mat_file))\n",
    "        node_entropies = element_entropy(mat)\n",
    "        median_cutoff = np.median(node_entropies)\n",
    "        kmeans = KMeans(n_clusters=2).fit(np.array(node_entropies).reshape(-1,1))\n",
    "        kmeans_cutoff = np.mean(kmeans.cluster_centers_)\n",
    "        indices = ['graph_{0}_{1}_node_{2}'.format(mu, graph, i) for i in range(1000)]\n",
    "        median_y = np.where(node_entropies <= median_cutoff, 0, 1)\n",
    "        kmeans_y = np.where(node_entropies <= kmeans_cutoff, 0, 1)\n",
    "        median_y_df = pd.DataFrame(median_y, index=indices, columns=['Stability'])\n",
    "        kmeans_y_df = pd.DataFrame(kmeans_y, index=indices, columns=['Stability'])\n",
    "        x_df = x.loc[median_y_df.index]\n",
    "        X_train, X_test, y_train, y_test = train_test_split(x_df, kmeans_y_df, stratify=kmeans_y_df, test_size=0.2)\n",
    "        final_folder = 'Infomap_Data/by_graph/'\n",
    "        X_train.to_csv(final_folder + 'node_x_train_kmeans_graph_{0}_{1}.csv'.format(mu, graph))\n",
    "        X_test.to_csv(final_folder + 'node_x_test_kmeans_graph_{0}_{1}.csv'.format(mu, graph))\n",
    "        y_train.to_csv(final_folder + 'node_y_train_kmeans_graph_{0}_{1}.csv'.format(mu, graph))\n",
    "        y_test.to_csv(final_folder + 'node_y_test_kmeans_graph_{0}_{1}.csv'.format(mu, graph))\n",
    "        X_train, X_test, y_train, y_test = train_test_split(x_df, median_y_df, stratify=median_y_df, test_size=0.2)\n",
    "        final_folder = 'Infomap_Data/by_graph/'\n",
    "        X_train.to_csv(final_folder + 'node_x_train_graph_{0}_{1}.csv'.format(mu, graph))\n",
    "        X_test.to_csv(final_folder + 'node_x_test_graph_{0}_{1}.csv'.format(mu, graph))\n",
    "        y_train.to_csv(final_folder + 'node_y_train_graph_{0}_{1}.csv'.format(mu, graph))\n",
    "        y_test.to_csv(final_folder + 'node_y_test_graph_{0}_{1}.csv'.format(mu, graph))"
   ]
  },
  {
   "cell_type": "code",
   "execution_count": null,
   "metadata": {},
   "outputs": [],
   "source": []
  }
 ],
 "metadata": {
  "kernelspec": {
   "display_name": "Python 3",
   "language": "python",
   "name": "python3"
  },
  "language_info": {
   "codemirror_mode": {
    "name": "ipython",
    "version": 3
   },
   "file_extension": ".py",
   "mimetype": "text/x-python",
   "name": "python",
   "nbconvert_exporter": "python",
   "pygments_lexer": "ipython3",
   "version": "3.6.9"
  }
 },
 "nbformat": 4,
 "nbformat_minor": 4
}
