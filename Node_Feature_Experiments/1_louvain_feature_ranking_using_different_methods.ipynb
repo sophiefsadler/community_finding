{
 "cells": [
  {
   "cell_type": "markdown",
   "metadata": {},
   "source": [
    "# Node Feature Ranking\n",
    "\n",
    "Taking all nodes from all graphs (across all mu levels), we split nodes into \"stable\" (entropy < 0.0195) and \"unstable\" (entropy >= 0.0195) and use a random forest to determine which node features are most important in the associated binary classification task"
   ]
  },
  {
   "cell_type": "code",
   "execution_count": 1,
   "metadata": {},
   "outputs": [],
   "source": [
    "import os\n",
    "import yaml\n",
    "import numpy as np\n",
    "import matplotlib.pyplot as plt\n",
    "import pandas as pd\n",
    "%matplotlib inline"
   ]
  },
  {
   "cell_type": "markdown",
   "metadata": {},
   "source": [
    "### Reading in the data\n",
    "\n",
    "Node features have been pre-calculated for each node, as have co-assocation matrices for each graph. The node entropies have to be calculated from the co-association matrices "
   ]
  },
  {
   "cell_type": "code",
   "execution_count": 2,
   "metadata": {},
   "outputs": [],
   "source": [
    "X_train = pd.read_csv('../Louvain_Data/node_x_train.csv', index_col=0)\n",
    "y_train = pd.read_csv('../Louvain_Data/node_y_train.csv', index_col=0)"
   ]
  },
  {
   "cell_type": "markdown",
   "metadata": {},
   "source": [
    "### Feature ranking with random forest\n",
    "\n",
    "Now we're going to perform the node feature ranking using a random forest. During training, we will use a stratified k-fold cross-validation scheme."
   ]
  },
  {
   "cell_type": "code",
   "execution_count": 3,
   "metadata": {},
   "outputs": [],
   "source": [
    "runs = 100"
   ]
  },
  {
   "cell_type": "code",
   "execution_count": 4,
   "metadata": {},
   "outputs": [],
   "source": [
    "feature_list = list(X_train.columns)\n",
    "data = np.array(X_train)\n",
    "labels = np.squeeze(np.array(y_train))"
   ]
  },
  {
   "cell_type": "code",
   "execution_count": 5,
   "metadata": {},
   "outputs": [],
   "source": [
    "from sklearn.model_selection import StratifiedKFold\n",
    "from sklearn.ensemble import RandomForestClassifier\n",
    "from sklearn import metrics\n",
    "\n",
    "accuracy_scores = []\n",
    "feature_importances = {}\n",
    "for f in feature_list:\n",
    "    feature_importances[f] = []\n",
    "rows = []\n",
    "\n",
    "skf = StratifiedKFold(n_splits=5)\n",
    "rf = RandomForestClassifier()\n",
    "\n",
    "fold_count = 0\n",
    "\n",
    "for run in range(1, runs+1):\n",
    "    \n",
    "    for i in range(5):\n",
    "        \n",
    "        fold_count += 1\n",
    "        \n",
    "        folds = next(skf.split(data, labels), None)\n",
    "        \n",
    "        X_train_fold = data[folds[0], :]\n",
    "        X_val_fold = data[folds[1], :]\n",
    "        y_train_fold = labels[folds[0]]\n",
    "        y_val_fold = labels[folds[1]]\n",
    "        \n",
    "        model = rf.fit(X_train_fold, y_train_fold)\n",
    "        predictions = rf.predict(X_val_fold)\n",
    "    \n",
    "        accuracy_scores.append(metrics.accuracy_score(y_val_fold, predictions))\n",
    "\n",
    "        row = { \"run\" : fold_count }\n",
    "        for j, feature in enumerate(feature_list):\n",
    "            row[feature] = rf.feature_importances_[j]\n",
    "        rows.append(row)"
   ]
  },
  {
   "cell_type": "markdown",
   "metadata": {},
   "source": [
    "### Check accuracy scores\n",
    "\n",
    "Let's have a look at the accuracy scores to make sure the model is working."
   ]
  },
  {
   "cell_type": "code",
   "execution_count": 6,
   "metadata": {},
   "outputs": [
    {
     "name": "stdout",
     "output_type": "stream",
     "text": [
      "[0.9046875, 0.9109375, 0.9140625, 0.9109375, 0.9046875, 0.90625, 0.909375, 0.909375, 0.9125, 0.9109375, 0.90625, 0.9125, 0.915625, 0.9046875, 0.909375, 0.9046875, 0.909375, 0.9046875, 0.9078125, 0.90625, 0.9171875, 0.9109375, 0.9109375, 0.9046875, 0.9125, 0.9078125, 0.909375, 0.90625, 0.9140625, 0.90625, 0.909375, 0.90625, 0.9078125, 0.9109375, 0.909375, 0.9125, 0.9109375, 0.9078125, 0.909375, 0.9046875, 0.909375, 0.9015625, 0.9125, 0.9078125, 0.896875, 0.9109375, 0.9109375, 0.9046875, 0.909375, 0.9125, 0.9140625, 0.9046875, 0.9109375, 0.9171875, 0.909375, 0.9078125, 0.915625, 0.9078125, 0.909375, 0.8984375, 0.903125, 0.9109375, 0.9125, 0.9046875, 0.9109375, 0.9015625, 0.90625, 0.9078125, 0.909375, 0.9078125, 0.9015625, 0.909375, 0.90625, 0.9171875, 0.9078125, 0.915625, 0.9078125, 0.9125, 0.9140625, 0.9046875, 0.9078125, 0.9140625, 0.9078125, 0.90625, 0.909375, 0.903125, 0.9078125, 0.90625, 0.903125, 0.9125, 0.9125, 0.909375, 0.90625, 0.90625, 0.9015625, 0.9109375, 0.9046875, 0.9046875, 0.9078125, 0.909375, 0.90625, 0.9125, 0.909375, 0.915625, 0.9109375, 0.909375, 0.909375, 0.90625, 0.90625, 0.9078125, 0.9109375, 0.91875, 0.909375, 0.9078125, 0.90625, 0.9140625, 0.9140625, 0.9078125, 0.903125, 0.903125, 0.9109375, 0.909375, 0.9125, 0.909375, 0.903125, 0.9015625, 0.903125, 0.9140625, 0.9015625, 0.9109375, 0.9109375, 0.9078125, 0.9046875, 0.9078125, 0.9140625, 0.909375, 0.9125, 0.9109375, 0.915625, 0.9109375, 0.9046875, 0.9109375, 0.9046875, 0.909375, 0.90625, 0.9109375, 0.9078125, 0.9140625, 0.909375, 0.90625, 0.9078125, 0.9078125, 0.909375, 0.90625, 0.909375, 0.9078125, 0.9140625, 0.9109375, 0.9078125, 0.9078125, 0.9078125, 0.9015625, 0.90625, 0.9125, 0.9015625, 0.9046875, 0.909375, 0.90625, 0.915625, 0.903125, 0.9109375, 0.9125, 0.9109375, 0.9078125, 0.9078125, 0.9125, 0.909375, 0.909375, 0.9171875, 0.9078125, 0.909375, 0.9078125, 0.9046875, 0.9109375, 0.9171875, 0.9109375, 0.915625, 0.9109375, 0.9078125, 0.909375, 0.9078125, 0.909375, 0.9078125, 0.909375, 0.9, 0.9078125, 0.9046875, 0.9125, 0.9078125, 0.909375, 0.9109375, 0.9140625, 0.909375, 0.9125, 0.9078125, 0.9109375, 0.909375, 0.8984375, 0.9046875, 0.9109375, 0.9046875, 0.90625, 0.9046875, 0.909375, 0.903125, 0.909375, 0.90625, 0.9109375, 0.9078125, 0.903125, 0.9078125, 0.9046875, 0.9046875, 0.915625, 0.909375, 0.909375, 0.9109375, 0.9046875, 0.9046875, 0.909375, 0.9078125, 0.9109375, 0.9109375, 0.915625, 0.9046875, 0.9046875, 0.9046875, 0.9109375, 0.909375, 0.9109375, 0.9125, 0.9078125, 0.9015625, 0.90625, 0.9078125, 0.9109375, 0.9078125, 0.915625, 0.90625, 0.9078125, 0.9109375, 0.9046875, 0.909375, 0.9109375, 0.9046875, 0.909375, 0.9109375, 0.903125, 0.909375, 0.9046875, 0.9078125, 0.9109375, 0.909375, 0.9140625, 0.90625, 0.9109375, 0.9078125, 0.9046875, 0.90625, 0.9125, 0.9078125, 0.909375, 0.9078125, 0.9078125, 0.903125, 0.9109375, 0.9140625, 0.9078125, 0.9109375, 0.9046875, 0.9078125, 0.90625, 0.9078125, 0.9125, 0.90625, 0.909375, 0.91875, 0.909375, 0.915625, 0.9046875, 0.9125, 0.9078125, 0.903125, 0.909375, 0.9078125, 0.9109375, 0.90625, 0.90625, 0.9109375, 0.9015625, 0.909375, 0.909375, 0.909375, 0.9140625, 0.9140625, 0.9078125, 0.9078125, 0.9109375, 0.9125, 0.909375, 0.9, 0.9046875, 0.9140625, 0.915625, 0.9078125, 0.9, 0.90625, 0.9125, 0.909375, 0.9046875, 0.9140625, 0.9015625, 0.909375, 0.9046875, 0.909375, 0.9078125, 0.90625, 0.903125, 0.9078125, 0.9125, 0.9078125, 0.9109375, 0.9078125, 0.9140625, 0.9078125, 0.909375, 0.9078125, 0.9046875, 0.9109375, 0.9046875, 0.9109375, 0.9078125, 0.9109375, 0.9109375, 0.9125, 0.903125, 0.9125, 0.9140625, 0.9015625, 0.9015625, 0.9203125, 0.909375, 0.9125, 0.9078125, 0.9015625, 0.909375, 0.9078125, 0.90625, 0.9109375, 0.9046875, 0.915625, 0.9078125, 0.909375, 0.9078125, 0.9109375, 0.9109375, 0.909375, 0.9046875, 0.90625, 0.9109375, 0.9078125, 0.909375, 0.9125, 0.903125, 0.9125, 0.90625, 0.9109375, 0.9125, 0.90625, 0.909375, 0.909375, 0.9078125, 0.9109375, 0.903125, 0.9171875, 0.9078125, 0.9125, 0.90625, 0.9109375, 0.9078125, 0.90625, 0.909375, 0.9078125, 0.9171875, 0.9046875, 0.909375, 0.909375, 0.909375, 0.9125, 0.90625, 0.9109375, 0.9109375, 0.90625, 0.90625, 0.909375, 0.90625, 0.9140625, 0.903125, 0.9109375, 0.909375, 0.90625, 0.9125, 0.9078125, 0.9078125, 0.9046875, 0.9109375, 0.9109375, 0.9125, 0.9125, 0.9078125, 0.9078125, 0.909375, 0.9140625, 0.9015625, 0.9078125, 0.9046875, 0.9015625, 0.9109375, 0.9046875, 0.903125, 0.90625, 0.9109375, 0.909375, 0.909375, 0.9078125, 0.9046875, 0.9078125, 0.903125, 0.9046875, 0.903125, 0.9046875, 0.9078125, 0.90625, 0.909375, 0.9109375, 0.9078125, 0.909375, 0.909375, 0.9, 0.90625, 0.9109375, 0.9046875, 0.9078125, 0.9046875, 0.9015625, 0.9078125, 0.9125, 0.9109375, 0.909375, 0.915625, 0.9125, 0.9140625, 0.9046875, 0.909375, 0.9109375, 0.9140625, 0.9078125, 0.9015625, 0.9109375, 0.9046875, 0.9125, 0.9109375, 0.90625, 0.90625, 0.9, 0.9046875, 0.9078125, 0.9109375, 0.909375, 0.915625, 0.9140625, 0.909375, 0.903125, 0.9078125, 0.9078125, 0.9109375, 0.9078125, 0.903125, 0.9078125, 0.9078125, 0.909375, 0.9109375, 0.9125, 0.9125, 0.909375, 0.9078125, 0.90625, 0.90625, 0.90625, 0.9046875]\n",
      "~~~~~~~~~~~~~~~~~~~~~\n",
      "0.9086\n"
     ]
    }
   ],
   "source": [
    "print(accuracy_scores)\n",
    "print('~~~~~~~~~~~~~~~~~~~~~')\n",
    "print(np.mean(accuracy_scores))"
   ]
  },
  {
   "cell_type": "markdown",
   "metadata": {},
   "source": [
    "### Feature ranking\n",
    "\n",
    "From the accuracy scores, we can see that the model is definitely learning something, so now let's rank the features."
   ]
  },
  {
   "cell_type": "code",
   "execution_count": 7,
   "metadata": {},
   "outputs": [],
   "source": [
    "df_importances = pd.DataFrame(rows).set_index(\"run\")"
   ]
  },
  {
   "cell_type": "code",
   "execution_count": 8,
   "metadata": {},
   "outputs": [],
   "source": [
    "feature_ranking = df_importances.mean().sort_values(ascending=False)"
   ]
  },
  {
   "cell_type": "code",
   "execution_count": 9,
   "metadata": {},
   "outputs": [
    {
     "data": {
      "image/png": "[encoded data removed]",
      "text/plain": [
       "<Figure size 648x432 with 1 Axes>"
      ]
     },
     "metadata": {
      "needs_background": "light"
     },
     "output_type": "display_data"
    }
   ],
   "source": [
    "ax = feature_ranking[::-1].plot.barh( fontsize=13, figsize=(9,6), color=\"pink\", zorder=3 );\n",
    "ax.set_xlabel(\"Mean Feature Importance\", fontsize=13);\n",
    "ax.xaxis.grid();"
   ]
  },
  {
   "cell_type": "markdown",
   "metadata": {},
   "source": [
    "### Pairwise graph training\n",
    "\n",
    "Now we're going to train and validate the model using the method suggested by Derek (train on 1 graph, validate on another, then swap). We're still using the same train set of nodes previously created. As the train set did not at all depend on graph, each graph has a random number of nodes for training. We can check that these are at least roughly equal when we segregate by graph. Unfortunately graph segregation has to be done by reading strings as this is the only place I saved the graph information in the train set."
   ]
  },
  {
   "cell_type": "code",
   "execution_count": 10,
   "metadata": {},
   "outputs": [],
   "source": [
    "train_indices_by_graph = {(i,j): [] for i in [1,2,3,4] for j in [1,2,3,4,5]}"
   ]
  },
  {
   "cell_type": "code",
   "execution_count": 11,
   "metadata": {},
   "outputs": [],
   "source": [
    "for graph_string in list(X_train.index):\n",
    "    mu_val = int(graph_string[6])\n",
    "    graph_val = int(graph_string[8])\n",
    "    train_indices_by_graph[(mu_val, graph_val)].append(graph_string)"
   ]
  },
  {
   "cell_type": "code",
   "execution_count": 12,
   "metadata": {},
   "outputs": [
    {
     "name": "stdout",
     "output_type": "stream",
     "text": [
      "[165, 160, 163, 154, 154, 163, 163, 162, 159, 162, 159, 160, 159, 161, 157, 160, 158, 155, 162, 164]\n"
     ]
    }
   ],
   "source": [
    "print([len(l) for l in train_indices_by_graph.values()])"
   ]
  },
  {
   "cell_type": "markdown",
   "metadata": {},
   "source": [
    "All our train/validation sets here are roughly the same size (152-172)."
   ]
  },
  {
   "cell_type": "code",
   "execution_count": 13,
   "metadata": {},
   "outputs": [],
   "source": [
    "runs = 100"
   ]
  },
  {
   "cell_type": "code",
   "execution_count": 14,
   "metadata": {},
   "outputs": [],
   "source": [
    "feature_list = list(X_train.columns)\n",
    "\n",
    "data = []\n",
    "labels = []\n",
    "for _, graph_indices in train_indices_by_graph.items():\n",
    "    data.append(np.array(X_train.loc[graph_indices]))\n",
    "    labels.append(np.squeeze(np.array(y_train.loc[graph_indices])))"
   ]
  },
  {
   "cell_type": "markdown",
   "metadata": {},
   "source": [
    "Create the set of pairs of graphs to train on."
   ]
  },
  {
   "cell_type": "code",
   "execution_count": 15,
   "metadata": {},
   "outputs": [],
   "source": [
    "graph_pairs = [(i,j) for i in range(20) for j in range(20) if i < j]"
   ]
  },
  {
   "cell_type": "code",
   "execution_count": 16,
   "metadata": {},
   "outputs": [],
   "source": [
    "from sklearn.model_selection import StratifiedKFold\n",
    "from sklearn.ensemble import RandomForestClassifier\n",
    "from sklearn import metrics\n",
    "\n",
    "accuracy_scores = []\n",
    "feature_importances = {}\n",
    "for f in feature_list:\n",
    "    feature_importances[f] = []\n",
    "rows = []\n",
    "\n",
    "skf = StratifiedKFold(n_splits=5)\n",
    "rf = RandomForestClassifier()\n",
    "\n",
    "for graph_1, graph_2 in graph_pairs:\n",
    "    \n",
    "    X_graph_1 = data[graph_1]\n",
    "    X_graph_2 = data[graph_2]\n",
    "    y_graph_1 = labels[graph_1]\n",
    "    y_graph_2 = labels[graph_2]\n",
    "\n",
    "    model = rf.fit(X_graph_1, y_graph_1)\n",
    "    predictions = rf.predict(X_graph_2)\n",
    "\n",
    "    accuracy_scores.append(metrics.accuracy_score(y_graph_2, predictions))\n",
    "    \n",
    "    model = rf.fit(X_graph_2, y_graph_2)\n",
    "    predictions = rf.predict(X_graph_1)\n",
    "\n",
    "    accuracy_scores.append(metrics.accuracy_score(y_graph_1, predictions))\n",
    "\n",
    "    row = { \"run\" : run }\n",
    "    for i, feature in enumerate(feature_list):\n",
    "        row[feature] = rf.feature_importances_[i]\n",
    "    rows.append(row)"
   ]
  },
  {
   "cell_type": "code",
   "execution_count": 17,
   "metadata": {},
   "outputs": [
    {
     "name": "stdout",
     "output_type": "stream",
     "text": [
      "[1.0, 1.0, 1.0, 1.0, 1.0, 1.0, 1.0, 1.0, 0.9877300613496932, 1.0, 0.9877300613496932, 1.0, 0.9691358024691358, 1.0, 1.0, 1.0, 0.9567901234567902, 1.0, 0.6855345911949685, 1.0, 0.9, 1.0, 0.8238993710691824, 1.0, 0.6894409937888198, 0.9333333333333333, 0.9808917197452229, 1.0, 0.0, 0.0, 0.0, 0.0, 0.0, 0.0, 0.0, 0.0, 0.0, 0.0, 1.0, 1.0, 1.0, 1.0, 1.0, 1.0, 0.9877300613496932, 1.0, 0.9877300613496932, 1.0, 0.9691358024691358, 1.0, 1.0, 1.0, 0.9567901234567902, 1.0, 0.6855345911949685, 0.9875, 0.9, 1.0, 0.8238993710691824, 1.0, 0.6894409937888198, 0.9375, 0.9808917197452229, 1.0, 0.0, 0.0, 0.0, 0.0, 0.0, 0.0, 0.0, 0.0, 0.0, 0.0, 1.0, 1.0, 1.0, 1.0, 0.9877300613496932, 1.0, 0.9877300613496932, 1.0, 0.9691358024691358, 0.9938650306748467, 1.0, 1.0, 0.9567901234567902, 1.0, 0.6855345911949685, 0.9938650306748467, 0.9, 1.0, 0.8238993710691824, 0.9938650306748467, 0.6894409937888198, 0.9447852760736196, 0.9808917197452229, 1.0, 0.0, 0.0, 0.0, 0.0, 0.0, 0.0, 0.0, 0.0, 0.0, 0.0, 1.0, 1.0, 0.9877300613496932, 1.0, 0.9877300613496932, 1.0, 0.9691358024691358, 1.0, 1.0, 1.0, 0.9567901234567902, 0.9935064935064936, 0.6855345911949685, 0.9935064935064936, 0.9, 0.9935064935064936, 0.8238993710691824, 0.9935064935064936, 0.6894409937888198, 0.9545454545454546, 0.9808917197452229, 1.0, 0.0, 0.0, 0.0, 0.0, 0.0, 0.0, 0.0, 0.0, 0.0, 0.0, 0.9877300613496932, 1.0, 0.9877300613496932, 1.0, 0.9691358024691358, 1.0, 1.0, 1.0, 0.9567901234567902, 1.0, 0.6855345911949685, 0.9935064935064936, 0.9, 1.0, 0.8238993710691824, 0.9935064935064936, 0.6894409937888198, 0.974025974025974, 0.9808917197452229, 1.0, 0.0, 0.0, 0.0, 0.0, 0.0, 0.0, 0.0, 0.0, 0.0, 0.0, 0.9877300613496932, 0.9877300613496932, 0.9567901234567902, 0.9693251533742331, 0.9874213836477987, 0.9877300613496932, 0.9567901234567902, 0.9754601226993865, 0.7044025157232704, 0.9386503067484663, 0.9, 0.9693251533742331, 0.8238993710691824, 0.9754601226993865, 0.6956521739130435, 0.8220858895705522, 0.9808917197452229, 0.9877300613496932, 0.0, 0.012269938650306749, 0.0, 0.012269938650306749, 0.0, 0.012269938650306749, 0.0, 0.012269938650306749, 0.0, 0.012269938650306749, 0.9753086419753086, 0.9877300613496932, 1.0, 0.9877300613496932, 0.9629629629629629, 0.9815950920245399, 0.6855345911949685, 0.9079754601226994, 0.9125, 0.9754601226993865, 0.8238993710691824, 0.9754601226993865, 0.6894409937888198, 0.9325153374233128, 0.9808917197452229, 0.9938650306748467, 0.0, 0.012269938650306749, 0.0, 0.012269938650306749, 0.0064516129032258064, 0.012269938650306749, 0.0, 0.012269938650306749, 0.0, 0.012269938650306749, 1.0, 0.9691358024691358, 0.9506172839506173, 0.9753086419753086, 0.6855345911949685, 0.9506172839506173, 0.90625, 0.9629629629629629, 0.8176100628930818, 0.9567901234567902, 0.6832298136645962, 0.8950617283950617, 0.9745222929936306, 0.9691358024691358, 0.01875, 0.030864197530864196, 0.0189873417721519, 0.030864197530864196, 0.01935483870967742, 0.030864197530864196, 0.04938271604938271, 0.030864197530864196, 0.054878048780487805, 0.030864197530864196, 0.9567901234567902, 1.0, 0.6855345911949685, 0.9371069182389937, 0.9, 0.9937106918238994, 0.8238993710691824, 0.9811320754716981, 0.6894409937888198, 0.9559748427672956, 0.9808917197452229, 1.0, 0.0, 0.0, 0.0, 0.0, 0.0, 0.0, 0.0, 0.0, 0.0, 0.0, 0.6918238993710691, 0.8827160493827161, 0.9375, 0.9753086419753086, 0.8364779874213837, 0.9320987654320988, 0.6770186335403726, 0.808641975308642, 0.9872611464968153, 0.9629629629629629, 0.0625, 0.043209876543209874, 0.08860759493670886, 0.043209876543209874, 0.07096774193548387, 0.043209876543209874, 0.07407407407407407, 0.043209876543209874, 0.08536585365853659, 0.043209876543209874, 0.85625, 0.7295597484276729, 0.8427672955974843, 0.7610062893081762, 0.7080745341614907, 0.710691823899371, 0.9044585987261147, 0.6855345911949685, 0.5, 0.31446540880503143, 0.5506329113924051, 0.31446540880503143, 0.5161290322580645, 0.31446540880503143, 0.5987654320987654, 0.31446540880503143, 0.5060975609756098, 0.31446540880503143, 0.8427672955974843, 0.925, 0.6894409937888198, 0.69375, 0.9745222929936306, 0.90625, 0.1375, 0.1, 0.13291139240506328, 0.1, 0.12258064516129032, 0.1, 0.1728395061728395, 0.1, 0.12195121951219512, 0.1, 0.7018633540372671, 0.7358490566037735, 0.9681528662420382, 0.8301886792452831, 0.175, 0.1761006289308176, 0.12025316455696203, 0.1761006289308176, 0.2, 0.1761006289308176, 0.25308641975308643, 0.1761006289308176, 0.21341463414634146, 0.1761006289308176, 0.9235668789808917, 0.6770186335403726, 0.28125, 0.3105590062111801, 0.06329113924050633, 0.3105590062111801, 0.15483870967741936, 0.3105590062111801, 0.22839506172839505, 0.3105590062111801, 0.23780487804878048, 0.3105590062111801, 0.01875, 0.01910828025477707, 0.0, 0.01910828025477707, 0.012903225806451613, 0.01910828025477707, 0.006172839506172839, 0.01910828025477707, 0.012195121951219513, 0.01910828025477707, 1.0, 1.0, 1.0, 1.0, 1.0, 1.0, 1.0, 1.0, 1.0, 1.0, 1.0, 1.0, 1.0, 1.0, 1.0, 1.0, 1.0, 1.0, 1.0, 1.0]\n",
      "~~~~~~~~~~~~~~~~~~~~~\n",
      "0.5928950828799455\n"
     ]
    }
   ],
   "source": [
    "print(accuracy_scores)\n",
    "print('~~~~~~~~~~~~~~~~~~~~~')\n",
    "print(np.mean(accuracy_scores))"
   ]
  },
  {
   "cell_type": "code",
   "execution_count": 18,
   "metadata": {},
   "outputs": [],
   "source": [
    "df_importances = pd.DataFrame(rows).set_index(\"run\")"
   ]
  },
  {
   "cell_type": "code",
   "execution_count": 19,
   "metadata": {},
   "outputs": [],
   "source": [
    "feature_ranking = df_importances.mean().sort_values(ascending=False)"
   ]
  },
  {
   "cell_type": "code",
   "execution_count": 20,
   "metadata": {},
   "outputs": [
    {
     "data": {
      "image/png": "[encoded data removed]",
      "text/plain": [
       "<Figure size 648x432 with 1 Axes>"
      ]
     },
     "metadata": {
      "needs_background": "light"
     },
     "output_type": "display_data"
    }
   ],
   "source": [
    "ax = feature_ranking[::-1].plot.barh( fontsize=13, figsize=(9,6), color=\"purple\", zorder=3 );\n",
    "ax.set_xlabel(\"Mean Feature Importance\", fontsize=13);\n",
    "ax.xaxis.grid();"
   ]
  }
 ],
 "metadata": {
  "kernelspec": {
   "display_name": "Python 3",
   "language": "python",
   "name": "python3"
  },
  "language_info": {
   "codemirror_mode": {
    "name": "ipython",
    "version": 3
   },
   "file_extension": ".py",
   "mimetype": "text/x-python",
   "name": "python",
   "nbconvert_exporter": "python",
   "pygments_lexer": "ipython3",
   "version": "3.6.9"
  }
 },
 "nbformat": 4,
 "nbformat_minor": 2
}
