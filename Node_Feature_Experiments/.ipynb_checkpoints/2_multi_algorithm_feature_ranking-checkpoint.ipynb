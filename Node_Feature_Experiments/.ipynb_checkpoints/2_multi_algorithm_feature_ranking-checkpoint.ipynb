{
 "cells": [
  {
   "cell_type": "markdown",
   "metadata": {},
   "source": [
    "# Node Feature Ranking\n",
    "\n",
    "Taking all nodes from all graphs (across all mu levels), we split nodes into \"stable\" (50% lower entropy nodes) and \"unstable\" (50% higher entropy nodes) and use a random forest to determine which node features are most important in the associated binary classification task. For this v3 notebook, we do this for multiple community finding algorithms."
   ]
  },
  {
   "cell_type": "code",
   "execution_count": 1,
   "metadata": {},
   "outputs": [],
   "source": [
    "import os\n",
    "import yaml\n",
    "import numpy as np\n",
    "import matplotlib.pyplot as plt\n",
    "import pandas as pd\n",
    "%matplotlib inline"
   ]
  },
  {
   "cell_type": "markdown",
   "metadata": {},
   "source": [
    "## Louvain Experiment\n",
    "\n",
    "First, we will run the same experiment we've run before with Louvain data. The only difference is the addition of the eigenvector centrality."
   ]
  },
  {
   "cell_type": "code",
   "execution_count": 2,
   "metadata": {},
   "outputs": [],
   "source": [
    "X_train = pd.read_csv('../LFR_Graph_Data/Louvain_Data/node_x_train.csv', index_col=0)\n",
    "y_train = pd.read_csv('../LFR_Graph_Data/Louvain_Data/node_y_train.csv', index_col=0)"
   ]
  },
  {
   "cell_type": "markdown",
   "metadata": {},
   "source": [
    "### Feature ranking with random forest\n",
    "\n",
    "Now we're going to perform the node feature ranking using a random forest. During training, we will use a stratified k-fold cross-validation scheme."
   ]
  },
  {
   "cell_type": "code",
   "execution_count": 3,
   "metadata": {},
   "outputs": [],
   "source": [
    "runs = 100"
   ]
  },
  {
   "cell_type": "code",
   "execution_count": 4,
   "metadata": {},
   "outputs": [],
   "source": [
    "feature_list = list(X_train.columns)\n",
    "data = np.array(X_train)\n",
    "labels = np.squeeze(np.array(y_train))"
   ]
  },
  {
   "cell_type": "code",
   "execution_count": 5,
   "metadata": {},
   "outputs": [],
   "source": [
    "from sklearn.model_selection import StratifiedKFold\n",
    "from sklearn.ensemble import RandomForestClassifier\n",
    "from sklearn import metrics\n",
    "\n",
    "accuracy_scores = []\n",
    "feature_importances = {}\n",
    "for f in feature_list:\n",
    "    feature_importances[f] = []\n",
    "rows = []\n",
    "\n",
    "skf = StratifiedKFold(n_splits=5)\n",
    "rf = RandomForestClassifier()\n",
    "\n",
    "fold_count = 0\n",
    "\n",
    "for run in range(1, runs+1):\n",
    "    \n",
    "    for i in range(5):\n",
    "        \n",
    "        fold_count += 1\n",
    "        \n",
    "        folds = next(skf.split(data, labels), None)\n",
    "        \n",
    "        X_train_fold = data[folds[0], :]\n",
    "        X_val_fold = data[folds[1], :]\n",
    "        y_train_fold = labels[folds[0]]\n",
    "        y_val_fold = labels[folds[1]]\n",
    "        \n",
    "        model = rf.fit(X_train_fold, y_train_fold)\n",
    "        predictions = rf.predict(X_val_fold)\n",
    "    \n",
    "        accuracy_scores.append(metrics.accuracy_score(y_val_fold, predictions))\n",
    "\n",
    "        row = {\"run\": fold_count}\n",
    "        for j, feature in enumerate(feature_list):\n",
    "            row[feature] = rf.feature_importances_[j]\n",
    "        rows.append(row)"
   ]
  },
  {
   "cell_type": "markdown",
   "metadata": {},
   "source": [
    "### Check accuracy scores\n",
    "\n",
    "Let's have a look at the accuracy scores to make sure the model is working."
   ]
  },
  {
   "cell_type": "code",
   "execution_count": 6,
   "metadata": {},
   "outputs": [
    {
     "name": "stdout",
     "output_type": "stream",
     "text": [
      "[0.9, 0.9078125, 0.896875, 0.903125, 0.9, 0.896875, 0.9, 0.8984375, 0.8953125, 0.8984375, 0.9015625, 0.9, 0.9015625, 0.89375, 0.8984375, 0.9, 0.8953125, 0.8984375, 0.8953125, 0.8953125, 0.8953125, 0.896875, 0.9, 0.896875, 0.896875, 0.9015625, 0.8953125, 0.9, 0.8984375, 0.896875, 0.896875, 0.9, 0.8984375, 0.9, 0.9015625, 0.8984375, 0.8953125, 0.8984375, 0.896875, 0.8984375, 0.896875, 0.8921875, 0.8953125, 0.8984375, 0.8984375, 0.8953125, 0.9, 0.9015625, 0.9, 0.8953125, 0.89375, 0.896875, 0.8984375, 0.9, 0.8921875, 0.9, 0.9, 0.9, 0.896875, 0.8984375, 0.9, 0.89375, 0.896875, 0.9015625, 0.8890625, 0.9015625, 0.9, 0.9015625, 0.8984375, 0.8984375, 0.896875, 0.9, 0.903125, 0.896875, 0.896875, 0.9, 0.890625, 0.9046875, 0.8953125, 0.9, 0.8984375, 0.9015625, 0.896875, 0.903125, 0.9015625, 0.9, 0.9, 0.903125, 0.89375, 0.9, 0.89375, 0.9, 0.8953125, 0.903125, 0.9, 0.9, 0.9, 0.8953125, 0.9, 0.9015625, 0.8953125, 0.8953125, 0.8984375, 0.9015625, 0.8984375, 0.9, 0.9, 0.903125, 0.8984375, 0.903125, 0.8984375, 0.9, 0.90625, 0.8984375, 0.9015625, 0.896875, 0.8984375, 0.9015625, 0.896875, 0.9015625, 0.9015625, 0.89375, 0.9, 0.8984375, 0.90625, 0.8890625, 0.9, 0.9, 0.896875, 0.896875, 0.903125, 0.9015625, 0.8953125, 0.9015625, 0.9, 0.896875, 0.89375, 0.9015625, 0.8953125, 0.896875, 0.8984375, 0.9046875, 0.89375, 0.9, 0.8984375, 0.9, 0.903125, 0.8921875, 0.8984375, 0.8984375, 0.903125, 0.8953125, 0.9015625, 0.8984375, 0.8984375, 0.896875, 0.9, 0.896875, 0.9, 0.9015625, 0.8984375, 0.89375, 0.9015625, 0.903125, 0.8953125, 0.89375, 0.9015625, 0.9015625, 0.896875, 0.896875, 0.896875, 0.9015625, 0.9015625, 0.8984375, 0.8921875, 0.896875, 0.9, 0.9, 0.9015625, 0.9046875, 0.9, 0.9, 0.9, 0.9, 0.9, 0.903125, 0.903125, 0.9015625, 0.8921875, 0.903125, 0.90625, 0.9, 0.9046875, 0.8984375, 0.896875, 0.8984375, 0.9, 0.896875, 0.9015625, 0.896875, 0.8953125, 0.89375, 0.8953125, 0.9015625, 0.8921875, 0.9015625, 0.896875, 0.9046875, 0.8984375, 0.89375, 0.896875, 0.8921875, 0.9, 0.896875, 0.8984375, 0.8984375, 0.8921875, 0.8984375, 0.8984375, 0.8953125, 0.9015625, 0.8984375, 0.8953125, 0.896875, 0.8984375, 0.9, 0.9, 0.8953125, 0.903125, 0.9046875, 0.8953125, 0.9015625, 0.9, 0.8984375, 0.8984375, 0.903125, 0.9015625, 0.9, 0.8953125, 0.896875, 0.903125, 0.8953125, 0.9, 0.9, 0.9, 0.896875, 0.903125, 0.8953125, 0.9, 0.89375, 0.8953125, 0.89375, 0.896875, 0.8984375, 0.8953125, 0.8953125, 0.9, 0.896875, 0.9, 0.8984375, 0.9078125, 0.9015625, 0.8984375, 0.8953125, 0.9, 0.89375, 0.8953125, 0.8984375, 0.9015625, 0.8953125, 0.8984375, 0.8984375, 0.903125, 0.8984375, 0.9, 0.896875, 0.8984375, 0.9, 0.9, 0.9, 0.9015625, 0.8984375, 0.9015625, 0.9, 0.896875, 0.9015625, 0.9, 0.8984375, 0.903125, 0.903125, 0.89375, 0.8984375, 0.9, 0.90625, 0.9, 0.8984375, 0.89375, 0.9, 0.896875, 0.903125, 0.896875, 0.8953125, 0.896875, 0.89375, 0.8984375, 0.9015625, 0.8984375, 0.8953125, 0.9015625, 0.896875, 0.9015625, 0.903125, 0.8984375, 0.8984375, 0.8984375, 0.896875, 0.9015625, 0.8984375, 0.903125, 0.896875, 0.896875, 0.89375, 0.9, 0.8953125, 0.8984375, 0.8984375, 0.8984375, 0.9, 0.896875, 0.8984375, 0.896875, 0.8984375, 0.9, 0.9015625, 0.9046875, 0.9, 0.9015625, 0.8984375, 0.8984375, 0.8953125, 0.8875, 0.890625, 0.9015625, 0.9015625, 0.896875, 0.9015625, 0.896875, 0.9, 0.8984375, 0.8984375, 0.896875, 0.89375, 0.9, 0.9015625, 0.9015625, 0.9, 0.8984375, 0.9015625, 0.903125, 0.9, 0.8953125, 0.9015625, 0.896875, 0.8984375, 0.9, 0.9, 0.9015625, 0.89375, 0.89375, 0.8984375, 0.9015625, 0.8984375, 0.8984375, 0.8953125, 0.903125, 0.9, 0.8984375, 0.8984375, 0.9, 0.8984375, 0.8953125, 0.90625, 0.8984375, 0.9, 0.896875, 0.9, 0.8984375, 0.9015625, 0.8984375, 0.896875, 0.8953125, 0.896875, 0.9046875, 0.8984375, 0.9015625, 0.9, 0.89375, 0.9, 0.9015625, 0.89375, 0.896875, 0.9015625, 0.9015625, 0.8984375, 0.89375, 0.8984375, 0.9, 0.8984375, 0.903125, 0.903125, 0.903125, 0.896875, 0.9015625, 0.8984375, 0.8953125, 0.9, 0.8984375, 0.9015625, 0.8953125, 0.8953125, 0.8953125, 0.8984375, 0.9, 0.89375, 0.9015625, 0.8984375, 0.9, 0.903125, 0.9015625, 0.9015625, 0.9, 0.9015625, 0.9, 0.9, 0.9, 0.9046875, 0.8984375, 0.8984375, 0.8984375, 0.8984375, 0.8953125, 0.9015625, 0.8953125, 0.89375, 0.896875, 0.90625, 0.9, 0.9, 0.9015625, 0.896875, 0.8984375, 0.8984375, 0.896875, 0.9, 0.8984375, 0.9, 0.9015625, 0.896875, 0.9015625, 0.896875, 0.9, 0.896875, 0.896875, 0.8984375, 0.9015625, 0.9046875, 0.896875, 0.903125, 0.9015625, 0.90625, 0.8953125, 0.896875, 0.8953125, 0.896875, 0.89375, 0.896875, 0.8984375, 0.896875, 0.9015625, 0.9, 0.9015625, 0.9, 0.8984375, 0.896875, 0.8984375, 0.9046875, 0.9, 0.8984375, 0.890625, 0.8984375, 0.8984375, 0.903125, 0.8921875, 0.8984375, 0.8984375, 0.9015625, 0.903125, 0.9, 0.8953125, 0.9015625]\n",
      "~~~~~~~~~~~~~~~~~~~~~\n",
      "0.8987937500000001\n"
     ]
    }
   ],
   "source": [
    "print(accuracy_scores)\n",
    "print('~~~~~~~~~~~~~~~~~~~~~')\n",
    "print(np.mean(accuracy_scores))"
   ]
  },
  {
   "cell_type": "markdown",
   "metadata": {},
   "source": [
    "### Feature ranking\n",
    "\n",
    "From the accuracy scores, we can see that the model is definitely learning something, so now let's rank the features."
   ]
  },
  {
   "cell_type": "code",
   "execution_count": 7,
   "metadata": {},
   "outputs": [],
   "source": [
    "df_importances = pd.DataFrame(rows).set_index(\"run\")"
   ]
  },
  {
   "cell_type": "code",
   "execution_count": 8,
   "metadata": {},
   "outputs": [],
   "source": [
    "feature_ranking = df_importances.mean().sort_values(ascending=False)"
   ]
  },
  {
   "cell_type": "code",
   "execution_count": 10,
   "metadata": {},
   "outputs": [
    {
     "data": {
      "image/png": "[encoded data removed]",
      "text/plain": [
       "<Figure size 648x432 with 1 Axes>"
      ]
     },
     "metadata": {
      "needs_background": "light"
     },
     "output_type": "display_data"
    }
   ],
   "source": [
    "ax = feature_ranking[::-1].plot.barh(fontsize=13, figsize=(9,6), color='pink', zorder=3)\n",
    "ax.set_xlabel(\"Mean Feature Importance\", fontsize=13)\n",
    "ax.xaxis.grid()"
   ]
  },
  {
   "cell_type": "markdown",
   "metadata": {},
   "source": [
    "## Infomap data\n",
    "\n",
    "Now we run the same experiment using Infomap data, which has not been done before."
   ]
  },
  {
   "cell_type": "code",
   "execution_count": 12,
   "metadata": {},
   "outputs": [],
   "source": [
    "X_train = pd.read_csv('../LFR_Graph_Data/Infomap_Data/node_x_train.csv', index_col=0)\n",
    "y_train = pd.read_csv('../LFR_Graph_Data/Infomap_Data/node_y_train.csv', index_col=0)"
   ]
  },
  {
   "cell_type": "markdown",
   "metadata": {},
   "source": [
    "### Feature ranking with random forest\n",
    "\n",
    "Now we're going to perform the node feature ranking using a random forest. During training, we will use a stratified k-fold cross-validation scheme."
   ]
  },
  {
   "cell_type": "code",
   "execution_count": 13,
   "metadata": {},
   "outputs": [],
   "source": [
    "runs = 100"
   ]
  },
  {
   "cell_type": "code",
   "execution_count": 14,
   "metadata": {},
   "outputs": [],
   "source": [
    "feature_list = list(X_train.columns)\n",
    "data = np.array(X_train)\n",
    "labels = np.squeeze(np.array(y_train))"
   ]
  },
  {
   "cell_type": "code",
   "execution_count": 15,
   "metadata": {},
   "outputs": [],
   "source": [
    "from sklearn.model_selection import StratifiedKFold\n",
    "from sklearn.ensemble import RandomForestClassifier\n",
    "from sklearn import metrics\n",
    "\n",
    "accuracy_scores = []\n",
    "feature_importances = {}\n",
    "for f in feature_list:\n",
    "    feature_importances[f] = []\n",
    "rows = []\n",
    "\n",
    "skf = StratifiedKFold(n_splits=5)\n",
    "rf = RandomForestClassifier()\n",
    "\n",
    "fold_count = 0\n",
    "\n",
    "for run in range(1, runs+1):\n",
    "    \n",
    "    for i in range(5):\n",
    "        \n",
    "        fold_count += 1\n",
    "        \n",
    "        folds = next(skf.split(data, labels), None)\n",
    "        \n",
    "        X_train_fold = data[folds[0], :]\n",
    "        X_val_fold = data[folds[1], :]\n",
    "        y_train_fold = labels[folds[0]]\n",
    "        y_val_fold = labels[folds[1]]\n",
    "        \n",
    "        model = rf.fit(X_train_fold, y_train_fold)\n",
    "        predictions = rf.predict(X_val_fold)\n",
    "    \n",
    "        accuracy_scores.append(metrics.accuracy_score(y_val_fold, predictions))\n",
    "\n",
    "        row = {\"run\": fold_count}\n",
    "        for j, feature in enumerate(feature_list):\n",
    "            row[feature] = rf.feature_importances_[j]\n",
    "        rows.append(row)"
   ]
  },
  {
   "cell_type": "markdown",
   "metadata": {},
   "source": [
    "### Check accuracy scores\n",
    "\n",
    "Let's have a look at the accuracy scores to make sure the model is working."
   ]
  },
  {
   "cell_type": "code",
   "execution_count": 16,
   "metadata": {},
   "outputs": [
    {
     "name": "stdout",
     "output_type": "stream",
     "text": [
      "[0.928125, 0.934375, 0.9265625, 0.93125, 0.93125, 0.9296875, 0.93125, 0.9328125, 0.921875, 0.93125, 0.9296875, 0.9328125, 0.9328125, 0.934375, 0.9359375, 0.9296875, 0.934375, 0.9265625, 0.934375, 0.93125, 0.9296875, 0.9328125, 0.9296875, 0.9265625, 0.93125, 0.928125, 0.9359375, 0.928125, 0.93125, 0.9328125, 0.93125, 0.9234375, 0.9265625, 0.928125, 0.928125, 0.9328125, 0.93125, 0.928125, 0.9296875, 0.9296875, 0.9328125, 0.928125, 0.925, 0.934375, 0.93125, 0.93125, 0.9328125, 0.9296875, 0.9328125, 0.93125, 0.93125, 0.928125, 0.9296875, 0.928125, 0.928125, 0.9296875, 0.9296875, 0.93125, 0.9296875, 0.9328125, 0.9359375, 0.925, 0.93125, 0.9359375, 0.928125, 0.934375, 0.9328125, 0.934375, 0.934375, 0.93125, 0.934375, 0.9296875, 0.9296875, 0.9296875, 0.928125, 0.9296875, 0.9296875, 0.9296875, 0.93125, 0.934375, 0.934375, 0.9296875, 0.934375, 0.93125, 0.934375, 0.928125, 0.925, 0.934375, 0.9359375, 0.9296875, 0.925, 0.9328125, 0.9296875, 0.9296875, 0.934375, 0.93125, 0.9328125, 0.93125, 0.9234375, 0.928125, 0.9296875, 0.9328125, 0.9328125, 0.928125, 0.9296875, 0.9359375, 0.9390625, 0.93125, 0.9265625, 0.934375, 0.93125, 0.934375, 0.9328125, 0.928125, 0.93125, 0.9359375, 0.934375, 0.9328125, 0.934375, 0.9328125, 0.9359375, 0.93125, 0.9328125, 0.9328125, 0.934375, 0.9296875, 0.93125, 0.9296875, 0.934375, 0.93125, 0.9328125, 0.934375, 0.93125, 0.9296875, 0.9328125, 0.9265625, 0.934375, 0.93125, 0.934375, 0.93125, 0.9265625, 0.9328125, 0.9265625, 0.9359375, 0.9328125, 0.9296875, 0.9296875, 0.9265625, 0.93125, 0.9296875, 0.928125, 0.9203125, 0.934375, 0.9328125, 0.9296875, 0.93125, 0.9359375, 0.93125, 0.9265625, 0.925, 0.93125, 0.928125, 0.9359375, 0.93125, 0.93125, 0.9328125, 0.9328125, 0.93125, 0.925, 0.93125, 0.9234375, 0.9296875, 0.9296875, 0.9328125, 0.9359375, 0.93125, 0.9328125, 0.9359375, 0.9359375, 0.9328125, 0.9328125, 0.934375, 0.93125, 0.9296875, 0.928125, 0.9296875, 0.9328125, 0.928125, 0.934375, 0.9328125, 0.934375, 0.93125, 0.934375, 0.9296875, 0.934375, 0.9328125, 0.9296875, 0.9359375, 0.9375, 0.9296875, 0.9296875, 0.928125, 0.93125, 0.928125, 0.9328125, 0.9359375, 0.928125, 0.934375, 0.9328125, 0.934375, 0.928125, 0.9296875, 0.9296875, 0.9234375, 0.93125, 0.93125, 0.9265625, 0.93125, 0.928125, 0.9296875, 0.93125, 0.9328125, 0.925, 0.9328125, 0.9265625, 0.93125, 0.9328125, 0.93125, 0.93125, 0.9359375, 0.9328125, 0.9296875, 0.9296875, 0.928125, 0.9375, 0.9296875, 0.9375, 0.928125, 0.9296875, 0.934375, 0.9328125, 0.93125, 0.934375, 0.9359375, 0.928125, 0.93125, 0.9359375, 0.9296875, 0.9296875, 0.928125, 0.934375, 0.9328125, 0.9328125, 0.9296875, 0.9265625, 0.93125, 0.9296875, 0.9296875, 0.9328125, 0.9265625, 0.9296875, 0.93125, 0.928125, 0.9359375, 0.9375, 0.9359375, 0.934375, 0.9296875, 0.928125, 0.93125, 0.928125, 0.9375, 0.9234375, 0.934375, 0.93125, 0.9234375, 0.9296875, 0.93125, 0.9375, 0.9296875, 0.9390625, 0.93125, 0.9328125, 0.93125, 0.9328125, 0.93125, 0.9328125, 0.925, 0.9359375, 0.9296875, 0.928125, 0.9328125, 0.9328125, 0.934375, 0.928125, 0.9328125, 0.9265625, 0.9296875, 0.9359375, 0.9359375, 0.93125, 0.9296875, 0.9296875, 0.9328125, 0.9296875, 0.9328125, 0.9328125, 0.93125, 0.934375, 0.9296875, 0.9359375, 0.928125, 0.934375, 0.93125, 0.93125, 0.9359375, 0.93125, 0.9296875, 0.928125, 0.93125, 0.928125, 0.9328125, 0.9296875, 0.9328125, 0.9296875, 0.93125, 0.9328125, 0.9265625, 0.93125, 0.9328125, 0.9328125, 0.93125, 0.9296875, 0.934375, 0.9328125, 0.93125, 0.934375, 0.928125, 0.928125, 0.9296875, 0.925, 0.9328125, 0.925, 0.93125, 0.934375, 0.9296875, 0.9296875, 0.9328125, 0.934375, 0.928125, 0.9328125, 0.928125, 0.934375, 0.93125, 0.9265625, 0.9328125, 0.9328125, 0.928125, 0.9296875, 0.9390625, 0.934375, 0.934375, 0.925, 0.9375, 0.9265625, 0.9359375, 0.9265625, 0.9359375, 0.9328125, 0.9265625, 0.9265625, 0.9328125, 0.93125, 0.9328125, 0.93125, 0.93125, 0.9328125, 0.9296875, 0.934375, 0.9296875, 0.9328125, 0.9296875, 0.9328125, 0.9265625, 0.9328125, 0.9296875, 0.934375, 0.93125, 0.9296875, 0.9296875, 0.9296875, 0.934375, 0.9265625, 0.9296875, 0.928125, 0.9296875, 0.9359375, 0.928125, 0.9328125, 0.9359375, 0.928125, 0.9359375, 0.9328125, 0.93125, 0.9328125, 0.9296875, 0.9328125, 0.928125, 0.93125, 0.93125, 0.93125, 0.9328125, 0.9296875, 0.928125, 0.9265625, 0.9296875, 0.9328125, 0.934375, 0.934375, 0.93125, 0.93125, 0.9265625, 0.9265625, 0.93125, 0.9328125, 0.9328125, 0.9390625, 0.9328125, 0.9265625, 0.928125, 0.9296875, 0.9359375, 0.9328125, 0.9265625, 0.934375, 0.934375, 0.9328125, 0.9296875, 0.93125, 0.93125, 0.921875, 0.928125, 0.93125, 0.9234375, 0.928125, 0.9296875, 0.9359375, 0.934375, 0.9328125, 0.934375, 0.9296875, 0.9359375, 0.9359375, 0.934375, 0.9296875, 0.93125, 0.934375, 0.93125, 0.9328125, 0.93125, 0.934375, 0.9296875, 0.9296875, 0.925, 0.9328125, 0.9328125, 0.934375, 0.93125, 0.9328125, 0.9296875, 0.93125, 0.928125, 0.93125, 0.9359375, 0.934375, 0.9328125, 0.934375, 0.9328125, 0.928125, 0.928125, 0.9328125, 0.93125, 0.9296875, 0.9359375, 0.9375, 0.9296875, 0.928125, 0.93125, 0.93125, 0.934375, 0.9359375, 0.93125, 0.9296875, 0.9328125, 0.93125, 0.925, 0.9296875, 0.9296875, 0.9328125, 0.928125]\n",
      "~~~~~~~~~~~~~~~~~~~~~\n",
      "0.93121875\n"
     ]
    }
   ],
   "source": [
    "print(accuracy_scores)\n",
    "print('~~~~~~~~~~~~~~~~~~~~~')\n",
    "print(np.mean(accuracy_scores))"
   ]
  },
  {
   "cell_type": "markdown",
   "metadata": {},
   "source": [
    "### Feature ranking\n",
    "\n",
    "From the accuracy scores, we can see that the model is definitely learning something, so now let's rank the features."
   ]
  },
  {
   "cell_type": "code",
   "execution_count": 17,
   "metadata": {},
   "outputs": [],
   "source": [
    "df_importances = pd.DataFrame(rows).set_index(\"run\")"
   ]
  },
  {
   "cell_type": "code",
   "execution_count": 18,
   "metadata": {},
   "outputs": [],
   "source": [
    "feature_ranking = df_importances.mean().sort_values(ascending=False)"
   ]
  },
  {
   "cell_type": "code",
   "execution_count": 19,
   "metadata": {
    "scrolled": false
   },
   "outputs": [
    {
     "data": {
      "image/png": "[encoded data removed]",
      "text/plain": [
       "<Figure size 648x432 with 1 Axes>"
      ]
     },
     "metadata": {
      "needs_background": "light"
     },
     "output_type": "display_data"
    }
   ],
   "source": [
    "ax = feature_ranking[::-1].plot.barh(fontsize=13, figsize=(9,6), color=\"purple\", zorder=3)\n",
    "ax.set_xlabel(\"Mean Feature Importance\", fontsize=13)\n",
    "ax.xaxis.grid()"
   ]
  },
  {
   "cell_type": "markdown",
   "metadata": {},
   "source": [
    "## LPA Experiment\n",
    "\n",
    "Now we run the same experiment using LPA data, which has not been done before."
   ]
  },
  {
   "cell_type": "code",
   "execution_count": 20,
   "metadata": {},
   "outputs": [],
   "source": [
    "X_train = pd.read_csv('../LFR_Graph_Data/LPA_Data/node_x_train.csv', index_col=0)\n",
    "y_train = pd.read_csv('../LFR_Graph_Data/LPA_Data/node_y_train.csv', index_col=0)"
   ]
  },
  {
   "cell_type": "markdown",
   "metadata": {},
   "source": [
    "### Feature ranking with random forest\n",
    "\n",
    "Now we're going to perform the node feature ranking using a random forest. During training, we will use a stratified k-fold cross-validation scheme."
   ]
  },
  {
   "cell_type": "code",
   "execution_count": 21,
   "metadata": {},
   "outputs": [],
   "source": [
    "runs = 100"
   ]
  },
  {
   "cell_type": "code",
   "execution_count": 22,
   "metadata": {},
   "outputs": [],
   "source": [
    "feature_list = list(X_train.columns)\n",
    "data = np.array(X_train)\n",
    "labels = np.squeeze(np.array(y_train))"
   ]
  },
  {
   "cell_type": "code",
   "execution_count": 23,
   "metadata": {},
   "outputs": [],
   "source": [
    "from sklearn.model_selection import StratifiedKFold\n",
    "from sklearn.ensemble import RandomForestClassifier\n",
    "from sklearn import metrics\n",
    "\n",
    "accuracy_scores = []\n",
    "feature_importances = {}\n",
    "for f in feature_list:\n",
    "    feature_importances[f] = []\n",
    "rows = []\n",
    "\n",
    "skf = StratifiedKFold(n_splits=5)\n",
    "rf = RandomForestClassifier()\n",
    "\n",
    "fold_count = 0\n",
    "\n",
    "for run in range(1, runs+1):\n",
    "    \n",
    "    for i in range(5):\n",
    "        \n",
    "        fold_count += 1\n",
    "        \n",
    "        folds = next(skf.split(data, labels), None)\n",
    "        \n",
    "        X_train_fold = data[folds[0], :]\n",
    "        X_val_fold = data[folds[1], :]\n",
    "        y_train_fold = labels[folds[0]]\n",
    "        y_val_fold = labels[folds[1]]\n",
    "        \n",
    "        model = rf.fit(X_train_fold, y_train_fold)\n",
    "        predictions = rf.predict(X_val_fold)\n",
    "    \n",
    "        accuracy_scores.append(metrics.accuracy_score(y_val_fold, predictions))\n",
    "\n",
    "        row = {\"run\": fold_count}\n",
    "        for j, feature in enumerate(feature_list):\n",
    "            row[feature] = rf.feature_importances_[j]\n",
    "        rows.append(row)"
   ]
  },
  {
   "cell_type": "markdown",
   "metadata": {},
   "source": [
    "### Check accuracy scores\n",
    "\n",
    "Let's have a look at the accuracy scores to make sure the model is working."
   ]
  },
  {
   "cell_type": "code",
   "execution_count": 24,
   "metadata": {},
   "outputs": [
    {
     "name": "stdout",
     "output_type": "stream",
     "text": [
      "[0.9, 0.8984375, 0.909375, 0.8984375, 0.9109375, 0.9, 0.9078125, 0.9, 0.8984375, 0.9015625, 0.9140625, 0.9078125, 0.89375, 0.8984375, 0.909375, 0.903125, 0.9, 0.8953125, 0.9078125, 0.903125, 0.896875, 0.9078125, 0.896875, 0.9046875, 0.9109375, 0.9046875, 0.9078125, 0.9046875, 0.9078125, 0.903125, 0.9078125, 0.896875, 0.9078125, 0.909375, 0.9, 0.9046875, 0.8953125, 0.9125, 0.909375, 0.903125, 0.915625, 0.9046875, 0.9046875, 0.9, 0.9, 0.903125, 0.9015625, 0.9, 0.909375, 0.903125, 0.9078125, 0.909375, 0.90625, 0.903125, 0.8921875, 0.90625, 0.9046875, 0.90625, 0.9015625, 0.909375, 0.9046875, 0.9015625, 0.9, 0.9, 0.903125, 0.903125, 0.9046875, 0.90625, 0.90625, 0.903125, 0.9046875, 0.90625, 0.909375, 0.9046875, 0.903125, 0.9078125, 0.9109375, 0.9015625, 0.9078125, 0.9, 0.9140625, 0.8984375, 0.9109375, 0.9125, 0.9140625, 0.9046875, 0.90625, 0.909375, 0.9171875, 0.903125, 0.8984375, 0.9015625, 0.9015625, 0.8984375, 0.9046875, 0.9046875, 0.90625, 0.9, 0.90625, 0.903125, 0.896875, 0.903125, 0.9125, 0.9046875, 0.896875, 0.9046875, 0.9015625, 0.9046875, 0.9078125, 0.9125, 0.90625, 0.9078125, 0.915625, 0.9015625, 0.9015625, 0.9046875, 0.9015625, 0.9046875, 0.90625, 0.8953125, 0.9078125, 0.9046875, 0.9140625, 0.903125, 0.9109375, 0.90625, 0.9046875, 0.8953125, 0.8953125, 0.909375, 0.8984375, 0.90625, 0.9078125, 0.9015625, 0.9015625, 0.9046875, 0.9046875, 0.896875, 0.9015625, 0.9015625, 0.9046875, 0.896875, 0.915625, 0.8984375, 0.9046875, 0.9, 0.9078125, 0.9046875, 0.9078125, 0.9078125, 0.903125, 0.896875, 0.9078125, 0.90625, 0.9125, 0.903125, 0.90625, 0.9015625, 0.903125, 0.890625, 0.90625, 0.90625, 0.9, 0.903125, 0.9078125, 0.90625, 0.8953125, 0.903125, 0.903125, 0.9, 0.9015625, 0.903125, 0.909375, 0.909375, 0.90625, 0.9046875, 0.9, 0.903125, 0.9140625, 0.9046875, 0.9, 0.9, 0.9046875, 0.90625, 0.9125, 0.9015625, 0.903125, 0.9046875, 0.9140625, 0.90625, 0.9015625, 0.9015625, 0.9015625, 0.8984375, 0.9, 0.9015625, 0.9015625, 0.903125, 0.909375, 0.903125, 0.90625, 0.9109375, 0.90625, 0.9046875, 0.915625, 0.903125, 0.90625, 0.896875, 0.8953125, 0.90625, 0.8984375, 0.8953125, 0.9046875, 0.90625, 0.9015625, 0.9140625, 0.909375, 0.903125, 0.903125, 0.90625, 0.9015625, 0.9, 0.9015625, 0.8953125, 0.9078125, 0.903125, 0.909375, 0.9078125, 0.9, 0.8984375, 0.903125, 0.896875, 0.9125, 0.9125, 0.9015625, 0.9015625, 0.90625, 0.89375, 0.9125, 0.90625, 0.903125, 0.9015625, 0.9078125, 0.909375, 0.896875, 0.90625, 0.9046875, 0.9125, 0.8984375, 0.90625, 0.9, 0.8953125, 0.9046875, 0.9046875, 0.9078125, 0.903125, 0.903125, 0.9015625, 0.9046875, 0.9046875, 0.8984375, 0.890625, 0.9109375, 0.9015625, 0.9, 0.903125, 0.9046875, 0.90625, 0.90625, 0.9, 0.909375, 0.9015625, 0.896875, 0.8984375, 0.9, 0.8984375, 0.903125, 0.8984375, 0.9078125, 0.90625, 0.9078125, 0.909375, 0.8984375, 0.9078125, 0.90625, 0.9078125, 0.909375, 0.903125, 0.9046875, 0.903125, 0.903125, 0.909375, 0.9046875, 0.9015625, 0.9015625, 0.9046875, 0.903125, 0.9109375, 0.896875, 0.9078125, 0.8984375, 0.8984375, 0.909375, 0.8984375, 0.9109375, 0.903125, 0.9078125, 0.903125, 0.903125, 0.9015625, 0.909375, 0.9, 0.903125, 0.9015625, 0.8984375, 0.9109375, 0.9171875, 0.9140625, 0.909375, 0.9015625, 0.9015625, 0.9125, 0.896875, 0.90625, 0.903125, 0.909375, 0.9015625, 0.903125, 0.903125, 0.90625, 0.9, 0.8953125, 0.9, 0.9078125, 0.9015625, 0.903125, 0.9109375, 0.9, 0.9015625, 0.9046875, 0.896875, 0.9046875, 0.90625, 0.909375, 0.9046875, 0.9046875, 0.9, 0.9046875, 0.903125, 0.9046875, 0.9078125, 0.8984375, 0.9125, 0.90625, 0.90625, 0.9046875, 0.9015625, 0.9015625, 0.903125, 0.896875, 0.903125, 0.8953125, 0.9015625, 0.9015625, 0.9015625, 0.9203125, 0.9078125, 0.9078125, 0.9078125, 0.9046875, 0.8921875, 0.9015625, 0.9078125, 0.9125, 0.903125, 0.8953125, 0.9, 0.9015625, 0.9015625, 0.9078125, 0.903125, 0.8953125, 0.903125, 0.890625, 0.9140625, 0.909375, 0.90625, 0.9078125, 0.9015625, 0.8984375, 0.9, 0.9078125, 0.9015625, 0.903125, 0.903125, 0.9046875, 0.909375, 0.9109375, 0.9046875, 0.9015625, 0.9078125, 0.90625, 0.909375, 0.9109375, 0.9, 0.9125, 0.896875, 0.9, 0.9046875, 0.9125, 0.9078125, 0.90625, 0.915625, 0.9, 0.909375, 0.90625, 0.9078125, 0.90625, 0.9078125, 0.909375, 0.9046875, 0.9109375, 0.9015625, 0.903125, 0.8984375, 0.9078125, 0.903125, 0.9078125, 0.9046875, 0.909375, 0.90625, 0.8984375, 0.9046875, 0.903125, 0.9046875, 0.909375, 0.903125, 0.903125, 0.9, 0.9046875, 0.896875, 0.8984375, 0.8953125, 0.903125, 0.90625, 0.903125, 0.909375, 0.90625, 0.903125, 0.903125, 0.90625, 0.9, 0.90625, 0.90625, 0.9109375, 0.9078125, 0.9015625, 0.903125, 0.90625, 0.896875, 0.9078125, 0.9, 0.8984375, 0.915625, 0.903125, 0.9171875, 0.8984375, 0.9140625, 0.9015625, 0.9078125, 0.909375, 0.9046875, 0.9046875, 0.9078125, 0.903125, 0.9, 0.8953125, 0.90625, 0.89375, 0.90625, 0.9, 0.903125, 0.9, 0.9078125, 0.8984375, 0.8984375, 0.909375, 0.896875, 0.903125, 0.903125, 0.9046875, 0.903125, 0.9046875, 0.9046875, 0.9015625, 0.9078125, 0.8984375, 0.9078125, 0.896875, 0.9109375]\n",
      "~~~~~~~~~~~~~~~~~~~~~\n",
      "0.90418125\n"
     ]
    }
   ],
   "source": [
    "print(accuracy_scores)\n",
    "print('~~~~~~~~~~~~~~~~~~~~~')\n",
    "print(np.mean(accuracy_scores))"
   ]
  },
  {
   "cell_type": "markdown",
   "metadata": {},
   "source": [
    "### Feature ranking\n",
    "\n",
    "From the accuracy scores, we can see that the model is definitely learning something, so now let's rank the features."
   ]
  },
  {
   "cell_type": "code",
   "execution_count": 25,
   "metadata": {},
   "outputs": [],
   "source": [
    "df_importances = pd.DataFrame(rows).set_index(\"run\")"
   ]
  },
  {
   "cell_type": "code",
   "execution_count": 26,
   "metadata": {},
   "outputs": [],
   "source": [
    "feature_ranking = df_importances.mean().sort_values(ascending=False)"
   ]
  },
  {
   "cell_type": "code",
   "execution_count": 27,
   "metadata": {},
   "outputs": [
    {
     "data": {
      "image/png": "[encoded data removed]",
      "text/plain": [
       "<Figure size 648x432 with 1 Axes>"
      ]
     },
     "metadata": {
      "needs_background": "light"
     },
     "output_type": "display_data"
    }
   ],
   "source": [
    "ax = feature_ranking[::-1].plot.barh(fontsize=13, figsize=(9,6), color='green', zorder=3)\n",
    "ax.set_xlabel(\"Mean Feature Importance\", fontsize=13)\n",
    "ax.xaxis.grid()"
   ]
  }
 ],
 "metadata": {
  "kernelspec": {
   "display_name": "Python 3",
   "language": "python",
   "name": "python3"
  },
  "language_info": {
   "codemirror_mode": {
    "name": "ipython",
    "version": 3
   },
   "file_extension": ".py",
   "mimetype": "text/x-python",
   "name": "python",
   "nbconvert_exporter": "python",
   "pygments_lexer": "ipython3",
   "version": "3.6.9"
  }
 },
 "nbformat": 4,
 "nbformat_minor": 2
}
