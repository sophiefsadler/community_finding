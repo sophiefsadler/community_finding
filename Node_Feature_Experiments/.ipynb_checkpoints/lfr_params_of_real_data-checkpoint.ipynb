{
 "cells": [
  {
   "cell_type": "code",
   "execution_count": 1,
   "metadata": {},
   "outputs": [],
   "source": [
    "import networkx as nx\n",
    "import numpy as np\n",
    "import igraph\n",
    "import matplotlib.pyplot as plt"
   ]
  },
  {
   "cell_type": "code",
   "execution_count": 12,
   "metadata": {},
   "outputs": [],
   "source": [
    "def read_communities(comm_path):\n",
    "    communities = {}\n",
    "    assigned_nodes = set()\n",
    "    lines = open(comm_path,\"r\").readlines()\n",
    "    for l in lines:\n",
    "        parts = l.strip().split(\"\\t\")\n",
    "        node_id = int(parts[0])\n",
    "        assigned_nodes.add(node_id)\n",
    "        for x in parts[1].split(\" \"):\n",
    "            comm_id = int(x)\n",
    "            if not comm_id in communities:\n",
    "                communities[comm_id] = set()\n",
    "            communities[comm_id].add( node_id )\n",
    "    return communities"
   ]
  },
  {
   "cell_type": "code",
   "execution_count": 2,
   "metadata": {},
   "outputs": [],
   "source": [
    "G = nx.read_edgelist('6-email-eu-core/email-eu-core.edges')"
   ]
  },
  {
   "cell_type": "code",
   "execution_count": 3,
   "metadata": {},
   "outputs": [],
   "source": [
    "node_degrees = np.array(list(dict(G.degree()).values()))"
   ]
  },
  {
   "cell_type": "code",
   "execution_count": 4,
   "metadata": {},
   "outputs": [
    {
     "data": {
      "text/plain": [
       "Text(0.5,1,'Node Degrees of Real Email Dataset')"
      ]
     },
     "execution_count": 4,
     "metadata": {},
     "output_type": "execute_result"
    },
    {
     "data": {
      "image/png": "[encoded data removed]",
      "text/plain": [
       "<Figure size 432x288 with 1 Axes>"
      ]
     },
     "metadata": {
      "needs_background": "light"
     },
     "output_type": "display_data"
    }
   ],
   "source": [
    "plt.hist(node_degrees, bins=100)\n",
    "plt.title('Node Degrees of Real Email Dataset')"
   ]
  },
  {
   "cell_type": "code",
   "execution_count": 9,
   "metadata": {},
   "outputs": [],
   "source": [
    "node_degree_power_law = igraph.power_law_fit(node_degrees)"
   ]
  },
  {
   "cell_type": "code",
   "execution_count": 23,
   "metadata": {},
   "outputs": [],
   "source": [
    "comms = read_communities('6-email-eu-core/email-eu-core.comm')\n",
    "comm_sizes = []\n",
    "for comm, elems in comms.items():\n",
    "    comm_sizes.append(len(elems))\n",
    "comm_size_power_law = igraph.power_law_fit(comm_sizes)"
   ]
  },
  {
   "cell_type": "code",
   "execution_count": 24,
   "metadata": {},
   "outputs": [
    {
     "name": "stdout",
     "output_type": "stream",
     "text": [
      "Highest node degrees of real email dataset: [173 177 180 185 216 218 221 233 234 347]\n",
      "Max degree on fake dataset: 50\n",
      "21.00% of real nodes have degree higher than 50\n",
      "~~~~~~~~~~~~~~~~~~~~~~~~~~~~~~~~~~~~~~~~~~\n",
      "Mean node degree of real email dataset: 33.245771144278606\n",
      "Mean degree on fake dataset: 20\n",
      "~~~~~~~~~~~~~~~~~~~~~~~~~~~~~~~~~~~~~~~~~~\n",
      "Power law exponent of degree distribution on real email dataset: 5.47\n",
      "Power law exponent of degree distribution on fake dataset: 3\n",
      "~~~~~~~~~~~~~~~~~~~~~~~~~~~~~~~~~~~~~~~~~~\n",
      "Power law exponent of community size distribution on real email dataset: 2.55\n",
      "Power law exponent of community size distribution on fake dataset: 2\n"
     ]
    }
   ],
   "source": [
    "print 'Highest node degrees of real email dataset: ' + str(np.sort(node_degrees)[-10:])\n",
    "print 'Max degree on fake dataset: 50'\n",
    "print '{0:.2f}% of real nodes have degree higher than 50'.format(np.count_nonzero(node_degrees > 50)*100/len(node_degrees))\n",
    "print '~~~~~~~~~~~~~~~~~~~~~~~~~~~~~~~~~~~~~~~~~~'\n",
    "print 'Mean node degree of real email dataset: ' + str(np.mean(node_degrees))\n",
    "print 'Mean degree on fake dataset: 20'\n",
    "print '~~~~~~~~~~~~~~~~~~~~~~~~~~~~~~~~~~~~~~~~~~'\n",
    "print 'Power law exponent of degree distribution on real email dataset: {0:.2f}'.format(node_degree_power_law.alpha)\n",
    "print 'Power law exponent of degree distribution on fake dataset: 3'\n",
    "print '~~~~~~~~~~~~~~~~~~~~~~~~~~~~~~~~~~~~~~~~~~'\n",
    "print 'Power law exponent of community size distribution on real email dataset: {0:.2f}'.format(comm_size_power_law.alpha)\n",
    "print 'Power law exponent of community size distribution on fake dataset: 2'"
   ]
  }
 ],
 "metadata": {
  "kernelspec": {
   "display_name": "Python 2",
   "language": "python",
   "name": "python2"
  },
  "language_info": {
   "codemirror_mode": {
    "name": "ipython",
    "version": 2
   },
   "file_extension": ".py",
   "mimetype": "text/x-python",
   "name": "python",
   "nbconvert_exporter": "python",
   "pygments_lexer": "ipython2",
   "version": "2.7.17"
  }
 },
 "nbformat": 4,
 "nbformat_minor": 4
}
