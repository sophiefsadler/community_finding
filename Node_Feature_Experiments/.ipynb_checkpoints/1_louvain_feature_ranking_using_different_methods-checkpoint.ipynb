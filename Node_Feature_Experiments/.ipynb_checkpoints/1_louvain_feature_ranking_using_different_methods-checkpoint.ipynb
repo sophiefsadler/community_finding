{
 "cells": [
  {
   "cell_type": "markdown",
   "metadata": {},
   "source": [
    "# Node Feature Ranking\n",
    "\n",
    "Taking all nodes from all graphs (across all mu levels), we split nodes into \"stable\" (the 50% of nodes with lower entropy) and \"unstable\" (the 50% of nodes with higher entropy) and use a random forest to determine which node features are most important in the associated binary classification task"
   ]
  },
  {
   "cell_type": "code",
   "execution_count": 1,
   "metadata": {},
   "outputs": [],
   "source": [
    "import os\n",
    "import yaml\n",
    "import numpy as np\n",
    "import matplotlib.pyplot as plt\n",
    "import pandas as pd\n",
    "%matplotlib inline"
   ]
  },
  {
   "cell_type": "markdown",
   "metadata": {},
   "source": [
    "### Reading in the data\n",
    "\n",
    "Node features have been pre-calculated for each node, as have co-assocation matrices for each graph. The node entropies have to be calculated from the co-association matrices "
   ]
  },
  {
   "cell_type": "code",
   "execution_count": 2,
   "metadata": {},
   "outputs": [],
   "source": [
    "X_train = pd.read_csv('../LFR_Graph_Data/Louvain_Data/node_x_train.csv', index_col=0)\n",
    "y_train = pd.read_csv('../LFR_Graph_Data/Louvain_Data/node_y_train.csv', index_col=0)"
   ]
  },
  {
   "cell_type": "markdown",
   "metadata": {},
   "source": [
    "### Feature ranking with random forest\n",
    "\n",
    "Now we're going to perform the node feature ranking using a random forest. During training, we will use a stratified k-fold cross-validation scheme."
   ]
  },
  {
   "cell_type": "code",
   "execution_count": 3,
   "metadata": {},
   "outputs": [],
   "source": [
    "runs = 100"
   ]
  },
  {
   "cell_type": "code",
   "execution_count": 4,
   "metadata": {},
   "outputs": [],
   "source": [
    "feature_list = list(X_train.columns)\n",
    "data = np.array(X_train)\n",
    "labels = np.squeeze(np.array(y_train))"
   ]
  },
  {
   "cell_type": "code",
   "execution_count": 5,
   "metadata": {},
   "outputs": [],
   "source": [
    "from sklearn.model_selection import StratifiedKFold\n",
    "from sklearn.ensemble import RandomForestClassifier\n",
    "from sklearn import metrics\n",
    "\n",
    "accuracy_scores = []\n",
    "feature_importances = {}\n",
    "for f in feature_list:\n",
    "    feature_importances[f] = []\n",
    "rows = []\n",
    "\n",
    "skf = StratifiedKFold(n_splits=5)\n",
    "rf = RandomForestClassifier()\n",
    "\n",
    "fold_count = 0\n",
    "\n",
    "for run in range(1, runs+1):\n",
    "    \n",
    "    for i in range(5):\n",
    "        \n",
    "        fold_count += 1\n",
    "        \n",
    "        folds = next(skf.split(data, labels), None)\n",
    "        \n",
    "        X_train_fold = data[folds[0], :]\n",
    "        X_val_fold = data[folds[1], :]\n",
    "        y_train_fold = labels[folds[0]]\n",
    "        y_val_fold = labels[folds[1]]\n",
    "        \n",
    "        model = rf.fit(X_train_fold, y_train_fold)\n",
    "        predictions = rf.predict(X_val_fold)\n",
    "    \n",
    "        accuracy_scores.append(metrics.accuracy_score(y_val_fold, predictions))\n",
    "\n",
    "        row = { \"run\" : fold_count }\n",
    "        for j, feature in enumerate(feature_list):\n",
    "            row[feature] = rf.feature_importances_[j]\n",
    "        rows.append(row)"
   ]
  },
  {
   "cell_type": "markdown",
   "metadata": {},
   "source": [
    "### Check accuracy scores\n",
    "\n",
    "Let's have a look at the accuracy scores to make sure the model is working."
   ]
  },
  {
   "cell_type": "code",
   "execution_count": 6,
   "metadata": {},
   "outputs": [
    {
     "name": "stdout",
     "output_type": "stream",
     "text": [
      "[0.9, 0.9, 0.89375, 0.8953125, 0.9015625, 0.90625, 0.8953125, 0.896875, 0.9, 0.903125, 0.896875, 0.903125, 0.89375, 0.8921875, 0.903125, 0.9015625, 0.9015625, 0.903125, 0.89375, 0.896875, 0.8953125, 0.9015625, 0.8953125, 0.9, 0.896875, 0.8984375, 0.9046875, 0.8984375, 0.9, 0.9, 0.9, 0.9015625, 0.8953125, 0.9046875, 0.8890625, 0.9, 0.896875, 0.896875, 0.8953125, 0.9, 0.9, 0.9, 0.9015625, 0.9, 0.8984375, 0.9, 0.903125, 0.8953125, 0.896875, 0.9, 0.9015625, 0.8953125, 0.896875, 0.89375, 0.8984375, 0.903125, 0.8953125, 0.896875, 0.896875, 0.9, 0.890625, 0.903125, 0.903125, 0.903125, 0.896875, 0.9, 0.8953125, 0.9046875, 0.9015625, 0.89375, 0.9, 0.9, 0.896875, 0.8984375, 0.8953125, 0.896875, 0.903125, 0.903125, 0.890625, 0.8984375, 0.9015625, 0.8953125, 0.8984375, 0.8984375, 0.896875, 0.9015625, 0.8984375, 0.9, 0.8984375, 0.9015625, 0.9, 0.9015625, 0.90625, 0.903125, 0.896875, 0.8984375, 0.9, 0.903125, 0.8984375, 0.903125, 0.9, 0.896875, 0.9015625, 0.896875, 0.903125, 0.8984375, 0.9015625, 0.9046875, 0.896875, 0.903125, 0.896875, 0.8984375, 0.9015625, 0.9, 0.903125, 0.9078125, 0.8953125, 0.903125, 0.903125, 0.8953125, 0.8921875, 0.9015625, 0.9015625, 0.9, 0.8984375, 0.89375, 0.9, 0.896875, 0.896875, 0.8953125, 0.9, 0.9015625, 0.8984375, 0.8984375, 0.8984375, 0.8984375, 0.9015625, 0.8921875, 0.8984375, 0.8984375, 0.9046875, 0.9015625, 0.9, 0.8953125, 0.9, 0.9, 0.896875, 0.903125, 0.8953125, 0.9015625, 0.8984375, 0.9, 0.9015625, 0.9015625, 0.8953125, 0.8984375, 0.89375, 0.9015625, 0.9015625, 0.8984375, 0.903125, 0.9, 0.90625, 0.903125, 0.8984375, 0.8984375, 0.9015625, 0.8953125, 0.8953125, 0.903125, 0.903125, 0.8921875, 0.8984375, 0.903125, 0.8984375, 0.89375, 0.903125, 0.896875, 0.8953125, 0.8953125, 0.9015625, 0.9, 0.89375, 0.89375, 0.9015625, 0.9015625, 0.9, 0.8921875, 0.9015625, 0.9046875, 0.8984375, 0.9015625, 0.9015625, 0.9015625, 0.9015625, 0.8921875, 0.90625, 0.9046875, 0.8984375, 0.8984375, 0.896875, 0.8984375, 0.896875, 0.9, 0.9, 0.903125, 0.8984375, 0.903125, 0.89375, 0.896875, 0.8984375, 0.903125, 0.896875, 0.9, 0.9015625, 0.896875, 0.9, 0.9015625, 0.8984375, 0.8984375, 0.9, 0.9, 0.8984375, 0.9, 0.9, 0.9, 0.8984375, 0.90625, 0.903125, 0.896875, 0.9015625, 0.9046875, 0.903125, 0.903125, 0.89375, 0.903125, 0.8953125, 0.8984375, 0.8984375, 0.903125, 0.9015625, 0.896875, 0.9015625, 0.8984375, 0.9, 0.896875, 0.9, 0.896875, 0.9015625, 0.9015625, 0.8984375, 0.8984375, 0.9, 0.9, 0.89375, 0.9, 0.8984375, 0.903125, 0.9, 0.9, 0.903125, 0.8921875, 0.9015625, 0.896875, 0.9015625, 0.90625, 0.9078125, 0.896875, 0.9, 0.89375, 0.9015625, 0.896875, 0.9, 0.8984375, 0.903125, 0.896875, 0.8984375, 0.9015625, 0.8984375, 0.9, 0.8984375, 0.8984375, 0.896875, 0.9015625, 0.8984375, 0.8984375, 0.903125, 0.8984375, 0.9015625, 0.903125, 0.8953125, 0.896875, 0.8984375, 0.896875, 0.8953125, 0.9, 0.896875, 0.8984375, 0.8921875, 0.8984375, 0.8890625, 0.896875, 0.903125, 0.890625, 0.9, 0.89375, 0.896875, 0.8984375, 0.903125, 0.8984375, 0.896875, 0.8953125, 0.896875, 0.8953125, 0.9046875, 0.9015625, 0.8984375, 0.9015625, 0.8984375, 0.9046875, 0.903125, 0.8984375, 0.9015625, 0.896875, 0.9, 0.8984375, 0.8984375, 0.9015625, 0.8984375, 0.896875, 0.8953125, 0.903125, 0.9015625, 0.8953125, 0.8984375, 0.9046875, 0.9015625, 0.9046875, 0.9, 0.8984375, 0.9, 0.9, 0.8953125, 0.896875, 0.9046875, 0.8984375, 0.8953125, 0.903125, 0.890625, 0.89375, 0.9015625, 0.8984375, 0.903125, 0.903125, 0.9015625, 0.8921875, 0.9015625, 0.9, 0.8984375, 0.8953125, 0.9015625, 0.9, 0.8984375, 0.9015625, 0.8984375, 0.8984375, 0.8984375, 0.9046875, 0.8953125, 0.9, 0.896875, 0.9015625, 0.8953125, 0.9015625, 0.9, 0.9015625, 0.896875, 0.903125, 0.9, 0.89375, 0.8984375, 0.89375, 0.9, 0.8953125, 0.9015625, 0.8984375, 0.8953125, 0.9015625, 0.9015625, 0.9, 0.8921875, 0.9015625, 0.896875, 0.8953125, 0.8984375, 0.8984375, 0.8953125, 0.8953125, 0.9, 0.903125, 0.9015625, 0.90625, 0.896875, 0.8984375, 0.909375, 0.896875, 0.9, 0.9015625, 0.89375, 0.9, 0.9015625, 0.8984375, 0.9, 0.9015625, 0.903125, 0.9, 0.8953125, 0.896875, 0.8921875, 0.8953125, 0.896875, 0.896875, 0.8953125, 0.9015625, 0.9, 0.896875, 0.9015625, 0.8984375, 0.896875, 0.9015625, 0.9015625, 0.903125, 0.8984375, 0.8984375, 0.9, 0.9, 0.90625, 0.9015625, 0.8984375, 0.8984375, 0.9, 0.903125, 0.8984375, 0.89375, 0.9046875, 0.9, 0.8953125, 0.9015625, 0.903125, 0.9, 0.896875, 0.9015625, 0.9015625, 0.8984375, 0.9, 0.9, 0.9, 0.9, 0.896875, 0.8953125, 0.9015625, 0.896875, 0.8984375, 0.8984375, 0.896875, 0.903125, 0.896875, 0.9046875, 0.9, 0.9015625, 0.8921875, 0.8984375, 0.8984375, 0.8984375, 0.9, 0.9015625, 0.89375, 0.8984375, 0.9, 0.896875, 0.896875, 0.896875, 0.8921875, 0.90625, 0.9, 0.9, 0.8984375, 0.8984375, 0.9, 0.8921875, 0.896875, 0.89375, 0.896875, 0.896875, 0.9015625, 0.9015625, 0.9, 0.9046875, 0.9015625, 0.903125]\n",
      "~~~~~~~~~~~~~~~~~~~~~\n",
      "0.899178125\n"
     ]
    }
   ],
   "source": [
    "print(accuracy_scores)\n",
    "print('~~~~~~~~~~~~~~~~~~~~~')\n",
    "print(np.mean(accuracy_scores))"
   ]
  },
  {
   "cell_type": "markdown",
   "metadata": {},
   "source": [
    "### Feature ranking\n",
    "\n",
    "From the accuracy scores, we can see that the model is definitely learning something, so now let's rank the features."
   ]
  },
  {
   "cell_type": "code",
   "execution_count": 7,
   "metadata": {},
   "outputs": [],
   "source": [
    "df_importances = pd.DataFrame(rows).set_index(\"run\")"
   ]
  },
  {
   "cell_type": "code",
   "execution_count": 8,
   "metadata": {},
   "outputs": [],
   "source": [
    "feature_ranking = df_importances.mean().sort_values(ascending=False)"
   ]
  },
  {
   "cell_type": "code",
   "execution_count": 9,
   "metadata": {},
   "outputs": [
    {
     "data": {
      "image/png": "[encoded data removed]",
      "text/plain": [
       "<Figure size 648x432 with 1 Axes>"
      ]
     },
     "metadata": {
      "needs_background": "light"
     },
     "output_type": "display_data"
    }
   ],
   "source": [
    "ax = feature_ranking[::-1].plot.barh( fontsize=13, figsize=(9,6), color=\"pink\", zorder=3 );\n",
    "ax.set_xlabel(\"Mean Feature Importance\", fontsize=13);\n",
    "ax.xaxis.grid();"
   ]
  },
  {
   "cell_type": "markdown",
   "metadata": {},
   "source": [
    "### Pairwise graph training\n",
    "\n",
    "Now we're going to train and validate the model using the method suggested by Derek (train on 1 graph, validate on another, then swap). We're still using the same train set of nodes previously created. As the train set did not at all depend on graph, each graph has a random number of nodes for training. We can check that these are at least roughly equal when we segregate by graph. Unfortunately graph segregation has to be done by reading strings as this is the only place I saved the graph information in the train set."
   ]
  },
  {
   "cell_type": "code",
   "execution_count": 10,
   "metadata": {},
   "outputs": [],
   "source": [
    "train_indices_by_graph = {(i,j): [] for i in [1,2,3,4] for j in [1,2,3,4,5]}"
   ]
  },
  {
   "cell_type": "code",
   "execution_count": 11,
   "metadata": {},
   "outputs": [],
   "source": [
    "for graph_string in list(X_train.index):\n",
    "    mu_val = int(graph_string[6])\n",
    "    graph_val = int(graph_string[8])\n",
    "    train_indices_by_graph[(mu_val, graph_val)].append(graph_string)"
   ]
  },
  {
   "cell_type": "code",
   "execution_count": 12,
   "metadata": {},
   "outputs": [
    {
     "name": "stdout",
     "output_type": "stream",
     "text": [
      "[161, 168, 152, 168, 162, 156, 166, 162, 157, 160, 162, 150, 153, 167, 163, 156, 161, 164, 147, 165]\n"
     ]
    }
   ],
   "source": [
    "print([len(l) for l in train_indices_by_graph.values()])"
   ]
  },
  {
   "cell_type": "markdown",
   "metadata": {},
   "source": [
    "All our train/validation sets here are roughly the same size (152-172)."
   ]
  },
  {
   "cell_type": "code",
   "execution_count": 13,
   "metadata": {},
   "outputs": [],
   "source": [
    "runs = 100"
   ]
  },
  {
   "cell_type": "code",
   "execution_count": 14,
   "metadata": {},
   "outputs": [],
   "source": [
    "feature_list = list(X_train.columns)\n",
    "\n",
    "data = []\n",
    "labels = []\n",
    "for _, graph_indices in train_indices_by_graph.items():\n",
    "    data.append(np.array(X_train.loc[graph_indices]))\n",
    "    labels.append(np.squeeze(np.array(y_train.loc[graph_indices])))"
   ]
  },
  {
   "cell_type": "markdown",
   "metadata": {},
   "source": [
    "Create the set of pairs of graphs to train on."
   ]
  },
  {
   "cell_type": "code",
   "execution_count": 15,
   "metadata": {},
   "outputs": [],
   "source": [
    "graph_pairs = [(i,j) for i in range(20) for j in range(20) if i < j]"
   ]
  },
  {
   "cell_type": "code",
   "execution_count": 16,
   "metadata": {},
   "outputs": [],
   "source": [
    "from sklearn.model_selection import StratifiedKFold\n",
    "from sklearn.ensemble import RandomForestClassifier\n",
    "from sklearn import metrics\n",
    "\n",
    "accuracy_scores = []\n",
    "feature_importances = {}\n",
    "for f in feature_list:\n",
    "    feature_importances[f] = []\n",
    "rows = []\n",
    "\n",
    "skf = StratifiedKFold(n_splits=5)\n",
    "rf = RandomForestClassifier()\n",
    "\n",
    "for graph_1, graph_2 in graph_pairs:\n",
    "    \n",
    "    X_graph_1 = data[graph_1]\n",
    "    X_graph_2 = data[graph_2]\n",
    "    y_graph_1 = labels[graph_1]\n",
    "    y_graph_2 = labels[graph_2]\n",
    "\n",
    "    model = rf.fit(X_graph_1, y_graph_1)\n",
    "    predictions = rf.predict(X_graph_2)\n",
    "\n",
    "    accuracy_scores.append(metrics.accuracy_score(y_graph_2, predictions))\n",
    "    \n",
    "    model = rf.fit(X_graph_2, y_graph_2)\n",
    "    predictions = rf.predict(X_graph_1)\n",
    "\n",
    "    accuracy_scores.append(metrics.accuracy_score(y_graph_1, predictions))\n",
    "\n",
    "    row = { \"run\" : run }\n",
    "    for i, feature in enumerate(feature_list):\n",
    "        row[feature] = rf.feature_importances_[i]\n",
    "    rows.append(row)"
   ]
  },
  {
   "cell_type": "code",
   "execution_count": 17,
   "metadata": {},
   "outputs": [
    {
     "name": "stdout",
     "output_type": "stream",
     "text": [
      "[0.9940476190476191, 0.9875776397515528, 1.0, 0.9875776397515528, 0.9880952380952381, 0.9813664596273292, 0.9938271604938271, 0.9875776397515528, 0.7307692307692307, 0.8012422360248447, 0.927710843373494, 0.9937888198757764, 0.9444444444444444, 0.9875776397515528, 0.910828025477707, 0.8881987577639752, 0.69375, 0.5652173913043478, 0.1111111111111111, 0.577639751552795, 0.2, 0.34782608695652173, 0.0392156862745098, 0.062111801242236024, 0.20359281437125748, 0.2857142857142857, 0.25153374233128833, 0.40372670807453415, 0.03205128205128205, 0.012422360248447204, 0.006211180124223602, 0.012422360248447204, 0.08536585365853659, 0.012422360248447204, 0.0, 0.012422360248447204, 0.05454545454545454, 0.012422360248447204, 1.0, 0.9940476190476191, 0.9880952380952381, 0.9821428571428571, 0.9938271604938271, 0.9940476190476191, 0.7371794871794872, 0.8095238095238095, 0.927710843373494, 1.0, 0.9444444444444444, 0.9940476190476191, 0.910828025477707, 0.9583333333333334, 0.69375, 0.7678571428571429, 0.10493827160493827, 0.47619047619047616, 0.18666666666666668, 0.44642857142857145, 0.058823529411764705, 0.07738095238095238, 0.19161676646706588, 0.4642857142857143, 0.25766871165644173, 0.43452380952380953, 0.0, 0.005952380952380952, 0.0, 0.005952380952380952, 0.012195121951219513, 0.005952380952380952, 0.0, 0.005952380952380952, 0.0, 0.005952380952380952, 0.9880952380952381, 1.0, 0.9938271604938271, 1.0, 0.7243589743589743, 0.8157894736842105, 0.927710843373494, 1.0, 0.9444444444444444, 1.0, 0.9044585987261147, 0.9605263157894737, 0.69375, 0.7697368421052632, 0.10493827160493827, 0.40789473684210525, 0.18666666666666668, 0.24342105263157895, 0.032679738562091505, 0.039473684210526314, 0.19161676646706588, 0.4342105263157895, 0.24539877300613497, 0.32894736842105265, 0.0, 0.0, 0.0, 0.0, 0.0, 0.0, 0.0, 0.0, 0.0, 0.0, 0.9876543209876543, 0.9880952380952381, 0.7564102564102564, 0.7797619047619048, 0.9216867469879518, 0.9940476190476191, 0.9197530864197531, 0.9880952380952381, 0.8598726114649682, 0.9107142857142857, 0.7, 0.6071428571428571, 0.20987654320987653, 0.47023809523809523, 0.35333333333333333, 0.2916666666666667, 0.1830065359477124, 0.041666666666666664, 0.2874251497005988, 0.47023809523809523, 0.3067484662576687, 0.375, 0.2692307692307692, 0.011904761904761904, 0.6086956521739131, 0.011904761904761904, 0.5121951219512195, 0.011904761904761904, 0.3741496598639456, 0.011904761904761904, 0.45454545454545453, 0.011904761904761904, 0.7243589743589743, 0.6728395061728395, 0.927710843373494, 0.9938271604938271, 0.9444444444444444, 0.9938271604938271, 0.9044585987261147, 0.9691358024691358, 0.69375, 0.5370370370370371, 0.10493827160493827, 0.36419753086419754, 0.18666666666666668, 0.3148148148148148, 0.032679738562091505, 0.12345679012345678, 0.19161676646706588, 0.4012345679012346, 0.24539877300613497, 0.36419753086419754, 0.0, 0.006172839506172839, 0.0, 0.006172839506172839, 0.0, 0.006172839506172839, 0.0, 0.006172839506172839, 0.0, 0.006172839506172839, 0.9397590361445783, 0.7756410256410257, 0.9074074074074074, 0.7628205128205128, 0.8726114649681529, 0.782051282051282, 0.84375, 0.8076923076923077, 0.3950617283950617, 0.36538461538461536, 0.4533333333333333, 0.46794871794871795, 0.2679738562091503, 0.27564102564102566, 0.48502994011976047, 0.358974358974359, 0.3987730061349693, 0.44871794871794873, 0.46153846153846156, 0.27564102564102566, 0.4782608695652174, 0.27564102564102566, 0.5, 0.27564102564102566, 0.5578231292517006, 0.27564102564102566, 0.5454545454545454, 0.27564102564102566, 0.9382716049382716, 0.927710843373494, 0.910828025477707, 0.9216867469879518, 0.79375, 0.9457831325301205, 0.21604938271604937, 0.19879518072289157, 0.3, 0.3433734939759036, 0.13071895424836602, 0.07228915662650602, 0.31736526946107785, 0.29518072289156627, 0.3067484662576687, 0.2891566265060241, 0.1858974358974359, 0.07228915662650602, 0.2111801242236025, 0.07228915662650602, 0.21951219512195122, 0.07228915662650602, 0.21768707482993196, 0.07228915662650602, 0.21818181818181817, 0.07228915662650602, 0.9171974522292994, 0.9506172839506173, 0.725, 0.9320987654320988, 0.1728395061728395, 0.25925925925925924, 0.25333333333333335, 0.36419753086419754, 0.09803921568627451, 0.05555555555555555, 0.2694610778443114, 0.17901234567901234, 0.294478527607362, 0.35802469135802467, 0.11538461538461539, 0.05555555555555555, 0.037267080745341616, 0.05555555555555555, 0.16463414634146342, 0.05555555555555555, 0.1836734693877551, 0.05555555555555555, 0.2, 0.05555555555555555, 0.79375, 0.8853503184713376, 0.1728395061728395, 0.267515923566879, 0.23333333333333334, 0.35668789808917195, 0.13071895424836602, 0.09554140127388536, 0.32335329341317365, 0.267515923566879, 0.2822085889570552, 0.2611464968152866, 0.08974358974358974, 0.09554140127388536, 0.037267080745341616, 0.09554140127388536, 0.11585365853658537, 0.09554140127388536, 0.1836734693877551, 0.09554140127388536, 0.10909090909090909, 0.09554140127388536, 0.41358024691358025, 0.43125, 0.5, 0.48125, 0.3464052287581699, 0.3125, 0.4431137724550898, 0.46875, 0.38650306748466257, 0.48125, 0.5448717948717948, 0.30625, 0.5900621118012422, 0.30625, 0.6280487804878049, 0.30625, 0.6054421768707483, 0.30625, 0.6484848484848484, 0.30625, 0.82, 0.8148148148148148, 0.9215686274509803, 0.8950617283950617, 0.7844311377245509, 0.8765432098765432, 0.7177914110429447, 0.7777777777777778, 0.9871794871794872, 0.8950617283950617, 0.9751552795031055, 0.8950617283950617, 0.9939024390243902, 0.8950617283950617, 0.9931972789115646, 0.8950617283950617, 0.9818181818181818, 0.8950617283950617, 0.8235294117647058, 0.8133333333333334, 0.7664670658682635, 0.82, 0.7791411042944786, 0.8066666666666666, 0.9358974358974359, 0.8133333333333334, 0.9813664596273292, 0.8133333333333334, 0.975609756097561, 0.8133333333333334, 0.9863945578231292, 0.8133333333333334, 0.9515151515151515, 0.8133333333333334, 0.8023952095808383, 0.9281045751633987, 0.754601226993865, 0.8300653594771242, 1.0, 0.9673202614379085, 1.0, 0.9673202614379085, 1.0, 0.9673202614379085, 1.0, 0.9673202614379085, 1.0, 0.9673202614379085, 0.7423312883435583, 0.7784431137724551, 0.9807692307692307, 0.8083832335329342, 0.9937888198757764, 0.8083832335329342, 1.0, 0.8083832335329342, 0.9931972789115646, 0.8083832335329342, 1.0, 0.8083832335329342, 0.9230769230769231, 0.754601226993865, 0.9192546583850931, 0.754601226993865, 0.9939024390243902, 0.754601226993865, 0.9727891156462585, 0.754601226993865, 0.9575757575757575, 0.754601226993865, 1.0, 1.0, 1.0, 1.0, 1.0, 1.0, 1.0, 1.0, 1.0, 1.0, 1.0, 1.0, 1.0, 1.0, 1.0, 1.0, 1.0, 1.0, 1.0, 1.0]\n",
      "~~~~~~~~~~~~~~~~~~~~~\n",
      "0.5377925733212794\n"
     ]
    }
   ],
   "source": [
    "print(accuracy_scores)\n",
    "print('~~~~~~~~~~~~~~~~~~~~~')\n",
    "print(np.mean(accuracy_scores))"
   ]
  },
  {
   "cell_type": "code",
   "execution_count": 18,
   "metadata": {},
   "outputs": [],
   "source": [
    "df_importances = pd.DataFrame(rows).set_index(\"run\")"
   ]
  },
  {
   "cell_type": "code",
   "execution_count": 19,
   "metadata": {},
   "outputs": [],
   "source": [
    "feature_ranking = df_importances.mean().sort_values(ascending=False)"
   ]
  },
  {
   "cell_type": "code",
   "execution_count": 20,
   "metadata": {},
   "outputs": [
    {
     "data": {
      "image/png": "[encoded data removed]",
      "text/plain": [
       "<Figure size 648x432 with 1 Axes>"
      ]
     },
     "metadata": {
      "needs_background": "light"
     },
     "output_type": "display_data"
    }
   ],
   "source": [
    "ax = feature_ranking[::-1].plot.barh( fontsize=13, figsize=(9,6), color=\"pink\", zorder=3 );\n",
    "ax.set_xlabel(\"Mean Feature Importance\", fontsize=13);\n",
    "ax.xaxis.grid();"
   ]
  }
 ],
 "metadata": {
  "kernelspec": {
   "display_name": "Python 3",
   "language": "python",
   "name": "python3"
  },
  "language_info": {
   "codemirror_mode": {
    "name": "ipython",
    "version": 3
   },
   "file_extension": ".py",
   "mimetype": "text/x-python",
   "name": "python",
   "nbconvert_exporter": "python",
   "pygments_lexer": "ipython3",
   "version": "3.6.9"
  }
 },
 "nbformat": 4,
 "nbformat_minor": 2
}
