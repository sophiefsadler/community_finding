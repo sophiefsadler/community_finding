{
 "cells": [
  {
   "cell_type": "markdown",
   "metadata": {},
   "source": [
    "# Entropy Plot\n",
    "\n",
    "In this notebook, I plotted histograms showing the entropies of every node. This was done before choosing a cutoff point of entropy with which to classify nodes into \"stable\" or \"unstable\"."
   ]
  },
  {
   "cell_type": "code",
   "execution_count": 24,
   "metadata": {},
   "outputs": [],
   "source": [
    "import os\n",
    "import yaml\n",
    "import math\n",
    "import numpy as np\n",
    "import matplotlib.pyplot as plt\n",
    "from scipy.stats import entropy\n",
    "%matplotlib inline"
   ]
  },
  {
   "cell_type": "code",
   "execution_count": 25,
   "metadata": {},
   "outputs": [],
   "source": [
    "def element_entropy(C):\n",
    "    E = np.empty_like(C)\n",
    "    rows, cols = E.shape\n",
    "    for row in range(rows):\n",
    "        for col in range(cols):\n",
    "            p = C[row,col]\n",
    "            if p > 0:\n",
    "                E[row,col] = -p * math.log(p, 2)\n",
    "            else:\n",
    "                E[row,col] = 0\n",
    "    entrop = np.mean(E, axis=1)\n",
    "    return entrop"
   ]
  },
  {
   "cell_type": "markdown",
   "metadata": {},
   "source": [
    "## Louvain Data"
   ]
  },
  {
   "cell_type": "code",
   "execution_count": 44,
   "metadata": {},
   "outputs": [],
   "source": [
    "'''\n",
    "Obtain all the co-association matrices from the npy files.\n",
    "'''\n",
    "coassociation_matrices = []\n",
    "for i in [1, 2, 3, 4]:\n",
    "    for j in [1, 2, 3, 4, 5]:\n",
    "        coassociation_fil = '../LFR_Graph_Data/Community_Data/Louvain/Coassociation/graph_0{1}_mu_0_{0}_coassociation.npy'.format(i, j)\n",
    "        x = np.load(coassociation_fil)\n",
    "        coassociation_matrices.append(x)"
   ]
  },
  {
   "cell_type": "code",
   "execution_count": 45,
   "metadata": {},
   "outputs": [],
   "source": [
    "'''\n",
    "Calculate entropies of each node in each matrix\n",
    "'''\n",
    "entropies = [element_entropy(C) for C in coassociation_matrices]"
   ]
  },
  {
   "cell_type": "code",
   "execution_count": 46,
   "metadata": {},
   "outputs": [],
   "source": [
    "'''\n",
    "Concatenate entropies of all nodes from all matrices into a single array\n",
    "'''\n",
    "x = np.concatenate(entropies)"
   ]
  },
  {
   "cell_type": "code",
   "execution_count": 43,
   "metadata": {},
   "outputs": [
    {
     "data": {
      "text/plain": [
       "(array([1.722e+03, 3.820e+02, 2.270e+02, 1.930e+02, 1.120e+02, 9.000e+01,\n",
       "        4.600e+01, 5.700e+01, 4.200e+01, 6.400e+01, 9.000e+01, 6.400e+01,\n",
       "        8.300e+01, 1.010e+02, 8.300e+01, 8.900e+01, 8.400e+01, 9.000e+01,\n",
       "        1.030e+02, 9.900e+01, 8.100e+01, 6.300e+01, 1.700e+01, 1.700e+01,\n",
       "        1.000e+00]),\n",
       " array([0.        , 0.01425848, 0.02851696, 0.04277545, 0.05703393,\n",
       "        0.07129241, 0.08555089, 0.09980938, 0.11406786, 0.12832634,\n",
       "        0.14258482, 0.1568433 , 0.17110179, 0.18536027, 0.19961875,\n",
       "        0.21387723, 0.22813572, 0.2423942 , 0.25665268, 0.27091116,\n",
       "        0.28516964, 0.29942813, 0.31368661, 0.32794509, 0.34220357,\n",
       "        0.35646206]),\n",
       " <a list of 25 Patch objects>)"
      ]
     },
     "execution_count": 43,
     "metadata": {},
     "output_type": "execute_result"
    },
    {
     "data": {
      "image/png": "[encoded data removed]",
      "text/plain": [
       "<Figure size 432x288 with 1 Axes>"
      ]
     },
     "metadata": {
      "needs_background": "light"
     },
     "output_type": "display_data"
    }
   ],
   "source": [
    "'''\n",
    "Create the histogram of node entropies\n",
    "'''\n",
    "\n",
    "plt.hist(x, bins=25, color='pink')"
   ]
  },
  {
   "cell_type": "markdown",
   "metadata": {},
   "source": [
    "## Infomap Data"
   ]
  },
  {
   "cell_type": "code",
   "execution_count": 26,
   "metadata": {},
   "outputs": [],
   "source": [
    "'''\n",
    "Obtain all the co-association matrices from the npy files.\n",
    "'''\n",
    "coassociation_matrices = []\n",
    "for i in [1, 2, 3, 4]:\n",
    "    for j in [1, 2, 3, 4, 5]:\n",
    "        coassociation_fil = '../LFR_Graph_Data/Community_Data/Infomap/Coassociation/graph_0{1}_mu_0_{0}_coassociation.npy'.format(i, j)\n",
    "        x = np.load(coassociation_fil)\n",
    "        coassociation_matrices.append(x)"
   ]
  },
  {
   "cell_type": "code",
   "execution_count": 27,
   "metadata": {},
   "outputs": [],
   "source": [
    "'''\n",
    "Calculate entropies of each node in each matrix\n",
    "'''\n",
    "entropies = [element_entropy(C) for C in coassociation_matrices]"
   ]
  },
  {
   "cell_type": "code",
   "execution_count": 28,
   "metadata": {},
   "outputs": [],
   "source": [
    "'''\n",
    "Concatenate entropies of all nodes from all matrices into a single array\n",
    "'''\n",
    "x = np.concatenate(entropies)"
   ]
  },
  {
   "cell_type": "code",
   "execution_count": 29,
   "metadata": {},
   "outputs": [
    {
     "data": {
      "text/plain": [
       "(array([2.144e+03, 3.390e+02, 2.710e+02, 1.480e+02, 9.700e+01, 5.800e+01,\n",
       "        3.800e+01, 3.700e+01, 3.300e+01, 2.600e+01, 4.000e+01, 6.400e+01,\n",
       "        5.900e+01, 3.300e+01, 1.200e+01, 1.000e+00, 0.000e+00, 0.000e+00,\n",
       "        0.000e+00, 9.900e+01, 1.870e+02, 1.110e+02, 1.500e+01, 7.100e+01,\n",
       "        1.170e+02]),\n",
       " array([0.        , 0.02078517, 0.04157033, 0.0623555 , 0.08314067,\n",
       "        0.10392583, 0.124711  , 0.14549617, 0.16628134, 0.1870665 ,\n",
       "        0.20785167, 0.22863684, 0.249422  , 0.27020717, 0.29099234,\n",
       "        0.3117775 , 0.33256267, 0.35334784, 0.374133  , 0.39491817,\n",
       "        0.41570334, 0.43648851, 0.45727367, 0.47805884, 0.49884401,\n",
       "        0.51962917]),\n",
       " <a list of 25 Patch objects>)"
      ]
     },
     "execution_count": 29,
     "metadata": {},
     "output_type": "execute_result"
    },
    {
     "data": {
      "image/png": "[encoded data removed]",
      "text/plain": [
       "<Figure size 432x288 with 1 Axes>"
      ]
     },
     "metadata": {
      "needs_background": "light"
     },
     "output_type": "display_data"
    }
   ],
   "source": [
    "'''\n",
    "Create the histogram of node entropies\n",
    "'''\n",
    "\n",
    "plt.hist(x, bins=25, color='purple')"
   ]
  },
  {
   "cell_type": "markdown",
   "metadata": {},
   "source": [
    "## LPA Data"
   ]
  },
  {
   "cell_type": "code",
   "execution_count": 30,
   "metadata": {},
   "outputs": [],
   "source": [
    "'''\n",
    "Obtain all the co-association matrices from the npy files.\n",
    "'''\n",
    "coassociation_matrices = []\n",
    "for i in [1, 2, 3, 4]:\n",
    "    for j in [1, 2, 3, 4, 5]:\n",
    "        coassociation_fil = '../LFR_Graph_Data/Community_Data/LPA/Coassociation/graph_0{1}_mu_0_{0}_coassociation.npy'.format(i, j)\n",
    "        x = np.load(coassociation_fil)\n",
    "        coassociation_matrices.append(x)"
   ]
  },
  {
   "cell_type": "code",
   "execution_count": 31,
   "metadata": {},
   "outputs": [],
   "source": [
    "'''\n",
    "Calculate entropies of each node in each matrix\n",
    "'''\n",
    "entropies = [element_entropy(C) for C in coassociation_matrices]"
   ]
  },
  {
   "cell_type": "code",
   "execution_count": 32,
   "metadata": {},
   "outputs": [],
   "source": [
    "'''\n",
    "Concatenate entropies of all nodes from all matrices into a single array\n",
    "'''\n",
    "x = np.concatenate(entropies)"
   ]
  },
  {
   "cell_type": "code",
   "execution_count": 33,
   "metadata": {},
   "outputs": [
    {
     "data": {
      "text/plain": [
       "(array([704., 438.,  85., 446., 427., 562.,  84.,  59.,  27.,  39.,  66.,\n",
       "         35.,  19.,   9.,  52.,  64.,  64.,  71.,  17.,  23., 137., 201.,\n",
       "        222.,  96.,  53.]),\n",
       " array([0.00341751, 0.02394578, 0.04447406, 0.06500233, 0.0855306 ,\n",
       "        0.10605887, 0.12658714, 0.14711542, 0.16764369, 0.18817196,\n",
       "        0.20870023, 0.2292285 , 0.24975678, 0.27028505, 0.29081332,\n",
       "        0.31134159, 0.33186986, 0.35239814, 0.37292641, 0.39345468,\n",
       "        0.41398295, 0.43451122, 0.4550395 , 0.47556777, 0.49609604,\n",
       "        0.51662431]),\n",
       " <a list of 25 Patch objects>)"
      ]
     },
     "execution_count": 33,
     "metadata": {},
     "output_type": "execute_result"
    },
    {
     "data": {
      "image/png": "[encoded data removed]",
      "text/plain": [
       "<Figure size 432x288 with 1 Axes>"
      ]
     },
     "metadata": {
      "needs_background": "light"
     },
     "output_type": "display_data"
    }
   ],
   "source": [
    "'''\n",
    "Create the histogram of node entropies\n",
    "'''\n",
    "\n",
    "plt.hist(x, bins=25, color='green')"
   ]
  }
 ],
 "metadata": {
  "kernelspec": {
   "display_name": "Python 3",
   "language": "python",
   "name": "python3"
  },
  "language_info": {
   "codemirror_mode": {
    "name": "ipython",
    "version": 3
   },
   "file_extension": ".py",
   "mimetype": "text/x-python",
   "name": "python",
   "nbconvert_exporter": "python",
   "pygments_lexer": "ipython3",
   "version": "3.6.9"
  }
 },
 "nbformat": 4,
 "nbformat_minor": 2
}
