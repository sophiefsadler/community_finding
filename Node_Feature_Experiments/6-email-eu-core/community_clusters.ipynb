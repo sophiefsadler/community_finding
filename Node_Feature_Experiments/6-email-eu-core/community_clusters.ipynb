{
 "cells": [
  {
   "cell_type": "markdown",
   "metadata": {},
   "source": [
    "# Community Clusters\n",
    "\n",
    "In this notebook, we check how many times different numbers of communities were being found by each algorithm on the email-eu-core graph."
   ]
  },
  {
   "cell_type": "code",
   "execution_count": 1,
   "metadata": {},
   "outputs": [],
   "source": [
    "import numpy as np"
   ]
  },
  {
   "cell_type": "code",
   "execution_count": 2,
   "metadata": {},
   "outputs": [],
   "source": [
    "def num_communities(algo):\n",
    "    print('~~~~~~~~~~~~~~~~~~~~~~')\n",
    "    print(algo)\n",
    "    print('~~~~~~~~~~~~~~~~~~~~~~')\n",
    "    file_name = algo + '/runs.npy'\n",
    "    runs = np.load(file_name)\n",
    "    comms_freq = {}\n",
    "    for run_num in range(runs.shape[0]):\n",
    "        run = runs[run_num, :]\n",
    "        num_comms = np.max(run)\n",
    "        if num_comms in comms_freq.keys():\n",
    "            comms_freq[num_comms] += 1\n",
    "        else:\n",
    "            comms_freq[num_comms] = 1\n",
    "    for i,j in comms_freq.items():\n",
    "        print('{0} Communities are found {1} times'.format(i,j))"
   ]
  },
  {
   "cell_type": "code",
   "execution_count": 6,
   "metadata": {},
   "outputs": [
    {
     "name": "stdout",
     "output_type": "stream",
     "text": [
      "~~~~~~~~~~~~~~~~~~~~~~\n",
      "Louvain\n",
      "28 Communities are found 333 times\n",
      "27 Communities are found 559 times\n",
      "26 Communities are found 91 times\n",
      "29 Communities are found 15 times\n",
      "25 Communities are found 2 times\n",
      "~~~~~~~~~~~~~~~~~~~~~~\n",
      "Infomap\n",
      "34 Communities are found 250 times\n",
      "31 Communities are found 64 times\n",
      "28 Communities are found 2 times\n",
      "33 Communities are found 240 times\n",
      "35 Communities are found 170 times\n",
      "32 Communities are found 137 times\n",
      "38 Communities are found 2 times\n",
      "30 Communities are found 29 times\n",
      "36 Communities are found 88 times\n",
      "29 Communities are found 4 times\n",
      "37 Communities are found 14 times\n",
      "~~~~~~~~~~~~~~~~~~~~~~\n",
      "LPA\n",
      "37 Communities are found 779 times\n",
      "39 Communities are found 19 times\n",
      "38 Communities are found 201 times\n",
      "42 Communities are found 1 times\n"
     ]
    }
   ],
   "source": [
    "num_communities('Louvain')\n",
    "num_communities('Infomap')\n",
    "num_communities('LPA')"
   ]
  }
 ],
 "metadata": {
  "kernelspec": {
   "display_name": "Python 3",
   "language": "python",
   "name": "python3"
  },
  "language_info": {
   "codemirror_mode": {
    "name": "ipython",
    "version": 3
   },
   "file_extension": ".py",
   "mimetype": "text/x-python",
   "name": "python",
   "nbconvert_exporter": "python",
   "pygments_lexer": "ipython3",
   "version": "3.6.9"
  }
 },
 "nbformat": 4,
 "nbformat_minor": 2
}
