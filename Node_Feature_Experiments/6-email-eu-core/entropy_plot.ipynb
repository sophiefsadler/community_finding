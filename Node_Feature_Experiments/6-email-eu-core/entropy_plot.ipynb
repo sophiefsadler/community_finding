{
 "cells": [
  {
   "cell_type": "code",
   "execution_count": 38,
   "metadata": {},
   "outputs": [],
   "source": [
    "import os\n",
    "import yaml\n",
    "import math\n",
    "import numpy as np\n",
    "import matplotlib.pyplot as plt\n",
    "from scipy.stats import entropy\n",
    "%matplotlib inline"
   ]
  },
  {
   "cell_type": "code",
   "execution_count": 39,
   "metadata": {},
   "outputs": [],
   "source": [
    "def element_entropy(C):\n",
    "    E = np.empty_like(C)\n",
    "    rows, cols = E.shape\n",
    "    for row in range(rows):\n",
    "        for col in range(cols):\n",
    "            p = C[row,col]\n",
    "            if p > 0:\n",
    "                E[row,col] = -p * math.log(p, 2)\n",
    "            else:\n",
    "                E[row,col] = 0\n",
    "    entrop = np.mean(E, axis=1)\n",
    "    return entrop"
   ]
  },
  {
   "cell_type": "code",
   "execution_count": 40,
   "metadata": {},
   "outputs": [],
   "source": [
    "coassociation_file = 'Louvain/coassociation.npy'"
   ]
  },
  {
   "cell_type": "code",
   "execution_count": 41,
   "metadata": {},
   "outputs": [],
   "source": [
    "C = np.load(coassociation_file)"
   ]
  },
  {
   "cell_type": "code",
   "execution_count": 42,
   "metadata": {},
   "outputs": [],
   "source": [
    "entropies = element_entropy(C)\n",
    "node_entropies = list(entropies)\n",
    "node_entropies = np.array(node_entropies)"
   ]
  },
  {
   "cell_type": "code",
   "execution_count": 43,
   "metadata": {
    "scrolled": false
   },
   "outputs": [
    {
     "data": {
      "text/plain": [
       "(array([108., 107., 132.,   2.,   2.,  91., 129.,  14.,  19., 116.,  92.,\n",
       "         36.,  57.,  25.,  13.,   8.,   9.,   5.,   9.,   8.,   3.,  10.,\n",
       "          2.,   3.,   5.]),\n",
       " array([0.        , 0.01207832, 0.02415664, 0.03623497, 0.04831329,\n",
       "        0.06039161, 0.07246993, 0.08454825, 0.09662658, 0.1087049 ,\n",
       "        0.12078322, 0.13286154, 0.14493986, 0.15701819, 0.16909651,\n",
       "        0.18117483, 0.19325315, 0.20533147, 0.2174098 , 0.22948812,\n",
       "        0.24156644, 0.25364476, 0.26572308, 0.27780141, 0.28987973,\n",
       "        0.30195805]),\n",
       " <a list of 25 Patch objects>)"
      ]
     },
     "execution_count": 43,
     "metadata": {},
     "output_type": "execute_result"
    },
    {
     "data": {
      "image/png": "[encoded data removed]",
      "text/plain": [
       "<Figure size 432x288 with 1 Axes>"
      ]
     },
     "metadata": {
      "needs_background": "light"
     },
     "output_type": "display_data"
    }
   ],
   "source": [
    "plt.hist(node_entropies, bins=25, color='pink')"
   ]
  },
  {
   "cell_type": "code",
   "execution_count": 44,
   "metadata": {},
   "outputs": [],
   "source": [
    "coassociation_file = 'Infomap/coassociation.npy'"
   ]
  },
  {
   "cell_type": "code",
   "execution_count": 45,
   "metadata": {},
   "outputs": [],
   "source": [
    "C = np.load(coassociation_file)"
   ]
  },
  {
   "cell_type": "code",
   "execution_count": 46,
   "metadata": {},
   "outputs": [],
   "source": [
    "entropies = element_entropy(C)\n",
    "node_entropies = list(entropies)\n",
    "node_entropies = np.array(node_entropies)"
   ]
  },
  {
   "cell_type": "code",
   "execution_count": 47,
   "metadata": {
    "scrolled": false
   },
   "outputs": [
    {
     "data": {
      "text/plain": [
       "(array([ 19.,   1.,  98.,  34.,   0.,  73.,   0.,   0.,   7.,   3.,   8.,\n",
       "        112.,   0.,  13.,  97., 269.,  59.,  82.,  30.,  64.,  12.,   9.,\n",
       "         12.,   1.,   2.]),\n",
       " array([0.        , 0.01561095, 0.0312219 , 0.04683285, 0.0624438 ,\n",
       "        0.07805475, 0.0936657 , 0.10927664, 0.12488759, 0.14049854,\n",
       "        0.15610949, 0.17172044, 0.18733139, 0.20294234, 0.21855329,\n",
       "        0.23416424, 0.24977519, 0.26538614, 0.28099709, 0.29660804,\n",
       "        0.31221898, 0.32782993, 0.34344088, 0.35905183, 0.37466278,\n",
       "        0.39027373]),\n",
       " <a list of 25 Patch objects>)"
      ]
     },
     "execution_count": 47,
     "metadata": {},
     "output_type": "execute_result"
    },
    {
     "data": {
      "image/png": "[encoded data removed]",
      "text/plain": [
       "<Figure size 432x288 with 1 Axes>"
      ]
     },
     "metadata": {
      "needs_background": "light"
     },
     "output_type": "display_data"
    }
   ],
   "source": [
    "plt.hist(node_entropies, bins=25, color='purple')"
   ]
  },
  {
   "cell_type": "code",
   "execution_count": 48,
   "metadata": {},
   "outputs": [],
   "source": [
    "coassociation_file = 'LPA/coassociation.npy'"
   ]
  },
  {
   "cell_type": "code",
   "execution_count": 49,
   "metadata": {},
   "outputs": [],
   "source": [
    "C = np.load(coassociation_file)"
   ]
  },
  {
   "cell_type": "code",
   "execution_count": 50,
   "metadata": {},
   "outputs": [],
   "source": [
    "entropies = element_entropy(C)\n",
    "node_entropies = list(entropies)\n",
    "node_entropies = np.array(node_entropies)"
   ]
  },
  {
   "cell_type": "code",
   "execution_count": 51,
   "metadata": {
    "scrolled": false
   },
   "outputs": [
    {
     "data": {
      "text/plain": [
       "(array([ 36.,   0., 882.,   0.,   0.,   0.,   0.,   0.,   0.,   0.,   0.,\n",
       "          7.,   0.,   0.,   0.,   0.,   2.,   0.,   1.,   0.,   1.,   3.,\n",
       "          1.,   2.,  70.]),\n",
       " array([0.        , 0.00836092, 0.01672183, 0.02508275, 0.03344366,\n",
       "        0.04180458, 0.0501655 , 0.05852641, 0.06688733, 0.07524824,\n",
       "        0.08360916, 0.09197008, 0.10033099, 0.10869191, 0.11705282,\n",
       "        0.12541374, 0.13377466, 0.14213557, 0.15049649, 0.1588574 ,\n",
       "        0.16721832, 0.17557924, 0.18394015, 0.19230107, 0.20066198,\n",
       "        0.2090229 ]),\n",
       " <a list of 25 Patch objects>)"
      ]
     },
     "execution_count": 51,
     "metadata": {},
     "output_type": "execute_result"
    },
    {
     "data": {
      "image/png": "[encoded data removed]",
      "text/plain": [
       "<Figure size 432x288 with 1 Axes>"
      ]
     },
     "metadata": {
      "needs_background": "light"
     },
     "output_type": "display_data"
    }
   ],
   "source": [
    "plt.hist(node_entropies, bins=25, color='green')"
   ]
  }
 ],
 "metadata": {
  "kernelspec": {
   "display_name": "Python 3",
   "language": "python",
   "name": "python3"
  },
  "language_info": {
   "codemirror_mode": {
    "name": "ipython",
    "version": 3
   },
   "file_extension": ".py",
   "mimetype": "text/x-python",
   "name": "python",
   "nbconvert_exporter": "python",
   "pygments_lexer": "ipython3",
   "version": "3.6.9"
  }
 },
 "nbformat": 4,
 "nbformat_minor": 2
}
