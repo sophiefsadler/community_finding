{
 "cells": [
  {
   "cell_type": "markdown",
   "metadata": {},
   "source": [
    "# Email-Eu-core Network\n",
    "\n",
    "Test on the *email-Eu-core network* from SNAP. The network was generated using email data from a large European research institution. The dataset contains \"ground-truth\" community memberships of the nodes. Each individual belongs to exactly one of 42 departments at the research institute.\n",
    "\n",
    "See https://snap.stanford.edu/data/email-Eu-core.html"
   ]
  },
  {
   "cell_type": "code",
   "execution_count": 1,
   "metadata": {},
   "outputs": [],
   "source": [
    "import networkx as nx\n",
    "from networkx.algorithms import community\n",
    "import numpy as np"
   ]
  },
  {
   "cell_type": "code",
   "execution_count": 2,
   "metadata": {},
   "outputs": [],
   "source": [
    "data_inpath = \"../../data/email-eu-core/email-eu-core.edges\"\n",
    "comm_inpath = \"../../data/email-eu-core/email-eu-core.comm\""
   ]
  },
  {
   "cell_type": "markdown",
   "metadata": {},
   "source": [
    "### Data Loading"
   ]
  },
  {
   "cell_type": "code",
   "execution_count": 3,
   "metadata": {},
   "outputs": [],
   "source": [
    "def read_communities( comm_path ):\n",
    "    communities = {}\n",
    "    assigned_nodes = set()\n",
    "    lines = open(comm_path,\"r\").readlines()\n",
    "    for l in lines:\n",
    "        parts = l.strip().split(\"\\t\")\n",
    "        node_id = int(parts[0])\n",
    "        assigned_nodes.add(node_id)\n",
    "        for x in parts[1].split(\" \"):\n",
    "            comm_id = int(x)\n",
    "            if not comm_id in communities:\n",
    "                communities[comm_id] = set()\n",
    "            communities[comm_id].add( node_id )\n",
    "    return communities"
   ]
  },
  {
   "cell_type": "code",
   "execution_count": 4,
   "metadata": {},
   "outputs": [
    {
     "name": "stdout",
     "output_type": "stream",
     "text": [
      "Network: 1005 nodes, 16706 edges\n"
     ]
    }
   ],
   "source": [
    "g = nx.read_edgelist(data_inpath, nodetype=int)\n",
    "print(\"Network: %d nodes, %d edges\" % (g.number_of_nodes(), g.number_of_edges() ) )"
   ]
  },
  {
   "cell_type": "code",
   "execution_count": 5,
   "metadata": {},
   "outputs": [
    {
     "name": "stdout",
     "output_type": "stream",
     "text": [
      "Read 42 ground truth communities\n"
     ]
    }
   ],
   "source": [
    "ground_communities = read_communities(comm_inpath)\n",
    "print(\"Read %d ground truth communities\" % len(ground_communities))"
   ]
  },
  {
   "cell_type": "code",
   "execution_count": 6,
   "metadata": {},
   "outputs": [
    {
     "data": {
      "text/plain": [
       "[109,\n",
       " 92,\n",
       " 65,\n",
       " 61,\n",
       " 55,\n",
       " 51,\n",
       " 49,\n",
       " 39,\n",
       " 35,\n",
       " 32,\n",
       " 29,\n",
       " 29,\n",
       " 28,\n",
       " 27,\n",
       " 26,\n",
       " 25,\n",
       " 25,\n",
       " 22,\n",
       " 19,\n",
       " 18,\n",
       " 15,\n",
       " 14,\n",
       " 13,\n",
       " 13,\n",
       " 13,\n",
       " 12,\n",
       " 10,\n",
       " 10,\n",
       " 9,\n",
       " 9,\n",
       " 8,\n",
       " 8,\n",
       " 6,\n",
       " 6,\n",
       " 5,\n",
       " 4,\n",
       " 4,\n",
       " 3,\n",
       " 3,\n",
       " 2,\n",
       " 1,\n",
       " 1]"
      ]
     },
     "execution_count": 6,
     "metadata": {},
     "output_type": "execute_result"
    }
   ],
   "source": [
    "ground_sizes = [ len(ground_communities[comm_id]) for comm_id in ground_communities ]\n",
    "sorted(ground_sizes)[::-1]"
   ]
  },
  {
   "cell_type": "code",
   "execution_count": 7,
   "metadata": {},
   "outputs": [],
   "source": [
    "ground_partition = np.zeros(g.number_of_nodes())\n",
    "for comm_id in ground_communities:\n",
    "    comm = ground_communities[comm_id]\n",
    "    for node_id in comm:\n",
    "        ground_partition[node_id] = comm_id"
   ]
  },
  {
   "cell_type": "markdown",
   "metadata": {},
   "source": [
    "### Community Finding\n",
    "\n",
    "Just for demonstration purposes, find communities in graph using Clauset-Newman-Moore greedy modularity maximization."
   ]
  },
  {
   "cell_type": "code",
   "execution_count": 8,
   "metadata": {},
   "outputs": [
    {
     "name": "stdout",
     "output_type": "stream",
     "text": [
      "Found 44 communities\n"
     ]
    }
   ],
   "source": [
    "communities = list(community.greedy_modularity_communities(g))\n",
    "k = len(communities)\n",
    "print(\"Found %d communities\" % k )"
   ]
  },
  {
   "cell_type": "code",
   "execution_count": 9,
   "metadata": {},
   "outputs": [
    {
     "data": {
      "text/plain": [
       "[368,\n",
       " 321,\n",
       " 103,\n",
       " 89,\n",
       " 58,\n",
       " 9,\n",
       " 9,\n",
       " 9,\n",
       " 2,\n",
       " 2,\n",
       " 2,\n",
       " 1,\n",
       " 1,\n",
       " 1,\n",
       " 1,\n",
       " 1,\n",
       " 1,\n",
       " 1,\n",
       " 1,\n",
       " 1,\n",
       " 1,\n",
       " 1,\n",
       " 1,\n",
       " 1,\n",
       " 1,\n",
       " 1,\n",
       " 1,\n",
       " 1,\n",
       " 1,\n",
       " 1,\n",
       " 1,\n",
       " 1,\n",
       " 1,\n",
       " 1,\n",
       " 1,\n",
       " 1,\n",
       " 1,\n",
       " 1,\n",
       " 1,\n",
       " 1,\n",
       " 1,\n",
       " 1,\n",
       " 1,\n",
       " 1]"
      ]
     },
     "execution_count": 9,
     "metadata": {},
     "output_type": "execute_result"
    }
   ],
   "source": [
    "sizes = [ len(comm) for comm in communities ]\n",
    "sorted(sizes)[::-1]"
   ]
  },
  {
   "cell_type": "markdown",
   "metadata": {},
   "source": [
    "Apply NMI validation:"
   ]
  },
  {
   "cell_type": "code",
   "execution_count": 10,
   "metadata": {},
   "outputs": [],
   "source": [
    "from sklearn.metrics import normalized_mutual_info_score"
   ]
  },
  {
   "cell_type": "code",
   "execution_count": 11,
   "metadata": {},
   "outputs": [],
   "source": [
    "partition = np.zeros(g.number_of_nodes())\n",
    "for comm_id, comm in enumerate(communities):\n",
    "    for node_id in comm:\n",
    "        partition[node_id] = comm_id"
   ]
  },
  {
   "cell_type": "code",
   "execution_count": 12,
   "metadata": {},
   "outputs": [
    {
     "name": "stdout",
     "output_type": "stream",
     "text": [
      "NMI score=0.478\n"
     ]
    }
   ],
   "source": [
    "nmi = normalized_mutual_info_score(ground_partition, partition, average_method='arithmetic' )\n",
    "print(\"NMI score=%.3f\" % nmi)"
   ]
  }
 ],
 "metadata": {
  "kernelspec": {
   "display_name": "Python 3",
   "language": "python",
   "name": "python3"
  },
  "language_info": {
   "codemirror_mode": {
    "name": "ipython",
    "version": 3
   },
   "file_extension": ".py",
   "mimetype": "text/x-python",
   "name": "python",
   "nbconvert_exporter": "python",
   "pygments_lexer": "ipython3",
   "version": "3.6.9"
  }
 },
 "nbformat": 4,
 "nbformat_minor": 2
}
