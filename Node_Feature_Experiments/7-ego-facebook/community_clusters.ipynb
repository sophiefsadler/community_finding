{
 "cells": [
  {
   "cell_type": "markdown",
   "metadata": {},
   "source": [
    "# Community Clusters\n",
    "\n",
    "In this notebook, we check how many times different numbers of communities were being found by each algorithm on the email-eu-core graph."
   ]
  },
  {
   "cell_type": "code",
   "execution_count": 1,
   "metadata": {},
   "outputs": [],
   "source": [
    "import numpy as np"
   ]
  },
  {
   "cell_type": "code",
   "execution_count": 2,
   "metadata": {},
   "outputs": [],
   "source": [
    "def num_communities(algo):\n",
    "    print('~~~~~~~~~~~~~~~~~~~~~~')\n",
    "    print(algo)\n",
    "    print('~~~~~~~~~~~~~~~~~~~~~~')\n",
    "    file_name = algo + '/runs.npy'\n",
    "    runs = np.load(file_name)\n",
    "    comms_freq = {}\n",
    "    for run_num in range(runs.shape[0]):\n",
    "        run = runs[run_num, :]\n",
    "        num_comms = np.max(run)\n",
    "        if num_comms in comms_freq.keys():\n",
    "            comms_freq[num_comms] += 1\n",
    "        else:\n",
    "            comms_freq[num_comms] = 1\n",
    "    for i,j in comms_freq.items():\n",
    "        print('{0} Communities are found {1} times'.format(i,j))"
   ]
  },
  {
   "cell_type": "code",
   "execution_count": 3,
   "metadata": {},
   "outputs": [
    {
     "name": "stdout",
     "output_type": "stream",
     "text": [
      "~~~~~~~~~~~~~~~~~~~~~~\n",
      "Louvain\n",
      "~~~~~~~~~~~~~~~~~~~~~~\n",
      "16 Communities are found 704 times\n",
      "17 Communities are found 90 times\n",
      "15 Communities are found 192 times\n",
      "14 Communities are found 14 times\n",
      "~~~~~~~~~~~~~~~~~~~~~~\n",
      "Infomap\n",
      "~~~~~~~~~~~~~~~~~~~~~~\n",
      "7 Communities are found 520 times\n",
      "6 Communities are found 480 times\n",
      "~~~~~~~~~~~~~~~~~~~~~~\n",
      "LPA\n",
      "~~~~~~~~~~~~~~~~~~~~~~\n",
      "72 Communities are found 77 times\n",
      "75 Communities are found 82 times\n",
      "73 Communities are found 76 times\n",
      "68 Communities are found 45 times\n",
      "66 Communities are found 24 times\n",
      "70 Communities are found 80 times\n",
      "77 Communities are found 54 times\n",
      "71 Communities are found 80 times\n",
      "67 Communities are found 46 times\n",
      "74 Communities are found 79 times\n",
      "64 Communities are found 14 times\n",
      "69 Communities are found 68 times\n",
      "78 Communities are found 52 times\n",
      "76 Communities are found 66 times\n",
      "83 Communities are found 9 times\n",
      "79 Communities are found 40 times\n",
      "65 Communities are found 19 times\n",
      "81 Communities are found 18 times\n",
      "80 Communities are found 29 times\n",
      "85 Communities are found 3 times\n",
      "82 Communities are found 15 times\n",
      "84 Communities are found 5 times\n",
      "62 Communities are found 5 times\n",
      "63 Communities are found 7 times\n",
      "58 Communities are found 2 times\n",
      "60 Communities are found 3 times\n",
      "61 Communities are found 1 times\n",
      "87 Communities are found 1 times\n"
     ]
    }
   ],
   "source": [
    "num_communities('Louvain')\n",
    "num_communities('Infomap')\n",
    "num_communities('LPA')"
   ]
  }
 ],
 "metadata": {
  "kernelspec": {
   "display_name": "Python 3",
   "language": "python",
   "name": "python3"
  },
  "language_info": {
   "codemirror_mode": {
    "name": "ipython",
    "version": 3
   },
   "file_extension": ".py",
   "mimetype": "text/x-python",
   "name": "python",
   "nbconvert_exporter": "python",
   "pygments_lexer": "ipython3",
   "version": "3.6.9"
  }
 },
 "nbformat": 4,
 "nbformat_minor": 2
}
