{
 "cells": [
  {
   "cell_type": "code",
   "execution_count": 1,
   "metadata": {},
   "outputs": [],
   "source": [
    "import os\n",
    "import yaml\n",
    "import math\n",
    "import numpy as np\n",
    "import matplotlib.pyplot as plt\n",
    "from scipy.stats import entropy\n",
    "%matplotlib inline"
   ]
  },
  {
   "cell_type": "code",
   "execution_count": 2,
   "metadata": {},
   "outputs": [],
   "source": [
    "def element_entropy(C):\n",
    "    E = np.empty_like(C)\n",
    "    rows, cols = E.shape\n",
    "    for row in range(rows):\n",
    "        for col in range(cols):\n",
    "            p = C[row,col]\n",
    "            if p > 0:\n",
    "                E[row,col] = -p * math.log(p, 2)\n",
    "            else:\n",
    "                E[row,col] = 0\n",
    "    entrop = np.mean(E, axis=1)\n",
    "    return entrop"
   ]
  },
  {
   "cell_type": "code",
   "execution_count": 3,
   "metadata": {},
   "outputs": [],
   "source": [
    "coassociation_file = 'Louvain/coassociation.npy'"
   ]
  },
  {
   "cell_type": "code",
   "execution_count": 4,
   "metadata": {},
   "outputs": [],
   "source": [
    "C = np.load(coassociation_file)"
   ]
  },
  {
   "cell_type": "code",
   "execution_count": 5,
   "metadata": {},
   "outputs": [],
   "source": [
    "entropies = element_entropy(C)\n",
    "node_entropies = list(entropies)\n",
    "node_entropies = np.array(node_entropies)"
   ]
  },
  {
   "cell_type": "code",
   "execution_count": 6,
   "metadata": {
    "scrolled": false
   },
   "outputs": [
    {
     "data": {
      "text/plain": [
       "(array([3.299e+03, 3.800e+02, 1.290e+02, 1.600e+01, 7.900e+01, 5.400e+01,\n",
       "        1.300e+01, 2.800e+01, 1.300e+01, 9.000e+00, 1.000e+00, 2.000e+00,\n",
       "        3.000e+00, 0.000e+00, 4.000e+00, 0.000e+00, 4.000e+00, 1.000e+00,\n",
       "        0.000e+00, 0.000e+00, 2.000e+00, 1.000e+00, 0.000e+00, 0.000e+00,\n",
       "        1.000e+00]),\n",
       " array([0.        , 0.00603688, 0.01207375, 0.01811063, 0.02414751,\n",
       "        0.03018438, 0.03622126, 0.04225814, 0.04829501, 0.05433189,\n",
       "        0.06036877, 0.06640564, 0.07244252, 0.0784794 , 0.08451627,\n",
       "        0.09055315, 0.09659003, 0.1026269 , 0.10866378, 0.11470066,\n",
       "        0.12073753, 0.12677441, 0.13281129, 0.13884816, 0.14488504,\n",
       "        0.15092192]),\n",
       " <a list of 25 Patch objects>)"
      ]
     },
     "execution_count": 6,
     "metadata": {},
     "output_type": "execute_result"
    },
    {
     "data": {
      "image/png": "[encoded data removed]",
      "text/plain": [
       "<Figure size 432x288 with 1 Axes>"
      ]
     },
     "metadata": {
      "needs_background": "light"
     },
     "output_type": "display_data"
    }
   ],
   "source": [
    "plt.hist(node_entropies, bins=25, color='pink')"
   ]
  },
  {
   "cell_type": "code",
   "execution_count": 7,
   "metadata": {},
   "outputs": [],
   "source": [
    "coassociation_file = 'Infomap/coassociation.npy'"
   ]
  },
  {
   "cell_type": "code",
   "execution_count": 8,
   "metadata": {},
   "outputs": [],
   "source": [
    "C = np.load(coassociation_file)"
   ]
  },
  {
   "cell_type": "code",
   "execution_count": 9,
   "metadata": {},
   "outputs": [],
   "source": [
    "entropies = element_entropy(C)\n",
    "node_entropies = list(entropies)\n",
    "node_entropies = np.array(node_entropies)"
   ]
  },
  {
   "cell_type": "code",
   "execution_count": 10,
   "metadata": {
    "scrolled": false
   },
   "outputs": [
    {
     "data": {
      "text/plain": [
       "(array([3.936e+03, 1.100e+01, 3.000e+00, 1.000e+00, 2.000e+00, 3.000e+00,\n",
       "        3.000e+00, 3.000e+00, 0.000e+00, 3.000e+00, 9.000e+00, 1.000e+01,\n",
       "        2.000e+00, 2.000e+00, 0.000e+00, 1.100e+01, 7.000e+00, 2.000e+00,\n",
       "        1.000e+00, 1.000e+00, 6.000e+00, 2.000e+00, 9.000e+00, 2.000e+00,\n",
       "        1.000e+01]),\n",
       " array([0.        , 0.01100975, 0.02201951, 0.03302926, 0.04403901,\n",
       "        0.05504877, 0.06605852, 0.07706828, 0.08807803, 0.09908778,\n",
       "        0.11009754, 0.12110729, 0.13211704, 0.1431268 , 0.15413655,\n",
       "        0.1651463 , 0.17615606, 0.18716581, 0.19817557, 0.20918532,\n",
       "        0.22019507, 0.23120483, 0.24221458, 0.25322433, 0.26423409,\n",
       "        0.27524384]),\n",
       " <a list of 25 Patch objects>)"
      ]
     },
     "execution_count": 10,
     "metadata": {},
     "output_type": "execute_result"
    },
    {
     "data": {
      "image/png": "[encoded data removed]",
      "text/plain": [
       "<Figure size 432x288 with 1 Axes>"
      ]
     },
     "metadata": {
      "needs_background": "light"
     },
     "output_type": "display_data"
    }
   ],
   "source": [
    "plt.hist(node_entropies, bins=25, color='purple')"
   ]
  },
  {
   "cell_type": "code",
   "execution_count": 11,
   "metadata": {},
   "outputs": [],
   "source": [
    "coassociation_file = 'LPA/coassociation.npy'"
   ]
  },
  {
   "cell_type": "code",
   "execution_count": 12,
   "metadata": {},
   "outputs": [],
   "source": [
    "C = np.load(coassociation_file)"
   ]
  },
  {
   "cell_type": "code",
   "execution_count": 13,
   "metadata": {},
   "outputs": [],
   "source": [
    "entropies = element_entropy(C)\n",
    "node_entropies = list(entropies)\n",
    "node_entropies = np.array(node_entropies)"
   ]
  },
  {
   "cell_type": "code",
   "execution_count": 14,
   "metadata": {
    "scrolled": false
   },
   "outputs": [
    {
     "data": {
      "text/plain": [
       "(array([5.950e+02, 8.510e+02, 1.065e+03, 6.490e+02, 4.210e+02, 9.500e+01,\n",
       "        6.000e+01, 5.600e+01, 4.300e+01, 8.500e+01, 1.400e+01, 3.900e+01,\n",
       "        1.200e+01, 8.000e+00, 1.900e+01, 5.000e+00, 9.000e+00, 2.000e+00,\n",
       "        3.000e+00, 5.000e+00, 0.000e+00, 0.000e+00, 2.000e+00, 0.000e+00,\n",
       "        1.000e+00]),\n",
       " array([0.00189539, 0.00819309, 0.01449079, 0.02078848, 0.02708618,\n",
       "        0.03338388, 0.03968158, 0.04597927, 0.05227697, 0.05857467,\n",
       "        0.06487237, 0.07117006, 0.07746776, 0.08376546, 0.09006315,\n",
       "        0.09636085, 0.10265855, 0.10895625, 0.11525394, 0.12155164,\n",
       "        0.12784934, 0.13414704, 0.14044473, 0.14674243, 0.15304013,\n",
       "        0.15933782]),\n",
       " <a list of 25 Patch objects>)"
      ]
     },
     "execution_count": 14,
     "metadata": {},
     "output_type": "execute_result"
    },
    {
     "data": {
      "image/png": "[encoded data removed]",
      "text/plain": [
       "<Figure size 432x288 with 1 Axes>"
      ]
     },
     "metadata": {
      "needs_background": "light"
     },
     "output_type": "display_data"
    }
   ],
   "source": [
    "plt.hist(node_entropies, bins=25, color='green')"
   ]
  }
 ],
 "metadata": {
  "kernelspec": {
   "display_name": "Python 3",
   "language": "python",
   "name": "python3"
  },
  "language_info": {
   "codemirror_mode": {
    "name": "ipython",
    "version": 3
   },
   "file_extension": ".py",
   "mimetype": "text/x-python",
   "name": "python",
   "nbconvert_exporter": "python",
   "pygments_lexer": "ipython3",
   "version": "3.6.9"
  }
 },
 "nbformat": 4,
 "nbformat_minor": 2
}
