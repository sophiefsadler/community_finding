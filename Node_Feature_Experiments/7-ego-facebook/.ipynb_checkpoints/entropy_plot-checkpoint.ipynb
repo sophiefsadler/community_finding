{
 "cells": [
  {
   "cell_type": "code",
   "execution_count": 1,
   "metadata": {},
   "outputs": [],
   "source": [
    "import os\n",
    "import yaml\n",
    "import math\n",
    "import numpy as np\n",
    "import matplotlib.pyplot as plt\n",
    "from scipy.stats import entropy\n",
    "%matplotlib inline"
   ]
  },
  {
   "cell_type": "code",
   "execution_count": 2,
   "metadata": {},
   "outputs": [],
   "source": [
    "def element_entropy(C):\n",
    "    E = np.empty_like(C)\n",
    "    rows, cols = E.shape\n",
    "    for row in range(rows):\n",
    "        for col in range(cols):\n",
    "            p = C[row,col]\n",
    "            if p > 0:\n",
    "                E[row,col] = -p * math.log(p, 2)\n",
    "            else:\n",
    "                E[row,col] = 0\n",
    "    entrop = np.mean(E, axis=1)\n",
    "    return entrop"
   ]
  },
  {
   "cell_type": "code",
   "execution_count": 3,
   "metadata": {},
   "outputs": [],
   "source": [
    "coassociation_file = 'Louvain/coassociation.npy'"
   ]
  },
  {
   "cell_type": "code",
   "execution_count": 4,
   "metadata": {},
   "outputs": [],
   "source": [
    "C = np.load(coassociation_file)"
   ]
  },
  {
   "cell_type": "code",
   "execution_count": 5,
   "metadata": {},
   "outputs": [],
   "source": [
    "entropies = element_entropy(C)\n",
    "node_entropies = list(entropies)\n",
    "node_entropies = np.array(node_entropies)"
   ]
  },
  {
   "cell_type": "code",
   "execution_count": 6,
   "metadata": {
    "scrolled": false
   },
   "outputs": [
    {
     "data": {
      "text/plain": [
       "(array([3.608e+03, 3.050e+02, 2.100e+01, 5.000e+00, 1.600e+01, 5.300e+01,\n",
       "        6.000e+00, 4.000e+00, 4.000e+00, 5.000e+00, 1.000e+00, 0.000e+00,\n",
       "        7.000e+00, 0.000e+00, 0.000e+00, 0.000e+00, 0.000e+00, 0.000e+00,\n",
       "        0.000e+00, 0.000e+00, 0.000e+00, 0.000e+00, 3.000e+00, 0.000e+00,\n",
       "        1.000e+00]),\n",
       " array([0.        , 0.00343348, 0.00686696, 0.01030043, 0.01373391,\n",
       "        0.01716739, 0.02060087, 0.02403434, 0.02746782, 0.0309013 ,\n",
       "        0.03433478, 0.03776826, 0.04120173, 0.04463521, 0.04806869,\n",
       "        0.05150217, 0.05493564, 0.05836912, 0.0618026 , 0.06523608,\n",
       "        0.06866956, 0.07210303, 0.07553651, 0.07896999, 0.08240347,\n",
       "        0.08583694]),\n",
       " <a list of 25 Patch objects>)"
      ]
     },
     "execution_count": 6,
     "metadata": {},
     "output_type": "execute_result"
    },
    {
     "data": {
      "image/png": "[encoded data removed]",
      "text/plain": [
       "<Figure size 432x288 with 1 Axes>"
      ]
     },
     "metadata": {
      "needs_background": "light"
     },
     "output_type": "display_data"
    }
   ],
   "source": [
    "plt.hist(node_entropies, bins=25, color='pink')"
   ]
  },
  {
   "cell_type": "code",
   "execution_count": 7,
   "metadata": {},
   "outputs": [],
   "source": [
    "coassociation_file = 'Infomap/coassociation.npy'"
   ]
  },
  {
   "cell_type": "code",
   "execution_count": 8,
   "metadata": {},
   "outputs": [],
   "source": [
    "C = np.load(coassociation_file)"
   ]
  },
  {
   "cell_type": "code",
   "execution_count": 9,
   "metadata": {},
   "outputs": [],
   "source": [
    "entropies = element_entropy(C)\n",
    "node_entropies = list(entropies)\n",
    "node_entropies = np.array(node_entropies)"
   ]
  },
  {
   "cell_type": "code",
   "execution_count": 10,
   "metadata": {
    "scrolled": false
   },
   "outputs": [
    {
     "data": {
      "text/plain": [
       "(array([4.016e+03, 6.000e+00, 2.000e+00, 0.000e+00, 0.000e+00, 0.000e+00,\n",
       "        0.000e+00, 0.000e+00, 0.000e+00, 0.000e+00, 0.000e+00, 0.000e+00,\n",
       "        1.000e+00, 1.000e+00, 1.000e+00, 2.000e+00, 0.000e+00, 1.000e+00,\n",
       "        0.000e+00, 3.000e+00, 0.000e+00, 0.000e+00, 0.000e+00, 0.000e+00,\n",
       "        6.000e+00]),\n",
       " array([0.        , 0.00235649, 0.00471298, 0.00706946, 0.00942595,\n",
       "        0.01178244, 0.01413893, 0.01649542, 0.0188519 , 0.02120839,\n",
       "        0.02356488, 0.02592137, 0.02827785, 0.03063434, 0.03299083,\n",
       "        0.03534732, 0.03770381, 0.04006029, 0.04241678, 0.04477327,\n",
       "        0.04712976, 0.04948625, 0.05184273, 0.05419922, 0.05655571,\n",
       "        0.0589122 ]),\n",
       " <a list of 25 Patch objects>)"
      ]
     },
     "execution_count": 10,
     "metadata": {},
     "output_type": "execute_result"
    },
    {
     "data": {
      "image/png": "[encoded data removed]",
      "text/plain": [
       "<Figure size 432x288 with 1 Axes>"
      ]
     },
     "metadata": {
      "needs_background": "light"
     },
     "output_type": "display_data"
    }
   ],
   "source": [
    "plt.hist(node_entropies, bins=25, color='purple')"
   ]
  },
  {
   "cell_type": "code",
   "execution_count": 11,
   "metadata": {},
   "outputs": [],
   "source": [
    "coassociation_file = 'LPA/coassociation.npy'"
   ]
  },
  {
   "cell_type": "code",
   "execution_count": 12,
   "metadata": {},
   "outputs": [],
   "source": [
    "C = np.load(coassociation_file)"
   ]
  },
  {
   "cell_type": "code",
   "execution_count": 13,
   "metadata": {},
   "outputs": [],
   "source": [
    "entropies = element_entropy(C)\n",
    "node_entropies = list(entropies)\n",
    "node_entropies = np.array(node_entropies)"
   ]
  },
  {
   "cell_type": "code",
   "execution_count": 14,
   "metadata": {
    "scrolled": false
   },
   "outputs": [
    {
     "data": {
      "text/plain": [
       "(array([3.044e+03, 6.300e+01, 1.760e+02, 1.800e+01, 4.400e+01, 2.160e+02,\n",
       "        2.050e+02, 4.900e+01, 2.300e+01, 2.600e+01, 2.400e+01, 1.200e+01,\n",
       "        3.600e+01, 2.300e+01, 3.000e+00, 2.000e+00, 0.000e+00, 3.000e+00,\n",
       "        6.000e+00, 1.000e+00, 1.200e+01, 1.200e+01, 1.700e+01, 1.200e+01,\n",
       "        1.200e+01]),\n",
       " array([0.        , 0.00156903, 0.00313805, 0.00470708, 0.0062761 ,\n",
       "        0.00784513, 0.00941416, 0.01098318, 0.01255221, 0.01412124,\n",
       "        0.01569026, 0.01725929, 0.01882831, 0.02039734, 0.02196637,\n",
       "        0.02353539, 0.02510442, 0.02667345, 0.02824247, 0.0298115 ,\n",
       "        0.03138052, 0.03294955, 0.03451858, 0.0360876 , 0.03765663,\n",
       "        0.03922565]),\n",
       " <a list of 25 Patch objects>)"
      ]
     },
     "execution_count": 14,
     "metadata": {},
     "output_type": "execute_result"
    },
    {
     "data": {
      "image/png": "[encoded data removed]",
      "text/plain": [
       "<Figure size 432x288 with 1 Axes>"
      ]
     },
     "metadata": {
      "needs_background": "light"
     },
     "output_type": "display_data"
    }
   ],
   "source": [
    "plt.hist(node_entropies, bins=25, color='green')"
   ]
  }
 ],
 "metadata": {
  "kernelspec": {
   "display_name": "Python 3",
   "language": "python",
   "name": "python3"
  },
  "language_info": {
   "codemirror_mode": {
    "name": "ipython",
    "version": 3
   },
   "file_extension": ".py",
   "mimetype": "text/x-python",
   "name": "python",
   "nbconvert_exporter": "python",
   "pygments_lexer": "ipython3",
   "version": "3.6.9"
  }
 },
 "nbformat": 4,
 "nbformat_minor": 2
}
