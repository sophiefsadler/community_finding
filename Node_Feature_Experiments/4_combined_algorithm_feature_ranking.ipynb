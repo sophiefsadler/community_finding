{
 "cells": [
  {
   "cell_type": "markdown",
   "metadata": {},
   "source": [
    "# Combined Algorithm Feature Ranking\n",
    "\n",
    "For the combined algorithm feature ranking, the node features will be ranked according to results from all 3 algorithms. A node is classified as \"stable\" if it was classified as \"stable\" by 2 or 3 of the 3 algorithms, and \"unstable\" otherwise. The node features will be averaged across the four algorithms."
   ]
  },
  {
   "cell_type": "code",
   "execution_count": 3,
   "metadata": {},
   "outputs": [],
   "source": [
    "import os\n",
    "import yaml\n",
    "import numpy as np\n",
    "import matplotlib.pyplot as plt\n",
    "import pandas as pd\n",
    "%matplotlib inline\n",
    "\n",
    "from sklearn.model_selection import train_test_split\n",
    "from sklearn.model_selection import StratifiedKFold\n",
    "from sklearn.ensemble import RandomForestClassifier\n",
    "from sklearn import metrics"
   ]
  },
  {
   "cell_type": "code",
   "execution_count": 4,
   "metadata": {},
   "outputs": [],
   "source": [
    "'''\n",
    "Import all the node features\n",
    "'''\n",
    "\n",
    "lv_train_data = pd.read_csv('../LFR_Graph_Data/Louvain_Data/node_x_train.csv', index_col=0)\n",
    "lv_test_data = pd.read_csv('../LFR_Graph_Data/Louvain_Data/node_x_test.csv', index_col=0)\n",
    "lv_X = pd.concat([lv_train_data, lv_test_data])\n",
    "\n",
    "im_train_data = pd.read_csv('../LFR_Graph_Data/Infomap_Data/node_x_train.csv', index_col=0)\n",
    "im_test_data = pd.read_csv('../LFR_Graph_Data/Infomap_Data/node_x_test.csv', index_col=0)\n",
    "im_X = pd.concat([im_train_data, im_test_data])\n",
    "\n",
    "lpa_train_data = pd.read_csv('../LFR_Graph_Data/LPA_Data/node_x_train.csv', index_col=0)\n",
    "lpa_test_data = pd.read_csv('../LFR_Graph_Data/LPA_Data/node_x_test.csv', index_col=0)\n",
    "lpa_X = pd.concat([lpa_train_data, lpa_test_data])"
   ]
  },
  {
   "cell_type": "code",
   "execution_count": 5,
   "metadata": {},
   "outputs": [],
   "source": [
    "'''\n",
    "Import all the node labels\n",
    "'''\n",
    "\n",
    "lv_train_data = pd.read_csv('../LFR_Graph_Data/Louvain_Data/node_y_train.csv', index_col=0)\n",
    "lv_test_data = pd.read_csv('../LFR_Graph_Data/Louvain_Data/node_y_test.csv', index_col=0)\n",
    "lv_y = pd.concat([lv_train_data, lv_test_data])\n",
    "\n",
    "im_train_data = pd.read_csv('../LFR_Graph_Data/Infomap_Data/node_y_train.csv', index_col=0)\n",
    "im_test_data = pd.read_csv('../LFR_Graph_Data/Infomap_Data/node_y_test.csv', index_col=0)\n",
    "im_y = pd.concat([im_train_data, im_test_data])\n",
    "\n",
    "lpa_train_data = pd.read_csv('../LFR_Graph_Data/LPA_Data/node_y_train.csv', index_col=0)\n",
    "lpa_test_data = pd.read_csv('../LFR_Graph_Data/LPA_Data/node_y_test.csv', index_col=0)\n",
    "lpa_y = pd.concat([lpa_train_data, lpa_test_data])"
   ]
  },
  {
   "cell_type": "markdown",
   "metadata": {},
   "source": [
    "### Averaging Node Features"
   ]
  },
  {
   "cell_type": "code",
   "execution_count": 6,
   "metadata": {},
   "outputs": [],
   "source": [
    "node_features = ['Degree', 'Clustering Coefficient', 'Betweenness', 'Closeness', 'Shortest Path', 'Eigenvector', \n",
    "                 'E In', 'E Out', 'E In Over E Out', 'ODF', 'Expansion', 'Cut Ratio', 'Conductance', 'Normalised Cut', \n",
    "                 'Triangle Participation']"
   ]
  },
  {
   "cell_type": "code",
   "execution_count": 16,
   "metadata": {},
   "outputs": [],
   "source": [
    "X = pd.DataFrame(columns=node_features)"
   ]
  },
  {
   "cell_type": "code",
   "execution_count": 17,
   "metadata": {},
   "outputs": [],
   "source": [
    "feature_dfs = [lv_X, lpa_X, im_X]\n",
    "\n",
    "for mu in [1, 2, 3, 4]:\n",
    "    for graph in [1, 2, 3, 4, 5]:\n",
    "        for node in range(200):\n",
    "            node_index = 'graph_{0}_{1}_node_{2}'.format(mu, graph, node)\n",
    "            X_to_add = {}\n",
    "            for feature in node_features:\n",
    "                X_to_add[feature] = np.mean([df.loc[node_index][feature] for df in feature_dfs])\n",
    "            X_to_add_df = pd.DataFrame(X_to_add, index=[node_index])\n",
    "            X = pd.concat([X, X_to_add_df])"
   ]
  },
  {
   "cell_type": "markdown",
   "metadata": {},
   "source": [
    "### Node Labels"
   ]
  },
  {
   "cell_type": "code",
   "execution_count": 11,
   "metadata": {},
   "outputs": [],
   "source": [
    "y = pd.DataFrame(columns=['Stability'])"
   ]
  },
  {
   "cell_type": "code",
   "execution_count": 12,
   "metadata": {},
   "outputs": [],
   "source": [
    "feature_dfs = [lv_y, lpa_y, im_y]\n",
    "\n",
    "for mu in [1, 2, 3, 4]:\n",
    "    for graph in [1, 2, 3, 4, 5]:\n",
    "        for node in range(200):\n",
    "            node_index = 'graph_{0}_{1}_node_{2}'.format(mu, graph, node)\n",
    "            stab_sum = np.sum([df.loc[node_index]['Stability'] for df in feature_dfs])\n",
    "            if stab_sum >= 2:\n",
    "                y_to_add = {'Stability': 1}\n",
    "            elif stab_sum <= 1:\n",
    "                y_to_add = {'Stability': 0}\n",
    "            y_to_add_df = pd.DataFrame(y_to_add, index=[node_index])\n",
    "            y = pd.concat([y, y_to_add_df])"
   ]
  },
  {
   "cell_type": "markdown",
   "metadata": {},
   "source": [
    "### Train-test split"
   ]
  },
  {
   "cell_type": "code",
   "execution_count": 18,
   "metadata": {},
   "outputs": [],
   "source": [
    "X_train, X_test, y_train, y_test = train_test_split(X, y, stratify=y, test_size=0.2)"
   ]
  },
  {
   "cell_type": "markdown",
   "metadata": {},
   "source": [
    "### Feature Ranking"
   ]
  },
  {
   "cell_type": "code",
   "execution_count": 19,
   "metadata": {},
   "outputs": [],
   "source": [
    "runs = 100"
   ]
  },
  {
   "cell_type": "code",
   "execution_count": 20,
   "metadata": {},
   "outputs": [],
   "source": [
    "feature_list = list(X_train.columns)\n",
    "data = np.array(X_train)\n",
    "labels = np.squeeze(np.array(y_train))\n",
    "labels = labels.astype('int')"
   ]
  },
  {
   "cell_type": "code",
   "execution_count": 21,
   "metadata": {},
   "outputs": [],
   "source": [
    "accuracy_scores = []\n",
    "feature_importances = {}\n",
    "for f in feature_list:\n",
    "    feature_importances[f] = []\n",
    "rows = []\n",
    "\n",
    "skf = StratifiedKFold(n_splits=5)\n",
    "rf = RandomForestClassifier()\n",
    "\n",
    "fold_count = 0\n",
    "\n",
    "for run in range(1, runs+1):\n",
    "    \n",
    "    for i in range(5):\n",
    "        \n",
    "        fold_count += 1\n",
    "        \n",
    "        folds = next(skf.split(data, labels), None)\n",
    "        \n",
    "        X_train_fold = data[folds[0], :]\n",
    "        X_val_fold = data[folds[1], :]\n",
    "        y_train_fold = labels[folds[0]]\n",
    "        y_val_fold = labels[folds[1]]\n",
    "        \n",
    "        model = rf.fit(X_train_fold, y_train_fold)\n",
    "        predictions = rf.predict(X_val_fold)\n",
    "    \n",
    "        accuracy_scores.append(metrics.accuracy_score(y_val_fold, predictions))\n",
    "\n",
    "        row = { \"run\" : fold_count }\n",
    "        for j, feature in enumerate(feature_list):\n",
    "            row[feature] = rf.feature_importances_[j]\n",
    "        rows.append(row)"
   ]
  },
  {
   "cell_type": "markdown",
   "metadata": {},
   "source": [
    "### Accuracy Scores"
   ]
  },
  {
   "cell_type": "code",
   "execution_count": 22,
   "metadata": {},
   "outputs": [
    {
     "name": "stdout",
     "output_type": "stream",
     "text": [
      "[0.9078125, 0.89375, 0.9, 0.896875, 0.90625, 0.9078125, 0.903125, 0.9109375, 0.903125, 0.896875, 0.9, 0.9046875, 0.903125, 0.903125, 0.9015625, 0.9046875, 0.9109375, 0.9, 0.903125, 0.8984375, 0.9046875, 0.9015625, 0.9078125, 0.9, 0.9015625, 0.8953125, 0.9015625, 0.9078125, 0.90625, 0.9078125, 0.903125, 0.9015625, 0.9015625, 0.909375, 0.9015625, 0.90625, 0.896875, 0.903125, 0.8984375, 0.909375, 0.9015625, 0.903125, 0.9078125, 0.9078125, 0.903125, 0.9046875, 0.9046875, 0.9109375, 0.90625, 0.90625, 0.8953125, 0.9109375, 0.89375, 0.8953125, 0.8984375, 0.9046875, 0.903125, 0.896875, 0.9, 0.9078125, 0.9109375, 0.9078125, 0.909375, 0.9109375, 0.9078125, 0.890625, 0.9, 0.9046875, 0.9046875, 0.903125, 0.8984375, 0.909375, 0.903125, 0.90625, 0.9, 0.903125, 0.8984375, 0.909375, 0.9046875, 0.9109375, 0.903125, 0.896875, 0.903125, 0.896875, 0.90625, 0.909375, 0.9046875, 0.8953125, 0.9046875, 0.90625, 0.9046875, 0.90625, 0.8953125, 0.9015625, 0.903125, 0.9015625, 0.9046875, 0.903125, 0.909375, 0.8953125]\n",
      "~~~~~~~~~~~~~~~~~~~~~\n",
      "0.903353125\n"
     ]
    }
   ],
   "source": [
    "print(accuracy_scores[:100])\n",
    "print('~~~~~~~~~~~~~~~~~~~~~')\n",
    "print(np.mean(accuracy_scores))"
   ]
  },
  {
   "cell_type": "markdown",
   "metadata": {},
   "source": [
    "### Ranking Plot"
   ]
  },
  {
   "cell_type": "code",
   "execution_count": 23,
   "metadata": {},
   "outputs": [],
   "source": [
    "df_importances = pd.DataFrame(rows).set_index(\"run\")"
   ]
  },
  {
   "cell_type": "code",
   "execution_count": 24,
   "metadata": {},
   "outputs": [],
   "source": [
    "feature_ranking = df_importances.mean().sort_values(ascending=False)"
   ]
  },
  {
   "cell_type": "code",
   "execution_count": 25,
   "metadata": {},
   "outputs": [
    {
     "data": {
      "image/png": "[encoded data removed]",
      "text/plain": [
       "<Figure size 648x432 with 1 Axes>"
      ]
     },
     "metadata": {
      "needs_background": "light"
     },
     "output_type": "display_data"
    }
   ],
   "source": [
    "ax = feature_ranking[::-1].plot.barh(fontsize=13, figsize=(9,6), color=\"orange\", zorder=3)\n",
    "ax.set_xlabel(\"Mean Feature Importance\", fontsize=13)\n",
    "ax.xaxis.grid()"
   ]
  }
 ],
 "metadata": {
  "kernelspec": {
   "display_name": "Python 3",
   "language": "python",
   "name": "python3"
  },
  "language_info": {
   "codemirror_mode": {
    "name": "ipython",
    "version": 3
   },
   "file_extension": ".py",
   "mimetype": "text/x-python",
   "name": "python",
   "nbconvert_exporter": "python",
   "pygments_lexer": "ipython3",
   "version": "3.6.9"
  }
 },
 "nbformat": 4,
 "nbformat_minor": 2
}
