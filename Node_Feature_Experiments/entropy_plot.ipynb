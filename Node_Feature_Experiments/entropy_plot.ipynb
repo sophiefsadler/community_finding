{
 "cells": [
  {
   "cell_type": "markdown",
   "metadata": {},
   "source": [
    "# Entropy Plot\n",
    "\n",
    "In this notebook, I plotted histograms showing the entropies of every node. This was done before choosing a cutoff point of entropy with which to classify nodes into \"stable\" or \"unstable\"."
   ]
  },
  {
   "cell_type": "code",
   "execution_count": 16,
   "metadata": {},
   "outputs": [],
   "source": [
    "import os\n",
    "import yaml\n",
    "import numpy as np\n",
    "import matplotlib.pyplot as plt\n",
    "from scipy.stats import entropy\n",
    "%matplotlib inline"
   ]
  },
  {
   "cell_type": "markdown",
   "metadata": {},
   "source": [
    "## Louvain Data"
   ]
  },
  {
   "cell_type": "code",
   "execution_count": 4,
   "metadata": {},
   "outputs": [],
   "source": [
    "'''\n",
    "Obtain all the co-association matrices from the npy files.\n",
    "'''\n",
    "coassociation_matrices = []\n",
    "for i in [1, 2, 3, 4]:\n",
    "    for j in [1, 2, 3, 4, 5]:\n",
    "        coassociation_fil = '../LFR_Graph_Data/Community_Data/Louvain/Coassociation/graph_0{1}_mu_0_{0}_coassociation.npy'.format(i, j)\n",
    "        x = np.load(coassociation_fil)\n",
    "        coassociation_matrices.append(x)"
   ]
  },
  {
   "cell_type": "code",
   "execution_count": 5,
   "metadata": {},
   "outputs": [],
   "source": [
    "'''\n",
    "Calculate entropies of each node in each matrix\n",
    "'''\n",
    "entropies = [entropy(C) / C.shape[0] for C in coassociation_matrices]"
   ]
  },
  {
   "cell_type": "code",
   "execution_count": 6,
   "metadata": {},
   "outputs": [],
   "source": [
    "'''\n",
    "Concatenate entropies of all nodes from all matrices into a single array\n",
    "'''\n",
    "x = np.concatenate(entropies)"
   ]
  },
  {
   "cell_type": "code",
   "execution_count": 7,
   "metadata": {},
   "outputs": [
    {
     "data": {
      "text/plain": [
       "(array([178., 374., 400., 436., 509., 338., 150., 213.,  71.,  79.,  68.,\n",
       "         45.,  91., 108., 102., 122., 105.,  77., 110., 104., 114.,  90.,\n",
       "         76.,  33.,   7.]),\n",
       " array([0.01495875, 0.01537885, 0.01579895, 0.01621905, 0.01663915,\n",
       "        0.01705926, 0.01747936, 0.01789946, 0.01831956, 0.01873966,\n",
       "        0.01915976, 0.01957987, 0.01999997, 0.02042007, 0.02084017,\n",
       "        0.02126027, 0.02168037, 0.02210048, 0.02252058, 0.02294068,\n",
       "        0.02336078, 0.02378088, 0.02420098, 0.02462109, 0.02504119,\n",
       "        0.02546129]),\n",
       " <a list of 25 Patch objects>)"
      ]
     },
     "execution_count": 7,
     "metadata": {},
     "output_type": "execute_result"
    },
    {
     "data": {
      "image/png": "[encoded data removed]",
      "text/plain": [
       "<Figure size 432x288 with 1 Axes>"
      ]
     },
     "metadata": {
      "needs_background": "light"
     },
     "output_type": "display_data"
    }
   ],
   "source": [
    "'''\n",
    "Create the histogram of node entropies\n",
    "'''\n",
    "\n",
    "plt.hist(x, bins=25, color='pink')"
   ]
  },
  {
   "cell_type": "markdown",
   "metadata": {},
   "source": [
    "## Infomap Data"
   ]
  },
  {
   "cell_type": "code",
   "execution_count": 8,
   "metadata": {},
   "outputs": [],
   "source": [
    "'''\n",
    "Obtain all the co-association matrices from the npy files.\n",
    "'''\n",
    "coassociation_matrices = []\n",
    "for i in [1, 2, 3, 4]:\n",
    "    for j in [1, 2, 3, 4, 5]:\n",
    "        coassociation_fil = '../LFR_Graph_Data/Community_Data/Infomap/Coassociation/graph_0{1}_mu_0_{0}_coassociation.npy'.format(i, j)\n",
    "        x = np.load(coassociation_fil)\n",
    "        coassociation_matrices.append(x)"
   ]
  },
  {
   "cell_type": "code",
   "execution_count": 9,
   "metadata": {},
   "outputs": [],
   "source": [
    "'''\n",
    "Calculate entropies of each node in each matrix\n",
    "'''\n",
    "entropies = [entropy(C) / C.shape[0] for C in coassociation_matrices]"
   ]
  },
  {
   "cell_type": "code",
   "execution_count": 10,
   "metadata": {},
   "outputs": [],
   "source": [
    "'''\n",
    "Concatenate entropies of all nodes from all matrices into a single array\n",
    "'''\n",
    "x = np.concatenate(entropies)"
   ]
  },
  {
   "cell_type": "code",
   "execution_count": 11,
   "metadata": {},
   "outputs": [
    {
     "data": {
      "text/plain": [
       "(array([1.000e+00, 0.000e+00, 0.000e+00, 2.000e+00, 0.000e+00, 6.000e+00,\n",
       "        1.600e+01, 1.500e+01, 1.800e+01, 4.400e+01, 9.800e+01, 5.800e+01,\n",
       "        7.000e+01, 3.840e+02, 1.206e+03, 1.091e+03, 5.100e+02, 8.100e+01,\n",
       "        0.000e+00, 0.000e+00, 0.000e+00, 0.000e+00, 0.000e+00, 0.000e+00,\n",
       "        4.000e+02]),\n",
       " array([0.        , 0.00105966, 0.00211933, 0.00317899, 0.00423865,\n",
       "        0.00529832, 0.00635798, 0.00741764, 0.00847731, 0.00953697,\n",
       "        0.01059663, 0.0116563 , 0.01271596, 0.01377563, 0.01483529,\n",
       "        0.01589495, 0.01695462, 0.01801428, 0.01907394, 0.02013361,\n",
       "        0.02119327, 0.02225293, 0.0233126 , 0.02437226, 0.02543192,\n",
       "        0.02649159]),\n",
       " <a list of 25 Patch objects>)"
      ]
     },
     "execution_count": 11,
     "metadata": {},
     "output_type": "execute_result"
    },
    {
     "data": {
      "image/png": "[encoded data removed]",
      "text/plain": [
       "<Figure size 432x288 with 1 Axes>"
      ]
     },
     "metadata": {
      "needs_background": "light"
     },
     "output_type": "display_data"
    }
   ],
   "source": [
    "'''\n",
    "Create the histogram of node entropies\n",
    "'''\n",
    "\n",
    "plt.hist(x, bins=25, color='purple')"
   ]
  },
  {
   "cell_type": "markdown",
   "metadata": {},
   "source": [
    "## Girvan-Newman Data"
   ]
  },
  {
   "cell_type": "code",
   "execution_count": 12,
   "metadata": {},
   "outputs": [],
   "source": [
    "'''\n",
    "Obtain all the co-association matrices from the npy files.\n",
    "'''\n",
    "coassociation_matrices = []\n",
    "for i in [1, 2, 3, 4]:\n",
    "    for j in [1, 2, 3, 4, 5]:\n",
    "        coassociation_fil = '../LFR_Graph_Data/Community_Data/GN/Coassociation/graph_0{1}_mu_0_{0}_coassociation.npy'.format(i, j)\n",
    "        x = np.load(coassociation_fil)\n",
    "        coassociation_matrices.append(x)"
   ]
  },
  {
   "cell_type": "code",
   "execution_count": 13,
   "metadata": {},
   "outputs": [],
   "source": [
    "'''\n",
    "Calculate entropies of each node in each matrix\n",
    "'''\n",
    "entropies = [entropy(C) / C.shape[0] for C in coassociation_matrices]"
   ]
  },
  {
   "cell_type": "code",
   "execution_count": 14,
   "metadata": {},
   "outputs": [],
   "source": [
    "'''\n",
    "Concatenate entropies of all nodes from all matrices into a single array\n",
    "'''\n",
    "x = np.concatenate(entropies)"
   ]
  },
  {
   "cell_type": "code",
   "execution_count": 15,
   "metadata": {},
   "outputs": [
    {
     "data": {
      "text/plain": [
       "(array([  24.,    0.,    0.,   68.,    0.,   42.,   16.,   10.,   12.,\n",
       "          22.,   20.,   24.,   26.,  198.,  774., 1278.,  413.,  155.,\n",
       "          97.,    0.,   78.,    0.,    0.,    0.,  743.]),\n",
       " array([0.        , 0.00105664, 0.00211328, 0.00316992, 0.00422656,\n",
       "        0.0052832 , 0.00633984, 0.00739649, 0.00845313, 0.00950977,\n",
       "        0.01056641, 0.01162305, 0.01267969, 0.01373633, 0.01479297,\n",
       "        0.01584961, 0.01690625, 0.01796289, 0.01901953, 0.02007617,\n",
       "        0.02113281, 0.02218946, 0.0232461 , 0.02430274, 0.02535938,\n",
       "        0.02641602]),\n",
       " <a list of 25 Patch objects>)"
      ]
     },
     "execution_count": 15,
     "metadata": {},
     "output_type": "execute_result"
    },
    {
     "data": {
      "image/png": "[encoded data removed]",
      "text/plain": [
       "<Figure size 432x288 with 1 Axes>"
      ]
     },
     "metadata": {
      "needs_background": "light"
     },
     "output_type": "display_data"
    }
   ],
   "source": [
    "'''\n",
    "Create the histogram of node entropies\n",
    "'''\n",
    "\n",
    "plt.hist(x, bins=25, color='blue')"
   ]
  },
  {
   "cell_type": "markdown",
   "metadata": {},
   "source": [
    "## LPA Data"
   ]
  },
  {
   "cell_type": "code",
   "execution_count": 17,
   "metadata": {},
   "outputs": [],
   "source": [
    "'''\n",
    "Obtain all the co-association matrices from the npy files.\n",
    "'''\n",
    "coassociation_matrices = []\n",
    "for i in [1, 2, 3, 4]:\n",
    "    for j in [1, 2, 3, 4, 5]:\n",
    "        coassociation_fil = '../LFR_Graph_Data/Community_Data/LPA/Coassociation/graph_0{1}_mu_0_{0}_coassociation.npy'.format(i, j)\n",
    "        x = np.load(coassociation_fil)\n",
    "        coassociation_matrices.append(x)"
   ]
  },
  {
   "cell_type": "code",
   "execution_count": 18,
   "metadata": {},
   "outputs": [],
   "source": [
    "'''\n",
    "Calculate entropies of each node in each matrix\n",
    "'''\n",
    "entropies = [entropy(C) / C.shape[0] for C in coassociation_matrices]"
   ]
  },
  {
   "cell_type": "code",
   "execution_count": 19,
   "metadata": {},
   "outputs": [],
   "source": [
    "'''\n",
    "Concatenate entropies of all nodes from all matrices into a single array\n",
    "'''\n",
    "x = np.concatenate(entropies)"
   ]
  },
  {
   "cell_type": "code",
   "execution_count": 20,
   "metadata": {},
   "outputs": [
    {
     "data": {
      "text/plain": [
       "(array([1.000e+00, 0.000e+00, 0.000e+00, 0.000e+00, 0.000e+00, 0.000e+00,\n",
       "        1.000e+00, 0.000e+00, 0.000e+00, 1.000e+00, 0.000e+00, 0.000e+00,\n",
       "        3.800e+01, 3.800e+02, 3.420e+02, 3.340e+02, 2.520e+02, 2.730e+02,\n",
       "        1.690e+02, 4.400e+01, 1.240e+02, 1.020e+02, 1.810e+02, 1.030e+02,\n",
       "        1.655e+03]),\n",
       " array([0.00314709, 0.00408087, 0.00501465, 0.00594843, 0.00688221,\n",
       "        0.00781598, 0.00874976, 0.00968354, 0.01061732, 0.0115511 ,\n",
       "        0.01248487, 0.01341865, 0.01435243, 0.01528621, 0.01621999,\n",
       "        0.01715376, 0.01808754, 0.01902132, 0.0199551 , 0.02088888,\n",
       "        0.02182266, 0.02275643, 0.02369021, 0.02462399, 0.02555777,\n",
       "        0.02649155]),\n",
       " <a list of 25 Patch objects>)"
      ]
     },
     "execution_count": 20,
     "metadata": {},
     "output_type": "execute_result"
    },
    {
     "data": {
      "image/png": "[encoded data removed]",
      "text/plain": [
       "<Figure size 432x288 with 1 Axes>"
      ]
     },
     "metadata": {
      "needs_background": "light"
     },
     "output_type": "display_data"
    }
   ],
   "source": [
    "'''\n",
    "Create the histogram of node entropies\n",
    "'''\n",
    "\n",
    "plt.hist(x, bins=25, color='green')"
   ]
  }
 ],
 "metadata": {
  "kernelspec": {
   "display_name": "Python 3",
   "language": "python",
   "name": "python3"
  },
  "language_info": {
   "codemirror_mode": {
    "name": "ipython",
    "version": 3
   },
   "file_extension": ".py",
   "mimetype": "text/x-python",
   "name": "python",
   "nbconvert_exporter": "python",
   "pygments_lexer": "ipython3",
   "version": "3.6.9"
  }
 },
 "nbformat": 4,
 "nbformat_minor": 2
}
