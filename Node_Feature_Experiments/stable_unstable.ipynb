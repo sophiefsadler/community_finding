{
 "cells": [
  {
   "cell_type": "markdown",
   "metadata": {},
   "source": [
    "# Stable/Unstable Comparisons\n",
    "\n",
    "We want to explore which nodes are being classified as stable or unstable across different graphs. The first thing to do is check what proportion of nodes are \"stable\" or \"unstable\" in the experiments that have been run.\n",
    "\n",
    "NOTE: In the training labels, 0 means \"stable\" and 1 means \"unstable\"."
   ]
  },
  {
   "cell_type": "code",
   "execution_count": 2,
   "metadata": {},
   "outputs": [],
   "source": [
    "import pandas as pd\n",
    "import numpy as np"
   ]
  },
  {
   "cell_type": "markdown",
   "metadata": {},
   "source": [
    "## Initial Experiments\n",
    "\n",
    "First, check the stable/unstable ratio for the initial experiment for each algorithm."
   ]
  },
  {
   "cell_type": "code",
   "execution_count": 5,
   "metadata": {},
   "outputs": [],
   "source": [
    "'''\n",
    "Import first CSV files\n",
    "'''\n",
    "\n",
    "lv_data = pd.read_csv('../LFR_Graph_Data/Louvain_Data/node_y_train.csv', index_col=0)\n",
    "im_data = pd.read_csv('../LFR_Graph_Data/Infomap_Data/node_y_train.csv', index_col=0)\n",
    "gn_data = pd.read_csv('../LFR_Graph_Data/GN_Data/node_y_train.csv', index_col=0)\n",
    "lpa_data = pd.read_csv('../LFR_Graph_Data/LPA_Data/node_y_train.csv', index_col=0)"
   ]
  },
  {
   "cell_type": "code",
   "execution_count": 6,
   "metadata": {
    "scrolled": true
   },
   "outputs": [
    {
     "name": "stdout",
     "output_type": "stream",
     "text": [
      "Initial Louvain:\n",
      "Unstable: 962 Stable: 2238\n",
      "30.1% Unstable\n",
      "~~~~~~~~~~~~~~~~~~~~~~~~~~~~~~~\n",
      "Initial Infomap:\n",
      "Unstable: 320 Stable: 2880\n",
      "10.0% Unstable\n",
      "~~~~~~~~~~~~~~~~~~~~~~~~~~~~~~~\n",
      "Initial Girvan-Newman:\n",
      "Unstable: 657 Stable: 2543\n",
      "20.5% Unstable\n",
      "~~~~~~~~~~~~~~~~~~~~~~~~~~~~~~~\n",
      "Initial Label Propagation:\n",
      "Unstable: 2014 Stable: 1186\n",
      "62.9% Unstable\n"
     ]
    }
   ],
   "source": [
    "'''\n",
    "Check stable/unstable splits for the initial experiments\n",
    "'''\n",
    "\n",
    "def print_values(data):\n",
    "    value_counts = data['Stability'].value_counts()\n",
    "    stable_nodes = value_counts[0]\n",
    "    unstable_nodes = value_counts[1]\n",
    "    prop = unstable_nodes / len(data) * 100\n",
    "    print('Unstable:', unstable_nodes, 'Stable:', stable_nodes)\n",
    "    print('{0:.1f}% Unstable'.format(prop))\n",
    "\n",
    "\n",
    "print('Initial Louvain:')\n",
    "print_values(lv_data)\n",
    "print('~~~~~~~~~~~~~~~~~~~~~~~~~~~~~~~')\n",
    "print('Initial Infomap:')\n",
    "print_values(im_data)\n",
    "print('~~~~~~~~~~~~~~~~~~~~~~~~~~~~~~~')\n",
    "print('Initial Girvan-Newman:')\n",
    "print_values(gn_data)\n",
    "print('~~~~~~~~~~~~~~~~~~~~~~~~~~~~~~~')\n",
    "print('Initial Label Propagation:')\n",
    "print_values(lpa_data)"
   ]
  },
  {
   "cell_type": "markdown",
   "metadata": {},
   "source": [
    "## Repeat Experiments\n",
    "\n",
    "Now, check how this changes when we repeat the experiment. This data comes from generating new runs of the algorithm on the same, original LFR graphs.\n",
    "\n",
    "There are no repeats of the LPA algorithm yet."
   ]
  },
  {
   "cell_type": "code",
   "execution_count": 7,
   "metadata": {},
   "outputs": [
    {
     "name": "stdout",
     "output_type": "stream",
     "text": [
      "Further Louvain :\n",
      "Unstable: 962 Stable: 2238\n",
      "30.1% Unstable\n",
      "Unstable: 960 Stable: 2240\n",
      "30.0% Unstable\n",
      "Unstable: 963 Stable: 2237\n",
      "30.1% Unstable\n",
      "Unstable: 962 Stable: 2238\n",
      "30.1% Unstable\n",
      "~~~~~~~~~~~~~~~~~~~~~~~~~~~~~~~\n",
      "Further Infomap :\n",
      "Unstable: 320 Stable: 2880\n",
      "10.0% Unstable\n",
      "Unstable: 320 Stable: 2880\n",
      "10.0% Unstable\n",
      "Unstable: 320 Stable: 2880\n",
      "10.0% Unstable\n",
      "Unstable: 320 Stable: 2880\n",
      "10.0% Unstable\n",
      "~~~~~~~~~~~~~~~~~~~~~~~~~~~~~~~\n",
      "Further GN :\n",
      "Unstable: 657 Stable: 2543\n",
      "20.5% Unstable\n",
      "Unstable: 657 Stable: 2543\n",
      "20.5% Unstable\n",
      "Unstable: 657 Stable: 2543\n",
      "20.5% Unstable\n",
      "Unstable: 657 Stable: 2543\n",
      "20.5% Unstable\n",
      "~~~~~~~~~~~~~~~~~~~~~~~~~~~~~~~\n",
      "Further LPA :\n",
      "Unstable: 1976 Stable: 1224\n",
      "61.8% Unstable\n",
      "Unstable: 2009 Stable: 1191\n",
      "62.8% Unstable\n",
      "Unstable: 1994 Stable: 1206\n",
      "62.3% Unstable\n",
      "Unstable: 2013 Stable: 1187\n",
      "62.9% Unstable\n",
      "~~~~~~~~~~~~~~~~~~~~~~~~~~~~~~~\n"
     ]
    }
   ],
   "source": [
    "'''\n",
    "Check stable/unstable splits for repeats of the experiment\n",
    "'''\n",
    "\n",
    "algos = ['Louvain', 'Infomap', 'GN', 'LPA']\n",
    "for algo in algos:\n",
    "    print('Further', algo, ':')\n",
    "    for i in [1,2,3,4]:\n",
    "        data = pd.read_csv('../LFR_Graph_Data/Repeat_Data/' + algo + '_Data_{0}/node_y_train.csv'.format(i))\n",
    "        print_values(data)\n",
    "    print('~~~~~~~~~~~~~~~~~~~~~~~~~~~~~~~')"
   ]
  },
  {
   "cell_type": "markdown",
   "metadata": {},
   "source": [
    "## Experiments on Further Graphs\n",
    "\n",
    "Finally, check the ratios of stable/unstable nodes on the other sets of LFR graphs.\n",
    "\n",
    "Again, the LPA algorithm has not yet been run on these."
   ]
  },
  {
   "cell_type": "code",
   "execution_count": 8,
   "metadata": {},
   "outputs": [
    {
     "name": "stdout",
     "output_type": "stream",
     "text": [
      "Louvain On Other Graphs:\n",
      "Unstable: 922 Stable: 2278\n",
      "28.8% Unstable\n",
      "Unstable: 914 Stable: 2286\n",
      "28.6% Unstable\n",
      "Unstable: 916 Stable: 2284\n",
      "28.6% Unstable\n",
      "Unstable: 944 Stable: 2256\n",
      "29.5% Unstable\n",
      "~~~~~~~~~~~~~~~~~~~~~~~~~~~~~~~\n",
      "Infomap On Other Graphs:\n",
      "Unstable: 160 Stable: 3040\n",
      "5.0% Unstable\n",
      "Unstable: 320 Stable: 2880\n",
      "10.0% Unstable\n",
      "Unstable: 320 Stable: 2880\n",
      "10.0% Unstable\n",
      "Unstable: 392 Stable: 2808\n",
      "12.2% Unstable\n",
      "~~~~~~~~~~~~~~~~~~~~~~~~~~~~~~~\n",
      "GN On Other Graphs:\n",
      "Unstable: 657 Stable: 2543\n",
      "20.5% Unstable\n",
      "Unstable: 657 Stable: 2543\n",
      "20.5% Unstable\n",
      "Unstable: 657 Stable: 2543\n",
      "20.5% Unstable\n",
      "Unstable: 657 Stable: 2543\n",
      "20.5% Unstable\n",
      "~~~~~~~~~~~~~~~~~~~~~~~~~~~~~~~\n",
      "LPA On Other Graphs:\n",
      "Unstable: 2028 Stable: 1172\n",
      "63.4% Unstable\n",
      "Unstable: 2195 Stable: 1005\n",
      "68.6% Unstable\n",
      "Unstable: 1993 Stable: 1207\n",
      "62.3% Unstable\n",
      "Unstable: 1999 Stable: 1201\n",
      "62.5% Unstable\n",
      "~~~~~~~~~~~~~~~~~~~~~~~~~~~~~~~\n"
     ]
    }
   ],
   "source": [
    "'''\n",
    "Check stable/unstable splits for the other LFR graph sets\n",
    "'''\n",
    "\n",
    "algos = ['Louvain', 'Infomap', 'GN', 'LPA']\n",
    "for algo in algos:\n",
    "    print(algo, 'On Other Graphs:')\n",
    "    for i in [1,2,3,4]:\n",
    "        data = pd.read_csv('../Repeat_Graph_Data/LFR_Graphs_{0}/'.format(i) + algo + '_Data/node_y_train.csv')\n",
    "        print_values(data)\n",
    "    print('~~~~~~~~~~~~~~~~~~~~~~~~~~~~~~~')"
   ]
  },
  {
   "cell_type": "markdown",
   "metadata": {},
   "source": [
    "# Comparing Stability Across Algorithms\n",
    "\n",
    "Now we wish to compare how stable the node stays across algorithms. Note that the above propotions were calculated for the train set only, but since the train-test split is stratified, this proportion also applies to the whole dataset (including test set).\n",
    "\n",
    "For comparing across algorithms, we will need to recombine the train & test sets, since the nodes included in the train set are different each time. The train set had to be composed of different nodes each time, since the classification labels varied between experiments and the train-test split was stratified each time."
   ]
  },
  {
   "cell_type": "code",
   "execution_count": 69,
   "metadata": {},
   "outputs": [],
   "source": [
    "'''\n",
    "Import data for each algorithm and combine\n",
    "'''\n",
    "\n",
    "lv_train_data = pd.read_csv('../LFR_Graph_Data/Louvain_Data/node_y_train.csv', index_col=0)\n",
    "lv_test_data = pd.read_csv('../LFR_Graph_Data/Louvain_Data/node_y_test.csv', index_col=0)\n",
    "lv_data = pd.concat([lv_train_data, lv_test_data])\n",
    "\n",
    "im_train_data = pd.read_csv('../LFR_Graph_Data/Infomap_Data/node_y_train.csv', index_col=0)\n",
    "im_test_data = pd.read_csv('../LFR_Graph_Data/Infomap_Data/node_y_test.csv', index_col=0)\n",
    "im_data = pd.concat([im_train_data, im_test_data])\n",
    "\n",
    "gn_train_data = pd.read_csv('../LFR_Graph_Data/GN_Data/node_y_train.csv', index_col=0)\n",
    "gn_test_data = pd.read_csv('../LFR_Graph_Data/GN_Data/node_y_test.csv', index_col=0)\n",
    "gn_data = pd.concat([gn_train_data, gn_test_data])\n",
    "\n",
    "lpa_train_data = pd.read_csv('../LFR_Graph_Data/LPA_Data/node_y_train.csv', index_col=0)\n",
    "lpa_test_data = pd.read_csv('../LFR_Graph_Data/LPA_Data/node_y_test.csv', index_col=0)\n",
    "lpa_data = pd.concat([lpa_train_data, lpa_test_data])"
   ]
  },
  {
   "cell_type": "code",
   "execution_count": 70,
   "metadata": {},
   "outputs": [],
   "source": [
    "'''\n",
    "Make table for stability across algorithms\n",
    "'''\n",
    "\n",
    "node_indices = []\n",
    "node_stability = {'Louvain Stability': [],\n",
    "                  'Infomap Stability': [],\n",
    "                  'GN Stability': [],\n",
    "                  'LPA Stability': []}\n",
    "\n",
    "for mu in [1,2,3,4]:\n",
    "    for g in [1,2,3,4,5]:\n",
    "        for node in range(200):\n",
    "            node_name = 'graph_{0}_{1}_node_{2}'.format(mu, g, node)\n",
    "            node_indices.append(node_name)\n",
    "            node_stability['Louvain Stability'].append(lv_data.loc[node_name]['Stability'])\n",
    "            node_stability['Infomap Stability'].append(im_data.loc[node_name]['Stability'])\n",
    "            node_stability['GN Stability'].append(gn_data.loc[node_name]['Stability'])\n",
    "            node_stability['LPA Stability'].append(lpa_data.loc[node_name]['Stability'])\n",
    "            \n",
    "stability_table = pd.DataFrame(node_stability, columns=node_stability.keys(), index=node_indices)"
   ]
  },
  {
   "cell_type": "code",
   "execution_count": 71,
   "metadata": {},
   "outputs": [
    {
     "data": {
      "text/html": [
       "<div>\n",
       "<style scoped>\n",
       "    .dataframe tbody tr th:only-of-type {\n",
       "        vertical-align: middle;\n",
       "    }\n",
       "\n",
       "    .dataframe tbody tr th {\n",
       "        vertical-align: top;\n",
       "    }\n",
       "\n",
       "    .dataframe thead th {\n",
       "        text-align: right;\n",
       "    }\n",
       "</style>\n",
       "<table border=\"1\" class=\"dataframe\">\n",
       "  <thead>\n",
       "    <tr style=\"text-align: right;\">\n",
       "      <th></th>\n",
       "      <th>Louvain Stability</th>\n",
       "      <th>Infomap Stability</th>\n",
       "      <th>GN Stability</th>\n",
       "      <th>LPA Stability</th>\n",
       "    </tr>\n",
       "  </thead>\n",
       "  <tbody>\n",
       "    <tr>\n",
       "      <th>graph_2_5_node_122</th>\n",
       "      <td>0</td>\n",
       "      <td>0</td>\n",
       "      <td>0</td>\n",
       "      <td>1</td>\n",
       "    </tr>\n",
       "    <tr>\n",
       "      <th>graph_4_5_node_6</th>\n",
       "      <td>1</td>\n",
       "      <td>0</td>\n",
       "      <td>1</td>\n",
       "      <td>1</td>\n",
       "    </tr>\n",
       "    <tr>\n",
       "      <th>graph_4_3_node_149</th>\n",
       "      <td>1</td>\n",
       "      <td>0</td>\n",
       "      <td>1</td>\n",
       "      <td>1</td>\n",
       "    </tr>\n",
       "    <tr>\n",
       "      <th>graph_4_3_node_35</th>\n",
       "      <td>1</td>\n",
       "      <td>0</td>\n",
       "      <td>1</td>\n",
       "      <td>1</td>\n",
       "    </tr>\n",
       "    <tr>\n",
       "      <th>graph_1_2_node_58</th>\n",
       "      <td>0</td>\n",
       "      <td>0</td>\n",
       "      <td>0</td>\n",
       "      <td>0</td>\n",
       "    </tr>\n",
       "    <tr>\n",
       "      <th>graph_2_2_node_21</th>\n",
       "      <td>0</td>\n",
       "      <td>0</td>\n",
       "      <td>0</td>\n",
       "      <td>1</td>\n",
       "    </tr>\n",
       "    <tr>\n",
       "      <th>graph_4_2_node_141</th>\n",
       "      <td>1</td>\n",
       "      <td>1</td>\n",
       "      <td>1</td>\n",
       "      <td>1</td>\n",
       "    </tr>\n",
       "    <tr>\n",
       "      <th>graph_2_3_node_139</th>\n",
       "      <td>0</td>\n",
       "      <td>0</td>\n",
       "      <td>0</td>\n",
       "      <td>0</td>\n",
       "    </tr>\n",
       "    <tr>\n",
       "      <th>graph_2_3_node_61</th>\n",
       "      <td>0</td>\n",
       "      <td>0</td>\n",
       "      <td>0</td>\n",
       "      <td>0</td>\n",
       "    </tr>\n",
       "    <tr>\n",
       "      <th>graph_1_5_node_39</th>\n",
       "      <td>0</td>\n",
       "      <td>0</td>\n",
       "      <td>0</td>\n",
       "      <td>0</td>\n",
       "    </tr>\n",
       "    <tr>\n",
       "      <th>graph_2_4_node_122</th>\n",
       "      <td>0</td>\n",
       "      <td>0</td>\n",
       "      <td>0</td>\n",
       "      <td>0</td>\n",
       "    </tr>\n",
       "    <tr>\n",
       "      <th>graph_3_4_node_75</th>\n",
       "      <td>1</td>\n",
       "      <td>0</td>\n",
       "      <td>0</td>\n",
       "      <td>1</td>\n",
       "    </tr>\n",
       "    <tr>\n",
       "      <th>graph_3_4_node_145</th>\n",
       "      <td>0</td>\n",
       "      <td>0</td>\n",
       "      <td>0</td>\n",
       "      <td>1</td>\n",
       "    </tr>\n",
       "    <tr>\n",
       "      <th>graph_4_4_node_23</th>\n",
       "      <td>1</td>\n",
       "      <td>1</td>\n",
       "      <td>0</td>\n",
       "      <td>1</td>\n",
       "    </tr>\n",
       "    <tr>\n",
       "      <th>graph_4_4_node_146</th>\n",
       "      <td>1</td>\n",
       "      <td>1</td>\n",
       "      <td>0</td>\n",
       "      <td>1</td>\n",
       "    </tr>\n",
       "    <tr>\n",
       "      <th>graph_1_4_node_165</th>\n",
       "      <td>0</td>\n",
       "      <td>0</td>\n",
       "      <td>0</td>\n",
       "      <td>0</td>\n",
       "    </tr>\n",
       "    <tr>\n",
       "      <th>graph_3_1_node_141</th>\n",
       "      <td>0</td>\n",
       "      <td>0</td>\n",
       "      <td>0</td>\n",
       "      <td>1</td>\n",
       "    </tr>\n",
       "    <tr>\n",
       "      <th>graph_3_3_node_115</th>\n",
       "      <td>0</td>\n",
       "      <td>0</td>\n",
       "      <td>0</td>\n",
       "      <td>1</td>\n",
       "    </tr>\n",
       "    <tr>\n",
       "      <th>graph_2_4_node_162</th>\n",
       "      <td>0</td>\n",
       "      <td>0</td>\n",
       "      <td>0</td>\n",
       "      <td>0</td>\n",
       "    </tr>\n",
       "    <tr>\n",
       "      <th>graph_3_5_node_91</th>\n",
       "      <td>0</td>\n",
       "      <td>0</td>\n",
       "      <td>0</td>\n",
       "      <td>1</td>\n",
       "    </tr>\n",
       "  </tbody>\n",
       "</table>\n",
       "</div>"
      ],
      "text/plain": [
       "                    Louvain Stability  Infomap Stability  GN Stability  \\\n",
       "graph_2_5_node_122                  0                  0             0   \n",
       "graph_4_5_node_6                    1                  0             1   \n",
       "graph_4_3_node_149                  1                  0             1   \n",
       "graph_4_3_node_35                   1                  0             1   \n",
       "graph_1_2_node_58                   0                  0             0   \n",
       "graph_2_2_node_21                   0                  0             0   \n",
       "graph_4_2_node_141                  1                  1             1   \n",
       "graph_2_3_node_139                  0                  0             0   \n",
       "graph_2_3_node_61                   0                  0             0   \n",
       "graph_1_5_node_39                   0                  0             0   \n",
       "graph_2_4_node_122                  0                  0             0   \n",
       "graph_3_4_node_75                   1                  0             0   \n",
       "graph_3_4_node_145                  0                  0             0   \n",
       "graph_4_4_node_23                   1                  1             0   \n",
       "graph_4_4_node_146                  1                  1             0   \n",
       "graph_1_4_node_165                  0                  0             0   \n",
       "graph_3_1_node_141                  0                  0             0   \n",
       "graph_3_3_node_115                  0                  0             0   \n",
       "graph_2_4_node_162                  0                  0             0   \n",
       "graph_3_5_node_91                   0                  0             0   \n",
       "\n",
       "                    LPA Stability  \n",
       "graph_2_5_node_122              1  \n",
       "graph_4_5_node_6                1  \n",
       "graph_4_3_node_149              1  \n",
       "graph_4_3_node_35               1  \n",
       "graph_1_2_node_58               0  \n",
       "graph_2_2_node_21               1  \n",
       "graph_4_2_node_141              1  \n",
       "graph_2_3_node_139              0  \n",
       "graph_2_3_node_61               0  \n",
       "graph_1_5_node_39               0  \n",
       "graph_2_4_node_122              0  \n",
       "graph_3_4_node_75               1  \n",
       "graph_3_4_node_145              1  \n",
       "graph_4_4_node_23               1  \n",
       "graph_4_4_node_146              1  \n",
       "graph_1_4_node_165              0  \n",
       "graph_3_1_node_141              1  \n",
       "graph_3_3_node_115              1  \n",
       "graph_2_4_node_162              0  \n",
       "graph_3_5_node_91               1  "
      ]
     },
     "execution_count": 71,
     "metadata": {},
     "output_type": "execute_result"
    }
   ],
   "source": [
    "'''\n",
    "Show a random sample from the stability table\n",
    "\n",
    "NOTE: 0 means stable, 1 means unstable\n",
    "'''\n",
    "\n",
    "stability_table.sample(n=20)"
   ]
  },
  {
   "cell_type": "markdown",
   "metadata": {},
   "source": [
    "## Stability Histogram\n",
    "\n",
    "Finally, to compare the stability across multiple algorithms, we will plot a histogram showing the average stability across the 4 algorithms.\n",
    "\n",
    "Note than an average of 4 binary values can only come to 5 possible values: 0, 0.25, 0.5, 0.75, 1, hence there are only 5 bins in the histogram."
   ]
  },
  {
   "cell_type": "code",
   "execution_count": 72,
   "metadata": {},
   "outputs": [],
   "source": [
    "stability_table['Mean'] = stability_table.mean(numeric_only=True, axis=1)"
   ]
  },
  {
   "cell_type": "code",
   "execution_count": 74,
   "metadata": {},
   "outputs": [
    {
     "data": {
      "image/png": "[encoded data removed]",
      "text/plain": [
       "<Figure size 432x288 with 1 Axes>"
      ]
     },
     "metadata": {
      "needs_background": "light"
     },
     "output_type": "display_data"
    }
   ],
   "source": [
    "hist = stability_table.hist(bins=5, column='Mean', color='orange')"
   ]
  },
  {
   "cell_type": "markdown",
   "metadata": {},
   "source": [
    "The second bin probably represents nodes that were stable for Louvain, Infomap and Girvan-Newman, but not the LPA algorithm, as this is significantly less stable. If we exclude the LPA algorithm, we get the following histogram. This time there are only 4 bins, for similar reasons to the above."
   ]
  },
  {
   "cell_type": "code",
   "execution_count": 80,
   "metadata": {},
   "outputs": [],
   "source": [
    "stability_table_no_lpa = stability_table.copy().drop(['LPA Stability', 'Mean'], axis=1)"
   ]
  },
  {
   "cell_type": "code",
   "execution_count": 81,
   "metadata": {},
   "outputs": [],
   "source": [
    "stability_table_no_lpa['Mean'] = stability_table_no_lpa.mean(numeric_only=True, axis=1)"
   ]
  },
  {
   "cell_type": "code",
   "execution_count": 83,
   "metadata": {},
   "outputs": [
    {
     "data": {
      "image/png": "[encoded data removed]",
      "text/plain": [
       "<Figure size 432x288 with 1 Axes>"
      ]
     },
     "metadata": {
      "needs_background": "light"
     },
     "output_type": "display_data"
    }
   ],
   "source": [
    "hist = stability_table_no_lpa.hist(bins=4, column='Mean', color='orange')"
   ]
  }
 ],
 "metadata": {
  "kernelspec": {
   "display_name": "Python 3",
   "language": "python",
   "name": "python3"
  },
  "language_info": {
   "codemirror_mode": {
    "name": "ipython",
    "version": 3
   },
   "file_extension": ".py",
   "mimetype": "text/x-python",
   "name": "python",
   "nbconvert_exporter": "python",
   "pygments_lexer": "ipython3",
   "version": "3.6.9"
  }
 },
 "nbformat": 4,
 "nbformat_minor": 2
}
