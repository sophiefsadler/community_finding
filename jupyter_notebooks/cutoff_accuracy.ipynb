{
 "cells": [
  {
   "cell_type": "code",
   "execution_count": 1,
   "metadata": {},
   "outputs": [],
   "source": [
    "import os\n",
    "import yaml\n",
    "import numpy as np\n",
    "import matplotlib.pyplot as plt\n",
    "import pandas as pd\n",
    "%matplotlib inline"
   ]
  },
  {
   "cell_type": "code",
   "execution_count": 2,
   "metadata": {},
   "outputs": [],
   "source": [
    "X = pd.DataFrame()\n",
    "\n",
    "for i in [1, 2, 3, 4]:\n",
    "    for j in [1, 2, 3, 4, 5]:\n",
    "        features_yml = 'lfr_graphs/mu_0_{0}/graph_0{1}/graph_0{1}_mu_0_{0}_node_features.yml'.format(i, j)\n",
    "        with open(features_yml) as f:\n",
    "            feat = yaml.load(f, Loader=yaml.Loader)\n",
    "        df = pd.DataFrame(feat)\n",
    "        new_indices = ['graph_{0}_{1}_node_{2}'.format(i, j, k) for k in range(200)]\n",
    "        df.index = new_indices\n",
    "        X = pd.concat([X, df])"
   ]
  },
  {
   "cell_type": "code",
   "execution_count": 3,
   "metadata": {},
   "outputs": [],
   "source": [
    "from scipy.stats import entropy\n",
    "\n",
    "node_entropies = []\n",
    "\n",
    "for i in [1, 2, 3, 4]:\n",
    "    for j in [1, 2, 3, 4, 5]:\n",
    "        coassociation_yml = 'lfr_graphs/mu_0_{0}/graph_0{1}/graph_0{1}_mu_0_{0}_coassociation.yml'.format(i, j)\n",
    "        with open(coassociation_yml) as f:\n",
    "            x = yaml.load(f, Loader=yaml.Loader)\n",
    "        entropies = entropy(x) / x.shape[0]\n",
    "        node_entropies += list(entropies)\n",
    "        \n",
    "node_entropies = np.array(node_entropies)"
   ]
  },
  {
   "cell_type": "code",
   "execution_count": 13,
   "metadata": {},
   "outputs": [],
   "source": [
    "def assign_y(cut):\n",
    "    y = np.where(node_entropies < cut, 0, 1)\n",
    "    y = pd.DataFrame(y, index=X.index, columns=['Stability'])\n",
    "    return y"
   ]
  },
  {
   "cell_type": "code",
   "execution_count": 6,
   "metadata": {},
   "outputs": [],
   "source": [
    "from sklearn.model_selection import train_test_split\n",
    "from sklearn.model_selection import StratifiedKFold"
   ]
  },
  {
   "cell_type": "code",
   "execution_count": 7,
   "metadata": {},
   "outputs": [],
   "source": [
    "def split_data(X, y):\n",
    "    X_train, X_test, y_train, y_test = train_test_split(X, y, stratify=y, test_size=0.2)\n",
    "    feature_list = list(X_train.columns)\n",
    "    data = np.array(X_train)\n",
    "    labels = np.squeeze(np.array(y_train))\n",
    "    return feature_list, data, labels"
   ]
  },
  {
   "cell_type": "code",
   "execution_count": 8,
   "metadata": {},
   "outputs": [],
   "source": [
    "from sklearn.ensemble import RandomForestClassifier\n",
    "from sklearn import metrics"
   ]
  },
  {
   "cell_type": "code",
   "execution_count": 9,
   "metadata": {},
   "outputs": [],
   "source": [
    "runs = 100"
   ]
  },
  {
   "cell_type": "code",
   "execution_count": 10,
   "metadata": {},
   "outputs": [],
   "source": [
    "def train(feature_list, data, labels):\n",
    "    accuracy_scores = []\n",
    "\n",
    "    skf = StratifiedKFold(n_splits=5)\n",
    "    rf = RandomForestClassifier()\n",
    "\n",
    "    for run in range(1, runs+1):\n",
    "\n",
    "        for i in range(5):\n",
    "            folds = next(skf.split(data, labels), None)\n",
    "\n",
    "            X_train_fold = data[folds[0], :]\n",
    "            X_val_fold = data[folds[1], :]\n",
    "            y_train_fold = labels[folds[0]]\n",
    "            y_val_fold = labels[folds[1]]\n",
    "\n",
    "            model = rf.fit(X_train_fold, y_train_fold)\n",
    "            predictions = rf.predict(X_val_fold)\n",
    "\n",
    "            accuracy_scores.append(metrics.accuracy_score(y_val_fold, predictions))\n",
    "\n",
    "    return accuracy_scores"
   ]
  },
  {
   "cell_type": "code",
   "execution_count": 11,
   "metadata": {},
   "outputs": [],
   "source": [
    "cutoff_values = [0.015, 0.016, 0.017, 0.0175, 0.018, 0.0185, 0.019, 0.0195, 0.020, 0.021, 0.022]"
   ]
  },
  {
   "cell_type": "code",
   "execution_count": 12,
   "metadata": {},
   "outputs": [],
   "source": [
    "mean_accuracies = []"
   ]
  },
  {
   "cell_type": "code",
   "execution_count": 14,
   "metadata": {},
   "outputs": [],
   "source": [
    "from tqdm import tqdm"
   ]
  },
  {
   "cell_type": "code",
   "execution_count": 15,
   "metadata": {},
   "outputs": [
    {
     "name": "stderr",
     "output_type": "stream",
     "text": [
      "100%|██████████| 11/11 [29:18<00:00, 159.91s/it]\n"
     ]
    }
   ],
   "source": [
    "for cut in tqdm(cutoff_values):\n",
    "    y = assign_y(cut)\n",
    "    feature_list, data, labels = split_data(X, y)\n",
    "    accuracy_scores = train(feature_list, data, labels)\n",
    "    y_acc = np.mean(accuracy_scores)\n",
    "    mean_accuracies.append(y_acc)"
   ]
  },
  {
   "cell_type": "code",
   "execution_count": 22,
   "metadata": {},
   "outputs": [
    {
     "data": {
      "text/plain": [
       "Text(0, 0.5, 'Mean accuracy')"
      ]
     },
     "execution_count": 22,
     "metadata": {},
     "output_type": "execute_result"
    },
    {
     "data": {
      "image/png": "[encoded data removed]",
      "text/plain": [
       "<Figure size 432x288 with 1 Axes>"
      ]
     },
     "metadata": {
      "needs_background": "light"
     },
     "output_type": "display_data"
    }
   ],
   "source": [
    "plt.scatter(cutoff_values[1:], mean_accuracies[1:], marker='x', c='green')\n",
    "plt.title('Mean accuracy for different cutoff values for node stability')\n",
    "plt.xlim(0.015, 0.023)\n",
    "plt.xlabel('Stability cutoff value')\n",
    "plt.ylabel('Mean accuracy')"
   ]
  }
 ],
 "metadata": {
  "kernelspec": {
   "display_name": "Python 3",
   "language": "python",
   "name": "python3"
  },
  "language_info": {
   "codemirror_mode": {
    "name": "ipython",
    "version": 3
   },
   "file_extension": ".py",
   "mimetype": "text/x-python",
   "name": "python",
   "nbconvert_exporter": "python",
   "pygments_lexer": "ipython3",
   "version": "3.6.9"
  }
 },
 "nbformat": 4,
 "nbformat_minor": 2
}
