{
 "cells": [
  {
   "cell_type": "code",
   "execution_count": 1,
   "metadata": {},
   "outputs": [],
   "source": [
    "import os\n",
    "import yaml\n",
    "import numpy as np\n",
    "import matplotlib.pyplot as plt\n",
    "from scipy.stats import entropy\n",
    "%matplotlib inline"
   ]
  },
  {
   "cell_type": "code",
   "execution_count": 29,
   "metadata": {},
   "outputs": [],
   "source": [
    "'''\n",
    "Obtain all the co-association matrices from the yaml files.\n",
    "'''\n",
    "coassociation_matrices = []\n",
    "for i in [1, 2, 3, 4]:\n",
    "    for j in [1, 2, 3, 4, 5]:\n",
    "        coassociation_fil = 'lfr_graphs/mu_0_{0}/graph_0{1}/graph_0{1}_mu_0_{0}_coassociation.yml'.format(i, j)\n",
    "        with open(coassociation_fil) as f:\n",
    "            x = yaml.load(f, Loader=yaml.Loader)\n",
    "            coassociation_matrices.append(x)"
   ]
  },
  {
   "cell_type": "code",
   "execution_count": 30,
   "metadata": {},
   "outputs": [],
   "source": [
    "'''\n",
    "Calculate entropies of each node in each matrix\n",
    "'''\n",
    "entropies = [entropy(C) / C.shape[0] for C in coassociation_matrices]"
   ]
  },
  {
   "cell_type": "code",
   "execution_count": 32,
   "metadata": {},
   "outputs": [],
   "source": [
    "'''\n",
    "Concatenate entropies of all nodes from all matrices into a single array\n",
    "'''\n",
    "x = np.concatenate(entropies)"
   ]
  },
  {
   "cell_type": "code",
   "execution_count": 33,
   "metadata": {},
   "outputs": [
    {
     "data": {
      "text/plain": [
       "(array([ 814., 1060.,  616.,  257.,  153.,  254.,  271.,  253.,  247.,\n",
       "          75.]),\n",
       " array([0.01495929, 0.01600753, 0.01705577, 0.01810401, 0.01915225,\n",
       "        0.02020049, 0.02124873, 0.02229696, 0.0233452 , 0.02439344,\n",
       "        0.02544168]),\n",
       " <a list of 10 Patch objects>)"
      ]
     },
     "execution_count": 33,
     "metadata": {},
     "output_type": "execute_result"
    },
    {
     "data": {
      "image/png": "[encoded data removed]",
      "text/plain": [
       "<Figure size 432x288 with 1 Axes>"
      ]
     },
     "metadata": {
      "needs_background": "light"
     },
     "output_type": "display_data"
    }
   ],
   "source": [
    "'''\n",
    "Plot a histogram of node entropies\n",
    "'''\n",
    "plt.hist(x, bins=10)"
   ]
  },
  {
   "cell_type": "code",
   "execution_count": 34,
   "metadata": {},
   "outputs": [
    {
     "data": {
      "text/plain": [
       "(array([162., 365., 390., 496., 461., 351., 154., 221.,  64.,  83.,  68.,\n",
       "         51.,  84., 106.,  98., 121., 106.,  78., 110., 109., 119.,  85.,\n",
       "         72.,  38.,   8.]),\n",
       " array([0.01495929, 0.01537859, 0.01579788, 0.01621718, 0.01663647,\n",
       "        0.01705577, 0.01747506, 0.01789436, 0.01831366, 0.01873295,\n",
       "        0.01915225, 0.01957154, 0.01999084, 0.02041013, 0.02082943,\n",
       "        0.02124873, 0.02166802, 0.02208732, 0.02250661, 0.02292591,\n",
       "        0.0233452 , 0.0237645 , 0.0241838 , 0.02460309, 0.02502239,\n",
       "        0.02544168]),\n",
       " <a list of 25 Patch objects>)"
      ]
     },
     "execution_count": 34,
     "metadata": {},
     "output_type": "execute_result"
    },
    {
     "data": {
      "image/png": "[encoded data removed]",
      "text/plain": [
       "<Figure size 432x288 with 1 Axes>"
      ]
     },
     "metadata": {
      "needs_background": "light"
     },
     "output_type": "display_data"
    }
   ],
   "source": [
    "plt.hist(x, bins=25)"
   ]
  }
 ],
 "metadata": {
  "kernelspec": {
   "display_name": "Python 3",
   "language": "python",
   "name": "python3"
  },
  "language_info": {
   "codemirror_mode": {
    "name": "ipython",
    "version": 3
   },
   "file_extension": ".py",
   "mimetype": "text/x-python",
   "name": "python",
   "nbconvert_exporter": "python",
   "pygments_lexer": "ipython3",
   "version": "3.6.9"
  }
 },
 "nbformat": 4,
 "nbformat_minor": 2
}
