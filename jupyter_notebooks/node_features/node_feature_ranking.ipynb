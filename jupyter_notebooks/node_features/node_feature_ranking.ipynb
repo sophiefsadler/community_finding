{
 "cells": [
  {
   "cell_type": "markdown",
   "metadata": {},
   "source": [
    "# Node Feature Ranking\n",
    "\n",
    "Taking all nodes from all graphs (across all mu levels), we split nodes into \"stable\" (entropy < 0.0195) and \"unstable\" (entropy >= 0.0195) and use a random forest to determine which node features are most important in the associated binary classification task"
   ]
  },
  {
   "cell_type": "code",
   "execution_count": 2,
   "metadata": {},
   "outputs": [],
   "source": [
    "import os\n",
    "import yaml\n",
    "import numpy as np\n",
    "import matplotlib.pyplot as plt\n",
    "import pandas as pd\n",
    "%matplotlib inline"
   ]
  },
  {
   "cell_type": "markdown",
   "metadata": {},
   "source": [
    "### Reading in the data\n",
    "\n",
    "Node features have been pre-calculated for each node, as have co-assocation matrices for each graph. The node entropies have to be calculated from the co-association matrices "
   ]
  },
  {
   "cell_type": "code",
   "execution_count": 3,
   "metadata": {},
   "outputs": [],
   "source": [
    "X = pd.DataFrame()\n",
    "\n",
    "for i in [1, 2, 3, 4]:\n",
    "    for j in [1, 2, 3, 4, 5]:\n",
    "        features_yml = 'lfr_graphs/mu_0_{0}/graph_0{1}/graph_0{1}_mu_0_{0}_node_features.yml'.format(i, j)\n",
    "        with open(features_yml) as f:\n",
    "            feat = yaml.load(f, Loader=yaml.Loader)\n",
    "        df = pd.DataFrame(feat)\n",
    "        new_indices = ['graph_{0}_{1}_node_{2}'.format(i, j, k) for k in range(200)]\n",
    "        df.index = new_indices\n",
    "        X = pd.concat([X, df])"
   ]
  },
  {
   "cell_type": "code",
   "execution_count": 4,
   "metadata": {},
   "outputs": [],
   "source": [
    "from scipy.stats import entropy\n",
    "\n",
    "node_entropies = []\n",
    "\n",
    "for i in [1, 2, 3, 4]:\n",
    "    for j in [1, 2, 3, 4, 5]:\n",
    "        coassociation_yml = 'lfr_graphs/mu_0_{0}/graph_0{1}/graph_0{1}_mu_0_{0}_coassociation.yml'.format(i, j)\n",
    "        with open(coassociation_yml) as f:\n",
    "            x = yaml.load(f, Loader=yaml.Loader)\n",
    "        entropies = entropy(x) / x.shape[0]\n",
    "        node_entropies += list(entropies)\n",
    "        \n",
    "node_entropies = np.array(node_entropies)"
   ]
  },
  {
   "cell_type": "markdown",
   "metadata": {},
   "source": [
    "The y value is 0 if the node is \"stable\" and 1 if the node is \"unstable\"."
   ]
  },
  {
   "cell_type": "code",
   "execution_count": 9,
   "metadata": {},
   "outputs": [],
   "source": [
    "y = np.where(node_entropies < 0.0195, 0, 1)\n",
    "y = pd.DataFrame(y, index=X.index, columns=['Stability'])"
   ]
  },
  {
   "cell_type": "markdown",
   "metadata": {},
   "source": [
    "### Train/Test splitting\n",
    "\n",
    "First, we split the nodes into train and test sets (80/20). Then we will store the train and test data frames, and ignore the test ones for now."
   ]
  },
  {
   "cell_type": "code",
   "execution_count": 44,
   "metadata": {},
   "outputs": [],
   "source": [
    "from sklearn.model_selection import train_test_split\n",
    "from sklearn.model_selection import StratifiedKFold\n",
    "\n",
    "X_train, X_test, y_train, y_test = train_test_split(X, y, stratify=y, test_size=0.2)"
   ]
  },
  {
   "cell_type": "code",
   "execution_count": 45,
   "metadata": {},
   "outputs": [],
   "source": [
    "X_train.to_csv('lfr_graphs/node_x_train.csv')\n",
    "X_test.to_csv('lfr_graphs/node_x_test.csv')\n",
    "y_train.to_csv('lfr_graphs/node_y_train.csv')\n",
    "y_test.to_csv('lfr_graphs/node_y_test.csv')"
   ]
  },
  {
   "cell_type": "markdown",
   "metadata": {},
   "source": [
    "### Feature ranking with random forest\n",
    "\n",
    "Now we're going to perform the node feature ranking using a random forest. During training, we will use a stratified k-fold cross-validation scheme."
   ]
  },
  {
   "cell_type": "code",
   "execution_count": 71,
   "metadata": {},
   "outputs": [],
   "source": [
    "runs = 100"
   ]
  },
  {
   "cell_type": "code",
   "execution_count": 72,
   "metadata": {},
   "outputs": [],
   "source": [
    "feature_list = list(X_train.columns)\n",
    "data = np.array(X_train)\n",
    "labels = np.squeeze(np.array(y_train))"
   ]
  },
  {
   "cell_type": "code",
   "execution_count": 73,
   "metadata": {},
   "outputs": [],
   "source": [
    "from sklearn.ensemble import RandomForestClassifier\n",
    "from sklearn import metrics\n",
    "\n",
    "accuracy_scores = []\n",
    "feature_importances = {}\n",
    "for f in feature_list:\n",
    "    feature_importances[f] = []\n",
    "rows = []\n",
    "\n",
    "skf = StratifiedKFold(n_splits=5)\n",
    "rf = RandomForestClassifier()\n",
    "\n",
    "for run in range(1, runs+1):\n",
    "    \n",
    "    for i in range(5):\n",
    "        folds = next(skf.split(data, labels), None)\n",
    "        \n",
    "        X_train_fold = data[folds[0], :]\n",
    "        X_val_fold = data[folds[1], :]\n",
    "        y_train_fold = labels[folds[0]]\n",
    "        y_val_fold = labels[folds[1]]\n",
    "        \n",
    "        model = rf.fit(X_train_fold, y_train_fold)\n",
    "        predictions = rf.predict(X_val_fold)\n",
    "    \n",
    "        accuracy_scores.append(metrics.accuracy_score(y_val_fold, predictions))\n",
    "\n",
    "    row = { \"run\" : run }\n",
    "    for i, feature in enumerate(feature_list):\n",
    "        row[feature] = rf.feature_importances_[i]\n",
    "    rows.append(row)"
   ]
  },
  {
   "cell_type": "code",
   "execution_count": 74,
   "metadata": {},
   "outputs": [],
   "source": [
    "df_importances = pd.DataFrame(rows).set_index(\"run\")"
   ]
  },
  {
   "cell_type": "code",
   "execution_count": 75,
   "metadata": {},
   "outputs": [],
   "source": [
    "feature_ranking = df_importances.mean().sort_values(ascending=False)"
   ]
  },
  {
   "cell_type": "code",
   "execution_count": 76,
   "metadata": {},
   "outputs": [
    {
     "data": {
      "image/png": "[encoded data removed]",
      "text/plain": [
       "<Figure size 648x432 with 1 Axes>"
      ]
     },
     "metadata": {
      "needs_background": "light"
     },
     "output_type": "display_data"
    }
   ],
   "source": [
    "ax = feature_ranking[::-1].plot.barh( fontsize=13, figsize=(9,6), color=\"pink\", zorder=3 );\n",
    "ax.set_xlabel(\"Mean Feature Importance\", fontsize=13);\n",
    "ax.xaxis.grid();"
   ]
  }
 ],
 "metadata": {
  "kernelspec": {
   "display_name": "Python 3",
   "language": "python",
   "name": "python3"
  },
  "language_info": {
   "codemirror_mode": {
    "name": "ipython",
    "version": 3
   },
   "file_extension": ".py",
   "mimetype": "text/x-python",
   "name": "python",
   "nbconvert_exporter": "python",
   "pygments_lexer": "ipython3",
   "version": "3.6.9"
  }
 },
 "nbformat": 4,
 "nbformat_minor": 2
}
