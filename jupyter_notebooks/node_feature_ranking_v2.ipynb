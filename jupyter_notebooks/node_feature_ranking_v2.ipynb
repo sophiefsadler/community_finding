{
 "cells": [
  {
   "cell_type": "markdown",
   "metadata": {},
   "source": [
    "# Node Feature Ranking\n",
    "\n",
    "Taking all nodes from all graphs (across all mu levels), we split nodes into \"stable\" (entropy < 0.0195) and \"unstable\" (entropy >= 0.0195) and use a random forest to determine which node features are most important in the associated binary classification task"
   ]
  },
  {
   "cell_type": "code",
   "execution_count": 64,
   "metadata": {},
   "outputs": [],
   "source": [
    "import os\n",
    "import yaml\n",
    "import numpy as np\n",
    "import matplotlib.pyplot as plt\n",
    "import pandas as pd\n",
    "%matplotlib inline"
   ]
  },
  {
   "cell_type": "markdown",
   "metadata": {},
   "source": [
    "### Reading in the data\n",
    "\n",
    "Node features have been pre-calculated for each node, as have co-assocation matrices for each graph. The node entropies have to be calculated from the co-association matrices "
   ]
  },
  {
   "cell_type": "code",
   "execution_count": 65,
   "metadata": {},
   "outputs": [],
   "source": [
    "X_train = pd.read_csv('../lfr_graphs/node_x_train.csv', index_col=0)\n",
    "y_train = pd.read_csv('../lfr_graphs/node_y_train.csv', index_col=0)"
   ]
  },
  {
   "cell_type": "markdown",
   "metadata": {},
   "source": [
    "### Feature ranking with random forest\n",
    "\n",
    "Now we're going to perform the node feature ranking using a random forest. During training, we will use a stratified k-fold cross-validation scheme."
   ]
  },
  {
   "cell_type": "code",
   "execution_count": 66,
   "metadata": {},
   "outputs": [],
   "source": [
    "runs = 100"
   ]
  },
  {
   "cell_type": "code",
   "execution_count": 67,
   "metadata": {},
   "outputs": [],
   "source": [
    "feature_list = list(X_train.columns)\n",
    "data = np.array(X_train)\n",
    "labels = np.squeeze(np.array(y_train))"
   ]
  },
  {
   "cell_type": "code",
   "execution_count": 84,
   "metadata": {},
   "outputs": [],
   "source": [
    "from sklearn.model_selection import StratifiedKFold\n",
    "from sklearn.ensemble import RandomForestClassifier\n",
    "from sklearn import metrics\n",
    "\n",
    "accuracy_scores = []\n",
    "feature_importances = {}\n",
    "for f in feature_list:\n",
    "    feature_importances[f] = []\n",
    "rows = []\n",
    "\n",
    "skf = StratifiedKFold(n_splits=5)\n",
    "rf = RandomForestClassifier()\n",
    "\n",
    "fold_count = 0\n",
    "\n",
    "for run in range(1, runs+1):\n",
    "    \n",
    "    for i in range(5):\n",
    "        \n",
    "        fold_count += 1\n",
    "        \n",
    "        folds = next(skf.split(data, labels), None)\n",
    "        \n",
    "        X_train_fold = data[folds[0], :]\n",
    "        X_val_fold = data[folds[1], :]\n",
    "        y_train_fold = labels[folds[0]]\n",
    "        y_val_fold = labels[folds[1]]\n",
    "        \n",
    "        model = rf.fit(X_train_fold, y_train_fold)\n",
    "        predictions = rf.predict(X_val_fold)\n",
    "    \n",
    "        accuracy_scores.append(metrics.accuracy_score(y_val_fold, predictions))\n",
    "\n",
    "        row = { \"run\" : fold_count }\n",
    "        for j, feature in enumerate(feature_list):\n",
    "            row[feature] = rf.feature_importances_[j]\n",
    "        rows.append(row)"
   ]
  },
  {
   "cell_type": "markdown",
   "metadata": {},
   "source": [
    "### Check accuracy scores\n",
    "\n",
    "Let's have a look at the accuracy scores to make sure the model is working."
   ]
  },
  {
   "cell_type": "code",
   "execution_count": 85,
   "metadata": {},
   "outputs": [
    {
     "name": "stdout",
     "output_type": "stream",
     "text": [
      "[0.8953125, 0.89375, 0.90625, 0.90625, 0.9015625, 0.8921875, 0.8984375, 0.9, 0.9046875, 0.8984375, 0.903125, 0.9046875, 0.9046875, 0.8984375, 0.896875, 0.903125, 0.9046875, 0.8953125, 0.90625, 0.903125, 0.9, 0.9, 0.9015625, 0.903125, 0.896875, 0.9078125, 0.896875, 0.8984375, 0.896875, 0.909375, 0.909375, 0.8984375, 0.90625, 0.9, 0.9015625, 0.9015625, 0.9078125, 0.903125, 0.896875, 0.903125, 0.90625, 0.9125, 0.90625, 0.903125, 0.9, 0.903125, 0.9078125, 0.9046875, 0.9, 0.9015625, 0.9078125, 0.903125, 0.9109375, 0.9046875, 0.9015625, 0.90625, 0.909375, 0.903125, 0.9046875, 0.9015625, 0.903125, 0.903125, 0.909375, 0.9046875, 0.909375, 0.90625, 0.9, 0.90625, 0.896875, 0.9, 0.9046875, 0.903125, 0.9, 0.9015625, 0.9, 0.90625, 0.903125, 0.8984375, 0.8921875, 0.9078125, 0.9015625, 0.9078125, 0.9078125, 0.9015625, 0.903125, 0.9078125, 0.903125, 0.890625, 0.9015625, 0.896875, 0.896875, 0.903125, 0.9015625, 0.903125, 0.90625, 0.8953125, 0.909375, 0.909375, 0.903125, 0.903125, 0.9046875, 0.9015625, 0.9, 0.89375, 0.909375, 0.903125, 0.9015625, 0.9, 0.909375, 0.8984375, 0.9078125, 0.9, 0.9, 0.909375, 0.903125, 0.9078125, 0.9046875, 0.9078125, 0.8984375, 0.9, 0.8984375, 0.9046875, 0.9, 0.9046875, 0.9015625, 0.9078125, 0.9, 0.903125, 0.90625, 0.9046875, 0.9078125, 0.90625, 0.90625, 0.909375, 0.89375, 0.89375, 0.90625, 0.9, 0.90625, 0.903125, 0.903125, 0.9046875, 0.903125, 0.909375, 0.9, 0.903125, 0.9015625, 0.9046875, 0.903125, 0.9015625, 0.90625, 0.9, 0.9046875, 0.9125, 0.903125, 0.9, 0.9046875, 0.9046875, 0.890625, 0.90625, 0.9015625, 0.9, 0.9046875, 0.9046875, 0.9046875, 0.9046875, 0.9109375, 0.90625, 0.9125, 0.915625, 0.903125, 0.9078125, 0.8953125, 0.903125, 0.9, 0.903125, 0.903125, 0.9, 0.9, 0.8953125, 0.90625, 0.8984375, 0.903125, 0.90625, 0.9, 0.9015625, 0.896875, 0.9, 0.903125, 0.9109375, 0.8984375, 0.8984375, 0.9, 0.9046875, 0.903125, 0.9, 0.9078125, 0.90625, 0.903125, 0.9015625, 0.8953125, 0.9015625, 0.9015625, 0.90625, 0.896875, 0.903125, 0.8984375, 0.9, 0.9078125, 0.9078125, 0.9078125, 0.9078125, 0.903125, 0.9046875, 0.90625, 0.9109375, 0.8953125, 0.9, 0.9109375, 0.9046875, 0.9046875, 0.9015625, 0.909375, 0.8984375, 0.90625, 0.9, 0.9, 0.9046875, 0.9078125, 0.90625, 0.9, 0.9078125, 0.90625, 0.9046875, 0.9046875, 0.9078125, 0.9, 0.9046875, 0.90625, 0.9015625, 0.903125, 0.903125, 0.9, 0.90625, 0.90625, 0.8984375, 0.90625, 0.903125, 0.90625, 0.9, 0.90625, 0.8984375, 0.9, 0.9046875, 0.9171875, 0.909375, 0.90625, 0.9, 0.9046875, 0.9109375, 0.8953125, 0.9015625, 0.9015625, 0.90625, 0.9, 0.9015625, 0.90625, 0.896875, 0.9078125, 0.9, 0.903125, 0.9015625, 0.903125, 0.9015625, 0.9046875, 0.8984375, 0.8984375, 0.903125, 0.90625, 0.903125, 0.896875, 0.9015625, 0.9078125, 0.9125, 0.896875, 0.9046875, 0.90625, 0.9015625, 0.8984375, 0.896875, 0.9046875, 0.9078125, 0.90625, 0.9015625, 0.90625, 0.9046875, 0.9046875, 0.9015625, 0.9109375, 0.8984375, 0.9, 0.9109375, 0.9046875, 0.90625, 0.896875, 0.9046875, 0.896875, 0.9, 0.89375, 0.8984375, 0.90625, 0.903125, 0.9046875, 0.8984375, 0.9015625, 0.90625, 0.9078125, 0.8984375, 0.9078125, 0.9078125, 0.9078125, 0.903125, 0.9015625, 0.903125, 0.9015625, 0.8984375, 0.8984375, 0.903125, 0.903125, 0.9, 0.8984375, 0.909375, 0.9046875, 0.9, 0.9015625, 0.90625, 0.9015625, 0.9015625, 0.9015625, 0.9109375, 0.9015625, 0.9046875, 0.896875, 0.9078125, 0.8953125, 0.9046875, 0.90625, 0.9046875, 0.9046875, 0.903125, 0.909375, 0.90625, 0.9046875, 0.9046875, 0.9, 0.896875, 0.9078125, 0.9078125, 0.8984375, 0.903125, 0.903125, 0.903125, 0.8953125, 0.9125, 0.903125, 0.90625, 0.903125, 0.903125, 0.8984375, 0.90625, 0.90625, 0.909375, 0.9078125, 0.8984375, 0.8984375, 0.8984375, 0.896875, 0.90625, 0.9046875, 0.9109375, 0.9046875, 0.9, 0.903125, 0.896875, 0.9015625, 0.9015625, 0.9046875, 0.8984375, 0.9, 0.9, 0.90625, 0.9046875, 0.90625, 0.9109375, 0.9046875, 0.9109375, 0.9078125, 0.896875, 0.8984375, 0.8984375, 0.903125, 0.9078125, 0.9046875, 0.903125, 0.9015625, 0.9, 0.903125, 0.90625, 0.90625, 0.9078125, 0.9078125, 0.9015625, 0.896875, 0.8984375, 0.8953125, 0.8984375, 0.896875, 0.903125, 0.8953125, 0.8984375, 0.9, 0.9078125, 0.8984375, 0.9, 0.9015625, 0.909375, 0.903125, 0.9125, 0.8984375, 0.9, 0.9109375, 0.903125, 0.903125, 0.9, 0.903125, 0.9015625, 0.9, 0.9015625, 0.9015625, 0.896875, 0.9046875, 0.9078125, 0.90625, 0.9046875, 0.903125, 0.9046875, 0.9015625, 0.90625, 0.8984375, 0.9046875, 0.9078125, 0.9, 0.903125, 0.8984375, 0.9125, 0.903125, 0.9046875, 0.90625, 0.9, 0.90625, 0.90625, 0.9015625, 0.90625, 0.90625, 0.9, 0.903125, 0.903125, 0.9, 0.9015625, 0.9, 0.9, 0.903125, 0.903125, 0.9046875, 0.9, 0.9, 0.90625, 0.9015625, 0.8984375, 0.9, 0.9078125, 0.9046875, 0.9, 0.9, 0.9, 0.909375, 0.9015625, 0.909375, 0.896875, 0.90625, 0.903125, 0.9046875, 0.9078125, 0.90625, 0.9046875, 0.9, 0.9015625, 0.89375, 0.896875, 0.896875]\n",
      "~~~~~~~~~~~~~~~~~~~~~\n",
      "0.90303125\n"
     ]
    }
   ],
   "source": [
    "print(accuracy_scores)\n",
    "print('~~~~~~~~~~~~~~~~~~~~~')\n",
    "print(np.mean(accuracy_scores))"
   ]
  },
  {
   "cell_type": "markdown",
   "metadata": {},
   "source": [
    "### Feature ranking\n",
    "\n",
    "From the accuracy scores, we can see that the model is definitely learning something, so now let's rank the features."
   ]
  },
  {
   "cell_type": "code",
   "execution_count": 86,
   "metadata": {},
   "outputs": [],
   "source": [
    "df_importances = pd.DataFrame(rows).set_index(\"run\")"
   ]
  },
  {
   "cell_type": "code",
   "execution_count": 87,
   "metadata": {},
   "outputs": [],
   "source": [
    "feature_ranking = df_importances.mean().sort_values(ascending=False)"
   ]
  },
  {
   "cell_type": "code",
   "execution_count": 88,
   "metadata": {},
   "outputs": [
    {
     "data": {
      "image/png": "[encoded data removed]",
      "text/plain": [
       "<Figure size 648x432 with 1 Axes>"
      ]
     },
     "metadata": {
      "needs_background": "light"
     },
     "output_type": "display_data"
    }
   ],
   "source": [
    "ax = feature_ranking[::-1].plot.barh( fontsize=13, figsize=(9,6), color=\"pink\", zorder=3 );\n",
    "ax.set_xlabel(\"Mean Feature Importance\", fontsize=13);\n",
    "ax.xaxis.grid();"
   ]
  },
  {
   "cell_type": "markdown",
   "metadata": {},
   "source": [
    "### Pairwise graph training\n",
    "\n",
    "Now we're going to train and validate the model using the method suggested by Derek (train on 1 graph, validate on another, then swap). We're still using the same train set of nodes previously created. As the train set did not at all depend on graph, each graph has a random number of nodes for training. We can check that these are at least roughly equal when we segregate by graph. Unfortunately graph segregation has to be done by reading strings as this is the only place I saved the graph information in the train set."
   ]
  },
  {
   "cell_type": "code",
   "execution_count": 94,
   "metadata": {},
   "outputs": [],
   "source": [
    "train_indices_by_graph = {(i,j): [] for i in [1,2,3,4] for j in [1,2,3,4,5]}"
   ]
  },
  {
   "cell_type": "code",
   "execution_count": 95,
   "metadata": {},
   "outputs": [],
   "source": [
    "for graph_string in list(X_train.index):\n",
    "    mu_val = int(graph_string[6])\n",
    "    graph_val = int(graph_string[8])\n",
    "    train_indices_by_graph[(mu_val, graph_val)].append(graph_string)"
   ]
  },
  {
   "cell_type": "code",
   "execution_count": 96,
   "metadata": {},
   "outputs": [
    {
     "name": "stdout",
     "output_type": "stream",
     "text": [
      "[162, 157, 154, 161, 158, 158, 159, 158, 157, 162, 153, 172, 162, 159, 169, 158, 164, 152, 163, 162]\n"
     ]
    }
   ],
   "source": [
    "print([len(l) for l in train_indices_by_graph.values()])"
   ]
  },
  {
   "cell_type": "markdown",
   "metadata": {},
   "source": [
    "All our train/validation sets here are roughly the same size (152-172)."
   ]
  },
  {
   "cell_type": "code",
   "execution_count": 97,
   "metadata": {},
   "outputs": [],
   "source": [
    "runs = 100"
   ]
  },
  {
   "cell_type": "code",
   "execution_count": 98,
   "metadata": {},
   "outputs": [],
   "source": [
    "feature_list = list(X_train.columns)\n",
    "\n",
    "data = []\n",
    "labels = []\n",
    "for _, graph_indices in train_indices_by_graph.items():\n",
    "    data.append(np.array(X_train.loc[graph_indices]))\n",
    "    labels.append(np.squeeze(np.array(y_train.loc[graph_indices])))"
   ]
  },
  {
   "cell_type": "markdown",
   "metadata": {},
   "source": [
    "Create the set of pairs of graphs to train on."
   ]
  },
  {
   "cell_type": "code",
   "execution_count": 102,
   "metadata": {},
   "outputs": [],
   "source": [
    "graph_pairs = [(i,j) for i in range(20) for j in range(20) if i < j]"
   ]
  },
  {
   "cell_type": "code",
   "execution_count": 106,
   "metadata": {},
   "outputs": [],
   "source": [
    "from sklearn.model_selection import StratifiedKFold\n",
    "from sklearn.ensemble import RandomForestClassifier\n",
    "from sklearn import metrics\n",
    "\n",
    "accuracy_scores = []\n",
    "feature_importances = {}\n",
    "for f in feature_list:\n",
    "    feature_importances[f] = []\n",
    "rows = []\n",
    "\n",
    "skf = StratifiedKFold(n_splits=5)\n",
    "rf = RandomForestClassifier()\n",
    "\n",
    "for graph_1, graph_2 in graph_pairs:\n",
    "    \n",
    "    X_graph_1 = data[graph_1]\n",
    "    X_graph_2 = data[graph_2]\n",
    "    y_graph_1 = labels[graph_1]\n",
    "    y_graph_2 = labels[graph_2]\n",
    "\n",
    "    model = rf.fit(X_graph_1, y_graph_1)\n",
    "    predictions = rf.predict(X_graph_2)\n",
    "\n",
    "    accuracy_scores.append(metrics.accuracy_score(y_graph_2, predictions))\n",
    "    \n",
    "    model = rf.fit(X_graph_2, y_graph_2)\n",
    "    predictions = rf.predict(X_graph_1)\n",
    "\n",
    "    accuracy_scores.append(metrics.accuracy_score(y_graph_1, predictions))\n",
    "\n",
    "    row = { \"run\" : run }\n",
    "    for i, feature in enumerate(feature_list):\n",
    "        row[feature] = rf.feature_importances_[i]\n",
    "    rows.append(row)"
   ]
  },
  {
   "cell_type": "code",
   "execution_count": 110,
   "metadata": {},
   "outputs": [
    {
     "name": "stdout",
     "output_type": "stream",
     "text": [
      "[1.0, 1.0, 1.0, 1.0, 1.0, 1.0, 1.0, 1.0, 0.9810126582278481, 1.0, 0.9937106918238994, 1.0, 0.9746835443037974, 1.0, 1.0, 1.0, 0.9567901234567902, 1.0, 0.6470588235294118, 0.9938271604938271, 0.8895348837209303, 1.0, 0.8209876543209876, 1.0, 0.7232704402515723, 0.018518518518518517, 0.9940828402366864, 1.0, 0.0, 0.0, 0.0, 0.0, 0.0, 0.0, 0.0, 0.0, 0.0, 0.0, 1.0, 1.0, 1.0, 1.0, 1.0, 1.0, 0.9810126582278481, 1.0, 0.9937106918238994, 1.0, 0.9746835443037974, 1.0, 1.0, 1.0, 0.9567901234567902, 1.0, 0.6470588235294118, 0.9681528662420382, 0.8895348837209303, 1.0, 0.8209876543209876, 1.0, 0.7232704402515723, 0.9808917197452229, 0.9940828402366864, 1.0, 0.0, 0.0, 0.0, 0.0, 0.0, 0.0, 0.0, 0.0, 0.0, 0.0, 1.0, 1.0, 1.0, 1.0, 0.9810126582278481, 1.0, 0.9937106918238994, 1.0, 0.9746835443037974, 1.0, 1.0, 1.0, 0.9567901234567902, 1.0, 0.6470588235294118, 0.9805194805194806, 0.8895348837209303, 1.0, 0.8209876543209876, 1.0, 0.7232704402515723, 0.9805194805194806, 0.9940828402366864, 1.0, 0.0, 0.0, 0.0, 0.0, 0.0, 0.0, 0.0, 0.0, 0.0, 0.0, 1.0, 1.0, 0.9810126582278481, 1.0, 0.9937106918238994, 1.0, 0.9746835443037974, 1.0, 1.0, 1.0, 0.9567901234567902, 1.0, 0.6470588235294118, 0.9627329192546584, 0.8895348837209303, 1.0, 0.8209876543209876, 1.0, 0.7232704402515723, 0.9937888198757764, 0.9940828402366864, 1.0, 0.0, 0.0, 0.0, 0.0, 0.0, 0.0, 0.0, 0.0, 0.0, 0.0, 0.9810126582278481, 1.0, 0.9937106918238994, 1.0, 0.9746835443037974, 1.0, 1.0, 1.0, 0.9567901234567902, 1.0, 0.6470588235294118, 0.9810126582278481, 0.8895348837209303, 1.0, 0.8209876543209876, 1.0, 0.7232704402515723, 0.9493670886075949, 0.9940828402366864, 1.0, 0.0, 0.0, 0.0, 0.0, 0.0, 0.0, 0.0, 0.0, 0.0, 0.0, 0.9937106918238994, 0.9810126582278481, 0.9746835443037974, 0.9810126582278481, 0.9936305732484076, 0.9810126582278481, 0.9567901234567902, 0.9873417721518988, 0.6470588235294118, 0.9113924050632911, 0.8895348837209303, 0.9746835443037974, 0.8209876543209876, 0.9746835443037974, 0.7232704402515723, 0.9113924050632911, 0.9940828402366864, 0.9810126582278481, 0.0, 0.0189873417721519, 0.006097560975609756, 0.0189873417721519, 0.0, 0.0189873417721519, 0.0, 0.0189873417721519, 0.0, 0.0189873417721519, 0.9746835443037974, 0.9937106918238994, 1.0, 0.9937106918238994, 0.9567901234567902, 0.9937106918238994, 0.6470588235294118, 0.9433962264150944, 0.8895348837209303, 0.9937106918238994, 0.8209876543209876, 0.9937106918238994, 0.7232704402515723, 0.9433962264150944, 0.9940828402366864, 0.9937106918238994, 0.0, 0.006289308176100629, 0.0, 0.006289308176100629, 0.0, 0.006289308176100629, 0.0, 0.006289308176100629, 0.0, 0.006289308176100629, 1.0, 0.9746835443037974, 0.9567901234567902, 0.9746835443037974, 0.6470588235294118, 0.9810126582278481, 0.8895348837209303, 0.9746835443037974, 0.8148148148148148, 0.9810126582278481, 0.7232704402515723, 0.9493670886075949, 0.9940828402366864, 0.9746835443037974, 0.0, 0.02531645569620253, 0.0, 0.02531645569620253, 0.0, 0.02531645569620253, 0.0, 0.02531645569620253, 0.0, 0.02531645569620253, 0.9567901234567902, 1.0, 0.6470588235294118, 0.9936305732484076, 0.8895348837209303, 1.0, 0.8209876543209876, 1.0, 0.7232704402515723, 0.9872611464968153, 0.9940828402366864, 1.0, 0.0, 0.0, 0.0, 0.0, 0.0, 0.0, 0.0, 0.0, 0.0, 0.0, 0.6470588235294118, 0.8765432098765432, 0.8895348837209303, 0.9691358024691358, 0.8209876543209876, 0.9320987654320988, 0.7232704402515723, 0.8580246913580247, 0.9940828402366864, 0.9567901234567902, 0.03164556962025317, 0.043209876543209874, 0.012195121951219513, 0.043209876543209874, 0.03289473684210526, 0.043209876543209874, 0.012269938650306749, 0.043209876543209874, 0.012345679012345678, 0.043209876543209874, 0.8604651162790697, 0.6601307189542484, 0.7839506172839507, 0.6797385620915033, 0.7232704402515723, 0.6535947712418301, 0.9349112426035503, 0.6470588235294118, 0.4050632911392405, 0.35294117647058826, 0.18902439024390244, 0.35294117647058826, 0.39473684210526316, 0.35294117647058826, 0.4539877300613497, 0.35294117647058826, 0.35185185185185186, 0.35294117647058826, 0.8271604938271605, 0.8895348837209303, 0.7232704402515723, 0.8255813953488372, 0.9881656804733728, 0.8895348837209303, 0.05063291139240506, 0.11046511627906977, 0.012195121951219513, 0.11046511627906977, 0.07894736842105263, 0.11046511627906977, 0.09202453987730061, 0.11046511627906977, 0.09876543209876543, 0.11046511627906977, 0.7169811320754716, 0.7530864197530864, 0.9881656804733728, 0.8209876543209876, 0.08227848101265822, 0.17901234567901234, 0.018292682926829267, 0.17901234567901234, 0.07236842105263158, 0.17901234567901234, 0.07975460122699386, 0.17901234567901234, 0.06172839506172839, 0.17901234567901234, 0.9644970414201184, 0.7232704402515723, 0.11392405063291139, 0.27672955974842767, 0.10365853658536585, 0.27672955974842767, 0.21052631578947367, 0.27672955974842767, 0.17177914110429449, 0.27672955974842767, 0.12345679012345678, 0.27672955974842767, 0.0, 0.005917159763313609, 0.0, 0.005917159763313609, 0.0, 0.005917159763313609, 0.0, 0.005917159763313609, 0.0, 0.005917159763313609, 1.0, 1.0, 1.0, 1.0, 1.0, 1.0, 1.0, 1.0, 1.0, 1.0, 1.0, 1.0, 1.0, 1.0, 1.0, 1.0, 1.0, 1.0, 1.0, 1.0]\n",
      "~~~~~~~~~~~~~~~~~~~~~\n",
      "0.5846939833475625\n"
     ]
    }
   ],
   "source": [
    "print(accuracy_scores)\n",
    "print('~~~~~~~~~~~~~~~~~~~~~')\n",
    "print(np.mean(accuracy_scores))"
   ]
  },
  {
   "cell_type": "code",
   "execution_count": 107,
   "metadata": {},
   "outputs": [],
   "source": [
    "df_importances = pd.DataFrame(rows).set_index(\"run\")"
   ]
  },
  {
   "cell_type": "code",
   "execution_count": 108,
   "metadata": {},
   "outputs": [],
   "source": [
    "feature_ranking = df_importances.mean().sort_values(ascending=False)"
   ]
  },
  {
   "cell_type": "code",
   "execution_count": 109,
   "metadata": {},
   "outputs": [
    {
     "data": {
      "image/png": "[encoded data removed]",
      "text/plain": [
       "<Figure size 648x432 with 1 Axes>"
      ]
     },
     "metadata": {
      "needs_background": "light"
     },
     "output_type": "display_data"
    }
   ],
   "source": [
    "ax = feature_ranking[::-1].plot.barh( fontsize=13, figsize=(9,6), color=\"purple\", zorder=3 );\n",
    "ax.set_xlabel(\"Mean Feature Importance\", fontsize=13);\n",
    "ax.xaxis.grid();"
   ]
  }
 ],
 "metadata": {
  "kernelspec": {
   "display_name": "Python 3",
   "language": "python",
   "name": "python3"
  },
  "language_info": {
   "codemirror_mode": {
    "name": "ipython",
    "version": 3
   },
   "file_extension": ".py",
   "mimetype": "text/x-python",
   "name": "python",
   "nbconvert_exporter": "python",
   "pygments_lexer": "ipython3",
   "version": "3.6.9"
  }
 },
 "nbformat": 4,
 "nbformat_minor": 2
}
