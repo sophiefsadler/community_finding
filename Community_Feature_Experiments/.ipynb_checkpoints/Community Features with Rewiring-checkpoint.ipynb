{
 "cells": [
  {
   "cell_type": "markdown",
   "metadata": {},
   "source": [
    "# Community Features with Rewiring\n",
    "\n",
    "Generation of a simple set of community-level features for a set of LFR networks, compared to communities of the same size generated on rewired versions of the network."
   ]
  },
  {
   "cell_type": "code",
   "execution_count": 1,
   "metadata": {},
   "outputs": [],
   "source": [
    "import networkx as nx\n",
    "import pandas as pd\n",
    "import numpy as np\n",
    "from sklearn.model_selection import train_test_split\n",
    "from sklearn.ensemble import RandomForestClassifier\n",
    "from sklearn import metrics\n",
    "from communityfeatures import *\n",
    "from netutil import *"
   ]
  },
  {
   "cell_type": "markdown",
   "metadata": {},
   "source": [
    "Settings"
   ]
  },
  {
   "cell_type": "code",
   "execution_count": 2,
   "metadata": {},
   "outputs": [],
   "source": [
    "dir_data = \"../../LFR_Graphs/\"\n",
    "pd.set_option('precision', 3)\n",
    "# classification settings\n",
    "runs = 100\n",
    "test_size = 0.2\n",
    "n_estimators = 100\n",
    "noise_level = 0.5"
   ]
  },
  {
   "cell_type": "code",
   "execution_count": 3,
   "metadata": {},
   "outputs": [],
   "source": [
    "feature_ids = [ \"relative_density\", \"relative_degree\", \"relative_between\", \"relative_closeness\",\n",
    "            \"cut\", \"conductance\", \"internal_external\" ]"
   ]
  },
  {
   "cell_type": "markdown",
   "metadata": {},
   "source": [
    "### Data Loading\n",
    "\n",
    "Find network edgelist files:"
   ]
  },
  {
   "cell_type": "code",
   "execution_count": 4,
   "metadata": {},
   "outputs": [
    {
     "name": "stdout",
     "output_type": "stream",
     "text": [
      "Loaded 20 networks\n"
     ]
    }
   ],
   "source": [
    "networks, communities = find_all_networks( dir_data )\n",
    "print(\"Loaded %d networks\" % len(networks))"
   ]
  },
  {
   "cell_type": "markdown",
   "metadata": {},
   "source": [
    "Summarise the networks:"
   ]
  },
  {
   "cell_type": "code",
   "execution_count": 5,
   "metadata": {},
   "outputs": [
    {
     "data": {
      "text/html": [
       "<div>\n",
       "<style scoped>\n",
       "    .dataframe tbody tr th:only-of-type {\n",
       "        vertical-align: middle;\n",
       "    }\n",
       "\n",
       "    .dataframe tbody tr th {\n",
       "        vertical-align: top;\n",
       "    }\n",
       "\n",
       "    .dataframe thead th {\n",
       "        text-align: right;\n",
       "    }\n",
       "</style>\n",
       "<table border=\"1\" class=\"dataframe\">\n",
       "  <thead>\n",
       "    <tr style=\"text-align: right;\">\n",
       "      <th></th>\n",
       "      <th>nodes</th>\n",
       "      <th>edges</th>\n",
       "      <th>communities</th>\n",
       "    </tr>\n",
       "    <tr>\n",
       "      <th>network_id</th>\n",
       "      <th></th>\n",
       "      <th></th>\n",
       "      <th></th>\n",
       "    </tr>\n",
       "  </thead>\n",
       "  <tbody>\n",
       "    <tr>\n",
       "      <td>graph_01_mu_0_1</td>\n",
       "      <td>200</td>\n",
       "      <td>756</td>\n",
       "      <td>8</td>\n",
       "    </tr>\n",
       "    <tr>\n",
       "      <td>graph_02_mu_0_1</td>\n",
       "      <td>200</td>\n",
       "      <td>778</td>\n",
       "      <td>8</td>\n",
       "    </tr>\n",
       "    <tr>\n",
       "      <td>graph_05_mu_0_1</td>\n",
       "      <td>200</td>\n",
       "      <td>850</td>\n",
       "      <td>8</td>\n",
       "    </tr>\n",
       "    <tr>\n",
       "      <td>graph_04_mu_0_1</td>\n",
       "      <td>200</td>\n",
       "      <td>797</td>\n",
       "      <td>8</td>\n",
       "    </tr>\n",
       "    <tr>\n",
       "      <td>graph_03_mu_0_1</td>\n",
       "      <td>200</td>\n",
       "      <td>841</td>\n",
       "      <td>8</td>\n",
       "    </tr>\n",
       "    <tr>\n",
       "      <td>graph_01_mu_0_3</td>\n",
       "      <td>200</td>\n",
       "      <td>811</td>\n",
       "      <td>7</td>\n",
       "    </tr>\n",
       "    <tr>\n",
       "      <td>graph_02_mu_0_3</td>\n",
       "      <td>200</td>\n",
       "      <td>849</td>\n",
       "      <td>8</td>\n",
       "    </tr>\n",
       "    <tr>\n",
       "      <td>graph_05_mu_0_3</td>\n",
       "      <td>200</td>\n",
       "      <td>893</td>\n",
       "      <td>9</td>\n",
       "    </tr>\n",
       "    <tr>\n",
       "      <td>graph_04_mu_0_3</td>\n",
       "      <td>200</td>\n",
       "      <td>786</td>\n",
       "      <td>8</td>\n",
       "    </tr>\n",
       "    <tr>\n",
       "      <td>graph_03_mu_0_3</td>\n",
       "      <td>200</td>\n",
       "      <td>799</td>\n",
       "      <td>8</td>\n",
       "    </tr>\n",
       "    <tr>\n",
       "      <td>graph_01_mu_0_4</td>\n",
       "      <td>200</td>\n",
       "      <td>871</td>\n",
       "      <td>8</td>\n",
       "    </tr>\n",
       "    <tr>\n",
       "      <td>graph_02_mu_0_4</td>\n",
       "      <td>200</td>\n",
       "      <td>963</td>\n",
       "      <td>8</td>\n",
       "    </tr>\n",
       "    <tr>\n",
       "      <td>graph_05_mu_0_4</td>\n",
       "      <td>200</td>\n",
       "      <td>806</td>\n",
       "      <td>8</td>\n",
       "    </tr>\n",
       "    <tr>\n",
       "      <td>graph_04_mu_0_4</td>\n",
       "      <td>200</td>\n",
       "      <td>793</td>\n",
       "      <td>9</td>\n",
       "    </tr>\n",
       "    <tr>\n",
       "      <td>graph_03_mu_0_4</td>\n",
       "      <td>200</td>\n",
       "      <td>824</td>\n",
       "      <td>9</td>\n",
       "    </tr>\n",
       "    <tr>\n",
       "      <td>graph_01_mu_0_2</td>\n",
       "      <td>200</td>\n",
       "      <td>844</td>\n",
       "      <td>8</td>\n",
       "    </tr>\n",
       "    <tr>\n",
       "      <td>graph_02_mu_0_2</td>\n",
       "      <td>200</td>\n",
       "      <td>832</td>\n",
       "      <td>7</td>\n",
       "    </tr>\n",
       "    <tr>\n",
       "      <td>graph_05_mu_0_2</td>\n",
       "      <td>200</td>\n",
       "      <td>821</td>\n",
       "      <td>8</td>\n",
       "    </tr>\n",
       "    <tr>\n",
       "      <td>graph_04_mu_0_2</td>\n",
       "      <td>200</td>\n",
       "      <td>829</td>\n",
       "      <td>9</td>\n",
       "    </tr>\n",
       "    <tr>\n",
       "      <td>graph_03_mu_0_2</td>\n",
       "      <td>200</td>\n",
       "      <td>869</td>\n",
       "      <td>8</td>\n",
       "    </tr>\n",
       "  </tbody>\n",
       "</table>\n",
       "</div>"
      ],
      "text/plain": [
       "                 nodes  edges  communities\n",
       "network_id                                \n",
       "graph_01_mu_0_1    200    756            8\n",
       "graph_02_mu_0_1    200    778            8\n",
       "graph_05_mu_0_1    200    850            8\n",
       "graph_04_mu_0_1    200    797            8\n",
       "graph_03_mu_0_1    200    841            8\n",
       "graph_01_mu_0_3    200    811            7\n",
       "graph_02_mu_0_3    200    849            8\n",
       "graph_05_mu_0_3    200    893            9\n",
       "graph_04_mu_0_3    200    786            8\n",
       "graph_03_mu_0_3    200    799            8\n",
       "graph_01_mu_0_4    200    871            8\n",
       "graph_02_mu_0_4    200    963            8\n",
       "graph_05_mu_0_4    200    806            8\n",
       "graph_04_mu_0_4    200    793            9\n",
       "graph_03_mu_0_4    200    824            9\n",
       "graph_01_mu_0_2    200    844            8\n",
       "graph_02_mu_0_2    200    832            7\n",
       "graph_05_mu_0_2    200    821            8\n",
       "graph_04_mu_0_2    200    829            9\n",
       "graph_03_mu_0_2    200    869            8"
      ]
     },
     "execution_count": 5,
     "metadata": {},
     "output_type": "execute_result"
    }
   ],
   "source": [
    "rows = []\n",
    "for network_id in networks:\n",
    "    row = { \"network_id\" : network_id, \n",
    "           \"nodes\" : networks[network_id].number_of_nodes(), \"edges\" : networks[network_id].number_of_edges(),\n",
    "          \"communities\" : len(communities[network_id])}\n",
    "    rows.append( row )\n",
    "df_networks = pd.DataFrame(rows).set_index(\"network_id\")\n",
    "df_networks"
   ]
  },
  {
   "cell_type": "markdown",
   "metadata": {},
   "source": [
    "### Network Evaluation Code"
   ]
  },
  {
   "cell_type": "code",
   "execution_count": 6,
   "metadata": {},
   "outputs": [],
   "source": [
    "def create_generators( g ):\n",
    "    generators = {}\n",
    "    for fid in feature_ids:\n",
    "        generators[fid] = get_feature_generator( fid, g )\n",
    "    return generators"
   ]
  },
  {
   "cell_type": "code",
   "execution_count": 7,
   "metadata": {},
   "outputs": [],
   "source": [
    "def evaluate_communities( g, community_set ):\n",
    "    generators = create_generators( g )\n",
    "    # apply the measures\n",
    "    rows = []\n",
    "    for comm_id in community_set:\n",
    "        comm = community_set[comm_id]\n",
    "        # generate features\n",
    "        row = { \"community\" : comm_id, \"size\" : len(comm) }\n",
    "        for fid in feature_ids:\n",
    "            row[fid] = generators[fid].evaluate( comm )\n",
    "        rows.append(row)\n",
    "    # create the Data Frame\n",
    "    columns = [ \"community\", \"size\" ] + feature_ids\n",
    "    return pd.DataFrame(rows, columns=columns).set_index(\"community\").sort_index()"
   ]
  },
  {
   "cell_type": "code",
   "execution_count": 8,
   "metadata": {},
   "outputs": [],
   "source": [
    "def evaluate_rewired_communities( g, community_set ):\n",
    "    # perform the rewiring\n",
    "    num_swap = int( g.number_of_nodes() * noise_level )\n",
    "    g_rewired = g.copy()\n",
    "    nx.double_edge_swap(g_rewired, nswap=num_swap, max_tries=10000)\n",
    "    # now perform the evaluation\n",
    "    return evaluate_communities( g_rewired, community_set )"
   ]
  },
  {
   "cell_type": "code",
   "execution_count": 9,
   "metadata": {},
   "outputs": [],
   "source": [
    "def create_classification_data( g, community_set ):\n",
    "    df_original = evaluate_communities( g, community_set )\n",
    "    df_rewired = evaluate_rewired_communities( g, community_set )\n",
    "    # positive class\n",
    "    df_class_pos = df_original.copy()\n",
    "    df_class_pos[\"class\"] = 1\n",
    "    # negative class\n",
    "    df_class_neg = df_rewired.copy()\n",
    "    df_class_neg[\"class\"] = 0\n",
    "    # combined\n",
    "    df_combined = df_class_pos.append( df_class_neg )\n",
    "    df_combined = df_combined.drop('size', axis = 1)\n",
    "    return df_combined"
   ]
  },
  {
   "cell_type": "code",
   "execution_count": 10,
   "metadata": {},
   "outputs": [],
   "source": [
    "def apply_random_forests( df_combined ):\n",
    "    # prepare the data\n",
    "    labels = np.array(df_combined['class'])\n",
    "    df_combined2 = df_combined.drop('class', axis = 1)\n",
    "    feature_list = list(df_combined2.columns)\n",
    "    data = np.array(df_combined2)\n",
    "    # apply the runs, calculating accuracy and importance\n",
    "    accuracy_scores = []\n",
    "    feature_importances = {}\n",
    "    for f in feature_list:\n",
    "        feature_importances[f] = []\n",
    "    feature_rows = []\n",
    "    for run in range(1,runs+1):\n",
    "        # generate the split\n",
    "        x_train,x_test, y_train, y_test = train_test_split(data, labels, test_size = test_size, random_state = run)\n",
    "        # train the RF classifier\n",
    "        rf = RandomForestClassifier(n_estimators=n_estimators)\n",
    "        rf = rf.fit(x_train, y_train)\n",
    "        y_pred = rf.predict(x_test)\n",
    "        # check the accuracy\n",
    "        accuracy_scores.append( metrics.accuracy_score(y_test, y_pred) )\n",
    "        # get the feature importances\n",
    "        row = { \"run\" : run }\n",
    "        for i, feature in enumerate(feature_list):\n",
    "            row[feature] = rf.feature_importances_[i]\n",
    "        feature_rows.append( row )\n",
    "    # combine the results into Series\n",
    "    s_accuracy = pd.Series(accuracy_scores)\n",
    "    df_importances = pd.DataFrame(feature_rows).set_index(\"run\")\n",
    "    feature_ranking = df_importances.mean().sort_values(ascending=False)\n",
    "    return s_accuracy, feature_ranking"
   ]
  },
  {
   "cell_type": "markdown",
   "metadata": {},
   "source": [
    "### Single Network Experiment (1)"
   ]
  },
  {
   "cell_type": "code",
   "execution_count": 11,
   "metadata": {},
   "outputs": [],
   "source": [
    "network_id = \"graph_01_mu_0_1\""
   ]
  },
  {
   "cell_type": "markdown",
   "metadata": {},
   "source": [
    "Create data in a format suitable for classification:"
   ]
  },
  {
   "cell_type": "code",
   "execution_count": 12,
   "metadata": {},
   "outputs": [],
   "source": [
    "df_combined = create_classification_data( networks[network_id], communities[network_id] )"
   ]
  },
  {
   "cell_type": "markdown",
   "metadata": {},
   "source": [
    "Apply the classification experiments:"
   ]
  },
  {
   "cell_type": "code",
   "execution_count": 13,
   "metadata": {},
   "outputs": [],
   "source": [
    "s_accuracy, feature_ranking = apply_random_forests( df_combined )"
   ]
  },
  {
   "cell_type": "markdown",
   "metadata": {},
   "source": [
    "Check accuracy:"
   ]
  },
  {
   "cell_type": "code",
   "execution_count": 14,
   "metadata": {},
   "outputs": [
    {
     "data": {
      "text/plain": [
       "count    100.0\n",
       "mean       1.0\n",
       "std        0.0\n",
       "min        1.0\n",
       "25%        1.0\n",
       "50%        1.0\n",
       "75%        1.0\n",
       "max        1.0\n",
       "dtype: float64"
      ]
     },
     "execution_count": 14,
     "metadata": {},
     "output_type": "execute_result"
    }
   ],
   "source": [
    "s_accuracy.describe()"
   ]
  },
  {
   "cell_type": "markdown",
   "metadata": {},
   "source": [
    "Look at feature importances:"
   ]
  },
  {
   "cell_type": "code",
   "execution_count": 15,
   "metadata": {},
   "outputs": [
    {
     "data": {
      "image/png": "[encoded data removed]",
      "text/plain": [
       "<Figure size 648x432 with 1 Axes>"
      ]
     },
     "metadata": {
      "needs_background": "light"
     },
     "output_type": "display_data"
    }
   ],
   "source": [
    "plot_feature_ranking(feature_ranking);"
   ]
  },
  {
   "cell_type": "markdown",
   "metadata": {},
   "source": [
    "### Single Network Experiment (2)"
   ]
  },
  {
   "cell_type": "code",
   "execution_count": 16,
   "metadata": {},
   "outputs": [],
   "source": [
    "network_id = \"graph_01_mu_0_4\""
   ]
  },
  {
   "cell_type": "code",
   "execution_count": 17,
   "metadata": {},
   "outputs": [],
   "source": [
    "df_combined = create_classification_data( networks[network_id], communities[network_id] )"
   ]
  },
  {
   "cell_type": "code",
   "execution_count": 18,
   "metadata": {},
   "outputs": [],
   "source": [
    "s_accuracy, feature_ranking = apply_random_forests( df_combined )"
   ]
  },
  {
   "cell_type": "code",
   "execution_count": 19,
   "metadata": {},
   "outputs": [
    {
     "data": {
      "text/plain": [
       "count    100.000\n",
       "mean       0.812\n",
       "std        0.168\n",
       "min        0.500\n",
       "25%        0.750\n",
       "50%        0.750\n",
       "75%        1.000\n",
       "max        1.000\n",
       "dtype: float64"
      ]
     },
     "execution_count": 19,
     "metadata": {},
     "output_type": "execute_result"
    }
   ],
   "source": [
    "s_accuracy.describe()"
   ]
  },
  {
   "cell_type": "code",
   "execution_count": 20,
   "metadata": {},
   "outputs": [
    {
     "data": {
      "image/png": "[encoded data removed]",
      "text/plain": [
       "<Figure size 648x432 with 1 Axes>"
      ]
     },
     "metadata": {
      "needs_background": "light"
     },
     "output_type": "display_data"
    }
   ],
   "source": [
    "plot_feature_ranking(feature_ranking);"
   ]
  },
  {
   "cell_type": "markdown",
   "metadata": {},
   "source": [
    "### Experiment on All Networks"
   ]
  },
  {
   "cell_type": "markdown",
   "metadata": {},
   "source": [
    "Calculate accuracies and feature importances across all networks:"
   ]
  },
  {
   "cell_type": "code",
   "execution_count": 21,
   "metadata": {},
   "outputs": [],
   "source": [
    "accuracy_rows = []\n",
    "feature_rows = []\n",
    "for network_id in networks:\n",
    "    df_combined = create_classification_data( networks[network_id], communities[network_id] )\n",
    "    s_accuracy, feature_ranking = apply_random_forests( df_combined )\n",
    "    accuracy_rows.append( { \"network_id\" : network_id, \"accuracy\" : s_accuracy.mean() } )\n",
    "    feature_ranking[\"network_id\"] = network_id\n",
    "    feature_rows.append( feature_ranking )"
   ]
  },
  {
   "cell_type": "code",
   "execution_count": 22,
   "metadata": {},
   "outputs": [
    {
     "data": {
      "text/html": [
       "<div>\n",
       "<style scoped>\n",
       "    .dataframe tbody tr th:only-of-type {\n",
       "        vertical-align: middle;\n",
       "    }\n",
       "\n",
       "    .dataframe tbody tr th {\n",
       "        vertical-align: top;\n",
       "    }\n",
       "\n",
       "    .dataframe thead th {\n",
       "        text-align: right;\n",
       "    }\n",
       "</style>\n",
       "<table border=\"1\" class=\"dataframe\">\n",
       "  <thead>\n",
       "    <tr style=\"text-align: right;\">\n",
       "      <th></th>\n",
       "      <th>accuracy</th>\n",
       "    </tr>\n",
       "    <tr>\n",
       "      <th>network_id</th>\n",
       "      <th></th>\n",
       "    </tr>\n",
       "  </thead>\n",
       "  <tbody>\n",
       "    <tr>\n",
       "      <td>graph_01_mu_0_1</td>\n",
       "      <td>1.000</td>\n",
       "    </tr>\n",
       "    <tr>\n",
       "      <td>graph_02_mu_0_1</td>\n",
       "      <td>1.000</td>\n",
       "    </tr>\n",
       "    <tr>\n",
       "      <td>graph_05_mu_0_1</td>\n",
       "      <td>0.993</td>\n",
       "    </tr>\n",
       "    <tr>\n",
       "      <td>graph_04_mu_0_1</td>\n",
       "      <td>1.000</td>\n",
       "    </tr>\n",
       "    <tr>\n",
       "      <td>graph_03_mu_0_1</td>\n",
       "      <td>0.998</td>\n",
       "    </tr>\n",
       "    <tr>\n",
       "      <td>graph_01_mu_0_3</td>\n",
       "      <td>0.813</td>\n",
       "    </tr>\n",
       "    <tr>\n",
       "      <td>graph_02_mu_0_3</td>\n",
       "      <td>0.863</td>\n",
       "    </tr>\n",
       "    <tr>\n",
       "      <td>graph_05_mu_0_3</td>\n",
       "      <td>0.988</td>\n",
       "    </tr>\n",
       "    <tr>\n",
       "      <td>graph_04_mu_0_3</td>\n",
       "      <td>0.917</td>\n",
       "    </tr>\n",
       "    <tr>\n",
       "      <td>graph_03_mu_0_3</td>\n",
       "      <td>0.885</td>\n",
       "    </tr>\n",
       "    <tr>\n",
       "      <td>graph_01_mu_0_4</td>\n",
       "      <td>0.660</td>\n",
       "    </tr>\n",
       "    <tr>\n",
       "      <td>graph_02_mu_0_4</td>\n",
       "      <td>0.695</td>\n",
       "    </tr>\n",
       "    <tr>\n",
       "      <td>graph_05_mu_0_4</td>\n",
       "      <td>0.662</td>\n",
       "    </tr>\n",
       "    <tr>\n",
       "      <td>graph_04_mu_0_4</td>\n",
       "      <td>0.735</td>\n",
       "    </tr>\n",
       "    <tr>\n",
       "      <td>graph_03_mu_0_4</td>\n",
       "      <td>0.735</td>\n",
       "    </tr>\n",
       "    <tr>\n",
       "      <td>graph_01_mu_0_2</td>\n",
       "      <td>0.877</td>\n",
       "    </tr>\n",
       "    <tr>\n",
       "      <td>graph_02_mu_0_2</td>\n",
       "      <td>0.987</td>\n",
       "    </tr>\n",
       "    <tr>\n",
       "      <td>graph_05_mu_0_2</td>\n",
       "      <td>0.930</td>\n",
       "    </tr>\n",
       "    <tr>\n",
       "      <td>graph_04_mu_0_2</td>\n",
       "      <td>0.940</td>\n",
       "    </tr>\n",
       "    <tr>\n",
       "      <td>graph_03_mu_0_2</td>\n",
       "      <td>0.968</td>\n",
       "    </tr>\n",
       "  </tbody>\n",
       "</table>\n",
       "</div>"
      ],
      "text/plain": [
       "                 accuracy\n",
       "network_id               \n",
       "graph_01_mu_0_1     1.000\n",
       "graph_02_mu_0_1     1.000\n",
       "graph_05_mu_0_1     0.993\n",
       "graph_04_mu_0_1     1.000\n",
       "graph_03_mu_0_1     0.998\n",
       "graph_01_mu_0_3     0.813\n",
       "graph_02_mu_0_3     0.863\n",
       "graph_05_mu_0_3     0.988\n",
       "graph_04_mu_0_3     0.917\n",
       "graph_03_mu_0_3     0.885\n",
       "graph_01_mu_0_4     0.660\n",
       "graph_02_mu_0_4     0.695\n",
       "graph_05_mu_0_4     0.662\n",
       "graph_04_mu_0_4     0.735\n",
       "graph_03_mu_0_4     0.735\n",
       "graph_01_mu_0_2     0.877\n",
       "graph_02_mu_0_2     0.987\n",
       "graph_05_mu_0_2     0.930\n",
       "graph_04_mu_0_2     0.940\n",
       "graph_03_mu_0_2     0.968"
      ]
     },
     "execution_count": 22,
     "metadata": {},
     "output_type": "execute_result"
    }
   ],
   "source": [
    "overall_accuracy = pd.DataFrame(accuracy_rows).set_index(\"network_id\")\n",
    "overall_accuracy"
   ]
  },
  {
   "cell_type": "markdown",
   "metadata": {},
   "source": [
    "Plot accuracy for each network:"
   ]
  },
  {
   "cell_type": "code",
   "execution_count": 23,
   "metadata": {},
   "outputs": [
    {
     "data": {
      "image/png": "[encoded data removed]",
      "text/plain": [
       "<Figure size 648x720 with 1 Axes>"
      ]
     },
     "metadata": {
      "needs_background": "light"
     },
     "output_type": "display_data"
    }
   ],
   "source": [
    "overall_accuracy = overall_accuracy.sort_values(by=\"accuracy\",ascending=False)\n",
    "ax = overall_accuracy[::-1].plot.barh( fontsize=13, figsize=(9,10), color=\"lightblue\", zorder=3 );\n",
    "ax.set_xlabel(\"Mean Classification Accuracy\", fontsize=13);\n",
    "ax.set_ylabel(\"\");\n",
    "ax.get_legend().remove()\n",
    "ax.xaxis.grid()"
   ]
  },
  {
   "cell_type": "markdown",
   "metadata": {},
   "source": [
    "Look at overall mean accuracy across all networks:"
   ]
  },
  {
   "cell_type": "code",
   "execution_count": 24,
   "metadata": {},
   "outputs": [
    {
     "name": "stdout",
     "output_type": "stream",
     "text": [
      "Mean accuracy: 0.882\n"
     ]
    },
    {
     "data": {
      "text/html": [
       "<div>\n",
       "<style scoped>\n",
       "    .dataframe tbody tr th:only-of-type {\n",
       "        vertical-align: middle;\n",
       "    }\n",
       "\n",
       "    .dataframe tbody tr th {\n",
       "        vertical-align: top;\n",
       "    }\n",
       "\n",
       "    .dataframe thead th {\n",
       "        text-align: right;\n",
       "    }\n",
       "</style>\n",
       "<table border=\"1\" class=\"dataframe\">\n",
       "  <thead>\n",
       "    <tr style=\"text-align: right;\">\n",
       "      <th></th>\n",
       "      <th>accuracy</th>\n",
       "    </tr>\n",
       "  </thead>\n",
       "  <tbody>\n",
       "    <tr>\n",
       "      <td>count</td>\n",
       "      <td>20.000</td>\n",
       "    </tr>\n",
       "    <tr>\n",
       "      <td>mean</td>\n",
       "      <td>0.882</td>\n",
       "    </tr>\n",
       "    <tr>\n",
       "      <td>std</td>\n",
       "      <td>0.122</td>\n",
       "    </tr>\n",
       "    <tr>\n",
       "      <td>min</td>\n",
       "      <td>0.660</td>\n",
       "    </tr>\n",
       "    <tr>\n",
       "      <td>25%</td>\n",
       "      <td>0.794</td>\n",
       "    </tr>\n",
       "    <tr>\n",
       "      <td>50%</td>\n",
       "      <td>0.924</td>\n",
       "    </tr>\n",
       "    <tr>\n",
       "      <td>75%</td>\n",
       "      <td>0.989</td>\n",
       "    </tr>\n",
       "    <tr>\n",
       "      <td>max</td>\n",
       "      <td>1.000</td>\n",
       "    </tr>\n",
       "  </tbody>\n",
       "</table>\n",
       "</div>"
      ],
      "text/plain": [
       "       accuracy\n",
       "count    20.000\n",
       "mean      0.882\n",
       "std       0.122\n",
       "min       0.660\n",
       "25%       0.794\n",
       "50%       0.924\n",
       "75%       0.989\n",
       "max       1.000"
      ]
     },
     "execution_count": 24,
     "metadata": {},
     "output_type": "execute_result"
    }
   ],
   "source": [
    "print(\"Mean accuracy: %.3f\" % overall_accuracy.mean() )\n",
    "overall_accuracy.describe()"
   ]
  },
  {
   "cell_type": "code",
   "execution_count": 25,
   "metadata": {},
   "outputs": [
    {
     "data": {
      "text/html": [
       "<div>\n",
       "<style scoped>\n",
       "    .dataframe tbody tr th:only-of-type {\n",
       "        vertical-align: middle;\n",
       "    }\n",
       "\n",
       "    .dataframe tbody tr th {\n",
       "        vertical-align: top;\n",
       "    }\n",
       "\n",
       "    .dataframe thead th {\n",
       "        text-align: right;\n",
       "    }\n",
       "</style>\n",
       "<table border=\"1\" class=\"dataframe\">\n",
       "  <thead>\n",
       "    <tr style=\"text-align: right;\">\n",
       "      <th></th>\n",
       "      <th>relative_closeness</th>\n",
       "      <th>conductance</th>\n",
       "      <th>cut</th>\n",
       "      <th>internal_external</th>\n",
       "      <th>relative_degree</th>\n",
       "      <th>relative_density</th>\n",
       "      <th>relative_between</th>\n",
       "    </tr>\n",
       "    <tr>\n",
       "      <th>network_id</th>\n",
       "      <th></th>\n",
       "      <th></th>\n",
       "      <th></th>\n",
       "      <th></th>\n",
       "      <th></th>\n",
       "      <th></th>\n",
       "      <th></th>\n",
       "    </tr>\n",
       "  </thead>\n",
       "  <tbody>\n",
       "    <tr>\n",
       "      <td>graph_01_mu_0_1</td>\n",
       "      <td>0.178</td>\n",
       "      <td>0.176</td>\n",
       "      <td>0.176</td>\n",
       "      <td>0.173</td>\n",
       "      <td>0.117</td>\n",
       "      <td>0.111</td>\n",
       "      <td>0.068</td>\n",
       "    </tr>\n",
       "    <tr>\n",
       "      <td>graph_02_mu_0_1</td>\n",
       "      <td>0.199</td>\n",
       "      <td>0.197</td>\n",
       "      <td>0.201</td>\n",
       "      <td>0.194</td>\n",
       "      <td>0.040</td>\n",
       "      <td>0.039</td>\n",
       "      <td>0.128</td>\n",
       "    </tr>\n",
       "    <tr>\n",
       "      <td>graph_05_mu_0_1</td>\n",
       "      <td>0.196</td>\n",
       "      <td>0.194</td>\n",
       "      <td>0.200</td>\n",
       "      <td>0.207</td>\n",
       "      <td>0.065</td>\n",
       "      <td>0.059</td>\n",
       "      <td>0.077</td>\n",
       "    </tr>\n",
       "    <tr>\n",
       "      <td>graph_04_mu_0_1</td>\n",
       "      <td>0.177</td>\n",
       "      <td>0.174</td>\n",
       "      <td>0.179</td>\n",
       "      <td>0.178</td>\n",
       "      <td>0.055</td>\n",
       "      <td>0.054</td>\n",
       "      <td>0.182</td>\n",
       "    </tr>\n",
       "    <tr>\n",
       "      <td>graph_03_mu_0_1</td>\n",
       "      <td>0.190</td>\n",
       "      <td>0.192</td>\n",
       "      <td>0.198</td>\n",
       "      <td>0.191</td>\n",
       "      <td>0.050</td>\n",
       "      <td>0.051</td>\n",
       "      <td>0.126</td>\n",
       "    </tr>\n",
       "    <tr>\n",
       "      <td>graph_01_mu_0_3</td>\n",
       "      <td>0.082</td>\n",
       "      <td>0.200</td>\n",
       "      <td>0.227</td>\n",
       "      <td>0.201</td>\n",
       "      <td>0.080</td>\n",
       "      <td>0.083</td>\n",
       "      <td>0.124</td>\n",
       "    </tr>\n",
       "    <tr>\n",
       "      <td>graph_02_mu_0_3</td>\n",
       "      <td>0.069</td>\n",
       "      <td>0.142</td>\n",
       "      <td>0.325</td>\n",
       "      <td>0.142</td>\n",
       "      <td>0.137</td>\n",
       "      <td>0.135</td>\n",
       "      <td>0.048</td>\n",
       "    </tr>\n",
       "    <tr>\n",
       "      <td>graph_05_mu_0_3</td>\n",
       "      <td>0.075</td>\n",
       "      <td>0.279</td>\n",
       "      <td>0.156</td>\n",
       "      <td>0.269</td>\n",
       "      <td>0.041</td>\n",
       "      <td>0.041</td>\n",
       "      <td>0.138</td>\n",
       "    </tr>\n",
       "    <tr>\n",
       "      <td>graph_04_mu_0_3</td>\n",
       "      <td>0.123</td>\n",
       "      <td>0.184</td>\n",
       "      <td>0.301</td>\n",
       "      <td>0.184</td>\n",
       "      <td>0.065</td>\n",
       "      <td>0.067</td>\n",
       "      <td>0.073</td>\n",
       "    </tr>\n",
       "    <tr>\n",
       "      <td>graph_03_mu_0_3</td>\n",
       "      <td>0.069</td>\n",
       "      <td>0.250</td>\n",
       "      <td>0.179</td>\n",
       "      <td>0.218</td>\n",
       "      <td>0.099</td>\n",
       "      <td>0.100</td>\n",
       "      <td>0.085</td>\n",
       "    </tr>\n",
       "    <tr>\n",
       "      <td>graph_01_mu_0_4</td>\n",
       "      <td>0.111</td>\n",
       "      <td>0.138</td>\n",
       "      <td>0.297</td>\n",
       "      <td>0.155</td>\n",
       "      <td>0.097</td>\n",
       "      <td>0.101</td>\n",
       "      <td>0.100</td>\n",
       "    </tr>\n",
       "    <tr>\n",
       "      <td>graph_02_mu_0_4</td>\n",
       "      <td>0.126</td>\n",
       "      <td>0.168</td>\n",
       "      <td>0.220</td>\n",
       "      <td>0.180</td>\n",
       "      <td>0.103</td>\n",
       "      <td>0.100</td>\n",
       "      <td>0.102</td>\n",
       "    </tr>\n",
       "    <tr>\n",
       "      <td>graph_05_mu_0_4</td>\n",
       "      <td>0.129</td>\n",
       "      <td>0.150</td>\n",
       "      <td>0.275</td>\n",
       "      <td>0.152</td>\n",
       "      <td>0.103</td>\n",
       "      <td>0.104</td>\n",
       "      <td>0.086</td>\n",
       "    </tr>\n",
       "    <tr>\n",
       "      <td>graph_04_mu_0_4</td>\n",
       "      <td>0.116</td>\n",
       "      <td>0.179</td>\n",
       "      <td>0.208</td>\n",
       "      <td>0.159</td>\n",
       "      <td>0.114</td>\n",
       "      <td>0.117</td>\n",
       "      <td>0.106</td>\n",
       "    </tr>\n",
       "    <tr>\n",
       "      <td>graph_03_mu_0_4</td>\n",
       "      <td>0.089</td>\n",
       "      <td>0.199</td>\n",
       "      <td>0.214</td>\n",
       "      <td>0.190</td>\n",
       "      <td>0.092</td>\n",
       "      <td>0.097</td>\n",
       "      <td>0.119</td>\n",
       "    </tr>\n",
       "    <tr>\n",
       "      <td>graph_01_mu_0_2</td>\n",
       "      <td>0.114</td>\n",
       "      <td>0.220</td>\n",
       "      <td>0.264</td>\n",
       "      <td>0.217</td>\n",
       "      <td>0.045</td>\n",
       "      <td>0.043</td>\n",
       "      <td>0.096</td>\n",
       "    </tr>\n",
       "    <tr>\n",
       "      <td>graph_02_mu_0_2</td>\n",
       "      <td>0.139</td>\n",
       "      <td>0.211</td>\n",
       "      <td>0.209</td>\n",
       "      <td>0.217</td>\n",
       "      <td>0.080</td>\n",
       "      <td>0.078</td>\n",
       "      <td>0.063</td>\n",
       "    </tr>\n",
       "    <tr>\n",
       "      <td>graph_05_mu_0_2</td>\n",
       "      <td>0.081</td>\n",
       "      <td>0.218</td>\n",
       "      <td>0.307</td>\n",
       "      <td>0.218</td>\n",
       "      <td>0.054</td>\n",
       "      <td>0.054</td>\n",
       "      <td>0.066</td>\n",
       "    </tr>\n",
       "    <tr>\n",
       "      <td>graph_04_mu_0_2</td>\n",
       "      <td>0.069</td>\n",
       "      <td>0.266</td>\n",
       "      <td>0.270</td>\n",
       "      <td>0.269</td>\n",
       "      <td>0.038</td>\n",
       "      <td>0.038</td>\n",
       "      <td>0.049</td>\n",
       "    </tr>\n",
       "    <tr>\n",
       "      <td>graph_03_mu_0_2</td>\n",
       "      <td>0.096</td>\n",
       "      <td>0.235</td>\n",
       "      <td>0.223</td>\n",
       "      <td>0.221</td>\n",
       "      <td>0.044</td>\n",
       "      <td>0.047</td>\n",
       "      <td>0.132</td>\n",
       "    </tr>\n",
       "  </tbody>\n",
       "</table>\n",
       "</div>"
      ],
      "text/plain": [
       "                 relative_closeness  conductance    cut  internal_external  \\\n",
       "network_id                                                                   \n",
       "graph_01_mu_0_1               0.178        0.176  0.176              0.173   \n",
       "graph_02_mu_0_1               0.199        0.197  0.201              0.194   \n",
       "graph_05_mu_0_1               0.196        0.194  0.200              0.207   \n",
       "graph_04_mu_0_1               0.177        0.174  0.179              0.178   \n",
       "graph_03_mu_0_1               0.190        0.192  0.198              0.191   \n",
       "graph_01_mu_0_3               0.082        0.200  0.227              0.201   \n",
       "graph_02_mu_0_3               0.069        0.142  0.325              0.142   \n",
       "graph_05_mu_0_3               0.075        0.279  0.156              0.269   \n",
       "graph_04_mu_0_3               0.123        0.184  0.301              0.184   \n",
       "graph_03_mu_0_3               0.069        0.250  0.179              0.218   \n",
       "graph_01_mu_0_4               0.111        0.138  0.297              0.155   \n",
       "graph_02_mu_0_4               0.126        0.168  0.220              0.180   \n",
       "graph_05_mu_0_4               0.129        0.150  0.275              0.152   \n",
       "graph_04_mu_0_4               0.116        0.179  0.208              0.159   \n",
       "graph_03_mu_0_4               0.089        0.199  0.214              0.190   \n",
       "graph_01_mu_0_2               0.114        0.220  0.264              0.217   \n",
       "graph_02_mu_0_2               0.139        0.211  0.209              0.217   \n",
       "graph_05_mu_0_2               0.081        0.218  0.307              0.218   \n",
       "graph_04_mu_0_2               0.069        0.266  0.270              0.269   \n",
       "graph_03_mu_0_2               0.096        0.235  0.223              0.221   \n",
       "\n",
       "                 relative_degree  relative_density  relative_between  \n",
       "network_id                                                            \n",
       "graph_01_mu_0_1            0.117             0.111             0.068  \n",
       "graph_02_mu_0_1            0.040             0.039             0.128  \n",
       "graph_05_mu_0_1            0.065             0.059             0.077  \n",
       "graph_04_mu_0_1            0.055             0.054             0.182  \n",
       "graph_03_mu_0_1            0.050             0.051             0.126  \n",
       "graph_01_mu_0_3            0.080             0.083             0.124  \n",
       "graph_02_mu_0_3            0.137             0.135             0.048  \n",
       "graph_05_mu_0_3            0.041             0.041             0.138  \n",
       "graph_04_mu_0_3            0.065             0.067             0.073  \n",
       "graph_03_mu_0_3            0.099             0.100             0.085  \n",
       "graph_01_mu_0_4            0.097             0.101             0.100  \n",
       "graph_02_mu_0_4            0.103             0.100             0.102  \n",
       "graph_05_mu_0_4            0.103             0.104             0.086  \n",
       "graph_04_mu_0_4            0.114             0.117             0.106  \n",
       "graph_03_mu_0_4            0.092             0.097             0.119  \n",
       "graph_01_mu_0_2            0.045             0.043             0.096  \n",
       "graph_02_mu_0_2            0.080             0.078             0.063  \n",
       "graph_05_mu_0_2            0.054             0.054             0.066  \n",
       "graph_04_mu_0_2            0.038             0.038             0.049  \n",
       "graph_03_mu_0_2            0.044             0.047             0.132  "
      ]
     },
     "execution_count": 25,
     "metadata": {},
     "output_type": "execute_result"
    }
   ],
   "source": [
    "overall_features = pd.DataFrame(feature_rows).set_index(\"network_id\")\n",
    "overall_features"
   ]
  },
  {
   "cell_type": "markdown",
   "metadata": {},
   "source": [
    "Look at the overall ranking of features across all networks:"
   ]
  },
  {
   "cell_type": "code",
   "execution_count": 26,
   "metadata": {},
   "outputs": [
    {
     "data": {
      "text/plain": [
       "cut                   0.232\n",
       "conductance           0.199\n",
       "internal_external     0.197\n",
       "relative_closeness    0.121\n",
       "relative_between      0.098\n",
       "relative_degree       0.076\n",
       "relative_density      0.076\n",
       "dtype: float64"
      ]
     },
     "execution_count": 26,
     "metadata": {},
     "output_type": "execute_result"
    }
   ],
   "source": [
    "overall_feature_ranking = overall_features.mean().sort_values(ascending=False)\n",
    "overall_feature_ranking"
   ]
  },
  {
   "cell_type": "code",
   "execution_count": 27,
   "metadata": {},
   "outputs": [
    {
     "data": {
      "image/png": "[encoded data removed]",
      "text/plain": [
       "<Figure size 648x432 with 1 Axes>"
      ]
     },
     "metadata": {
      "needs_background": "light"
     },
     "output_type": "display_data"
    }
   ],
   "source": [
    "plot_feature_ranking(overall_feature_ranking);"
   ]
  }
 ],
 "metadata": {
  "kernelspec": {
   "display_name": "Python 3",
   "language": "python",
   "name": "python3"
  },
  "language_info": {
   "codemirror_mode": {
    "name": "ipython",
    "version": 3
   },
   "file_extension": ".py",
   "mimetype": "text/x-python",
   "name": "python",
   "nbconvert_exporter": "python",
   "pygments_lexer": "ipython3",
   "version": "3.6.9"
  }
 },
 "nbformat": 4,
 "nbformat_minor": 2
}
